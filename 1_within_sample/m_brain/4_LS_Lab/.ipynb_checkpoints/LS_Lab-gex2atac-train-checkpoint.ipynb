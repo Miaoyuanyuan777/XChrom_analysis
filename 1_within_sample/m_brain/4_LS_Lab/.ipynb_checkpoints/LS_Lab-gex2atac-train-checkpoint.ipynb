{
 "cells": [
  {
   "cell_type": "markdown",
   "id": "340ddf9c-0eaa-4663-82e7-20d461afd11e",
   "metadata": {},
   "source": [
    "## LS_Lab train"
   ]
  },
  {
   "cell_type": "code",
   "execution_count": 4,
   "id": "872b45f8-7443-4e53-85ad-8077d952d6a8",
   "metadata": {},
   "outputs": [],
   "source": [
    "import numpy as np\n",
    "import pandas as pd\n",
    "import scanpy as sc\n",
    "import anndata\n",
    "import logging\n",
    "import copy\n",
    "import sys\n",
    "from tqdm import tqdm\n",
    "import random\n",
    "import h5py\n",
    "from scipy.sparse import csr_matrix, coo_matrix, csc_matrix\n",
    "from scipy.io import mmread, mmwrite\n",
    "import torch\n",
    "import torch.nn as nn\n",
    "import torch.optim as optim\n",
    "from torch.utils.data.dataset import Dataset\n",
    "from sklearn.model_selection import StratifiedKFold\n",
    "from sklearn.ensemble import RandomForestRegressor\n",
    "from sklearn.decomposition import TruncatedSVD\n",
    "from sklearn.linear_model import LinearRegression\n",
    "from sklearn.neighbors import KNeighborsRegressor\n",
    "import seaborn as sns\n",
    "import matplotlib.pyplot as plt"
   ]
  },
  {
   "cell_type": "code",
   "execution_count": 5,
   "id": "3f2bab76-c82f-434a-97a5-864bb815dbde",
   "metadata": {},
   "outputs": [],
   "source": [
    "sc.set_figure_params(figsize=(6, 6), frameon=False)\n",
    "sns.set_theme()\n",
    "%config InlineBackend.print_figure_kwargs={\"facecolor\": \"w\"}\n",
    "%config InlineBackend.figure_format=\"retina\""
   ]
  },
  {
   "cell_type": "code",
   "execution_count": 3,
   "id": "72402903-c08c-4d48-b9f2-66fb66fe68d9",
   "metadata": {},
   "outputs": [],
   "source": [
    "meta = { 'functionality_name': 'lslab' }"
   ]
  },
  {
   "cell_type": "code",
   "execution_count": 12,
   "id": "3338433f-ebfa-45fc-b494-00a9be840134",
   "metadata": {},
   "outputs": [
    {
     "name": "stderr",
     "output_type": "stream",
     "text": [
      "/home/miaoyuanyuan/miniconda3/envs/torch/lib/python3.8/site-packages/anndata/_core/anndata.py:1840: UserWarning: Variable names are not unique. To make them unique, call `.var_names_make_unique`.\n",
      "  utils.warn_names_duplicates(\"var\")\n",
      "/home/miaoyuanyuan/miniconda3/envs/torch/lib/python3.8/site-packages/anndata/_core/anndata.py:1840: UserWarning: Variable names are not unique. To make them unique, call `.var_names_make_unique`.\n",
      "  utils.warn_names_duplicates(\"var\")\n",
      "/home/miaoyuanyuan/miniconda3/envs/torch/lib/python3.8/site-packages/anndata/_core/anndata.py:1840: UserWarning: Variable names are not unique. To make them unique, call `.var_names_make_unique`.\n",
      "  utils.warn_names_duplicates(\"var\")\n"
     ]
    }
   ],
   "source": [
    "input_path = '../'\n",
    "save_path = './Results/'\n",
    "rna4intra_raw = sc.read_h5ad(f'{input_path}/0_data/processed_data/m_brain_paired_rna_raw.h5ad')\n",
    "input_train_mod2 = sc.read_h5ad(f'{input_path}/1_XChrom/0_model_train/train_data/ad_trainval.h5ad')  ## training data(label)\n",
    "input_test_mod2 = sc.read_h5ad(f'{input_path}/1_XChrom/0_model_train/train_data/ad_crosscell.h5ad')  ## test data(label)\n",
    "with h5py.File(f'{input_path}/1_XChrom/0_model_train/train_data/splits.h5', 'r') as hf:\n",
    "    trainval_cellid = hf['trainval_cell'][:]\n",
    "    test_cellid = hf['test_cell'][:]\n",
    "    trainval_peakid = hf['trainval_peak'][:]\n",
    "input_train_mod1 = rna4intra_raw[trainval_cellid,]  ## training data(input)\n",
    "final_input_test_mod1 = rna4intra_raw[test_cellid,]  ## test data(input)\n",
    "input_train_mod1.var_names_make_unique()\n",
    "final_input_test_mod1.var_names_make_unique()"
   ]
  },
  {
   "cell_type": "markdown",
   "id": "535ebf0c-f283-4f5e-9118-49af8255f136",
   "metadata": {},
   "source": [
    "### The following files are required for calculating ns&ls"
   ]
  },
  {
   "cell_type": "code",
   "execution_count": 9,
   "id": "af46848c-73fb-4d1f-aff4-1ba630426cb3",
   "metadata": {},
   "outputs": [
    {
     "name": "stdout",
     "output_type": "stream",
     "text": [
      "(487, 2214) (4878, 2214)\n"
     ]
    }
   ],
   "source": [
    "rna4intra = sc.read_h5ad(f'{input_path}/0_data/processed_data/m_brain_paired_rna.h5ad') ## provide cell type\n",
    "rna = rna4intra[test_cellid,]\n",
    "print(rna.shape,rna4intra.shape)"
   ]
  },
  {
   "cell_type": "code",
   "execution_count": 10,
   "id": "1350a88f-7519-4eea-92c3-ecfcf18f997d",
   "metadata": {},
   "outputs": [
    {
     "name": "stdout",
     "output_type": "stream",
     "text": [
      "(4878, 40313) (4878, 36282)\n"
     ]
    }
   ],
   "source": [
    "atac4intra_raw = sc.read_h5ad(f'{input_path}/0_data/processed_data/m_brain_paired_atac.h5ad')\n",
    "atac4intra = atac4intra_raw[:,trainval_peakid] ## all data raw_ATAC\n",
    "print(atac4intra_raw.shape,atac4intra.shape)"
   ]
  },
  {
   "cell_type": "code",
   "execution_count": 13,
   "id": "e66c2d4b-bfd1-40d8-ac90-c263c6f91641",
   "metadata": {},
   "outputs": [],
   "source": [
    "input_train_mod1 = input_train_mod1.copy()\n",
    "input_train_mod1.var_names_make_unique()\n",
    "input_train_mod1.var['feature_types'] = pd.Categorical(len(input_train_mod1.var_names)*['ATAC'])\n",
    "input_train_mod1.obs['batch'] = pd.Categorical(len(input_train_mod1.obs)*['batch1'])\n",
    "input_train_mod1.uns = {'dataset_id': 'dataset1', 'organism': 'mouse'}\n",
    "\n",
    "input_train_mod2 = input_train_mod2.copy()\n",
    "input_train_mod2.var['feature_types'] = pd.Categorical(len(input_train_mod2.var_names)*['ATAC'])\n",
    "input_train_mod2.obs['batch'] = pd.Categorical(len(input_train_mod2.obs)*['batch1'])\n",
    "input_train_mod2.uns = {'dataset_id': 'dataset1', 'organism': 'mouse'}"
   ]
  },
  {
   "cell_type": "code",
   "execution_count": 15,
   "id": "7687c52e-6f4c-4e36-ac56-843138485c6b",
   "metadata": {},
   "outputs": [
    {
     "name": "stdout",
     "output_type": "stream",
     "text": [
      "(4391, 10721) (487, 10721)\n"
     ]
    }
   ],
   "source": [
    "common_genes = input_train_mod1.var_names.intersection(final_input_test_mod1.var_names)\n",
    "# common genes\n",
    "input_train_mod1 = input_train_mod1[:, common_genes]\n",
    "final_input_test_mod1 = final_input_test_mod1[:, common_genes]\n",
    "print(input_train_mod1.shape,final_input_test_mod1.shape)"
   ]
  },
  {
   "cell_type": "code",
   "execution_count": 16,
   "id": "55c9dbe8-7228-43d5-8d24-c8ab21757422",
   "metadata": {},
   "outputs": [
    {
     "name": "stdout",
     "output_type": "stream",
     "text": [
      "y length: 4391 [0, 0, 0]\n",
      "X                     n_genes   batch\n",
      "AAACAGCCAACCGCCA-1     4382  batch1\n",
      "AAACAGCCAAGGTCGA-1     2814  batch1\n"
     ]
    }
   ],
   "source": [
    "dataset_id = \"gex2atac\"\n",
    "skf = StratifiedKFold(n_splits=10, shuffle=True, random_state=0)\n",
    "batches = set(input_train_mod1.obs[\"batch\"])\n",
    "batch_dict = {batch:i for i, batch in enumerate(batches)}\n",
    "y = []\n",
    "for i in range(input_train_mod1.n_obs):\n",
    "    y.append(int(batch_dict[input_train_mod1.obs[\"batch\"][i]]))\n",
    "print('y length:',len(y),y[:3])\n",
    "# Encode the labels of each batch and store them in the y list for stratified sampling during cross-validation.\n",
    "X = input_train_mod1.obs\n",
    "batches = np.array(y)\n",
    "inp_train_mod1 = input_train_mod1.copy()\n",
    "inp_train_mod2 = input_train_mod2.copy()\n",
    "print('X',X[:2])"
   ]
  },
  {
   "cell_type": "code",
   "execution_count": 17,
   "id": "93375afa-baec-4805-94e0-1aeccbf288e6",
   "metadata": {},
   "outputs": [
    {
     "name": "stdout",
     "output_type": "stream",
     "text": [
      "0\n",
      "1\n",
      "2\n",
      "3\n",
      "4\n",
      "5\n",
      "6\n",
      "7\n",
      "8\n",
      "9\n"
     ]
    }
   ],
   "source": [
    "fold = 0\n",
    "out1, out2 = 0, 0\n",
    "if \"gex2atac\" in dataset_id:\n",
    "    out_knn = 0\n",
    "    out_knn2=0\n",
    "    for train_index, test_index in skf.split(X, y):\n",
    "        ## skf.split() returns a pair of training set index and validation set index pairs of cells. \n",
    "        ## Traversing them can achieve cross-validation.\n",
    "        print(fold)\n",
    "        fold += 1\n",
    "        input_test_mod1 = inp_train_mod1[test_index, :]\n",
    "        true_test_mod2 = inp_train_mod2[test_index, :]\n",
    "        input_train_mod1 = inp_train_mod1[train_index, :]\n",
    "        input_train_mod2 = inp_train_mod2[train_index, :]\n",
    "        input_mod1 = ad.concat(\n",
    "                {\"train\": input_train_mod1, \"val\": input_test_mod1, \"test\": final_input_test_mod1},\n",
    "                axis=0,\n",
    "                join=\"outer\",\n",
    "                label=\"group\",\n",
    "                fill_value=0,\n",
    "                index_unique=\"-\",\n",
    "            )\n",
    "        logging.info('Performing dimensionality reduction on modality 1 values...')\n",
    "        embedder_mod1 = TruncatedSVD(n_components=50)\n",
    "        mod1_pca = embedder_mod1.fit_transform(input_mod1.X)\n",
    "        logging.info('Performing dimensionality reduction on modality 2 values...')\n",
    "        embedder_mod2 = TruncatedSVD(n_components=50)\n",
    "        mod2_pca = embedder_mod2.fit_transform(input_train_mod2.X)\n",
    "        X_train = mod1_pca[input_mod1.obs['group'] == 'train']\n",
    "        X_test = mod1_pca[input_mod1.obs['group'] == 'test'] \n",
    "        X_all = mod1_pca\n",
    "        y_train = mod2_pca\n",
    "        logging.info('Running Linear regression...')\n",
    "        reg = KNeighborsRegressor(n_neighbors=25, metric='minkowski')\n",
    "        reg.fit(X_train, y_train)\n",
    "        y_pred = reg.predict(X_test)\n",
    "        y_pred = y_pred @ embedder_mod2.components_\n",
    "        out_knn += y_pred\n",
    "        y_pred = out_knn / 10\n",
    "        y_pred = csc_matrix(y_pred)\n",
    "        y_all = reg.predict(X_all)\n",
    "        # print('1',y_all,input_mod1.obs_names)\n",
    "        y_all = y_all @ embedder_mod2.components_\n",
    "        y_all = pd.DataFrame(y_all, index=['-'.join(name.split('-')[:-1]) for name in input_mod1.obs_names])\n",
    "        y_all = y_all.reindex(atac4intra.obs_names) \n",
    "        out_knn2 += y_all\n",
    "        y_all = out_knn2 / 10\n",
    "        y_all = csc_matrix(y_all)\n",
    "        adata_all = ad.AnnData(\n",
    "            X=y_all,\n",
    "        obs=atac4intra.obs,\n",
    "        var=inp_train_mod2.var,\n",
    "        uns={\n",
    "            'dataset_id': dataset_id,\n",
    "            'method_id': meta[\"functionality_name\"]})\n",
    "        adata = ad.AnnData(\n",
    "            X=y_pred,\n",
    "        obs=final_input_test_mod1.obs,\n",
    "        var=inp_train_mod2.var,\n",
    "        uns={\n",
    "            'dataset_id': dataset_id,\n",
    "            'method_id': meta[\"functionality_name\"],\n",
    "        },\n",
    "        )\n",
    "        logging.info('Storing annotated data...')"
   ]
  },
  {
   "cell_type": "code",
   "execution_count": 18,
   "id": "04ecc763-1b4c-466f-ab94-15b6fc6b4ca1",
   "metadata": {},
   "outputs": [],
   "source": [
    "adata.write_h5ad(f'{save_path}/lslab_pred.h5ad')  ## cross-cell prediction\n",
    "adata_all.write_h5ad(f'{save_path}/lslab_pred_all.h5ad')  ## all data denoise"
   ]
  },
  {
   "cell_type": "code",
   "execution_count": 19,
   "id": "18861cdb-888b-4246-a05e-53570c9232b4",
   "metadata": {},
   "outputs": [
    {
     "data": {
      "text/plain": [
       "(True, True)"
      ]
     },
     "execution_count": 19,
     "metadata": {},
     "output_type": "execute_result"
    }
   ],
   "source": [
    "set(adata_all.obs_names) == set(atac4intra.obs_names),set(adata_all.var_names) == set(atac4intra.var_names)"
   ]
  },
  {
   "cell_type": "code",
   "execution_count": 20,
   "id": "6404bd7e-2578-44f4-af46-bc109e772998",
   "metadata": {},
   "outputs": [
    {
     "data": {
      "text/plain": [
       "(True, True)"
      ]
     },
     "execution_count": 20,
     "metadata": {},
     "output_type": "execute_result"
    }
   ],
   "source": [
    "set(adata.obs_names) == set(input_test_mod2.obs_names),set(adata.var_names) == set(input_test_mod2.var_names)"
   ]
  },
  {
   "cell_type": "code",
   "execution_count": null,
   "id": "979adc0c-bafc-422c-9e83-2a37d22b760e",
   "metadata": {},
   "outputs": [],
   "source": []
  }
 ],
 "metadata": {
  "kernelspec": {
   "display_name": "torch",
   "language": "python",
   "name": "torch"
  },
  "language_info": {
   "codemirror_mode": {
    "name": "ipython",
    "version": 3
   },
   "file_extension": ".py",
   "mimetype": "text/x-python",
   "name": "python",
   "nbconvert_exporter": "python",
   "pygments_lexer": "ipython3",
   "version": "3.8.20"
  }
 },
 "nbformat": 4,
 "nbformat_minor": 5
}
