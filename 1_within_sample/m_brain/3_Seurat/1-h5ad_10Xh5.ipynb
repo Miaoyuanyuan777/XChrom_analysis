{
 "cells": [
  {
   "cell_type": "markdown",
   "id": "594f282a-cb72-4797-82d4-320f9f04122e",
   "metadata": {},
   "source": [
    "## ⭐ cross-cell prediction\n",
    "## ⭐ Convert h5ad files to h5 files readable by 10X tools in R"
   ]
  },
  {
   "cell_type": "code",
   "execution_count": 1,
   "id": "20ea4b5c-b0cf-4a1d-b347-b7e243179675",
   "metadata": {},
   "outputs": [],
   "source": [
    "import scanpy as sc\n",
    "import h5py\n",
    "import scipy.sparse\n",
    "import numpy as np\n",
    "import pandas as pd"
   ]
  },
  {
   "cell_type": "markdown",
   "id": "54323a97-f88d-494b-bf25-82ca076adf49",
   "metadata": {},
   "source": [
    "## rna1 & atac1 is training data，rna2 & atac2 is testing data"
   ]
  },
  {
   "cell_type": "code",
   "execution_count": 2,
   "id": "c2079300-651c-4cf7-9241-3de5e4205941",
   "metadata": {},
   "outputs": [
    {
     "name": "stderr",
     "output_type": "stream",
     "text": [
      "/home/miaoyuanyuan/miniconda3/envs/py3.8_tf2.6.0/lib/python3.8/site-packages/anndata/_core/anndata.py:1840: UserWarning: Variable names are not unique. To make them unique, call `.var_names_make_unique`.\n",
      "  utils.warn_names_duplicates(\"var\")\n"
     ]
    }
   ],
   "source": [
    "path = '../'\n",
    "rna4intra_raw = sc.read_h5ad(f'{path}/0_data/processed_data/m_brain_paired_rna_raw.h5ad')\n",
    "rna4intra_raw.var_names_make_unique()\n",
    "atac1 = sc.read_h5ad(f'{path}/1_XChrom/0_model_train/train_data/ad_trainval.h5ad')\n",
    "atac2 = sc.read_h5ad(f'{path}/1_XChrom/0_model_train/train_data/ad_crosscell.h5ad')\n",
    "\n",
    "with h5py.File(f'{path}/1_XChrom/0_model_train/train_data/splits.h5', 'r') as hf:\n",
    "    trainval_cellid = hf['trainval_cell'][:]\n",
    "    test_cellid = hf['test_cell'][:]\n",
    "rna1 = rna4intra_raw[trainval_cellid,]\n",
    "rna2 = rna4intra_raw[test_cellid,]\n",
    "out = './data/'"
   ]
  },
  {
   "cell_type": "code",
   "execution_count": 4,
   "id": "b9c8cb01-7ba8-442a-9eee-b8551539dae5",
   "metadata": {},
   "outputs": [
    {
     "data": {
      "text/plain": [
       "AnnData object with n_obs × n_vars = 4391 × 36282\n",
       "    obs: 'n_genes', 'b_zscore'\n",
       "    var: 'gene_ids', 'feature_types', 'genome', 'chr', 'start', 'end', 'n_cells'"
      ]
     },
     "execution_count": 4,
     "metadata": {},
     "output_type": "execute_result"
    }
   ],
   "source": [
    "atac1"
   ]
  },
  {
   "cell_type": "code",
   "execution_count": 5,
   "id": "cb892e9a-44c9-4ec5-bfe0-9f55e1c6814e",
   "metadata": {},
   "outputs": [],
   "source": [
    "adata = atac1.copy()\n",
    "# 提取数据\n",
    "counts = adata.X\n",
    "obs = adata.obs\n",
    "var = adata.var\n",
    "# 将数据保存为 CSV 文件\n",
    "pd.DataFrame(counts.toarray()).to_csv(f\"{out}/atac1_counts.csv\", index=True)   # matrix\n",
    "obs.to_csv(f\"{out}/atac1_obs.csv\", index=True)    # cell metadata\n",
    "var.to_csv(f\"{out}/atac1_var.csv\", index=True)    # peak metadata"
   ]
  },
  {
   "cell_type": "code",
   "execution_count": 6,
   "id": "9137808a-e0c0-4991-9d51-42e70a5c5692",
   "metadata": {},
   "outputs": [],
   "source": [
    "adata = atac2.copy()\n",
    "# 提取数据\n",
    "counts = adata.X\n",
    "obs = adata.obs\n",
    "var = adata.var\n",
    "# 将数据保存为 CSV 文件\n",
    "pd.DataFrame(counts.toarray()).to_csv(f\"{out}/atac2_counts.csv\", index=True)   # matrix\n",
    "obs.to_csv(f\"{out}/atac2_obs.csv\", index=True)    # cell metadata\n",
    "var.to_csv(f\"{out}/atac2_var.csv\", index=True)    # peak metadata"
   ]
  },
  {
   "cell_type": "code",
   "execution_count": 7,
   "id": "03ec1f93-c42e-43bf-9042-3a61ef2d22e1",
   "metadata": {},
   "outputs": [],
   "source": [
    "adata = rna1.copy()\n",
    "# 提取数据\n",
    "counts = adata.X\n",
    "obs = adata.obs\n",
    "var = adata.var\n",
    "# 将数据保存为 CSV 文件\n",
    "pd.DataFrame(counts.toarray()).to_csv(f\"{out}/rna1_counts.csv\", index=True)   # matrix\n",
    "obs.to_csv(f\"{out}/rna1_obs.csv\", index=True)    # cell metadata\n",
    "var.to_csv(f\"{out}/rna1_var.csv\", index=True)    # gene metadata"
   ]
  },
  {
   "cell_type": "code",
   "execution_count": 8,
   "id": "bcc03cb4-f506-4283-a966-e7d9c24b7d5a",
   "metadata": {},
   "outputs": [],
   "source": [
    "adata = rna2.copy()\n",
    "# 提取数据\n",
    "counts = adata.X\n",
    "obs = adata.obs\n",
    "var = adata.var\n",
    "# 将数据保存为 CSV 文件\n",
    "pd.DataFrame(counts.toarray()).to_csv(f\"{out}/rna2_counts.csv\", index=True)   # matrix\n",
    "obs.to_csv(f\"{out}/rna2_obs.csv\", index=True)    # cell metadata\n",
    "var.to_csv(f\"{out}/rna2_var.csv\", index=True)    # gene metadata"
   ]
  },
  {
   "cell_type": "code",
   "execution_count": null,
   "id": "5c8be727-31cc-4ed3-984b-526c817054f4",
   "metadata": {},
   "outputs": [],
   "source": []
  }
 ],
 "metadata": {
  "kernelspec": {
   "display_name": "py3.8_tf2.6.0",
   "language": "python",
   "name": "py3.8_tf2.6.0"
  },
  "language_info": {
   "codemirror_mode": {
    "name": "ipython",
    "version": 3
   },
   "file_extension": ".py",
   "mimetype": "text/x-python",
   "name": "python",
   "nbconvert_exporter": "python",
   "pygments_lexer": "ipython3",
   "version": "3.8.15"
  }
 },
 "nbformat": 4,
 "nbformat_minor": 5
}
