{
 "cells": [
  {
   "cell_type": "markdown",
   "id": "d8fa0507-e464-42fc-8484-d3dbe7bd2871",
   "metadata": {},
   "source": [
    "## ⭐ cross-cell prediction"
   ]
  },
  {
   "cell_type": "code",
   "execution_count": 2,
   "id": "96402626-3888-4c73-8def-377367a94753",
   "metadata": {},
   "outputs": [],
   "source": [
    "library(Seurat)\n",
    "library(ggplot2)\n",
    "library(Matrix)\n",
    "library(Signac)\n",
    "library(stats4)\n",
    "library(dplyr)\n",
    "library(SeuratDisk)\n",
    "library(feather)"
   ]
  },
  {
   "cell_type": "code",
   "execution_count": 3,
   "id": "c037c4c6-1805-43df-857b-d97ac7cb039c",
   "metadata": {},
   "outputs": [],
   "source": [
    "save_path <- './Results/'\n",
    "data_dir <-  './data/'\n",
    "# loading training data(label)\n",
    "counts <- as.matrix(read.csv(paste0(data_dir,\"atac1_counts.csv\"), row.names = 1))   # matrix\n",
    "obs <- read.csv(paste0(data_dir,\"atac1_obs.csv\"), row.names = 1)   # cell metadata\n",
    "var <- read.csv(paste0(data_dir,\"atac1_var.csv\"), row.names = 1)   # gene metadata"
   ]
  },
  {
   "cell_type": "code",
   "execution_count": 4,
   "id": "dd92d0b3-2f04-4a19-9f02-951ac7326cc8",
   "metadata": {},
   "outputs": [
    {
     "data": {
      "text/html": [
       "<style>\n",
       ".list-inline {list-style: none; margin:0; padding: 0}\n",
       ".list-inline>li {display: inline-block}\n",
       ".list-inline>li:not(:last-child)::after {content: \"\\00b7\"; padding: 0 .5ex}\n",
       "</style>\n",
       "<ol class=list-inline><li>'AAACAGCCAACCGCCA-1'</li><li>'AAACAGCCAAGGTCGA-1'</li><li>'AAACAGCCAGGAACAT-1'</li><li>'AAACAGCCATATTGAC-1'</li><li>'AAACAGCCATCAGCAC-1'</li><li>'AAACAGCCATGGTTAT-1'</li></ol>\n"
      ],
      "text/latex": [
       "\\begin{enumerate*}\n",
       "\\item 'AAACAGCCAACCGCCA-1'\n",
       "\\item 'AAACAGCCAAGGTCGA-1'\n",
       "\\item 'AAACAGCCAGGAACAT-1'\n",
       "\\item 'AAACAGCCATATTGAC-1'\n",
       "\\item 'AAACAGCCATCAGCAC-1'\n",
       "\\item 'AAACAGCCATGGTTAT-1'\n",
       "\\end{enumerate*}\n"
      ],
      "text/markdown": [
       "1. 'AAACAGCCAACCGCCA-1'\n",
       "2. 'AAACAGCCAAGGTCGA-1'\n",
       "3. 'AAACAGCCAGGAACAT-1'\n",
       "4. 'AAACAGCCATATTGAC-1'\n",
       "5. 'AAACAGCCATCAGCAC-1'\n",
       "6. 'AAACAGCCATGGTTAT-1'\n",
       "\n",
       "\n"
      ],
      "text/plain": [
       "[1] \"AAACAGCCAACCGCCA-1\" \"AAACAGCCAAGGTCGA-1\" \"AAACAGCCAGGAACAT-1\"\n",
       "[4] \"AAACAGCCATATTGAC-1\" \"AAACAGCCATCAGCAC-1\" \"AAACAGCCATGGTTAT-1\""
      ]
     },
     "metadata": {},
     "output_type": "display_data"
    },
    {
     "data": {
      "text/html": [
       "<style>\n",
       ".list-inline {list-style: none; margin:0; padding: 0}\n",
       ".list-inline>li {display: inline-block}\n",
       ".list-inline>li:not(:last-child)::after {content: \"\\00b7\"; padding: 0 .5ex}\n",
       "</style>\n",
       "<ol class=list-inline><li>'chr1:3094582-3095477'</li><li>'chr1:3671318-3672224'</li><li>'chr1:4491535-4492451'</li><li>'chr1:4492877-4493786'</li><li>'chr1:4571380-4572305'</li><li>'chr1:4785278-4786187'</li></ol>\n"
      ],
      "text/latex": [
       "\\begin{enumerate*}\n",
       "\\item 'chr1:3094582-3095477'\n",
       "\\item 'chr1:3671318-3672224'\n",
       "\\item 'chr1:4491535-4492451'\n",
       "\\item 'chr1:4492877-4493786'\n",
       "\\item 'chr1:4571380-4572305'\n",
       "\\item 'chr1:4785278-4786187'\n",
       "\\end{enumerate*}\n"
      ],
      "text/markdown": [
       "1. 'chr1:3094582-3095477'\n",
       "2. 'chr1:3671318-3672224'\n",
       "3. 'chr1:4491535-4492451'\n",
       "4. 'chr1:4492877-4493786'\n",
       "5. 'chr1:4571380-4572305'\n",
       "6. 'chr1:4785278-4786187'\n",
       "\n",
       "\n"
      ],
      "text/plain": [
       "[1] \"chr1:3094582-3095477\" \"chr1:3671318-3672224\" \"chr1:4491535-4492451\"\n",
       "[4] \"chr1:4492877-4493786\" \"chr1:4571380-4572305\" \"chr1:4785278-4786187\""
      ]
     },
     "metadata": {},
     "output_type": "display_data"
    },
    {
     "data": {
      "text/html": [
       "<style>\n",
       ".list-inline {list-style: none; margin:0; padding: 0}\n",
       ".list-inline>li {display: inline-block}\n",
       ".list-inline>li:not(:last-child)::after {content: \"\\00b7\"; padding: 0 .5ex}\n",
       "</style>\n",
       "<ol class=list-inline><li>'0'</li><li>'1'</li><li>'2'</li><li>'3'</li><li>'4'</li><li>'5'</li></ol>\n"
      ],
      "text/latex": [
       "\\begin{enumerate*}\n",
       "\\item '0'\n",
       "\\item '1'\n",
       "\\item '2'\n",
       "\\item '3'\n",
       "\\item '4'\n",
       "\\item '5'\n",
       "\\end{enumerate*}\n"
      ],
      "text/markdown": [
       "1. '0'\n",
       "2. '1'\n",
       "3. '2'\n",
       "4. '3'\n",
       "5. '4'\n",
       "6. '5'\n",
       "\n",
       "\n"
      ],
      "text/plain": [
       "[1] \"0\" \"1\" \"2\" \"3\" \"4\" \"5\""
      ]
     },
     "metadata": {},
     "output_type": "display_data"
    },
    {
     "data": {
      "text/html": [
       "4391"
      ],
      "text/latex": [
       "4391"
      ],
      "text/markdown": [
       "4391"
      ],
      "text/plain": [
       "[1] 4391"
      ]
     },
     "metadata": {},
     "output_type": "display_data"
    },
    {
     "data": {
      "text/html": [
       "36282"
      ],
      "text/latex": [
       "36282"
      ],
      "text/markdown": [
       "36282"
      ],
      "text/plain": [
       "[1] 36282"
      ]
     },
     "metadata": {},
     "output_type": "display_data"
    }
   ],
   "source": [
    "head(rownames(obs))\n",
    "head(rownames(var))\n",
    "head(rownames(counts))\n",
    "length(rownames(counts))\n",
    "length(rownames(var))"
   ]
  },
  {
   "cell_type": "code",
   "execution_count": 5,
   "id": "3d94f4ad-b8bd-47e5-8118-e11d02431f05",
   "metadata": {},
   "outputs": [
    {
     "data": {
      "text/html": [
       "<style>\n",
       ".list-inline {list-style: none; margin:0; padding: 0}\n",
       ".list-inline>li {display: inline-block}\n",
       ".list-inline>li:not(:last-child)::after {content: \"\\00b7\"; padding: 0 .5ex}\n",
       "</style>\n",
       "<ol class=list-inline><li>'AAACAGCCAACCGCCA-1'</li><li>'AAACAGCCAAGGTCGA-1'</li><li>'AAACAGCCAGGAACAT-1'</li><li>'AAACAGCCATATTGAC-1'</li><li>'AAACAGCCATCAGCAC-1'</li><li>'AAACAGCCATGGTTAT-1'</li></ol>\n"
      ],
      "text/latex": [
       "\\begin{enumerate*}\n",
       "\\item 'AAACAGCCAACCGCCA-1'\n",
       "\\item 'AAACAGCCAAGGTCGA-1'\n",
       "\\item 'AAACAGCCAGGAACAT-1'\n",
       "\\item 'AAACAGCCATATTGAC-1'\n",
       "\\item 'AAACAGCCATCAGCAC-1'\n",
       "\\item 'AAACAGCCATGGTTAT-1'\n",
       "\\end{enumerate*}\n"
      ],
      "text/markdown": [
       "1. 'AAACAGCCAACCGCCA-1'\n",
       "2. 'AAACAGCCAAGGTCGA-1'\n",
       "3. 'AAACAGCCAGGAACAT-1'\n",
       "4. 'AAACAGCCATATTGAC-1'\n",
       "5. 'AAACAGCCATCAGCAC-1'\n",
       "6. 'AAACAGCCATGGTTAT-1'\n",
       "\n",
       "\n"
      ],
      "text/plain": [
       "[1] \"AAACAGCCAACCGCCA-1\" \"AAACAGCCAAGGTCGA-1\" \"AAACAGCCAGGAACAT-1\"\n",
       "[4] \"AAACAGCCATATTGAC-1\" \"AAACAGCCATCAGCAC-1\" \"AAACAGCCATGGTTAT-1\""
      ]
     },
     "metadata": {},
     "output_type": "display_data"
    },
    {
     "data": {
      "text/html": [
       "<style>\n",
       ".list-inline {list-style: none; margin:0; padding: 0}\n",
       ".list-inline>li {display: inline-block}\n",
       ".list-inline>li:not(:last-child)::after {content: \"\\00b7\"; padding: 0 .5ex}\n",
       "</style>\n",
       "<ol class=list-inline><li>'chr1:3094582-3095477'</li><li>'chr1:3671318-3672224'</li><li>'chr1:4491535-4492451'</li><li>'chr1:4492877-4493786'</li><li>'chr1:4571380-4572305'</li><li>'chr1:4785278-4786187'</li></ol>\n"
      ],
      "text/latex": [
       "\\begin{enumerate*}\n",
       "\\item 'chr1:3094582-3095477'\n",
       "\\item 'chr1:3671318-3672224'\n",
       "\\item 'chr1:4491535-4492451'\n",
       "\\item 'chr1:4492877-4493786'\n",
       "\\item 'chr1:4571380-4572305'\n",
       "\\item 'chr1:4785278-4786187'\n",
       "\\end{enumerate*}\n"
      ],
      "text/markdown": [
       "1. 'chr1:3094582-3095477'\n",
       "2. 'chr1:3671318-3672224'\n",
       "3. 'chr1:4491535-4492451'\n",
       "4. 'chr1:4492877-4493786'\n",
       "5. 'chr1:4571380-4572305'\n",
       "6. 'chr1:4785278-4786187'\n",
       "\n",
       "\n"
      ],
      "text/plain": [
       "[1] \"chr1:3094582-3095477\" \"chr1:3671318-3672224\" \"chr1:4491535-4492451\"\n",
       "[4] \"chr1:4492877-4493786\" \"chr1:4571380-4572305\" \"chr1:4785278-4786187\""
      ]
     },
     "metadata": {},
     "output_type": "display_data"
    }
   ],
   "source": [
    "rownames(counts) <- rownames(obs)  \n",
    "colnames(counts) <- rownames(var)  \n",
    "head(rownames(counts))\n",
    "head(colnames(counts))"
   ]
  },
  {
   "cell_type": "code",
   "execution_count": 6,
   "id": "41910b48-c0c1-4cf6-984c-3aafe8e1644e",
   "metadata": {},
   "outputs": [
    {
     "data": {
      "text/plain": [
       "An object of class Seurat \n",
       "36282 features across 4391 samples within 1 assay \n",
       "Active assay: ATAC (36282 features, 0 variable features)\n",
       " 2 layers present: counts, data"
      ]
     },
     "metadata": {},
     "output_type": "display_data"
    }
   ],
   "source": [
    "# Create Seurat object\n",
    "TRAIN_ATAC_obj <- CreateSeuratObject(counts = t(counts), assay = \"ATAC\", project = \"ATAC\", min.cells = 0, min.features = 0)\n",
    "TRAIN_ATAC_obj"
   ]
  },
  {
   "cell_type": "code",
   "execution_count": 7,
   "id": "0fcd3dfc-b807-4147-bd2f-43bc16e3e22a",
   "metadata": {},
   "outputs": [],
   "source": [
    "TRAIN_ATAC_obj@meta.data <- obs"
   ]
  },
  {
   "cell_type": "code",
   "execution_count": 8,
   "id": "1de3c0cd-5f80-423e-a36e-6ef454215082",
   "metadata": {},
   "outputs": [
    {
     "data": {
      "text/html": [
       "<style>\n",
       ".list-inline {list-style: none; margin:0; padding: 0}\n",
       ".list-inline>li {display: inline-block}\n",
       ".list-inline>li:not(:last-child)::after {content: \"\\00b7\"; padding: 0 .5ex}\n",
       "</style>\n",
       "<ol class=list-inline><li>'TCACCTCAGATGGAGC-1'</li><li>'TTGGATCAGCGATAAG-1'</li><li>'GTGCTGGGTAGTTACG-1'</li><li>'ACACTAGGTCAAACTG-1'</li><li>'TTACACCGTGCTTAGA-1'</li><li>'GGTTTCTGTTAGACCA-1'</li></ol>\n"
      ],
      "text/latex": [
       "\\begin{enumerate*}\n",
       "\\item 'TCACCTCAGATGGAGC-1'\n",
       "\\item 'TTGGATCAGCGATAAG-1'\n",
       "\\item 'GTGCTGGGTAGTTACG-1'\n",
       "\\item 'ACACTAGGTCAAACTG-1'\n",
       "\\item 'TTACACCGTGCTTAGA-1'\n",
       "\\item 'GGTTTCTGTTAGACCA-1'\n",
       "\\end{enumerate*}\n"
      ],
      "text/markdown": [
       "1. 'TCACCTCAGATGGAGC-1'\n",
       "2. 'TTGGATCAGCGATAAG-1'\n",
       "3. 'GTGCTGGGTAGTTACG-1'\n",
       "4. 'ACACTAGGTCAAACTG-1'\n",
       "5. 'TTACACCGTGCTTAGA-1'\n",
       "6. 'GGTTTCTGTTAGACCA-1'\n",
       "\n",
       "\n"
      ],
      "text/plain": [
       "[1] \"TCACCTCAGATGGAGC-1\" \"TTGGATCAGCGATAAG-1\" \"GTGCTGGGTAGTTACG-1\"\n",
       "[4] \"ACACTAGGTCAAACTG-1\" \"TTACACCGTGCTTAGA-1\" \"GGTTTCTGTTAGACCA-1\""
      ]
     },
     "metadata": {},
     "output_type": "display_data"
    },
    {
     "data": {
      "text/html": [
       "<style>\n",
       ".list-inline {list-style: none; margin:0; padding: 0}\n",
       ".list-inline>li {display: inline-block}\n",
       ".list-inline>li:not(:last-child)::after {content: \"\\00b7\"; padding: 0 .5ex}\n",
       "</style>\n",
       "<ol class=list-inline><li>'chr1:3094582-3095477'</li><li>'chr1:3671318-3672224'</li><li>'chr1:4491535-4492451'</li><li>'chr1:4492877-4493786'</li><li>'chr1:4571380-4572305'</li><li>'chr1:4785278-4786187'</li></ol>\n"
      ],
      "text/latex": [
       "\\begin{enumerate*}\n",
       "\\item 'chr1:3094582-3095477'\n",
       "\\item 'chr1:3671318-3672224'\n",
       "\\item 'chr1:4491535-4492451'\n",
       "\\item 'chr1:4492877-4493786'\n",
       "\\item 'chr1:4571380-4572305'\n",
       "\\item 'chr1:4785278-4786187'\n",
       "\\end{enumerate*}\n"
      ],
      "text/markdown": [
       "1. 'chr1:3094582-3095477'\n",
       "2. 'chr1:3671318-3672224'\n",
       "3. 'chr1:4491535-4492451'\n",
       "4. 'chr1:4492877-4493786'\n",
       "5. 'chr1:4571380-4572305'\n",
       "6. 'chr1:4785278-4786187'\n",
       "\n",
       "\n"
      ],
      "text/plain": [
       "[1] \"chr1:3094582-3095477\" \"chr1:3671318-3672224\" \"chr1:4491535-4492451\"\n",
       "[4] \"chr1:4492877-4493786\" \"chr1:4571380-4572305\" \"chr1:4785278-4786187\""
      ]
     },
     "metadata": {},
     "output_type": "display_data"
    },
    {
     "data": {
      "text/plain": [
       "An object of class Seurat \n",
       "36282 features across 487 samples within 1 assay \n",
       "Active assay: ATAC (36282 features, 0 variable features)\n",
       " 2 layers present: counts, data"
      ]
     },
     "metadata": {},
     "output_type": "display_data"
    }
   ],
   "source": [
    "# loading testing data (label)\n",
    "counts <- as.matrix(read.csv(paste0(data_dir,\"atac2_counts.csv\"), row.names = 1))   # matrix\n",
    "obs <- read.csv(paste0(data_dir,\"atac2_obs.csv\"), row.names = 1)    # cell metadata\n",
    "var <- read.csv(paste0(data_dir,\"atac2_var.csv\"), row.names = 1)   # gene metadata\n",
    "rownames(counts) <- rownames(obs)  \n",
    "colnames(counts) <- rownames(var)  \n",
    "head(rownames(counts)) \n",
    "head(colnames(counts))  \n",
    "# Create Seurat object\n",
    "TEST_ATAC_obj <- CreateSeuratObject(counts = t(counts), assay = \"ATAC\", project = \"ATAC\", min.cells = 0, min.features = 0)\n",
    "TEST_ATAC_obj@meta.data <- obs\n",
    "TEST_ATAC_obj"
   ]
  },
  {
   "cell_type": "code",
   "execution_count": 9,
   "id": "e62d1fee-6444-4e5a-a8b1-3ea7ed31c005",
   "metadata": {},
   "outputs": [
    {
     "data": {
      "text/html": [
       "<style>\n",
       ".list-inline {list-style: none; margin:0; padding: 0}\n",
       ".list-inline>li {display: inline-block}\n",
       ".list-inline>li:not(:last-child)::after {content: \"\\00b7\"; padding: 0 .5ex}\n",
       "</style>\n",
       "<ol class=list-inline><li>'AAACAGCCAACCGCCA-1'</li><li>'AAACAGCCAAGGTCGA-1'</li><li>'AAACAGCCAGGAACAT-1'</li><li>'AAACAGCCATATTGAC-1'</li><li>'AAACAGCCATCAGCAC-1'</li><li>'AAACAGCCATGGTTAT-1'</li></ol>\n"
      ],
      "text/latex": [
       "\\begin{enumerate*}\n",
       "\\item 'AAACAGCCAACCGCCA-1'\n",
       "\\item 'AAACAGCCAAGGTCGA-1'\n",
       "\\item 'AAACAGCCAGGAACAT-1'\n",
       "\\item 'AAACAGCCATATTGAC-1'\n",
       "\\item 'AAACAGCCATCAGCAC-1'\n",
       "\\item 'AAACAGCCATGGTTAT-1'\n",
       "\\end{enumerate*}\n"
      ],
      "text/markdown": [
       "1. 'AAACAGCCAACCGCCA-1'\n",
       "2. 'AAACAGCCAAGGTCGA-1'\n",
       "3. 'AAACAGCCAGGAACAT-1'\n",
       "4. 'AAACAGCCATATTGAC-1'\n",
       "5. 'AAACAGCCATCAGCAC-1'\n",
       "6. 'AAACAGCCATGGTTAT-1'\n",
       "\n",
       "\n"
      ],
      "text/plain": [
       "[1] \"AAACAGCCAACCGCCA-1\" \"AAACAGCCAAGGTCGA-1\" \"AAACAGCCAGGAACAT-1\"\n",
       "[4] \"AAACAGCCATATTGAC-1\" \"AAACAGCCATCAGCAC-1\" \"AAACAGCCATGGTTAT-1\""
      ]
     },
     "metadata": {},
     "output_type": "display_data"
    },
    {
     "data": {
      "text/html": [
       "<style>\n",
       ".list-inline {list-style: none; margin:0; padding: 0}\n",
       ".list-inline>li {display: inline-block}\n",
       ".list-inline>li:not(:last-child)::after {content: \"\\00b7\"; padding: 0 .5ex}\n",
       "</style>\n",
       "<ol class=list-inline><li>'Xkr4'</li><li>'Gm1992'</li><li>'Gm19938'</li><li>'Mrpl15'</li><li>'Lypla1'</li><li>'Tcea1'</li></ol>\n"
      ],
      "text/latex": [
       "\\begin{enumerate*}\n",
       "\\item 'Xkr4'\n",
       "\\item 'Gm1992'\n",
       "\\item 'Gm19938'\n",
       "\\item 'Mrpl15'\n",
       "\\item 'Lypla1'\n",
       "\\item 'Tcea1'\n",
       "\\end{enumerate*}\n"
      ],
      "text/markdown": [
       "1. 'Xkr4'\n",
       "2. 'Gm1992'\n",
       "3. 'Gm19938'\n",
       "4. 'Mrpl15'\n",
       "5. 'Lypla1'\n",
       "6. 'Tcea1'\n",
       "\n",
       "\n"
      ],
      "text/plain": [
       "[1] \"Xkr4\"    \"Gm1992\"  \"Gm19938\" \"Mrpl15\"  \"Lypla1\"  \"Tcea1\"  "
      ]
     },
     "metadata": {},
     "output_type": "display_data"
    },
    {
     "data": {
      "text/plain": [
       "An object of class Seurat \n",
       "10721 features across 4391 samples within 1 assay \n",
       "Active assay: RNA (10721 features, 0 variable features)\n",
       " 2 layers present: counts, data"
      ]
     },
     "metadata": {},
     "output_type": "display_data"
    }
   ],
   "source": [
    "# loading training data(input)\n",
    "counts <- as.matrix(read.csv(paste0(data_dir,\"rna1_counts.csv\"), row.names = 1))   # matrix\n",
    "obs <- read.csv(paste0(data_dir,\"rna1_obs.csv\"), row.names = 1)   # cell metadata\n",
    "var <- read.csv(paste0(data_dir,\"rna1_var.csv\"), row.names = 1)   # gene metadata\n",
    "rownames(counts) <- rownames(obs)  \n",
    "colnames(counts) <- rownames(var)  \n",
    "head(rownames(counts)) \n",
    "head(colnames(counts)) \n",
    "# Create Seurat object\n",
    "TRAIN_RNA_obj <- CreateSeuratObject(counts = t(counts), assay = \"RNA\", project = \"RNA\", min.cells = 0, min.features = 0)\n",
    "TRAIN_RNA_obj@meta.data <- obs\n",
    "TRAIN_RNA_obj"
   ]
  },
  {
   "cell_type": "code",
   "execution_count": 10,
   "id": "a1bcca93-3b46-44c5-9d3a-1bc899b6c14d",
   "metadata": {},
   "outputs": [
    {
     "data": {
      "text/html": [
       "<style>\n",
       ".list-inline {list-style: none; margin:0; padding: 0}\n",
       ".list-inline>li {display: inline-block}\n",
       ".list-inline>li:not(:last-child)::after {content: \"\\00b7\"; padding: 0 .5ex}\n",
       "</style>\n",
       "<ol class=list-inline><li>'TCACCTCAGATGGAGC-1'</li><li>'TTGGATCAGCGATAAG-1'</li><li>'GTGCTGGGTAGTTACG-1'</li><li>'ACACTAGGTCAAACTG-1'</li><li>'TTACACCGTGCTTAGA-1'</li><li>'GGTTTCTGTTAGACCA-1'</li></ol>\n"
      ],
      "text/latex": [
       "\\begin{enumerate*}\n",
       "\\item 'TCACCTCAGATGGAGC-1'\n",
       "\\item 'TTGGATCAGCGATAAG-1'\n",
       "\\item 'GTGCTGGGTAGTTACG-1'\n",
       "\\item 'ACACTAGGTCAAACTG-1'\n",
       "\\item 'TTACACCGTGCTTAGA-1'\n",
       "\\item 'GGTTTCTGTTAGACCA-1'\n",
       "\\end{enumerate*}\n"
      ],
      "text/markdown": [
       "1. 'TCACCTCAGATGGAGC-1'\n",
       "2. 'TTGGATCAGCGATAAG-1'\n",
       "3. 'GTGCTGGGTAGTTACG-1'\n",
       "4. 'ACACTAGGTCAAACTG-1'\n",
       "5. 'TTACACCGTGCTTAGA-1'\n",
       "6. 'GGTTTCTGTTAGACCA-1'\n",
       "\n",
       "\n"
      ],
      "text/plain": [
       "[1] \"TCACCTCAGATGGAGC-1\" \"TTGGATCAGCGATAAG-1\" \"GTGCTGGGTAGTTACG-1\"\n",
       "[4] \"ACACTAGGTCAAACTG-1\" \"TTACACCGTGCTTAGA-1\" \"GGTTTCTGTTAGACCA-1\""
      ]
     },
     "metadata": {},
     "output_type": "display_data"
    },
    {
     "data": {
      "text/html": [
       "<style>\n",
       ".list-inline {list-style: none; margin:0; padding: 0}\n",
       ".list-inline>li {display: inline-block}\n",
       ".list-inline>li:not(:last-child)::after {content: \"\\00b7\"; padding: 0 .5ex}\n",
       "</style>\n",
       "<ol class=list-inline><li>'Xkr4'</li><li>'Gm1992'</li><li>'Gm19938'</li><li>'Mrpl15'</li><li>'Lypla1'</li><li>'Tcea1'</li></ol>\n"
      ],
      "text/latex": [
       "\\begin{enumerate*}\n",
       "\\item 'Xkr4'\n",
       "\\item 'Gm1992'\n",
       "\\item 'Gm19938'\n",
       "\\item 'Mrpl15'\n",
       "\\item 'Lypla1'\n",
       "\\item 'Tcea1'\n",
       "\\end{enumerate*}\n"
      ],
      "text/markdown": [
       "1. 'Xkr4'\n",
       "2. 'Gm1992'\n",
       "3. 'Gm19938'\n",
       "4. 'Mrpl15'\n",
       "5. 'Lypla1'\n",
       "6. 'Tcea1'\n",
       "\n",
       "\n"
      ],
      "text/plain": [
       "[1] \"Xkr4\"    \"Gm1992\"  \"Gm19938\" \"Mrpl15\"  \"Lypla1\"  \"Tcea1\"  "
      ]
     },
     "metadata": {},
     "output_type": "display_data"
    },
    {
     "data": {
      "text/plain": [
       "An object of class Seurat \n",
       "10721 features across 487 samples within 1 assay \n",
       "Active assay: RNA (10721 features, 0 variable features)\n",
       " 2 layers present: counts, data"
      ]
     },
     "metadata": {},
     "output_type": "display_data"
    }
   ],
   "source": [
    "# loading testing data(input)\n",
    "counts <- as.matrix(read.csv(paste0(data_dir,\"rna2_counts.csv\"), row.names = 1))   # matrix\n",
    "obs <- read.csv(paste0(data_dir,\"rna2_obs.csv\"), row.names = 1)   # cell metadata\n",
    "var <- read.csv(paste0(data_dir,\"rna2_var.csv\"), row.names = 1)   # gene metadata\n",
    "rownames(counts) <- rownames(obs)  \n",
    "colnames(counts) <- rownames(var)  \n",
    "head(rownames(counts))\n",
    "head(colnames(counts))\n",
    "# Create Seurat object\n",
    "TEST_RNA_obj <- CreateSeuratObject(counts = t(counts), assay = \"RNA\", project = \"RNA\", min.cells = 0, min.features = 0)\n",
    "TEST_RNA_obj@meta.data <- obs\n",
    "TEST_RNA_obj"
   ]
  },
  {
   "cell_type": "markdown",
   "id": "6b9d8d85-0eba-4a37-8e63-c09b5a960772",
   "metadata": {},
   "source": [
    "### Find anchors and predict data"
   ]
  },
  {
   "cell_type": "code",
   "execution_count": 11,
   "id": "8e37ecae-ff16-4575-acf6-42c0f970df12",
   "metadata": {},
   "outputs": [],
   "source": [
    "TRAIN_RNA_obj <- NormalizeData(TRAIN_RNA_obj, normalization.method = \"LogNormalize\", scale.factor = 1e4) \n",
    "TRAIN_RNA_obj <- FindVariableFeatures(TRAIN_RNA_obj, selection.method = 'vst', nfeatures = 4000)\n",
    "TEST_RNA_obj <- NormalizeData(TEST_RNA_obj, normalization.method = \"LogNormalize\", scale.factor = 1e4) \n",
    "features<-TRAIN_RNA_obj@assays$RNA@var.features\n",
    "DN = 30\n",
    "options (warn = -1)\n",
    "anchors <- FindTransferAnchors(reference =TRAIN_RNA_obj,query = TEST_RNA_obj,reduction = 'cca',features=features,reference.assay = 'RNA',query.assay = 'RNA', k.filter = NA, dims = 1:DN,verbose=FALSE)\n",
    "refdata <- GetAssayData(object = TRAIN_ATAC_obj,assay = 'ATAC',slot = 'data',verbose=FALSE)\n",
    "imputation <- TransferData(anchorset = anchors,refdata = refdata,weight.reduction = 'cca',dims = 1:DN,k.weight=10,verbose=FALSE)\n",
    "Imp_New_peaks = as.data.frame(imputation@data)"
   ]
  },
  {
   "cell_type": "code",
   "execution_count": 12,
   "id": "2011e7ef-e423-42d0-9d5b-da620a958076",
   "metadata": {},
   "outputs": [
    {
     "data": {
      "text/html": [
       "<style>\n",
       ".list-inline {list-style: none; margin:0; padding: 0}\n",
       ".list-inline>li {display: inline-block}\n",
       ".list-inline>li:not(:last-child)::after {content: \"\\00b7\"; padding: 0 .5ex}\n",
       "</style>\n",
       "<ol class=list-inline><li>36282</li><li>487</li></ol>\n"
      ],
      "text/latex": [
       "\\begin{enumerate*}\n",
       "\\item 36282\n",
       "\\item 487\n",
       "\\end{enumerate*}\n"
      ],
      "text/markdown": [
       "1. 36282\n",
       "2. 487\n",
       "\n",
       "\n"
      ],
      "text/plain": [
       "[1] 36282   487"
      ]
     },
     "metadata": {},
     "output_type": "display_data"
    },
    {
     "data": {
      "text/html": [
       "<style>\n",
       ".list-inline {list-style: none; margin:0; padding: 0}\n",
       ".list-inline>li {display: inline-block}\n",
       ".list-inline>li:not(:last-child)::after {content: \"\\00b7\"; padding: 0 .5ex}\n",
       "</style>\n",
       "<ol class=list-inline><li>36282</li><li>487</li></ol>\n"
      ],
      "text/latex": [
       "\\begin{enumerate*}\n",
       "\\item 36282\n",
       "\\item 487\n",
       "\\end{enumerate*}\n"
      ],
      "text/markdown": [
       "1. 36282\n",
       "2. 487\n",
       "\n",
       "\n"
      ],
      "text/plain": [
       "[1] 36282   487"
      ]
     },
     "metadata": {},
     "output_type": "display_data"
    }
   ],
   "source": [
    "test_mod <- as.data.frame(TEST_ATAC_obj@assays$ATAC@counts)\n",
    "shared<-intersect(rownames(test_mod),rownames(Imp_New_peaks))\n",
    "Imp_New_peaks<-Imp_New_peaks[shared,]\n",
    "test_mod<-test_mod[shared,]\n",
    "dim(test_mod)\n",
    "dim(Imp_New_peaks) \n",
    "test_mod$index <- rownames(test_mod)\n",
    "Imp_New_peaks$index <- rownames(Imp_New_peaks)"
   ]
  },
  {
   "cell_type": "code",
   "execution_count": 13,
   "id": "9dff8f3e-b178-42f9-9f20-cbb6008a2efc",
   "metadata": {},
   "outputs": [],
   "source": [
    "write_feather(test_mod, paste0(save_path,\"Seurat_true.feather\")) \n",
    "write_feather(Imp_New_peaks, paste0(save_path,\"Seurat_pred.feather\")) "
   ]
  },
  {
   "cell_type": "code",
   "execution_count": null,
   "id": "7054be60-9aad-4c2d-a2d3-5f8bc71172b0",
   "metadata": {},
   "outputs": [],
   "source": []
  }
 ],
 "metadata": {
  "kernelspec": {
   "display_name": "r4.2",
   "language": "R",
   "name": "r4.2"
  },
  "language_info": {
   "codemirror_mode": "r",
   "file_extension": ".r",
   "mimetype": "text/x-r-source",
   "name": "R",
   "pygments_lexer": "r",
   "version": "4.2.0"
  }
 },
 "nbformat": 4,
 "nbformat_minor": 5
}
