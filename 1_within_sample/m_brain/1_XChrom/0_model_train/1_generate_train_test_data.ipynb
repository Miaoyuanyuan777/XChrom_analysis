{
 "cells": [
  {
   "cell_type": "code",
   "execution_count": 1,
   "id": "baa768a1-f3b2-4886-9772-d68e97114f48",
   "metadata": {},
   "outputs": [],
   "source": [
    "import xchrom as xc\n",
    "import scanpy as sc"
   ]
  },
  {
   "cell_type": "code",
   "execution_count": 2,
   "id": "0aa5cd1f-9914-4dd9-9473-10e2bb9ac2f3",
   "metadata": {},
   "outputs": [
    {
     "name": "stdout",
     "output_type": "stream",
     "text": [
      "train/test data is saved in:  train_data/train_data\n",
      "successful writing bed file.\n",
      "successful writing train/test split file.\n",
      "successful writing train/test anndata file.\n",
      "successful writing sparse m.\n",
      "Successfully saving all sequence h5 file...\n",
      "Successfully saving trainval sequence h5 file...\n",
      "Successfully saving test sequence h5 file...\n"
     ]
    }
   ],
   "source": [
    "process_folder = './train_data/'\n",
    "input_fasta = '/picb/bigdata/project/miaoyuanyuan/mm10.fa'\n",
    "ad_atac = sc.read_h5ad('../../0_data/processed_data/m_brain_paired_atac.h5ad')\n",
    "dict = xc.pp.process_train_test_single(\n",
    "    ad_atac=ad_atac, ## can be a str, Path, or anndata.AnnData object\n",
    "    input_fasta=input_fasta,\n",
    "    output_path=process_folder\n",
    ")"
   ]
  },
  {
   "cell_type": "code",
   "execution_count": null,
   "id": "a780d13b-51d6-4cf6-a2f0-6a7e26254a75",
   "metadata": {},
   "outputs": [],
   "source": []
  }
 ],
 "metadata": {
  "kernelspec": {
   "display_name": "py3.8_tf2.6.0",
   "language": "python",
   "name": "py3.8_tf2.6.0"
  },
  "language_info": {
   "codemirror_mode": {
    "name": "ipython",
    "version": 3
   },
   "file_extension": ".py",
   "mimetype": "text/x-python",
   "name": "python",
   "nbconvert_exporter": "python",
   "pygments_lexer": "ipython3",
   "version": "3.8.15"
  }
 },
 "nbformat": 4,
 "nbformat_minor": 5
}
