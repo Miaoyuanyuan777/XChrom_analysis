{
 "cells": [
  {
   "cell_type": "markdown",
   "id": "04fdb057-5e2a-480a-b8e7-874801b04e1c",
   "metadata": {},
   "source": [
    "## The correlation calculation between the ns&ls calculated after XChrom denoising data and the ns&ls metrics used for monitoring(final cell embedding) during the model training process"
   ]
  },
  {
   "cell_type": "code",
   "execution_count": 8,
   "id": "cc25b395-eeab-4620-91f2-acc1fdb2fe7a",
   "metadata": {},
   "outputs": [],
   "source": [
    "import anndata\n",
    "import h5py\n",
    "import numpy as np\n",
    "from scipy import stats\n",
    "import tensorflow as tf\n",
    "import matplotlib.pyplot as plt\n",
    "import xchrom as xc"
   ]
  },
  {
   "cell_type": "code",
   "execution_count": 2,
   "id": "62048c62-53ba-4d92-a1ba-08909bd81ae0",
   "metadata": {},
   "outputs": [],
   "source": [
    "path = '../../'\n",
    "traindata_folder = f'{path}/1_XChrom/0_model_train/train_data/'\n",
    "out_dir = f'{path}/1_XChrom/2_per10epoch_summary/'"
   ]
  },
  {
   "cell_type": "markdown",
   "id": "86238cbb-8fdc-4a86-8064-3944f1ba0e7b",
   "metadata": {},
   "source": [
    "## Extract the cell embeddings (x2pred) from the model parameters and then calculate the ns and ls metrics."
   ]
  },
  {
   "cell_type": "code",
   "execution_count": 6,
   "id": "e655ace9-eed7-4fc1-9328-921a723737fb",
   "metadata": {},
   "outputs": [
    {
     "name": "stderr",
     "output_type": "stream",
     "text": [
      "2025-08-18 20:14:54.273891: I tensorflow/core/platform/cpu_feature_guard.cc:142] This TensorFlow binary is optimized with oneAPI Deep Neural Network Library (oneDNN) to use the following CPU instructions in performance-critical operations:  SSE4.1 SSE4.2 AVX AVX2 AVX512F FMA\n",
      "To enable them in other operations, rebuild TensorFlow with the appropriate compiler flags.\n",
      "2025-08-18 20:14:56.468686: I tensorflow/core/common_runtime/gpu/gpu_device.cc:1510] Created device /job:localhost/replica:0/task:0/device:GPU:0 with 19276 MB memory:  -> device: 0, name: NVIDIA GeForce RTX 3090, pci bus id: 0000:31:00.0, compute capability: 8.6\n",
      "2025-08-18 20:14:56.469938: I tensorflow/core/common_runtime/gpu/gpu_device.cc:1510] Created device /job:localhost/replica:0/task:0/device:GPU:1 with 22350 MB memory:  -> device: 1, name: NVIDIA GeForce RTX 3090, pci bus id: 0000:4b:00.0, compute capability: 8.6\n",
      "2025-08-18 20:14:56.471082: I tensorflow/core/common_runtime/gpu/gpu_device.cc:1510] Created device /job:localhost/replica:0/task:0/device:GPU:2 with 21285 MB memory:  -> device: 2, name: NVIDIA GeForce RTX 3090, pci bus id: 0000:98:00.0, compute capability: 8.6\n",
      "2025-08-18 20:14:56.472041: I tensorflow/core/common_runtime/gpu/gpu_device.cc:1510] Created device /job:localhost/replica:0/task:0/device:GPU:3 with 21265 MB memory:  -> device: 3, name: NVIDIA GeForce RTX 3090, pci bus id: 0000:b1:00.0, compute capability: 8.6\n"
     ]
    }
   ],
   "source": [
    "ad_trainval = anndata.read_h5ad(f'{traindata_folder}/ad_trainval.h5ad')\n",
    "rna = anndata.read_h5ad(f'{path}/0_data/processed_data/m_brain_paired_rna.h5ad')\n",
    "zscore32_perpc = stats.zscore(np.array(rna.obsm['X_pca']), axis=0)\n",
    "rna.obsm['zscore32_perpc'] = zscore32_perpc\n",
    "with h5py.File(f'{traindata_folder}/splits.h5', 'r') as hf:\n",
    "    trainval_cellid = hf['trainval_cell'][:]\n",
    "rna_trainval = rna[trainval_cellid,:]\n",
    "assert ad_trainval.obs.index.equals(rna_trainval.obs.index), \"Indexes differ!\"\n",
    "ad_trainval.obsm['zscore32_perpc'] = rna_trainval.obsm['zscore32_perpc']\n",
    "ad_trainval.obs['pc32_leiden'] = rna_trainval.obs['pc32_leiden']\n",
    "model = xc.tr.XChrom_model(n_cells=ad_trainval.shape[0],show_summary=False)\n",
    "data = np.array(ad_trainval.obsm['zscore32_perpc'])\n",
    "data = np.expand_dims(data, axis=0)"
   ]
  },
  {
   "cell_type": "code",
   "execution_count": 8,
   "id": "dbd3ba45-fbb4-4453-9cee-910a03d44cb7",
   "metadata": {},
   "outputs": [
    {
     "name": "stdout",
     "output_type": "stream",
     "text": [
      "epoch  10\n"
     ]
    },
    {
     "name": "stderr",
     "output_type": "stream",
     "text": [
      "2025-07-01 21:07:45.990434: I tensorflow/compiler/mlir/mlir_graph_optimization_pass.cc:185] None of the MLIR Optimization Passes are enabled (registered 2)\n",
      "2025-07-01 21:07:58.023643: I tensorflow/stream_executor/cuda/cuda_dnn.cc:369] Loaded cuDNN version 8800\n",
      "2025-07-01 21:07:58.642721: I tensorflow/stream_executor/cuda/cuda_blas.cc:1760] TensorFloat-32 will be used for the matrix multiplication. This will only be logged once.\n"
     ]
    },
    {
     "name": "stdout",
     "output_type": "stream",
     "text": [
      "neighbor score(100)=0.4242,label score(100)=0.6858\n",
      "epoch  20\n",
      "neighbor score(100)=0.4636,label score(100)=0.7169\n",
      "epoch  30\n",
      "neighbor score(100)=0.4426,label score(100)=0.6883\n",
      "epoch  40\n",
      "neighbor score(100)=0.4484,label score(100)=0.6956\n",
      "epoch  50\n",
      "WARNING:tensorflow:5 out of the last 5 calls to <function Model.make_predict_function.<locals>.predict_function at 0x7f668785c1f0> triggered tf.function retracing. Tracing is expensive and the excessive number of tracings could be due to (1) creating @tf.function repeatedly in a loop, (2) passing tensors with different shapes, (3) passing Python objects instead of tensors. For (1), please define your @tf.function outside of the loop. For (2), @tf.function has experimental_relax_shapes=True option that relaxes argument shapes that can avoid unnecessary retracing. For (3), please refer to https://www.tensorflow.org/guide/function#controlling_retracing and https://www.tensorflow.org/api_docs/python/tf/function for  more details.\n",
      "neighbor score(100)=0.4629,label score(100)=0.7064\n",
      "epoch  60\n",
      "WARNING:tensorflow:6 out of the last 6 calls to <function Model.make_predict_function.<locals>.predict_function at 0x7f6689a0d040> triggered tf.function retracing. Tracing is expensive and the excessive number of tracings could be due to (1) creating @tf.function repeatedly in a loop, (2) passing tensors with different shapes, (3) passing Python objects instead of tensors. For (1), please define your @tf.function outside of the loop. For (2), @tf.function has experimental_relax_shapes=True option that relaxes argument shapes that can avoid unnecessary retracing. For (3), please refer to https://www.tensorflow.org/guide/function#controlling_retracing and https://www.tensorflow.org/api_docs/python/tf/function for  more details.\n",
      "neighbor score(100)=0.4530,label score(100)=0.7057\n",
      "epoch  70\n",
      "neighbor score(100)=0.4534,label score(100)=0.6955\n",
      "epoch  80\n",
      "neighbor score(100)=0.4585,label score(100)=0.7078\n",
      "epoch  90\n",
      "neighbor score(100)=0.4672,label score(100)=0.7165\n",
      "epoch  100\n",
      "neighbor score(100)=0.4654,label score(100)=0.7170\n",
      "epoch  110\n",
      "neighbor score(100)=0.4741,label score(100)=0.7233\n",
      "epoch  120\n",
      "neighbor score(100)=0.4774,label score(100)=0.7246\n",
      "epoch  130\n",
      "neighbor score(100)=0.4794,label score(100)=0.7237\n",
      "epoch  140\n",
      "neighbor score(100)=0.4901,label score(100)=0.7224\n",
      "epoch  150\n",
      "neighbor score(100)=0.4882,label score(100)=0.7205\n",
      "epoch  160\n",
      "neighbor score(100)=0.4934,label score(100)=0.7234\n",
      "epoch  170\n",
      "neighbor score(100)=0.4910,label score(100)=0.7232\n",
      "epoch  180\n",
      "neighbor score(100)=0.4932,label score(100)=0.7184\n",
      "epoch  190\n",
      "neighbor score(100)=0.5011,label score(100)=0.7243\n",
      "epoch  200\n",
      "neighbor score(100)=0.5012,label score(100)=0.7226\n",
      "epoch  210\n",
      "neighbor score(100)=0.5040,label score(100)=0.7242\n",
      "epoch  220\n",
      "neighbor score(100)=0.5050,label score(100)=0.7262\n",
      "epoch  230\n",
      "neighbor score(100)=0.5081,label score(100)=0.7317\n",
      "epoch  240\n",
      "neighbor score(100)=0.5095,label score(100)=0.7293\n",
      "epoch  250\n",
      "neighbor score(100)=0.5111,label score(100)=0.7321\n",
      "epoch  260\n",
      "neighbor score(100)=0.5102,label score(100)=0.7323\n",
      "epoch  270\n",
      "neighbor score(100)=0.5143,label score(100)=0.7341\n",
      "epoch  280\n",
      "neighbor score(100)=0.5121,label score(100)=0.7306\n",
      "epoch  290\n",
      "neighbor score(100)=0.5123,label score(100)=0.7324\n",
      "epoch  300\n",
      "neighbor score(100)=0.5140,label score(100)=0.7350\n",
      "epoch  310\n",
      "neighbor score(100)=0.5162,label score(100)=0.7358\n",
      "epoch  320\n",
      "neighbor score(100)=0.5118,label score(100)=0.7299\n",
      "epoch  330\n",
      "neighbor score(100)=0.5145,label score(100)=0.7338\n",
      "epoch  340\n",
      "neighbor score(100)=0.5144,label score(100)=0.7367\n",
      "epoch  350\n",
      "neighbor score(100)=0.5128,label score(100)=0.7340\n",
      "epoch  360\n",
      "neighbor score(100)=0.5124,label score(100)=0.7322\n",
      "epoch  370\n",
      "neighbor score(100)=0.5141,label score(100)=0.7331\n",
      "epoch  380\n",
      "neighbor score(100)=0.5165,label score(100)=0.7375\n",
      "epoch  390\n",
      "neighbor score(100)=0.5150,label score(100)=0.7356\n",
      "epoch  400\n",
      "neighbor score(100)=0.5156,label score(100)=0.7369\n",
      "epoch  410\n",
      "neighbor score(100)=0.5157,label score(100)=0.7353\n",
      "epoch  420\n",
      "neighbor score(100)=0.5145,label score(100)=0.7370\n",
      "epoch  430\n",
      "neighbor score(100)=0.5160,label score(100)=0.7374\n",
      "epoch  440\n",
      "neighbor score(100)=0.5135,label score(100)=0.7352\n",
      "epoch  450\n",
      "neighbor score(100)=0.5132,label score(100)=0.7329\n",
      "epoch  460\n",
      "neighbor score(100)=0.5158,label score(100)=0.7378\n",
      "epoch  470\n",
      "neighbor score(100)=0.5137,label score(100)=0.7346\n",
      "epoch  480\n",
      "neighbor score(100)=0.5159,label score(100)=0.7373\n",
      "epoch  490\n",
      "neighbor score(100)=0.5142,label score(100)=0.7355\n",
      "epoch  500\n",
      "neighbor score(100)=0.5155,label score(100)=0.7360\n",
      "epoch  510\n",
      "neighbor score(100)=0.5161,label score(100)=0.7362\n",
      "epoch  520\n",
      "neighbor score(100)=0.5165,label score(100)=0.7363\n",
      "epoch  530\n",
      "neighbor score(100)=0.5167,label score(100)=0.7374\n",
      "epoch  540\n",
      "neighbor score(100)=0.5187,label score(100)=0.7398\n",
      "epoch  550\n",
      "neighbor score(100)=0.5178,label score(100)=0.7384\n",
      "epoch  560\n",
      "neighbor score(100)=0.5186,label score(100)=0.7397\n",
      "epoch  570\n",
      "neighbor score(100)=0.5181,label score(100)=0.7385\n",
      "epoch  580\n",
      "neighbor score(100)=0.5204,label score(100)=0.7407\n",
      "epoch  590\n",
      "neighbor score(100)=0.5185,label score(100)=0.7376\n",
      "epoch  600\n",
      "neighbor score(100)=0.5194,label score(100)=0.7396\n",
      "epoch  610\n",
      "neighbor score(100)=0.5202,label score(100)=0.7415\n",
      "epoch  620\n",
      "neighbor score(100)=0.5205,label score(100)=0.7408\n",
      "epoch  630\n",
      "neighbor score(100)=0.5194,label score(100)=0.7400\n",
      "epoch  640\n",
      "neighbor score(100)=0.5200,label score(100)=0.7409\n",
      "epoch  650\n",
      "neighbor score(100)=0.5183,label score(100)=0.7389\n",
      "epoch  660\n",
      "neighbor score(100)=0.5212,label score(100)=0.7429\n",
      "epoch  670\n",
      "neighbor score(100)=0.5201,label score(100)=0.7413\n",
      "epoch  680\n",
      "neighbor score(100)=0.5211,label score(100)=0.7410\n",
      "epoch  690\n",
      "neighbor score(100)=0.5215,label score(100)=0.7420\n",
      "epoch  700\n",
      "neighbor score(100)=0.5217,label score(100)=0.7418\n",
      "epoch  710\n",
      "neighbor score(100)=0.5225,label score(100)=0.7430\n",
      "epoch  720\n",
      "neighbor score(100)=0.5224,label score(100)=0.7432\n",
      "epoch  730\n",
      "neighbor score(100)=0.5212,label score(100)=0.7422\n",
      "epoch  740\n",
      "neighbor score(100)=0.5225,label score(100)=0.7430\n",
      "epoch  750\n",
      "neighbor score(100)=0.5233,label score(100)=0.7434\n",
      "epoch  760\n",
      "neighbor score(100)=0.5206,label score(100)=0.7419\n",
      "epoch  770\n",
      "neighbor score(100)=0.5225,label score(100)=0.7429\n",
      "epoch  780\n",
      "neighbor score(100)=0.5232,label score(100)=0.7437\n",
      "epoch  790\n",
      "neighbor score(100)=0.5228,label score(100)=0.7438\n",
      "epoch  800\n",
      "neighbor score(100)=0.5218,label score(100)=0.7429\n",
      "epoch  810\n",
      "neighbor score(100)=0.5233,label score(100)=0.7433\n",
      "epoch  820\n",
      "neighbor score(100)=0.5229,label score(100)=0.7432\n",
      "epoch  830\n",
      "neighbor score(100)=0.5233,label score(100)=0.7430\n",
      "epoch  840\n",
      "neighbor score(100)=0.5238,label score(100)=0.7434\n",
      "epoch  850\n",
      "neighbor score(100)=0.5230,label score(100)=0.7431\n",
      "epoch  860\n",
      "neighbor score(100)=0.5243,label score(100)=0.7441\n",
      "epoch  870\n",
      "neighbor score(100)=0.5244,label score(100)=0.7440\n",
      "epoch  880\n",
      "neighbor score(100)=0.5252,label score(100)=0.7444\n",
      "epoch  890\n",
      "neighbor score(100)=0.5250,label score(100)=0.7441\n",
      "epoch  900\n",
      "neighbor score(100)=0.5252,label score(100)=0.7444\n",
      "epoch  910\n",
      "neighbor score(100)=0.5255,label score(100)=0.7446\n",
      "epoch  920\n",
      "neighbor score(100)=0.5246,label score(100)=0.7436\n",
      "epoch  930\n",
      "neighbor score(100)=0.5247,label score(100)=0.7444\n",
      "epoch  940\n",
      "neighbor score(100)=0.5255,label score(100)=0.7446\n",
      "epoch  950\n",
      "neighbor score(100)=0.5249,label score(100)=0.7446\n",
      "epoch  960\n",
      "neighbor score(100)=0.5255,label score(100)=0.7452\n",
      "epoch  970\n",
      "neighbor score(100)=0.5252,label score(100)=0.7443\n",
      "epoch  980\n",
      "neighbor score(100)=0.5247,label score(100)=0.7439\n",
      "epoch  990\n",
      "neighbor score(100)=0.5257,label score(100)=0.7452\n",
      "epoch  1000\n",
      "neighbor score(100)=0.5252,label score(100)=0.7451\n"
     ]
    }
   ],
   "source": [
    "neighbor_scores = []\n",
    "label_scores = []\n",
    "epochs = np.arange(10, 1001, 10)\n",
    "for i in epochs:\n",
    "    print('epoch ',i)\n",
    "    # model.build(input_shape=[(None, 21907), (None, 271, 64), (None, 271)])\n",
    "    model.load_weights(f'{path}/1_XChrom/0_model_train/train_out/epoch_model/epoch{i:03d}_crosscelltrain_peakembedWB.h5')\n",
    "    cell_input = model.input[1]\n",
    "    x2 = model.get_layer('final_cellembed').output\n",
    "    new_model = tf.keras.Model(inputs = cell_input,outputs = x2)\n",
    "    x2pred = new_model.predict(data)\n",
    "    x2pred = np.array(tf.squeeze(x2pred))\n",
    "    ad_trainval.obsm['x2pred']=x2pred\n",
    "    \n",
    "    ns,ls = xc.tl.calc_nsls_score(rna_trainval,ad_trainval,100,'pc32_leiden',use_rep_atac='x2pred')\n",
    "    print(f'neighbor score(100)={ns:.4f},label score(100)={ls:.4f}')\n",
    "    neighbor_scores.append(ns)\n",
    "    label_scores.append(ls)"
   ]
  },
  {
   "cell_type": "code",
   "execution_count": 11,
   "id": "bd1f207b-c34c-4cde-99e9-298c925ebee9",
   "metadata": {},
   "outputs": [
    {
     "data": {
      "image/png": "[encoded data removed]",
      "text/plain": [
       "<Figure size 1300x300 with 2 Axes>"
      ]
     },
     "metadata": {},
     "output_type": "display_data"
    }
   ],
   "source": [
    "data_arrays = [neighbor_scores, label_scores]\n",
    "for data in data_arrays:\n",
    "    assert len(data) == len(epochs), \"The data length does not match the number of epochs\"\n",
    "\n",
    "n_rows = 1\n",
    "n_cols = 2\n",
    "fig, axs = plt.subplots(n_rows, n_cols, figsize=(13, 3)) ##(width, height)\n",
    "labels = ['Neighbor Scores','Label Scores']\n",
    "for i, ax in enumerate(axs.flat):\n",
    "    if i < len(data_arrays):\n",
    "        ax.plot(epochs, data_arrays[i], marker='o', linestyle='-')\n",
    "        ax.set_title(labels[i])\n",
    "        ax.set_xlabel('Epoch')\n",
    "        ax.set_ylabel('Values')\n",
    "        ax.grid(True)\n",
    "    else:\n",
    "        ax.axis('off')  \n",
    "plt.tight_layout()\n",
    "plt.show()\n",
    "np.savetxt(f'{out_dir}/x2pred_ls100.csv',label_scores, delimiter=',', fmt='%.8f')\n",
    "np.savetxt(f'{out_dir}/x2pred_ns100.csv',neighbor_scores, delimiter=',', fmt='%.8f')"
   ]
  },
  {
   "cell_type": "code",
   "execution_count": null,
   "id": "89865b9d-160e-40d7-bf60-01331d017bfb",
   "metadata": {},
   "outputs": [],
   "source": []
  },
  {
   "cell_type": "markdown",
   "id": "d7ad4267-cc51-41df-ab03-207ddcb0e362",
   "metadata": {},
   "source": [
    "## Calculate the ns&ls metrics after XChrom denoising data"
   ]
  },
  {
   "cell_type": "code",
   "execution_count": 18,
   "id": "8760712b-4379-4ff4-8c83-9da699793cd6",
   "metadata": {},
   "outputs": [],
   "source": [
    "ad = anndata.read_h5ad(f'{traindata_folder}/ad.h5ad') \n",
    "rna = anndata.read_h5ad(f'{path}/0_data/processed_data/m_brain_paired_rna.h5ad')\n",
    "zscore32_perpc = stats.zscore(np.array(rna.obsm['X_pca']), axis=0)\n",
    "rna.obsm['zscore32_perpc'] = zscore32_perpc\n",
    "assert ad.obs.index.equals(rna.obs.index), \"Indexes differ!\"\n",
    "ad.obsm['zscore32_perpc'] = rna.obsm['zscore32_perpc']\n",
    "ad.obs['pc32_leiden'] = rna.obs['pc32_leiden']\n",
    "all_seq = f'{traindata_folder}/all_seqs.h5' "
   ]
  },
  {
   "cell_type": "code",
   "execution_count": 19,
   "id": "e1104100-c8b3-44e3-9dd2-04b3b1fa58b9",
   "metadata": {},
   "outputs": [
    {
     "name": "stdout",
     "output_type": "stream",
     "text": [
      "Converting adata.X to dense array. For large datasets, consider pre-computing and saving as sparse matrix.\n"
     ]
    }
   ],
   "source": [
    "gen1 = xc.tr.Generator(seq_path=all_seq, adata=ad,cell_input_key='zscore32_perpc')\n",
    "ds = gen1.create_dataset()\n",
    "model = xc.tr.XChrom_model(n_cells=ad.shape[0],show_summary=False)"
   ]
  },
  {
   "cell_type": "code",
   "execution_count": 17,
   "id": "6275231a-4a3f-4e7d-83a4-b4330540bc2d",
   "metadata": {
    "scrolled": true
   },
   "outputs": [
    {
     "name": "stdout",
     "output_type": "stream",
     "text": [
      "epoch  10\n"
     ]
    },
    {
     "name": "stderr",
     "output_type": "stream",
     "text": [
      "Numba: Attempted to fork from a non-main thread, the TBB library may be in an invalid state in the child process.\n",
      "Numba: Attempted to fork from a non-main thread, the TBB library may be in an invalid state in the child process.\n",
      "Numba: Attempted to fork from a non-main thread, the TBB library may be in an invalid state in the child process.\n"
     ]
    },
    {
     "name": "stdout",
     "output_type": "stream",
     "text": [
      "impute shape: (40313, 4878)\n"
     ]
    },
    {
     "name": "stderr",
     "output_type": "stream",
     "text": [
      "/home/miaoyuanyuan/miniconda3/envs/py3.8_tf2.6.0/lib/python3.8/site-packages/scanpy/preprocessing/_simple.py:842: UserWarning: Received a view of an AnnData. Making a copy.\n",
      "  view_to_actual(adata)\n"
     ]
    },
    {
     "name": "stdout",
     "output_type": "stream",
     "text": [
      "neighbor score(100)=0.2926,label score(100)=0.5961\n",
      "epoch  20\n",
      "impute shape: (40313, 4878)\n"
     ]
    },
    {
     "name": "stderr",
     "output_type": "stream",
     "text": [
      "/home/miaoyuanyuan/miniconda3/envs/py3.8_tf2.6.0/lib/python3.8/site-packages/scanpy/preprocessing/_simple.py:842: UserWarning: Received a view of an AnnData. Making a copy.\n",
      "  view_to_actual(adata)\n"
     ]
    },
    {
     "name": "stdout",
     "output_type": "stream",
     "text": [
      "neighbor score(100)=0.3467,label score(100)=0.6365\n",
      "epoch  30\n",
      "impute shape: (40313, 4878)\n"
     ]
    },
    {
     "name": "stderr",
     "output_type": "stream",
     "text": [
      "/home/miaoyuanyuan/miniconda3/envs/py3.8_tf2.6.0/lib/python3.8/site-packages/scanpy/preprocessing/_simple.py:842: UserWarning: Received a view of an AnnData. Making a copy.\n",
      "  view_to_actual(adata)\n"
     ]
    },
    {
     "name": "stdout",
     "output_type": "stream",
     "text": [
      "neighbor score(100)=0.3544,label score(100)=0.6447\n",
      "epoch  40\n",
      "impute shape: (40313, 4878)\n"
     ]
    },
    {
     "name": "stderr",
     "output_type": "stream",
     "text": [
      "/home/miaoyuanyuan/miniconda3/envs/py3.8_tf2.6.0/lib/python3.8/site-packages/scanpy/preprocessing/_simple.py:842: UserWarning: Received a view of an AnnData. Making a copy.\n",
      "  view_to_actual(adata)\n"
     ]
    },
    {
     "name": "stdout",
     "output_type": "stream",
     "text": [
      "neighbor score(100)=0.3658,label score(100)=0.6517\n",
      "epoch  50\n",
      "impute shape: (40313, 4878)\n"
     ]
    },
    {
     "name": "stderr",
     "output_type": "stream",
     "text": [
      "/home/miaoyuanyuan/miniconda3/envs/py3.8_tf2.6.0/lib/python3.8/site-packages/scanpy/preprocessing/_simple.py:842: UserWarning: Received a view of an AnnData. Making a copy.\n",
      "  view_to_actual(adata)\n"
     ]
    },
    {
     "name": "stdout",
     "output_type": "stream",
     "text": [
      "neighbor score(100)=0.3902,label score(100)=0.6614\n",
      "epoch  60\n",
      "impute shape: (40313, 4878)\n"
     ]
    },
    {
     "name": "stderr",
     "output_type": "stream",
     "text": [
      "/home/miaoyuanyuan/miniconda3/envs/py3.8_tf2.6.0/lib/python3.8/site-packages/scanpy/preprocessing/_simple.py:842: UserWarning: Received a view of an AnnData. Making a copy.\n",
      "  view_to_actual(adata)\n"
     ]
    },
    {
     "name": "stdout",
     "output_type": "stream",
     "text": [
      "neighbor score(100)=0.3882,label score(100)=0.6723\n",
      "epoch  70\n",
      "impute shape: (40313, 4878)\n"
     ]
    },
    {
     "name": "stderr",
     "output_type": "stream",
     "text": [
      "/home/miaoyuanyuan/miniconda3/envs/py3.8_tf2.6.0/lib/python3.8/site-packages/scanpy/preprocessing/_simple.py:842: UserWarning: Received a view of an AnnData. Making a copy.\n",
      "  view_to_actual(adata)\n"
     ]
    },
    {
     "name": "stdout",
     "output_type": "stream",
     "text": [
      "neighbor score(100)=0.3915,label score(100)=0.6639\n",
      "epoch  80\n",
      "impute shape: (40313, 4878)\n"
     ]
    },
    {
     "name": "stderr",
     "output_type": "stream",
     "text": [
      "/home/miaoyuanyuan/miniconda3/envs/py3.8_tf2.6.0/lib/python3.8/site-packages/scanpy/preprocessing/_simple.py:842: UserWarning: Received a view of an AnnData. Making a copy.\n",
      "  view_to_actual(adata)\n"
     ]
    },
    {
     "name": "stdout",
     "output_type": "stream",
     "text": [
      "neighbor score(100)=0.3988,label score(100)=0.6721\n",
      "epoch  90\n",
      "impute shape: (40313, 4878)\n"
     ]
    },
    {
     "name": "stderr",
     "output_type": "stream",
     "text": [
      "/home/miaoyuanyuan/miniconda3/envs/py3.8_tf2.6.0/lib/python3.8/site-packages/scanpy/preprocessing/_simple.py:842: UserWarning: Received a view of an AnnData. Making a copy.\n",
      "  view_to_actual(adata)\n"
     ]
    },
    {
     "name": "stdout",
     "output_type": "stream",
     "text": [
      "neighbor score(100)=0.4078,label score(100)=0.6876\n",
      "epoch  100\n",
      "impute shape: (40313, 4878)\n"
     ]
    },
    {
     "name": "stderr",
     "output_type": "stream",
     "text": [
      "/home/miaoyuanyuan/miniconda3/envs/py3.8_tf2.6.0/lib/python3.8/site-packages/scanpy/preprocessing/_simple.py:842: UserWarning: Received a view of an AnnData. Making a copy.\n",
      "  view_to_actual(adata)\n"
     ]
    },
    {
     "name": "stdout",
     "output_type": "stream",
     "text": [
      "neighbor score(100)=0.4161,label score(100)=0.6962\n",
      "epoch  110\n",
      "impute shape: (40313, 4878)\n"
     ]
    },
    {
     "name": "stderr",
     "output_type": "stream",
     "text": [
      "/home/miaoyuanyuan/miniconda3/envs/py3.8_tf2.6.0/lib/python3.8/site-packages/scanpy/preprocessing/_simple.py:842: UserWarning: Received a view of an AnnData. Making a copy.\n",
      "  view_to_actual(adata)\n"
     ]
    },
    {
     "name": "stdout",
     "output_type": "stream",
     "text": [
      "neighbor score(100)=0.4332,label score(100)=0.7088\n",
      "epoch  120\n",
      "impute shape: (40313, 4878)\n"
     ]
    },
    {
     "name": "stderr",
     "output_type": "stream",
     "text": [
      "/home/miaoyuanyuan/miniconda3/envs/py3.8_tf2.6.0/lib/python3.8/site-packages/scanpy/preprocessing/_simple.py:842: UserWarning: Received a view of an AnnData. Making a copy.\n",
      "  view_to_actual(adata)\n"
     ]
    },
    {
     "name": "stdout",
     "output_type": "stream",
     "text": [
      "neighbor score(100)=0.4356,label score(100)=0.7094\n",
      "epoch  130\n",
      "impute shape: (40313, 4878)\n"
     ]
    },
    {
     "name": "stderr",
     "output_type": "stream",
     "text": [
      "/home/miaoyuanyuan/miniconda3/envs/py3.8_tf2.6.0/lib/python3.8/site-packages/scanpy/preprocessing/_simple.py:842: UserWarning: Received a view of an AnnData. Making a copy.\n",
      "  view_to_actual(adata)\n"
     ]
    },
    {
     "name": "stdout",
     "output_type": "stream",
     "text": [
      "neighbor score(100)=0.4304,label score(100)=0.7022\n",
      "epoch  140\n",
      "impute shape: (40313, 4878)\n"
     ]
    },
    {
     "name": "stderr",
     "output_type": "stream",
     "text": [
      "/home/miaoyuanyuan/miniconda3/envs/py3.8_tf2.6.0/lib/python3.8/site-packages/scanpy/preprocessing/_simple.py:842: UserWarning: Received a view of an AnnData. Making a copy.\n",
      "  view_to_actual(adata)\n"
     ]
    },
    {
     "name": "stdout",
     "output_type": "stream",
     "text": [
      "neighbor score(100)=0.4526,label score(100)=0.7108\n",
      "epoch  150\n",
      "impute shape: (40313, 4878)\n"
     ]
    },
    {
     "name": "stderr",
     "output_type": "stream",
     "text": [
      "/home/miaoyuanyuan/miniconda3/envs/py3.8_tf2.6.0/lib/python3.8/site-packages/scanpy/preprocessing/_simple.py:842: UserWarning: Received a view of an AnnData. Making a copy.\n",
      "  view_to_actual(adata)\n"
     ]
    },
    {
     "name": "stdout",
     "output_type": "stream",
     "text": [
      "neighbor score(100)=0.4519,label score(100)=0.7102\n",
      "epoch  160\n",
      "impute shape: (40313, 4878)\n"
     ]
    },
    {
     "name": "stderr",
     "output_type": "stream",
     "text": [
      "/home/miaoyuanyuan/miniconda3/envs/py3.8_tf2.6.0/lib/python3.8/site-packages/scanpy/preprocessing/_simple.py:842: UserWarning: Received a view of an AnnData. Making a copy.\n",
      "  view_to_actual(adata)\n"
     ]
    },
    {
     "name": "stdout",
     "output_type": "stream",
     "text": [
      "neighbor score(100)=0.4594,label score(100)=0.7189\n",
      "epoch  170\n",
      "impute shape: (40313, 4878)\n"
     ]
    },
    {
     "name": "stderr",
     "output_type": "stream",
     "text": [
      "/home/miaoyuanyuan/miniconda3/envs/py3.8_tf2.6.0/lib/python3.8/site-packages/scanpy/preprocessing/_simple.py:842: UserWarning: Received a view of an AnnData. Making a copy.\n",
      "  view_to_actual(adata)\n"
     ]
    },
    {
     "name": "stdout",
     "output_type": "stream",
     "text": [
      "neighbor score(100)=0.4572,label score(100)=0.7198\n",
      "epoch  180\n",
      "impute shape: (40313, 4878)\n"
     ]
    },
    {
     "name": "stderr",
     "output_type": "stream",
     "text": [
      "/home/miaoyuanyuan/miniconda3/envs/py3.8_tf2.6.0/lib/python3.8/site-packages/scanpy/preprocessing/_simple.py:842: UserWarning: Received a view of an AnnData. Making a copy.\n",
      "  view_to_actual(adata)\n"
     ]
    },
    {
     "name": "stdout",
     "output_type": "stream",
     "text": [
      "neighbor score(100)=0.4582,label score(100)=0.7135\n",
      "epoch  190\n",
      "impute shape: (40313, 4878)\n"
     ]
    },
    {
     "name": "stderr",
     "output_type": "stream",
     "text": [
      "/home/miaoyuanyuan/miniconda3/envs/py3.8_tf2.6.0/lib/python3.8/site-packages/scanpy/preprocessing/_simple.py:842: UserWarning: Received a view of an AnnData. Making a copy.\n",
      "  view_to_actual(adata)\n"
     ]
    },
    {
     "name": "stdout",
     "output_type": "stream",
     "text": [
      "neighbor score(100)=0.4644,label score(100)=0.7147\n",
      "epoch  200\n",
      "impute shape: (40313, 4878)\n"
     ]
    },
    {
     "name": "stderr",
     "output_type": "stream",
     "text": [
      "/home/miaoyuanyuan/miniconda3/envs/py3.8_tf2.6.0/lib/python3.8/site-packages/scanpy/preprocessing/_simple.py:842: UserWarning: Received a view of an AnnData. Making a copy.\n",
      "  view_to_actual(adata)\n"
     ]
    },
    {
     "name": "stdout",
     "output_type": "stream",
     "text": [
      "neighbor score(100)=0.4727,label score(100)=0.7207\n",
      "epoch  210\n",
      "impute shape: (40313, 4878)\n"
     ]
    },
    {
     "name": "stderr",
     "output_type": "stream",
     "text": [
      "/home/miaoyuanyuan/miniconda3/envs/py3.8_tf2.6.0/lib/python3.8/site-packages/scanpy/preprocessing/_simple.py:842: UserWarning: Received a view of an AnnData. Making a copy.\n",
      "  view_to_actual(adata)\n"
     ]
    },
    {
     "name": "stdout",
     "output_type": "stream",
     "text": [
      "neighbor score(100)=0.4749,label score(100)=0.7217\n",
      "epoch  220\n",
      "impute shape: (40313, 4878)\n"
     ]
    },
    {
     "name": "stderr",
     "output_type": "stream",
     "text": [
      "/home/miaoyuanyuan/miniconda3/envs/py3.8_tf2.6.0/lib/python3.8/site-packages/scanpy/preprocessing/_simple.py:842: UserWarning: Received a view of an AnnData. Making a copy.\n",
      "  view_to_actual(adata)\n"
     ]
    },
    {
     "name": "stdout",
     "output_type": "stream",
     "text": [
      "neighbor score(100)=0.4703,label score(100)=0.7160\n",
      "epoch  230\n",
      "impute shape: (40313, 4878)\n"
     ]
    },
    {
     "name": "stderr",
     "output_type": "stream",
     "text": [
      "/home/miaoyuanyuan/miniconda3/envs/py3.8_tf2.6.0/lib/python3.8/site-packages/scanpy/preprocessing/_simple.py:842: UserWarning: Received a view of an AnnData. Making a copy.\n",
      "  view_to_actual(adata)\n"
     ]
    },
    {
     "name": "stdout",
     "output_type": "stream",
     "text": [
      "neighbor score(100)=0.4748,label score(100)=0.7228\n",
      "epoch  240\n",
      "impute shape: (40313, 4878)\n"
     ]
    },
    {
     "name": "stderr",
     "output_type": "stream",
     "text": [
      "/home/miaoyuanyuan/miniconda3/envs/py3.8_tf2.6.0/lib/python3.8/site-packages/scanpy/preprocessing/_simple.py:842: UserWarning: Received a view of an AnnData. Making a copy.\n",
      "  view_to_actual(adata)\n"
     ]
    },
    {
     "name": "stdout",
     "output_type": "stream",
     "text": [
      "neighbor score(100)=0.4820,label score(100)=0.7276\n",
      "epoch  250\n",
      "impute shape: (40313, 4878)\n"
     ]
    },
    {
     "name": "stderr",
     "output_type": "stream",
     "text": [
      "/home/miaoyuanyuan/miniconda3/envs/py3.8_tf2.6.0/lib/python3.8/site-packages/scanpy/preprocessing/_simple.py:842: UserWarning: Received a view of an AnnData. Making a copy.\n",
      "  view_to_actual(adata)\n"
     ]
    },
    {
     "name": "stdout",
     "output_type": "stream",
     "text": [
      "neighbor score(100)=0.4862,label score(100)=0.7327\n",
      "epoch  260\n",
      "impute shape: (40313, 4878)\n"
     ]
    },
    {
     "name": "stderr",
     "output_type": "stream",
     "text": [
      "/home/miaoyuanyuan/miniconda3/envs/py3.8_tf2.6.0/lib/python3.8/site-packages/scanpy/preprocessing/_simple.py:842: UserWarning: Received a view of an AnnData. Making a copy.\n",
      "  view_to_actual(adata)\n"
     ]
    },
    {
     "name": "stdout",
     "output_type": "stream",
     "text": [
      "neighbor score(100)=0.4886,label score(100)=0.7360\n",
      "epoch  270\n",
      "impute shape: (40313, 4878)\n"
     ]
    },
    {
     "name": "stderr",
     "output_type": "stream",
     "text": [
      "/home/miaoyuanyuan/miniconda3/envs/py3.8_tf2.6.0/lib/python3.8/site-packages/scanpy/preprocessing/_simple.py:842: UserWarning: Received a view of an AnnData. Making a copy.\n",
      "  view_to_actual(adata)\n"
     ]
    },
    {
     "name": "stdout",
     "output_type": "stream",
     "text": [
      "neighbor score(100)=0.4910,label score(100)=0.7375\n",
      "epoch  280\n",
      "impute shape: (40313, 4878)\n"
     ]
    },
    {
     "name": "stderr",
     "output_type": "stream",
     "text": [
      "/home/miaoyuanyuan/miniconda3/envs/py3.8_tf2.6.0/lib/python3.8/site-packages/scanpy/preprocessing/_simple.py:842: UserWarning: Received a view of an AnnData. Making a copy.\n",
      "  view_to_actual(adata)\n"
     ]
    },
    {
     "name": "stdout",
     "output_type": "stream",
     "text": [
      "neighbor score(100)=0.4898,label score(100)=0.7332\n",
      "epoch  290\n",
      "impute shape: (40313, 4878)\n"
     ]
    },
    {
     "name": "stderr",
     "output_type": "stream",
     "text": [
      "/home/miaoyuanyuan/miniconda3/envs/py3.8_tf2.6.0/lib/python3.8/site-packages/scanpy/preprocessing/_simple.py:842: UserWarning: Received a view of an AnnData. Making a copy.\n",
      "  view_to_actual(adata)\n"
     ]
    },
    {
     "name": "stdout",
     "output_type": "stream",
     "text": [
      "neighbor score(100)=0.4953,label score(100)=0.7379\n",
      "epoch  300\n",
      "impute shape: (40313, 4878)\n"
     ]
    },
    {
     "name": "stderr",
     "output_type": "stream",
     "text": [
      "/home/miaoyuanyuan/miniconda3/envs/py3.8_tf2.6.0/lib/python3.8/site-packages/scanpy/preprocessing/_simple.py:842: UserWarning: Received a view of an AnnData. Making a copy.\n",
      "  view_to_actual(adata)\n"
     ]
    },
    {
     "name": "stdout",
     "output_type": "stream",
     "text": [
      "neighbor score(100)=0.4986,label score(100)=0.7439\n",
      "epoch  310\n",
      "impute shape: (40313, 4878)\n"
     ]
    },
    {
     "name": "stderr",
     "output_type": "stream",
     "text": [
      "/home/miaoyuanyuan/miniconda3/envs/py3.8_tf2.6.0/lib/python3.8/site-packages/scanpy/preprocessing/_simple.py:842: UserWarning: Received a view of an AnnData. Making a copy.\n",
      "  view_to_actual(adata)\n"
     ]
    },
    {
     "name": "stdout",
     "output_type": "stream",
     "text": [
      "neighbor score(100)=0.5019,label score(100)=0.7443\n",
      "epoch  320\n",
      "impute shape: (40313, 4878)\n"
     ]
    },
    {
     "name": "stderr",
     "output_type": "stream",
     "text": [
      "/home/miaoyuanyuan/miniconda3/envs/py3.8_tf2.6.0/lib/python3.8/site-packages/scanpy/preprocessing/_simple.py:842: UserWarning: Received a view of an AnnData. Making a copy.\n",
      "  view_to_actual(adata)\n"
     ]
    },
    {
     "name": "stdout",
     "output_type": "stream",
     "text": [
      "neighbor score(100)=0.4991,label score(100)=0.7411\n",
      "epoch  330\n",
      "impute shape: (40313, 4878)\n"
     ]
    },
    {
     "name": "stderr",
     "output_type": "stream",
     "text": [
      "/home/miaoyuanyuan/miniconda3/envs/py3.8_tf2.6.0/lib/python3.8/site-packages/scanpy/preprocessing/_simple.py:842: UserWarning: Received a view of an AnnData. Making a copy.\n",
      "  view_to_actual(adata)\n"
     ]
    },
    {
     "name": "stdout",
     "output_type": "stream",
     "text": [
      "neighbor score(100)=0.4996,label score(100)=0.7404\n",
      "epoch  340\n",
      "impute shape: (40313, 4878)\n"
     ]
    },
    {
     "name": "stderr",
     "output_type": "stream",
     "text": [
      "/home/miaoyuanyuan/miniconda3/envs/py3.8_tf2.6.0/lib/python3.8/site-packages/scanpy/preprocessing/_simple.py:842: UserWarning: Received a view of an AnnData. Making a copy.\n",
      "  view_to_actual(adata)\n"
     ]
    },
    {
     "name": "stdout",
     "output_type": "stream",
     "text": [
      "neighbor score(100)=0.4977,label score(100)=0.7433\n",
      "epoch  350\n",
      "impute shape: (40313, 4878)\n"
     ]
    },
    {
     "name": "stderr",
     "output_type": "stream",
     "text": [
      "/home/miaoyuanyuan/miniconda3/envs/py3.8_tf2.6.0/lib/python3.8/site-packages/scanpy/preprocessing/_simple.py:842: UserWarning: Received a view of an AnnData. Making a copy.\n",
      "  view_to_actual(adata)\n"
     ]
    },
    {
     "name": "stdout",
     "output_type": "stream",
     "text": [
      "neighbor score(100)=0.4977,label score(100)=0.7416\n",
      "epoch  360\n",
      "impute shape: (40313, 4878)\n"
     ]
    },
    {
     "name": "stderr",
     "output_type": "stream",
     "text": [
      "/home/miaoyuanyuan/miniconda3/envs/py3.8_tf2.6.0/lib/python3.8/site-packages/scanpy/preprocessing/_simple.py:842: UserWarning: Received a view of an AnnData. Making a copy.\n",
      "  view_to_actual(adata)\n"
     ]
    },
    {
     "name": "stdout",
     "output_type": "stream",
     "text": [
      "neighbor score(100)=0.4985,label score(100)=0.7407\n",
      "epoch  370\n",
      "impute shape: (40313, 4878)\n"
     ]
    },
    {
     "name": "stderr",
     "output_type": "stream",
     "text": [
      "/home/miaoyuanyuan/miniconda3/envs/py3.8_tf2.6.0/lib/python3.8/site-packages/scanpy/preprocessing/_simple.py:842: UserWarning: Received a view of an AnnData. Making a copy.\n",
      "  view_to_actual(adata)\n"
     ]
    },
    {
     "name": "stdout",
     "output_type": "stream",
     "text": [
      "neighbor score(100)=0.5021,label score(100)=0.7432\n",
      "epoch  380\n",
      "impute shape: (40313, 4878)\n"
     ]
    },
    {
     "name": "stderr",
     "output_type": "stream",
     "text": [
      "/home/miaoyuanyuan/miniconda3/envs/py3.8_tf2.6.0/lib/python3.8/site-packages/scanpy/preprocessing/_simple.py:842: UserWarning: Received a view of an AnnData. Making a copy.\n",
      "  view_to_actual(adata)\n"
     ]
    },
    {
     "name": "stdout",
     "output_type": "stream",
     "text": [
      "neighbor score(100)=0.5030,label score(100)=0.7472\n",
      "epoch  390\n",
      "impute shape: (40313, 4878)\n"
     ]
    },
    {
     "name": "stderr",
     "output_type": "stream",
     "text": [
      "/home/miaoyuanyuan/miniconda3/envs/py3.8_tf2.6.0/lib/python3.8/site-packages/scanpy/preprocessing/_simple.py:842: UserWarning: Received a view of an AnnData. Making a copy.\n",
      "  view_to_actual(adata)\n"
     ]
    },
    {
     "name": "stdout",
     "output_type": "stream",
     "text": [
      "neighbor score(100)=0.5024,label score(100)=0.7451\n",
      "epoch  400\n",
      "impute shape: (40313, 4878)\n"
     ]
    },
    {
     "name": "stderr",
     "output_type": "stream",
     "text": [
      "/home/miaoyuanyuan/miniconda3/envs/py3.8_tf2.6.0/lib/python3.8/site-packages/scanpy/preprocessing/_simple.py:842: UserWarning: Received a view of an AnnData. Making a copy.\n",
      "  view_to_actual(adata)\n"
     ]
    },
    {
     "name": "stdout",
     "output_type": "stream",
     "text": [
      "neighbor score(100)=0.5055,label score(100)=0.7484\n",
      "epoch  410\n",
      "impute shape: (40313, 4878)\n"
     ]
    },
    {
     "name": "stderr",
     "output_type": "stream",
     "text": [
      "/home/miaoyuanyuan/miniconda3/envs/py3.8_tf2.6.0/lib/python3.8/site-packages/scanpy/preprocessing/_simple.py:842: UserWarning: Received a view of an AnnData. Making a copy.\n",
      "  view_to_actual(adata)\n"
     ]
    },
    {
     "name": "stdout",
     "output_type": "stream",
     "text": [
      "neighbor score(100)=0.5061,label score(100)=0.7475\n",
      "epoch  420\n",
      "impute shape: (40313, 4878)\n"
     ]
    },
    {
     "name": "stderr",
     "output_type": "stream",
     "text": [
      "/home/miaoyuanyuan/miniconda3/envs/py3.8_tf2.6.0/lib/python3.8/site-packages/scanpy/preprocessing/_simple.py:842: UserWarning: Received a view of an AnnData. Making a copy.\n",
      "  view_to_actual(adata)\n"
     ]
    },
    {
     "name": "stdout",
     "output_type": "stream",
     "text": [
      "neighbor score(100)=0.5067,label score(100)=0.7490\n",
      "epoch  430\n",
      "impute shape: (40313, 4878)\n"
     ]
    },
    {
     "name": "stderr",
     "output_type": "stream",
     "text": [
      "/home/miaoyuanyuan/miniconda3/envs/py3.8_tf2.6.0/lib/python3.8/site-packages/scanpy/preprocessing/_simple.py:842: UserWarning: Received a view of an AnnData. Making a copy.\n",
      "  view_to_actual(adata)\n"
     ]
    },
    {
     "name": "stdout",
     "output_type": "stream",
     "text": [
      "neighbor score(100)=0.5069,label score(100)=0.7491\n",
      "epoch  440\n",
      "impute shape: (40313, 4878)\n"
     ]
    },
    {
     "name": "stderr",
     "output_type": "stream",
     "text": [
      "/home/miaoyuanyuan/miniconda3/envs/py3.8_tf2.6.0/lib/python3.8/site-packages/scanpy/preprocessing/_simple.py:842: UserWarning: Received a view of an AnnData. Making a copy.\n",
      "  view_to_actual(adata)\n"
     ]
    },
    {
     "name": "stdout",
     "output_type": "stream",
     "text": [
      "neighbor score(100)=0.5069,label score(100)=0.7496\n",
      "epoch  450\n",
      "impute shape: (40313, 4878)\n"
     ]
    },
    {
     "name": "stderr",
     "output_type": "stream",
     "text": [
      "/home/miaoyuanyuan/miniconda3/envs/py3.8_tf2.6.0/lib/python3.8/site-packages/scanpy/preprocessing/_simple.py:842: UserWarning: Received a view of an AnnData. Making a copy.\n",
      "  view_to_actual(adata)\n"
     ]
    },
    {
     "name": "stdout",
     "output_type": "stream",
     "text": [
      "neighbor score(100)=0.5036,label score(100)=0.7452\n",
      "epoch  460\n",
      "impute shape: (40313, 4878)\n"
     ]
    },
    {
     "name": "stderr",
     "output_type": "stream",
     "text": [
      "/home/miaoyuanyuan/miniconda3/envs/py3.8_tf2.6.0/lib/python3.8/site-packages/scanpy/preprocessing/_simple.py:842: UserWarning: Received a view of an AnnData. Making a copy.\n",
      "  view_to_actual(adata)\n"
     ]
    },
    {
     "name": "stdout",
     "output_type": "stream",
     "text": [
      "neighbor score(100)=0.5085,label score(100)=0.7518\n",
      "epoch  470\n",
      "impute shape: (40313, 4878)\n"
     ]
    },
    {
     "name": "stderr",
     "output_type": "stream",
     "text": [
      "/home/miaoyuanyuan/miniconda3/envs/py3.8_tf2.6.0/lib/python3.8/site-packages/scanpy/preprocessing/_simple.py:842: UserWarning: Received a view of an AnnData. Making a copy.\n",
      "  view_to_actual(adata)\n"
     ]
    },
    {
     "name": "stdout",
     "output_type": "stream",
     "text": [
      "neighbor score(100)=0.5042,label score(100)=0.7455\n",
      "epoch  480\n",
      "impute shape: (40313, 4878)\n"
     ]
    },
    {
     "name": "stderr",
     "output_type": "stream",
     "text": [
      "/home/miaoyuanyuan/miniconda3/envs/py3.8_tf2.6.0/lib/python3.8/site-packages/scanpy/preprocessing/_simple.py:842: UserWarning: Received a view of an AnnData. Making a copy.\n",
      "  view_to_actual(adata)\n"
     ]
    },
    {
     "name": "stdout",
     "output_type": "stream",
     "text": [
      "neighbor score(100)=0.5077,label score(100)=0.7498\n",
      "epoch  490\n",
      "impute shape: (40313, 4878)\n"
     ]
    },
    {
     "name": "stderr",
     "output_type": "stream",
     "text": [
      "/home/miaoyuanyuan/miniconda3/envs/py3.8_tf2.6.0/lib/python3.8/site-packages/scanpy/preprocessing/_simple.py:842: UserWarning: Received a view of an AnnData. Making a copy.\n",
      "  view_to_actual(adata)\n"
     ]
    },
    {
     "name": "stdout",
     "output_type": "stream",
     "text": [
      "neighbor score(100)=0.5056,label score(100)=0.7489\n",
      "epoch  500\n",
      "impute shape: (40313, 4878)\n"
     ]
    },
    {
     "name": "stderr",
     "output_type": "stream",
     "text": [
      "/home/miaoyuanyuan/miniconda3/envs/py3.8_tf2.6.0/lib/python3.8/site-packages/scanpy/preprocessing/_simple.py:842: UserWarning: Received a view of an AnnData. Making a copy.\n",
      "  view_to_actual(adata)\n"
     ]
    },
    {
     "name": "stdout",
     "output_type": "stream",
     "text": [
      "neighbor score(100)=0.5060,label score(100)=0.7479\n",
      "epoch  510\n",
      "impute shape: (40313, 4878)\n"
     ]
    },
    {
     "name": "stderr",
     "output_type": "stream",
     "text": [
      "/home/miaoyuanyuan/miniconda3/envs/py3.8_tf2.6.0/lib/python3.8/site-packages/scanpy/preprocessing/_simple.py:842: UserWarning: Received a view of an AnnData. Making a copy.\n",
      "  view_to_actual(adata)\n"
     ]
    },
    {
     "name": "stdout",
     "output_type": "stream",
     "text": [
      "neighbor score(100)=0.5061,label score(100)=0.7472\n",
      "epoch  520\n",
      "impute shape: (40313, 4878)\n"
     ]
    },
    {
     "name": "stderr",
     "output_type": "stream",
     "text": [
      "/home/miaoyuanyuan/miniconda3/envs/py3.8_tf2.6.0/lib/python3.8/site-packages/scanpy/preprocessing/_simple.py:842: UserWarning: Received a view of an AnnData. Making a copy.\n",
      "  view_to_actual(adata)\n"
     ]
    },
    {
     "name": "stdout",
     "output_type": "stream",
     "text": [
      "neighbor score(100)=0.5063,label score(100)=0.7462\n",
      "epoch  530\n",
      "impute shape: (40313, 4878)\n"
     ]
    },
    {
     "name": "stderr",
     "output_type": "stream",
     "text": [
      "/home/miaoyuanyuan/miniconda3/envs/py3.8_tf2.6.0/lib/python3.8/site-packages/scanpy/preprocessing/_simple.py:842: UserWarning: Received a view of an AnnData. Making a copy.\n",
      "  view_to_actual(adata)\n"
     ]
    },
    {
     "name": "stdout",
     "output_type": "stream",
     "text": [
      "neighbor score(100)=0.5087,label score(100)=0.7510\n",
      "epoch  540\n",
      "impute shape: (40313, 4878)\n"
     ]
    },
    {
     "name": "stderr",
     "output_type": "stream",
     "text": [
      "/home/miaoyuanyuan/miniconda3/envs/py3.8_tf2.6.0/lib/python3.8/site-packages/scanpy/preprocessing/_simple.py:842: UserWarning: Received a view of an AnnData. Making a copy.\n",
      "  view_to_actual(adata)\n"
     ]
    },
    {
     "name": "stdout",
     "output_type": "stream",
     "text": [
      "neighbor score(100)=0.5116,label score(100)=0.7523\n",
      "epoch  550\n",
      "impute shape: (40313, 4878)\n"
     ]
    },
    {
     "name": "stderr",
     "output_type": "stream",
     "text": [
      "/home/miaoyuanyuan/miniconda3/envs/py3.8_tf2.6.0/lib/python3.8/site-packages/scanpy/preprocessing/_simple.py:842: UserWarning: Received a view of an AnnData. Making a copy.\n",
      "  view_to_actual(adata)\n"
     ]
    },
    {
     "name": "stdout",
     "output_type": "stream",
     "text": [
      "neighbor score(100)=0.5091,label score(100)=0.7507\n",
      "epoch  560\n",
      "impute shape: (40313, 4878)\n"
     ]
    },
    {
     "name": "stderr",
     "output_type": "stream",
     "text": [
      "/home/miaoyuanyuan/miniconda3/envs/py3.8_tf2.6.0/lib/python3.8/site-packages/scanpy/preprocessing/_simple.py:842: UserWarning: Received a view of an AnnData. Making a copy.\n",
      "  view_to_actual(adata)\n"
     ]
    },
    {
     "name": "stdout",
     "output_type": "stream",
     "text": [
      "neighbor score(100)=0.5097,label score(100)=0.7505\n",
      "epoch  570\n",
      "impute shape: (40313, 4878)\n"
     ]
    },
    {
     "name": "stderr",
     "output_type": "stream",
     "text": [
      "/home/miaoyuanyuan/miniconda3/envs/py3.8_tf2.6.0/lib/python3.8/site-packages/scanpy/preprocessing/_simple.py:842: UserWarning: Received a view of an AnnData. Making a copy.\n",
      "  view_to_actual(adata)\n"
     ]
    },
    {
     "name": "stdout",
     "output_type": "stream",
     "text": [
      "neighbor score(100)=0.5094,label score(100)=0.7506\n",
      "epoch  580\n",
      "impute shape: (40313, 4878)\n"
     ]
    },
    {
     "name": "stderr",
     "output_type": "stream",
     "text": [
      "/home/miaoyuanyuan/miniconda3/envs/py3.8_tf2.6.0/lib/python3.8/site-packages/scanpy/preprocessing/_simple.py:842: UserWarning: Received a view of an AnnData. Making a copy.\n",
      "  view_to_actual(adata)\n"
     ]
    },
    {
     "name": "stdout",
     "output_type": "stream",
     "text": [
      "neighbor score(100)=0.5106,label score(100)=0.7516\n",
      "epoch  590\n",
      "impute shape: (40313, 4878)\n"
     ]
    },
    {
     "name": "stderr",
     "output_type": "stream",
     "text": [
      "/home/miaoyuanyuan/miniconda3/envs/py3.8_tf2.6.0/lib/python3.8/site-packages/scanpy/preprocessing/_simple.py:842: UserWarning: Received a view of an AnnData. Making a copy.\n",
      "  view_to_actual(adata)\n"
     ]
    },
    {
     "name": "stdout",
     "output_type": "stream",
     "text": [
      "neighbor score(100)=0.5111,label score(100)=0.7505\n",
      "epoch  600\n",
      "impute shape: (40313, 4878)\n"
     ]
    },
    {
     "name": "stderr",
     "output_type": "stream",
     "text": [
      "/home/miaoyuanyuan/miniconda3/envs/py3.8_tf2.6.0/lib/python3.8/site-packages/scanpy/preprocessing/_simple.py:842: UserWarning: Received a view of an AnnData. Making a copy.\n",
      "  view_to_actual(adata)\n"
     ]
    },
    {
     "name": "stdout",
     "output_type": "stream",
     "text": [
      "neighbor score(100)=0.5092,label score(100)=0.7491\n",
      "epoch  610\n",
      "impute shape: (40313, 4878)\n"
     ]
    },
    {
     "name": "stderr",
     "output_type": "stream",
     "text": [
      "/home/miaoyuanyuan/miniconda3/envs/py3.8_tf2.6.0/lib/python3.8/site-packages/scanpy/preprocessing/_simple.py:842: UserWarning: Received a view of an AnnData. Making a copy.\n",
      "  view_to_actual(adata)\n"
     ]
    },
    {
     "name": "stdout",
     "output_type": "stream",
     "text": [
      "neighbor score(100)=0.5088,label score(100)=0.7515\n",
      "epoch  620\n",
      "impute shape: (40313, 4878)\n"
     ]
    },
    {
     "name": "stderr",
     "output_type": "stream",
     "text": [
      "/home/miaoyuanyuan/miniconda3/envs/py3.8_tf2.6.0/lib/python3.8/site-packages/scanpy/preprocessing/_simple.py:842: UserWarning: Received a view of an AnnData. Making a copy.\n",
      "  view_to_actual(adata)\n"
     ]
    },
    {
     "name": "stdout",
     "output_type": "stream",
     "text": [
      "neighbor score(100)=0.5122,label score(100)=0.7527\n",
      "epoch  630\n",
      "impute shape: (40313, 4878)\n"
     ]
    },
    {
     "name": "stderr",
     "output_type": "stream",
     "text": [
      "/home/miaoyuanyuan/miniconda3/envs/py3.8_tf2.6.0/lib/python3.8/site-packages/scanpy/preprocessing/_simple.py:842: UserWarning: Received a view of an AnnData. Making a copy.\n",
      "  view_to_actual(adata)\n"
     ]
    },
    {
     "name": "stdout",
     "output_type": "stream",
     "text": [
      "neighbor score(100)=0.5103,label score(100)=0.7508\n",
      "epoch  640\n",
      "impute shape: (40313, 4878)\n"
     ]
    },
    {
     "name": "stderr",
     "output_type": "stream",
     "text": [
      "/home/miaoyuanyuan/miniconda3/envs/py3.8_tf2.6.0/lib/python3.8/site-packages/scanpy/preprocessing/_simple.py:842: UserWarning: Received a view of an AnnData. Making a copy.\n",
      "  view_to_actual(adata)\n"
     ]
    },
    {
     "name": "stdout",
     "output_type": "stream",
     "text": [
      "neighbor score(100)=0.5125,label score(100)=0.7534\n",
      "epoch  650\n",
      "impute shape: (40313, 4878)\n"
     ]
    },
    {
     "name": "stderr",
     "output_type": "stream",
     "text": [
      "/home/miaoyuanyuan/miniconda3/envs/py3.8_tf2.6.0/lib/python3.8/site-packages/scanpy/preprocessing/_simple.py:842: UserWarning: Received a view of an AnnData. Making a copy.\n",
      "  view_to_actual(adata)\n"
     ]
    },
    {
     "name": "stdout",
     "output_type": "stream",
     "text": [
      "neighbor score(100)=0.5098,label score(100)=0.7500\n",
      "epoch  660\n",
      "impute shape: (40313, 4878)\n"
     ]
    },
    {
     "name": "stderr",
     "output_type": "stream",
     "text": [
      "/home/miaoyuanyuan/miniconda3/envs/py3.8_tf2.6.0/lib/python3.8/site-packages/scanpy/preprocessing/_simple.py:842: UserWarning: Received a view of an AnnData. Making a copy.\n",
      "  view_to_actual(adata)\n"
     ]
    },
    {
     "name": "stdout",
     "output_type": "stream",
     "text": [
      "neighbor score(100)=0.5139,label score(100)=0.7547\n",
      "epoch  670\n",
      "impute shape: (40313, 4878)\n"
     ]
    },
    {
     "name": "stderr",
     "output_type": "stream",
     "text": [
      "/home/miaoyuanyuan/miniconda3/envs/py3.8_tf2.6.0/lib/python3.8/site-packages/scanpy/preprocessing/_simple.py:842: UserWarning: Received a view of an AnnData. Making a copy.\n",
      "  view_to_actual(adata)\n"
     ]
    },
    {
     "name": "stdout",
     "output_type": "stream",
     "text": [
      "neighbor score(100)=0.5117,label score(100)=0.7529\n",
      "epoch  680\n",
      "impute shape: (40313, 4878)\n"
     ]
    },
    {
     "name": "stderr",
     "output_type": "stream",
     "text": [
      "/home/miaoyuanyuan/miniconda3/envs/py3.8_tf2.6.0/lib/python3.8/site-packages/scanpy/preprocessing/_simple.py:842: UserWarning: Received a view of an AnnData. Making a copy.\n",
      "  view_to_actual(adata)\n"
     ]
    },
    {
     "name": "stdout",
     "output_type": "stream",
     "text": [
      "neighbor score(100)=0.5107,label score(100)=0.7521\n",
      "epoch  690\n",
      "impute shape: (40313, 4878)\n"
     ]
    },
    {
     "name": "stderr",
     "output_type": "stream",
     "text": [
      "/home/miaoyuanyuan/miniconda3/envs/py3.8_tf2.6.0/lib/python3.8/site-packages/scanpy/preprocessing/_simple.py:842: UserWarning: Received a view of an AnnData. Making a copy.\n",
      "  view_to_actual(adata)\n"
     ]
    },
    {
     "name": "stdout",
     "output_type": "stream",
     "text": [
      "neighbor score(100)=0.5122,label score(100)=0.7528\n",
      "epoch  700\n",
      "impute shape: (40313, 4878)\n"
     ]
    },
    {
     "name": "stderr",
     "output_type": "stream",
     "text": [
      "/home/miaoyuanyuan/miniconda3/envs/py3.8_tf2.6.0/lib/python3.8/site-packages/scanpy/preprocessing/_simple.py:842: UserWarning: Received a view of an AnnData. Making a copy.\n",
      "  view_to_actual(adata)\n"
     ]
    },
    {
     "name": "stdout",
     "output_type": "stream",
     "text": [
      "neighbor score(100)=0.5131,label score(100)=0.7536\n",
      "epoch  710\n",
      "impute shape: (40313, 4878)\n"
     ]
    },
    {
     "name": "stderr",
     "output_type": "stream",
     "text": [
      "/home/miaoyuanyuan/miniconda3/envs/py3.8_tf2.6.0/lib/python3.8/site-packages/scanpy/preprocessing/_simple.py:842: UserWarning: Received a view of an AnnData. Making a copy.\n",
      "  view_to_actual(adata)\n"
     ]
    },
    {
     "name": "stdout",
     "output_type": "stream",
     "text": [
      "neighbor score(100)=0.5123,label score(100)=0.7542\n",
      "epoch  720\n",
      "impute shape: (40313, 4878)\n"
     ]
    },
    {
     "name": "stderr",
     "output_type": "stream",
     "text": [
      "/home/miaoyuanyuan/miniconda3/envs/py3.8_tf2.6.0/lib/python3.8/site-packages/scanpy/preprocessing/_simple.py:842: UserWarning: Received a view of an AnnData. Making a copy.\n",
      "  view_to_actual(adata)\n"
     ]
    },
    {
     "name": "stdout",
     "output_type": "stream",
     "text": [
      "neighbor score(100)=0.5124,label score(100)=0.7545\n",
      "epoch  730\n",
      "impute shape: (40313, 4878)\n"
     ]
    },
    {
     "name": "stderr",
     "output_type": "stream",
     "text": [
      "/home/miaoyuanyuan/miniconda3/envs/py3.8_tf2.6.0/lib/python3.8/site-packages/scanpy/preprocessing/_simple.py:842: UserWarning: Received a view of an AnnData. Making a copy.\n",
      "  view_to_actual(adata)\n"
     ]
    },
    {
     "name": "stdout",
     "output_type": "stream",
     "text": [
      "neighbor score(100)=0.5098,label score(100)=0.7520\n",
      "epoch  740\n",
      "impute shape: (40313, 4878)\n"
     ]
    },
    {
     "name": "stderr",
     "output_type": "stream",
     "text": [
      "/home/miaoyuanyuan/miniconda3/envs/py3.8_tf2.6.0/lib/python3.8/site-packages/scanpy/preprocessing/_simple.py:842: UserWarning: Received a view of an AnnData. Making a copy.\n",
      "  view_to_actual(adata)\n"
     ]
    },
    {
     "name": "stdout",
     "output_type": "stream",
     "text": [
      "neighbor score(100)=0.5116,label score(100)=0.7531\n",
      "epoch  750\n",
      "impute shape: (40313, 4878)\n"
     ]
    },
    {
     "name": "stderr",
     "output_type": "stream",
     "text": [
      "/home/miaoyuanyuan/miniconda3/envs/py3.8_tf2.6.0/lib/python3.8/site-packages/scanpy/preprocessing/_simple.py:842: UserWarning: Received a view of an AnnData. Making a copy.\n",
      "  view_to_actual(adata)\n"
     ]
    },
    {
     "name": "stdout",
     "output_type": "stream",
     "text": [
      "neighbor score(100)=0.5124,label score(100)=0.7533\n",
      "epoch  760\n",
      "impute shape: (40313, 4878)\n"
     ]
    },
    {
     "name": "stderr",
     "output_type": "stream",
     "text": [
      "/home/miaoyuanyuan/miniconda3/envs/py3.8_tf2.6.0/lib/python3.8/site-packages/scanpy/preprocessing/_simple.py:842: UserWarning: Received a view of an AnnData. Making a copy.\n",
      "  view_to_actual(adata)\n"
     ]
    },
    {
     "name": "stdout",
     "output_type": "stream",
     "text": [
      "neighbor score(100)=0.5137,label score(100)=0.7550\n",
      "epoch  770\n",
      "impute shape: (40313, 4878)\n"
     ]
    },
    {
     "name": "stderr",
     "output_type": "stream",
     "text": [
      "/home/miaoyuanyuan/miniconda3/envs/py3.8_tf2.6.0/lib/python3.8/site-packages/scanpy/preprocessing/_simple.py:842: UserWarning: Received a view of an AnnData. Making a copy.\n",
      "  view_to_actual(adata)\n"
     ]
    },
    {
     "name": "stdout",
     "output_type": "stream",
     "text": [
      "neighbor score(100)=0.5115,label score(100)=0.7538\n",
      "epoch  780\n",
      "impute shape: (40313, 4878)\n"
     ]
    },
    {
     "name": "stderr",
     "output_type": "stream",
     "text": [
      "/home/miaoyuanyuan/miniconda3/envs/py3.8_tf2.6.0/lib/python3.8/site-packages/scanpy/preprocessing/_simple.py:842: UserWarning: Received a view of an AnnData. Making a copy.\n",
      "  view_to_actual(adata)\n"
     ]
    },
    {
     "name": "stdout",
     "output_type": "stream",
     "text": [
      "neighbor score(100)=0.5129,label score(100)=0.7549\n",
      "epoch  790\n",
      "impute shape: (40313, 4878)\n"
     ]
    },
    {
     "name": "stderr",
     "output_type": "stream",
     "text": [
      "/home/miaoyuanyuan/miniconda3/envs/py3.8_tf2.6.0/lib/python3.8/site-packages/scanpy/preprocessing/_simple.py:842: UserWarning: Received a view of an AnnData. Making a copy.\n",
      "  view_to_actual(adata)\n"
     ]
    },
    {
     "name": "stdout",
     "output_type": "stream",
     "text": [
      "neighbor score(100)=0.5125,label score(100)=0.7539\n",
      "epoch  800\n",
      "impute shape: (40313, 4878)\n"
     ]
    },
    {
     "name": "stderr",
     "output_type": "stream",
     "text": [
      "/home/miaoyuanyuan/miniconda3/envs/py3.8_tf2.6.0/lib/python3.8/site-packages/scanpy/preprocessing/_simple.py:842: UserWarning: Received a view of an AnnData. Making a copy.\n",
      "  view_to_actual(adata)\n"
     ]
    },
    {
     "name": "stdout",
     "output_type": "stream",
     "text": [
      "neighbor score(100)=0.5125,label score(100)=0.7539\n",
      "epoch  810\n",
      "impute shape: (40313, 4878)\n"
     ]
    },
    {
     "name": "stderr",
     "output_type": "stream",
     "text": [
      "/home/miaoyuanyuan/miniconda3/envs/py3.8_tf2.6.0/lib/python3.8/site-packages/scanpy/preprocessing/_simple.py:842: UserWarning: Received a view of an AnnData. Making a copy.\n",
      "  view_to_actual(adata)\n"
     ]
    },
    {
     "name": "stdout",
     "output_type": "stream",
     "text": [
      "neighbor score(100)=0.5131,label score(100)=0.7548\n",
      "epoch  820\n",
      "impute shape: (40313, 4878)\n"
     ]
    },
    {
     "name": "stderr",
     "output_type": "stream",
     "text": [
      "/home/miaoyuanyuan/miniconda3/envs/py3.8_tf2.6.0/lib/python3.8/site-packages/scanpy/preprocessing/_simple.py:842: UserWarning: Received a view of an AnnData. Making a copy.\n",
      "  view_to_actual(adata)\n"
     ]
    },
    {
     "name": "stdout",
     "output_type": "stream",
     "text": [
      "neighbor score(100)=0.5131,label score(100)=0.7544\n",
      "epoch  830\n",
      "impute shape: (40313, 4878)\n"
     ]
    },
    {
     "name": "stderr",
     "output_type": "stream",
     "text": [
      "/home/miaoyuanyuan/miniconda3/envs/py3.8_tf2.6.0/lib/python3.8/site-packages/scanpy/preprocessing/_simple.py:842: UserWarning: Received a view of an AnnData. Making a copy.\n",
      "  view_to_actual(adata)\n"
     ]
    },
    {
     "name": "stdout",
     "output_type": "stream",
     "text": [
      "neighbor score(100)=0.5121,label score(100)=0.7526\n",
      "epoch  840\n",
      "impute shape: (40313, 4878)\n"
     ]
    },
    {
     "name": "stderr",
     "output_type": "stream",
     "text": [
      "/home/miaoyuanyuan/miniconda3/envs/py3.8_tf2.6.0/lib/python3.8/site-packages/scanpy/preprocessing/_simple.py:842: UserWarning: Received a view of an AnnData. Making a copy.\n",
      "  view_to_actual(adata)\n"
     ]
    },
    {
     "name": "stdout",
     "output_type": "stream",
     "text": [
      "neighbor score(100)=0.5132,label score(100)=0.7547\n",
      "epoch  850\n",
      "impute shape: (40313, 4878)\n"
     ]
    },
    {
     "name": "stderr",
     "output_type": "stream",
     "text": [
      "/home/miaoyuanyuan/miniconda3/envs/py3.8_tf2.6.0/lib/python3.8/site-packages/scanpy/preprocessing/_simple.py:842: UserWarning: Received a view of an AnnData. Making a copy.\n",
      "  view_to_actual(adata)\n"
     ]
    },
    {
     "name": "stdout",
     "output_type": "stream",
     "text": [
      "neighbor score(100)=0.5143,label score(100)=0.7558\n",
      "epoch  860\n",
      "impute shape: (40313, 4878)\n"
     ]
    },
    {
     "name": "stderr",
     "output_type": "stream",
     "text": [
      "/home/miaoyuanyuan/miniconda3/envs/py3.8_tf2.6.0/lib/python3.8/site-packages/scanpy/preprocessing/_simple.py:842: UserWarning: Received a view of an AnnData. Making a copy.\n",
      "  view_to_actual(adata)\n"
     ]
    },
    {
     "name": "stdout",
     "output_type": "stream",
     "text": [
      "neighbor score(100)=0.5129,label score(100)=0.7548\n",
      "epoch  870\n",
      "impute shape: (40313, 4878)\n"
     ]
    },
    {
     "name": "stderr",
     "output_type": "stream",
     "text": [
      "/home/miaoyuanyuan/miniconda3/envs/py3.8_tf2.6.0/lib/python3.8/site-packages/scanpy/preprocessing/_simple.py:842: UserWarning: Received a view of an AnnData. Making a copy.\n",
      "  view_to_actual(adata)\n"
     ]
    },
    {
     "name": "stdout",
     "output_type": "stream",
     "text": [
      "neighbor score(100)=0.5165,label score(100)=0.7564\n",
      "epoch  880\n",
      "impute shape: (40313, 4878)\n"
     ]
    },
    {
     "name": "stderr",
     "output_type": "stream",
     "text": [
      "/home/miaoyuanyuan/miniconda3/envs/py3.8_tf2.6.0/lib/python3.8/site-packages/scanpy/preprocessing/_simple.py:842: UserWarning: Received a view of an AnnData. Making a copy.\n",
      "  view_to_actual(adata)\n"
     ]
    },
    {
     "name": "stdout",
     "output_type": "stream",
     "text": [
      "neighbor score(100)=0.5148,label score(100)=0.7556\n",
      "epoch  890\n",
      "impute shape: (40313, 4878)\n"
     ]
    },
    {
     "name": "stderr",
     "output_type": "stream",
     "text": [
      "/home/miaoyuanyuan/miniconda3/envs/py3.8_tf2.6.0/lib/python3.8/site-packages/scanpy/preprocessing/_simple.py:842: UserWarning: Received a view of an AnnData. Making a copy.\n",
      "  view_to_actual(adata)\n"
     ]
    },
    {
     "name": "stdout",
     "output_type": "stream",
     "text": [
      "neighbor score(100)=0.5143,label score(100)=0.7546\n",
      "epoch  900\n",
      "impute shape: (40313, 4878)\n"
     ]
    },
    {
     "name": "stderr",
     "output_type": "stream",
     "text": [
      "/home/miaoyuanyuan/miniconda3/envs/py3.8_tf2.6.0/lib/python3.8/site-packages/scanpy/preprocessing/_simple.py:842: UserWarning: Received a view of an AnnData. Making a copy.\n",
      "  view_to_actual(adata)\n"
     ]
    },
    {
     "name": "stdout",
     "output_type": "stream",
     "text": [
      "neighbor score(100)=0.5151,label score(100)=0.7553\n",
      "epoch  910\n",
      "impute shape: (40313, 4878)\n"
     ]
    },
    {
     "name": "stderr",
     "output_type": "stream",
     "text": [
      "/home/miaoyuanyuan/miniconda3/envs/py3.8_tf2.6.0/lib/python3.8/site-packages/scanpy/preprocessing/_simple.py:842: UserWarning: Received a view of an AnnData. Making a copy.\n",
      "  view_to_actual(adata)\n"
     ]
    },
    {
     "name": "stdout",
     "output_type": "stream",
     "text": [
      "neighbor score(100)=0.5147,label score(100)=0.7552\n",
      "epoch  920\n",
      "impute shape: (40313, 4878)\n"
     ]
    },
    {
     "name": "stderr",
     "output_type": "stream",
     "text": [
      "/home/miaoyuanyuan/miniconda3/envs/py3.8_tf2.6.0/lib/python3.8/site-packages/scanpy/preprocessing/_simple.py:842: UserWarning: Received a view of an AnnData. Making a copy.\n",
      "  view_to_actual(adata)\n"
     ]
    },
    {
     "name": "stdout",
     "output_type": "stream",
     "text": [
      "neighbor score(100)=0.5151,label score(100)=0.7551\n",
      "epoch  930\n",
      "impute shape: (40313, 4878)\n"
     ]
    },
    {
     "name": "stderr",
     "output_type": "stream",
     "text": [
      "/home/miaoyuanyuan/miniconda3/envs/py3.8_tf2.6.0/lib/python3.8/site-packages/scanpy/preprocessing/_simple.py:842: UserWarning: Received a view of an AnnData. Making a copy.\n",
      "  view_to_actual(adata)\n"
     ]
    },
    {
     "name": "stdout",
     "output_type": "stream",
     "text": [
      "neighbor score(100)=0.5141,label score(100)=0.7549\n",
      "epoch  940\n",
      "impute shape: (40313, 4878)\n"
     ]
    },
    {
     "name": "stderr",
     "output_type": "stream",
     "text": [
      "/home/miaoyuanyuan/miniconda3/envs/py3.8_tf2.6.0/lib/python3.8/site-packages/scanpy/preprocessing/_simple.py:842: UserWarning: Received a view of an AnnData. Making a copy.\n",
      "  view_to_actual(adata)\n"
     ]
    },
    {
     "name": "stdout",
     "output_type": "stream",
     "text": [
      "neighbor score(100)=0.5152,label score(100)=0.7558\n",
      "epoch  950\n",
      "impute shape: (40313, 4878)\n"
     ]
    },
    {
     "name": "stderr",
     "output_type": "stream",
     "text": [
      "/home/miaoyuanyuan/miniconda3/envs/py3.8_tf2.6.0/lib/python3.8/site-packages/scanpy/preprocessing/_simple.py:842: UserWarning: Received a view of an AnnData. Making a copy.\n",
      "  view_to_actual(adata)\n"
     ]
    },
    {
     "name": "stdout",
     "output_type": "stream",
     "text": [
      "neighbor score(100)=0.5163,label score(100)=0.7569\n",
      "epoch  960\n",
      "impute shape: (40313, 4878)\n"
     ]
    },
    {
     "name": "stderr",
     "output_type": "stream",
     "text": [
      "/home/miaoyuanyuan/miniconda3/envs/py3.8_tf2.6.0/lib/python3.8/site-packages/scanpy/preprocessing/_simple.py:842: UserWarning: Received a view of an AnnData. Making a copy.\n",
      "  view_to_actual(adata)\n"
     ]
    },
    {
     "name": "stdout",
     "output_type": "stream",
     "text": [
      "neighbor score(100)=0.5155,label score(100)=0.7562\n",
      "epoch  970\n",
      "impute shape: (40313, 4878)\n"
     ]
    },
    {
     "name": "stderr",
     "output_type": "stream",
     "text": [
      "/home/miaoyuanyuan/miniconda3/envs/py3.8_tf2.6.0/lib/python3.8/site-packages/scanpy/preprocessing/_simple.py:842: UserWarning: Received a view of an AnnData. Making a copy.\n",
      "  view_to_actual(adata)\n"
     ]
    },
    {
     "name": "stdout",
     "output_type": "stream",
     "text": [
      "neighbor score(100)=0.5148,label score(100)=0.7550\n",
      "epoch  980\n",
      "impute shape: (40313, 4878)\n"
     ]
    },
    {
     "name": "stderr",
     "output_type": "stream",
     "text": [
      "/home/miaoyuanyuan/miniconda3/envs/py3.8_tf2.6.0/lib/python3.8/site-packages/scanpy/preprocessing/_simple.py:842: UserWarning: Received a view of an AnnData. Making a copy.\n",
      "  view_to_actual(adata)\n"
     ]
    },
    {
     "name": "stdout",
     "output_type": "stream",
     "text": [
      "neighbor score(100)=0.5164,label score(100)=0.7556\n",
      "epoch  990\n",
      "impute shape: (40313, 4878)\n"
     ]
    },
    {
     "name": "stderr",
     "output_type": "stream",
     "text": [
      "/home/miaoyuanyuan/miniconda3/envs/py3.8_tf2.6.0/lib/python3.8/site-packages/scanpy/preprocessing/_simple.py:842: UserWarning: Received a view of an AnnData. Making a copy.\n",
      "  view_to_actual(adata)\n"
     ]
    },
    {
     "name": "stdout",
     "output_type": "stream",
     "text": [
      "neighbor score(100)=0.5155,label score(100)=0.7563\n",
      "epoch  1000\n",
      "impute shape: (40313, 4878)\n"
     ]
    },
    {
     "name": "stderr",
     "output_type": "stream",
     "text": [
      "/home/miaoyuanyuan/miniconda3/envs/py3.8_tf2.6.0/lib/python3.8/site-packages/scanpy/preprocessing/_simple.py:842: UserWarning: Received a view of an AnnData. Making a copy.\n",
      "  view_to_actual(adata)\n"
     ]
    },
    {
     "name": "stdout",
     "output_type": "stream",
     "text": [
      "neighbor score(100)=0.5155,label score(100)=0.7558\n"
     ]
    }
   ],
   "source": [
    "neighbor_scores2 = []\n",
    "label_scores2 = []\n",
    "\n",
    "for i in epochs:\n",
    "    print('epoch ',i)\n",
    "    # model.build(input_shape=[(None, 21907), (None, 271, 64), (None, 271)])\n",
    "    model.load_weights(f'{path}/1_XChrom/0_model_train/train_out/epoch_model/epoch{i:03d}_crosscelltrain_peakembedWB.h5')\n",
    "    imputes = model.predict(ds)\n",
    "    imputes = np.array(imputes)\n",
    "    print('impute shape:',imputes.shape)\n",
    "    ad.X = imputes.transpose(1,0)\n",
    "    ad1=ad.copy()\n",
    "    ad1 = xc.tl.calc_pca(ad1)\n",
    "    ns,ls = xc.tl.calc_nsls_score(rna,ad1,100,'pc32_leiden',use_rep_rna = 'X_pca',use_rep_atac='X_pca')\n",
    "    print(f'neighbor score(100)={ns:.4f},label score(100)={ls:.4f}')\n",
    "    neighbor_scores2.append(ns)\n",
    "    label_scores2.append(ls)"
   ]
  },
  {
   "cell_type": "code",
   "execution_count": 18,
   "id": "f0283dc7-2bba-426f-8b75-d6a6c597780f",
   "metadata": {},
   "outputs": [
    {
     "data": {
      "image/png": "[encoded data removed]",
      "text/plain": [
       "<Figure size 1300x300 with 2 Axes>"
      ]
     },
     "metadata": {},
     "output_type": "display_data"
    }
   ],
   "source": [
    "data_arrays = [neighbor_scores2, label_scores2]\n",
    "for data in data_arrays:\n",
    "    assert len(data) == len(epochs), \"The data length does not match the number of epochs\"\n",
    "\n",
    "n_rows = 1\n",
    "n_cols = 2\n",
    "fig, axs = plt.subplots(n_rows, n_cols, figsize=(13, 3)) ##(width, height)\n",
    "labels = ['Neighbor Scores','Label Scores']\n",
    "for i, ax in enumerate(axs.flat):\n",
    "    if i < len(data_arrays):\n",
    "        ax.plot(epochs, data_arrays[i], marker='o', linestyle='-')\n",
    "        ax.set_title(labels[i])\n",
    "        ax.set_xlabel('Epoch')\n",
    "        ax.set_ylabel('Values')\n",
    "        ax.grid(True)\n",
    "    else:\n",
    "        ax.axis('off')  \n",
    "plt.tight_layout()\n",
    "plt.show()\n",
    "\n",
    "np.savetxt(f'{out_dir}/denoise_ls100.csv',label_scores2, delimiter=',', fmt='%.8f')\n",
    "np.savetxt(f'{out_dir}/denoise_ns100.csv',neighbor_scores2, delimiter=',', fmt='%.8f')"
   ]
  },
  {
   "cell_type": "code",
   "execution_count": null,
   "id": "f6c903cf-1fbf-4bed-8308-e4fb91b4ab53",
   "metadata": {},
   "outputs": [],
   "source": []
  },
  {
   "cell_type": "markdown",
   "id": "a401081c-0748-47d7-8c72-02de4a550b18",
   "metadata": {},
   "source": [
    "## calculate pearson correlation of denoise and cell embedding data on ns&ls metrics"
   ]
  },
  {
   "cell_type": "code",
   "execution_count": 21,
   "id": "d5da023d-8791-4fce-a698-0a6c923477ff",
   "metadata": {},
   "outputs": [],
   "source": [
    "sc.set_figure_params(figsize=(6, 6), frameon=False)\n",
    "sns.set_theme()\n",
    "%config InlineBackend.print_figure_kwargs={\"facecolor\": \"w\"}\n",
    "%config InlineBackend.figure_format=\"retina\""
   ]
  },
  {
   "cell_type": "code",
   "execution_count": 19,
   "id": "5ab6b2f4-ecdc-424c-a2ef-02187fbfef0f",
   "metadata": {},
   "outputs": [],
   "source": [
    "x2_ls = np.loadtxt(f'{out_dir}/x2pred_ls100.csv', delimiter=',')\n",
    "x2_ns = np.loadtxt(f'{out_dir}/x2pred_ns100.csv', delimiter=',')\n",
    "denoise_ls = np.loadtxt(f'{out_dir}/denoise_ls100.csv', delimiter=',')\n",
    "denoise_ns = np.loadtxt(f'{out_dir}/denoise_ns100.csv', delimiter=',')"
   ]
  },
  {
   "cell_type": "code",
   "execution_count": 22,
   "id": "d99e89d3-d248-4852-b2ab-03cd6543560a",
   "metadata": {},
   "outputs": [
    {
     "name": "stdout",
     "output_type": "stream",
     "text": [
      "[ 1.99597603 -0.52824506]\n",
      "[ 2.31038703 -0.9593235 ]\n"
     ]
    },
    {
     "data": {
      "image/png": "[encoded data removed]",
      "text/plain": [
       "<Figure size 640x320 with 2 Axes>"
      ]
     },
     "metadata": {
      "image/png": {
       "height": 304,
       "width": 626
      }
     },
     "output_type": "display_data"
    }
   ],
   "source": [
    "plt.figure(figsize=(8,4))\n",
    "# ls 100\n",
    "plt.subplot(1, 2, 1)\n",
    "plt.scatter(x2_ns, denoise_ns,s=10,alpha=0.5)\n",
    "plt.xlabel('Cell embedding')\n",
    "plt.ylabel('Denoise')\n",
    "plt.title('Neighbor scores')\n",
    "corr2, _ = stats.pearsonr(x2_ns, denoise_ns)\n",
    "plt.text(min(x2_ns), max(denoise_ns), f'Correlation: {corr2:.2f}', fontsize=12)\n",
    "plt.plot([min(x2_ns), max(x2_ns)], [min(x2_ns), max(x2_ns)], color='grey', linestyle='--', alpha=0.2)\n",
    "\n",
    "coeffs = np.polyfit(x2_ns, denoise_ns, 1)\n",
    "print(coeffs)\n",
    "fit_line = np.poly1d(coeffs)\n",
    "plt.plot(x2_ns, fit_line(x2_ns), color='red', linestyle='-', alpha=0.5)\n",
    "\n",
    "# ns 100\n",
    "plt.subplot(1, 2, 2)\n",
    "plt.scatter(x2_ls, denoise_ls,s=10,alpha=0.5)\n",
    "plt.xlabel('Cell embedding')\n",
    "plt.ylabel('Denoise')\n",
    "plt.title('Label scores')\n",
    "corr1, _ = stats.pearsonr(x2_ls, denoise_ls)\n",
    "plt.text(min(x2_ls), max(denoise_ls), f'Correlation: {corr1:.2f}', fontsize=12)\n",
    "plt.plot([min(x2_ls), max(x2_ls)], [min(x2_ls), max(x2_ls)], color='grey', linestyle='--', alpha=0.2)\n",
    "\n",
    "# fit line\n",
    "coeffs = np.polyfit(x2_ls, denoise_ls, 1)\n",
    "print(coeffs)  \n",
    "fit_line = np.poly1d(coeffs)\n",
    "plt.plot(x2_ls, fit_line(x2_ls), color='red', linestyle='-', alpha=0.5)\n",
    "plt.savefig(f'{out_dir}/cellembed-denoise-pearson.pdf', format='pdf', dpi=300)\n",
    "plt.tight_layout()\n",
    "plt.show()"
   ]
  },
  {
   "cell_type": "code",
   "execution_count": null,
   "id": "0a49b058-380f-4847-bd7c-63fd5376b85d",
   "metadata": {},
   "outputs": [],
   "source": []
  }
 ],
 "metadata": {
  "kernelspec": {
   "display_name": "py3.8_tf2.6.0",
   "language": "python",
   "name": "py3.8_tf2.6.0"
  },
  "language_info": {
   "codemirror_mode": {
    "name": "ipython",
    "version": 3
   },
   "file_extension": ".py",
   "mimetype": "text/x-python",
   "name": "python",
   "nbconvert_exporter": "python",
   "pygments_lexer": "ipython3",
   "version": "3.8.15"
  }
 },
 "nbformat": 4,
 "nbformat_minor": 5
}
