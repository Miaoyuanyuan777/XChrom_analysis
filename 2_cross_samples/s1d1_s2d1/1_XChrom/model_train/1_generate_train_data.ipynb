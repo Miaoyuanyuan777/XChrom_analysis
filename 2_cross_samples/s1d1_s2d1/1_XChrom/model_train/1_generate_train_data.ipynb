{
 "cells": [
  {
   "cell_type": "code",
   "execution_count": 1,
   "id": "baa768a1-f3b2-4886-9772-d68e97114f48",
   "metadata": {},
   "outputs": [],
   "source": [
    "import xchrom as xc\n",
    "import scanpy as sc"
   ]
  },
  {
   "cell_type": "code",
   "execution_count": 2,
   "id": "b420ec3d-2bab-4498-bcbd-67015c5efcb7",
   "metadata": {},
   "outputs": [
    {
     "name": "stdout",
     "output_type": "stream",
     "text": [
      "train/test data is saved in:  train_data\n",
      "successful writing bed file.\n",
      "successful writing train/test split file.\n",
      "successful writing train/test anndata file.\n",
      "successful writing sparse m.\n",
      "Successfully saving all sequence h5 file...\n",
      "Successfully saving trainval sequence h5 file...\n",
      "Successfully saving test sequence h5 file...\n"
     ]
    }
   ],
   "source": [
    "## generate data for model training\n",
    "train_folder = './train_data/'\n",
    "input_fasta = '/picb/bigdata/project/miaoyuanyuan/hg38.fa'\n",
    "train_atac = sc.read_h5ad('../../0_preprocess/processed_data/train_atac.h5ad')\n",
    "dict = xc.pp.process_train_test_single(\n",
    "    ad_atac=train_atac, ## can be a str, Path, or anndata.AnnData object\n",
    "    input_fasta=input_fasta,\n",
    "    output_path=train_folder\n",
    ")"
   ]
  },
  {
   "cell_type": "code",
   "execution_count": null,
   "id": "f062ff3d-4a8c-458c-9297-ef6ae835d918",
   "metadata": {},
   "outputs": [],
   "source": []
  }
 ],
 "metadata": {
  "kernelspec": {
   "display_name": "py3.8_tf2.6.0",
   "language": "python",
   "name": "py3.8_tf2.6.0"
  },
  "language_info": {
   "codemirror_mode": {
    "name": "ipython",
    "version": 3
   },
   "file_extension": ".py",
   "mimetype": "text/x-python",
   "name": "python",
   "nbconvert_exporter": "python",
   "pygments_lexer": "ipython3",
   "version": "3.8.15"
  }
 },
 "nbformat": 4,
 "nbformat_minor": 5
}
