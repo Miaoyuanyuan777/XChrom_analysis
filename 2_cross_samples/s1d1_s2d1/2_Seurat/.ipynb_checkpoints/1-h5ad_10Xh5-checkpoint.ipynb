{
 "cells": [
  {
   "cell_type": "markdown",
   "id": "594f282a-cb72-4797-82d4-320f9f04122e",
   "metadata": {},
   "source": [
    "## ⭐ cross-samples prediction\n",
    "## ⭐ Convert h5ad files to h5 files readable by 10X tools in R"
   ]
  },
  {
   "cell_type": "code",
   "execution_count": 1,
   "id": "20ea4b5c-b0cf-4a1d-b347-b7e243179675",
   "metadata": {},
   "outputs": [],
   "source": [
    "import scanpy as sc\n",
    "import h5py\n",
    "import scipy.sparse\n",
    "import numpy as np\n",
    "import pandas as pd"
   ]
  },
  {
   "cell_type": "code",
   "execution_count": 2,
   "id": "c2079300-651c-4cf7-9241-3de5e4205941",
   "metadata": {},
   "outputs": [],
   "source": [
    "path = '../'\n",
    "out = './data'"
   ]
  },
  {
   "cell_type": "markdown",
   "id": "83fb02a2-275a-444d-8212-7c1c6c88f211",
   "metadata": {},
   "source": [
    "### rna1 & atac1 is training data，rna2 & atac2 is testing data"
   ]
  },
  {
   "cell_type": "code",
   "execution_count": 3,
   "id": "ccf34e2d-61e2-4f41-9bea-67172796b05a",
   "metadata": {},
   "outputs": [],
   "source": [
    "# 读取 .h5ad 文件\n",
    "atac1 = sc.read(f\"{path}/0_preprocess/processed_data/train_atac.h5ad\")\n",
    "rna1 = sc.read(f\"{path}/0_preprocess/processed_data/train_rna.h5ad\")\n",
    "atac2 = sc.read(f\"{path}/0_preprocess/processed_data/test_atac.h5ad\")\n",
    "rna2 = sc.read(f\"{path}/0_preprocess/processed_data/test_rna.h5ad\")"
   ]
  },
  {
   "cell_type": "code",
   "execution_count": 4,
   "id": "cb892e9a-44c9-4ec5-bfe0-9f55e1c6814e",
   "metadata": {},
   "outputs": [],
   "source": [
    "adata = atac1.copy()\n",
    "# 提取数据\n",
    "counts = adata.X\n",
    "obs = adata.obs\n",
    "var = adata.var\n",
    "# 将数据保存为 CSV 文件\n",
    "pd.DataFrame(counts.toarray()).to_csv(f\"{out}/atac1_counts.csv\", index=True)   # matrix\n",
    "obs.to_csv(f\"{out}/atac1_obs.csv\", index=True)    # cell metadata\n",
    "var.to_csv(f\"{out}/atac1_var.csv\", index=True)    # peak metadata"
   ]
  },
  {
   "cell_type": "code",
   "execution_count": 5,
   "id": "9137808a-e0c0-4991-9d51-42e70a5c5692",
   "metadata": {},
   "outputs": [],
   "source": [
    "adata = atac2.copy()\n",
    "# 提取数据\n",
    "counts = adata.X\n",
    "obs = adata.obs\n",
    "var = adata.var\n",
    "# 将数据保存为 CSV 文件\n",
    "pd.DataFrame(counts.toarray()).to_csv(f\"{out}/atac2_counts.csv\", index=True)   # matrix\n",
    "obs.to_csv(f\"{out}/atac2_obs.csv\", index=True)    # cell metadata\n",
    "var.to_csv(f\"{out}/atac2_var.csv\", index=True)    # peak metadata"
   ]
  },
  {
   "cell_type": "code",
   "execution_count": 6,
   "id": "03ec1f93-c42e-43bf-9042-3a61ef2d22e1",
   "metadata": {},
   "outputs": [],
   "source": [
    "adata = rna1.copy()\n",
    "# 提取数据\n",
    "counts = adata.X\n",
    "obs = adata.obs\n",
    "var = adata.var\n",
    "# 将数据保存为 CSV 文件\n",
    "pd.DataFrame(counts.toarray()).to_csv(f\"{out}/rna1_counts.csv\", index=True)   # matrix\n",
    "obs.to_csv(f\"{out}/rna1_obs.csv\", index=True)    # cell metadata\n",
    "var.to_csv(f\"{out}/rna1_var.csv\", index=True)    # gene metadata"
   ]
  },
  {
   "cell_type": "code",
   "execution_count": 7,
   "id": "bcc03cb4-f506-4283-a966-e7d9c24b7d5a",
   "metadata": {},
   "outputs": [],
   "source": [
    "adata = rna2.copy()\n",
    "# 提取数据\n",
    "counts = adata.X\n",
    "obs = adata.obs\n",
    "var = adata.var\n",
    "# 将数据保存为 CSV 文件\n",
    "pd.DataFrame(counts.toarray()).to_csv(f\"{out}/rna2_counts.csv\", index=True)   # matrix\n",
    "obs.to_csv(f\"{out}/rna2_obs.csv\", index=True)    # cell metadata\n",
    "var.to_csv(f\"{out}/rna2_var.csv\", index=True)    # gene metadata"
   ]
  },
  {
   "cell_type": "code",
   "execution_count": null,
   "id": "5c8be727-31cc-4ed3-984b-526c817054f4",
   "metadata": {},
   "outputs": [],
   "source": []
  }
 ],
 "metadata": {
  "kernelspec": {
   "display_name": "py3.8_tf2.6.0",
   "language": "python",
   "name": "py3.8_tf2.6.0"
  },
  "language_info": {
   "codemirror_mode": {
    "name": "ipython",
    "version": 3
   },
   "file_extension": ".py",
   "mimetype": "text/x-python",
   "name": "python",
   "nbconvert_exporter": "python",
   "pygments_lexer": "ipython3",
   "version": "3.8.15"
  }
 },
 "nbformat": 4,
 "nbformat_minor": 5
}
