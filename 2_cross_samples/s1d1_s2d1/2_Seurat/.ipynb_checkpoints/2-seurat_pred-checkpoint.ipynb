{
 "cells": [
  {
   "cell_type": "markdown",
   "id": "36dcb1de-2f46-4311-a8ae-d403b83cf43c",
   "metadata": {},
   "source": [
    "## ⭐ cross-samples prediction"
   ]
  },
  {
   "cell_type": "code",
   "execution_count": 1,
   "id": "96402626-3888-4c73-8def-377367a94753",
   "metadata": {
    "scrolled": true
   },
   "outputs": [
    {
     "name": "stderr",
     "output_type": "stream",
     "text": [
      "Attaching SeuratObject\n",
      "\n",
      "Seurat v4 was just loaded with SeuratObject v5; disabling v5 assays and\n",
      "validation routines, and ensuring assays work in strict v3/v4\n",
      "compatibility mode\n",
      "\n",
      "Warning message:\n",
      "“package ‘Matrix’ was built under R version 4.2.3”\n",
      "Signac built for for SeuratObject v4 was just loaded with SeuratObject\n",
      "v5; disabling v5 assays and validation routines, and ensuring assays\n",
      "work in strict v3/v4 compatibility mode\n",
      "\n",
      "Warning message:\n",
      "“package ‘dplyr’ was built under R version 4.2.3”\n",
      "\n",
      "Attaching package: ‘dplyr’\n",
      "\n",
      "\n",
      "The following objects are masked from ‘package:stats’:\n",
      "\n",
      "    filter, lag\n",
      "\n",
      "\n",
      "The following objects are masked from ‘package:base’:\n",
      "\n",
      "    intersect, setdiff, setequal, union\n",
      "\n",
      "\n",
      "Registered S3 method overwritten by 'SeuratDisk':\n",
      "  method            from  \n",
      "  as.sparse.H5Group Seurat\n",
      "\n"
     ]
    }
   ],
   "source": [
    "library(Seurat)\n",
    "library(ggplot2)\n",
    "library(Matrix)\n",
    "library(Signac)\n",
    "library(stats4)\n",
    "library(dplyr)\n",
    "library(SeuratDisk)\n",
    "library(feather)"
   ]
  },
  {
   "cell_type": "code",
   "execution_count": 3,
   "id": "c037c4c6-1805-43df-857b-d97ac7cb039c",
   "metadata": {},
   "outputs": [
    {
     "data": {
      "text/plain": [
       "An object of class Seurat \n",
       "53735 features across 6224 samples within 1 assay \n",
       "Active assay: ATAC (53735 features, 0 variable features)\n",
       " 2 layers present: counts, data"
      ]
     },
     "metadata": {},
     "output_type": "display_data"
    }
   ],
   "source": [
    "save_path <- './Results/'\n",
    "data_dir <-  './data/'\n",
    "# loading training data(label)\n",
    "counts <- as.matrix(read.csv(paste0(data_dir,\"atac1_counts.csv\"), row.names = 1))   # matrix\n",
    "obs <- read.csv(paste0(data_dir,\"atac1_obs.csv\"), row.names = 1)   # cell metadata\n",
    "var <- read.csv(paste0(data_dir,\"atac1_var.csv\"), row.names = 1)   # peak metadata\n",
    "rownames(counts) <- rownames(obs)  \n",
    "colnames(counts) <- rownames(var)  \n",
    "# create Seurat object\n",
    "TRAIN_ATAC_obj <- CreateSeuratObject(counts = t(counts), assay = \"ATAC\", project = \"ATAC\", min.cells = 0, min.features = 0)\n",
    "TRAIN_ATAC_obj@meta.data <- obs\n",
    "TRAIN_ATAC_obj"
   ]
  },
  {
   "cell_type": "code",
   "execution_count": 4,
   "id": "1de3c0cd-5f80-423e-a36e-6ef454215082",
   "metadata": {},
   "outputs": [
    {
     "data": {
      "text/plain": [
       "An object of class Seurat \n",
       "53735 features across 4220 samples within 1 assay \n",
       "Active assay: ATAC (53735 features, 0 variable features)\n",
       " 2 layers present: counts, data"
      ]
     },
     "metadata": {},
     "output_type": "display_data"
    }
   ],
   "source": [
    "# loading testing data(label)\n",
    "counts <- as.matrix(read.csv(paste0(data_dir,\"atac2_counts.csv\"), row.names = 1))   # matrix\n",
    "obs <- read.csv(paste0(data_dir,\"atac2_obs.csv\"), row.names = 1)   # cell metadata\n",
    "var <- read.csv(paste0(data_dir,\"atac2_var.csv\"), row.names = 1)   # peak metadata\n",
    "rownames(counts) <- rownames(obs)  \n",
    "colnames(counts) <- rownames(var)  \n",
    "# create Seurat object\n",
    "TEST_ATAC_obj <- CreateSeuratObject(counts = t(counts), assay = \"ATAC\", project = \"ATAC\", min.cells = 0, min.features = 0)\n",
    "TEST_ATAC_obj@meta.data <- obs\n",
    "TEST_ATAC_obj"
   ]
  },
  {
   "cell_type": "code",
   "execution_count": 5,
   "id": "e62d1fee-6444-4e5a-a8b1-3ea7ed31c005",
   "metadata": {},
   "outputs": [
    {
     "data": {
      "text/plain": [
       "An object of class Seurat \n",
       "12278 features across 6224 samples within 1 assay \n",
       "Active assay: RNA (12278 features, 0 variable features)\n",
       " 2 layers present: counts, data"
      ]
     },
     "metadata": {},
     "output_type": "display_data"
    }
   ],
   "source": [
    "# loading training data(input)\n",
    "counts <- as.matrix(read.csv(paste0(data_dir,\"rna1_counts.csv\"), row.names = 1))   # matrix\n",
    "obs <- read.csv(paste0(data_dir,\"rna1_obs.csv\"), row.names = 1)   # cell metadata\n",
    "var <- read.csv(paste0(data_dir,\"rna1_var.csv\"), row.names = 1)   # gene metadata\n",
    "rownames(counts) <- rownames(obs)  \n",
    "colnames(counts) <- rownames(var)  \n",
    "# create Seurat object\n",
    "TRAIN_RNA_obj <- CreateSeuratObject(counts = t(counts), assay = \"RNA\", project = \"RNA\", min.cells = 0, min.features = 0)\n",
    "TRAIN_RNA_obj@meta.data <- obs\n",
    "TRAIN_RNA_obj"
   ]
  },
  {
   "cell_type": "code",
   "execution_count": 6,
   "id": "a1bcca93-3b46-44c5-9d3a-1bc899b6c14d",
   "metadata": {},
   "outputs": [
    {
     "data": {
      "text/plain": [
       "An object of class Seurat \n",
       "12278 features across 4220 samples within 1 assay \n",
       "Active assay: RNA (12278 features, 0 variable features)\n",
       " 2 layers present: counts, data"
      ]
     },
     "metadata": {},
     "output_type": "display_data"
    }
   ],
   "source": [
    "# loading testing data(input)\n",
    "counts <- as.matrix(read.csv(paste0(data_dir,\"rna2_counts.csv\"), row.names = 1))   # matrix\n",
    "obs <- read.csv(paste0(data_dir,\"rna2_obs.csv\"), row.names = 1)   # cell meatadata\n",
    "var <- read.csv(paste0(data_dir,\"rna2_var.csv\"), row.names = 1)   # gene metadata\n",
    "rownames(counts) <- rownames(obs)  \n",
    "colnames(counts) <- rownames(var)  \n",
    "# create Seurat object\n",
    "TEST_RNA_obj <- CreateSeuratObject(counts = t(counts), assay = \"RNA\", project = \"RNA\", min.cells = 0, min.features = 0)\n",
    "TEST_RNA_obj@meta.data <- obs\n",
    "TEST_RNA_obj"
   ]
  },
  {
   "cell_type": "markdown",
   "id": "b3d2d508-0207-4bfa-8341-3968b13e98a2",
   "metadata": {},
   "source": [
    "### Find anchors and predict data"
   ]
  },
  {
   "cell_type": "code",
   "execution_count": 7,
   "id": "8e37ecae-ff16-4575-acf6-42c0f970df12",
   "metadata": {},
   "outputs": [],
   "source": [
    "TRAIN_RNA_obj <- NormalizeData(TRAIN_RNA_obj, normalization.method = \"LogNormalize\", scale.factor = 1e4) \n",
    "TRAIN_RNA_obj <- FindVariableFeatures(TRAIN_RNA_obj, selection.method = 'vst', nfeatures = 4000)\n",
    "TEST_RNA_obj <- NormalizeData(TEST_RNA_obj, normalization.method = \"LogNormalize\", scale.factor = 1e4) \n",
    "features<-TRAIN_RNA_obj@assays$RNA@var.features\n",
    "DN = 30\n",
    "options (warn = -1)\n",
    "anchors <- FindTransferAnchors(reference =TRAIN_RNA_obj,query = TEST_RNA_obj,reduction = 'cca',features=features,reference.assay = 'RNA',query.assay = 'RNA', k.filter = NA, dims = 1:DN,verbose=FALSE)\n",
    "refdata <- GetAssayData(object = TRAIN_ATAC_obj,assay = 'ATAC',slot = 'data',verbose=FALSE)\n",
    "imputation <- TransferData(anchorset = anchors,refdata = refdata,weight.reduction = 'cca',dims = 1:DN,k.weight=10,verbose=FALSE)\n",
    "Imp_New_peaks = as.data.frame(imputation@data)"
   ]
  },
  {
   "cell_type": "code",
   "execution_count": 8,
   "id": "2011e7ef-e423-42d0-9d5b-da620a958076",
   "metadata": {},
   "outputs": [
    {
     "data": {
      "text/html": [
       "<style>\n",
       ".list-inline {list-style: none; margin:0; padding: 0}\n",
       ".list-inline>li {display: inline-block}\n",
       ".list-inline>li:not(:last-child)::after {content: \"\\00b7\"; padding: 0 .5ex}\n",
       "</style>\n",
       "<ol class=list-inline><li>53735</li><li>4220</li></ol>\n"
      ],
      "text/latex": [
       "\\begin{enumerate*}\n",
       "\\item 53735\n",
       "\\item 4220\n",
       "\\end{enumerate*}\n"
      ],
      "text/markdown": [
       "1. 53735\n",
       "2. 4220\n",
       "\n",
       "\n"
      ],
      "text/plain": [
       "[1] 53735  4220"
      ]
     },
     "metadata": {},
     "output_type": "display_data"
    },
    {
     "data": {
      "text/html": [
       "<style>\n",
       ".list-inline {list-style: none; margin:0; padding: 0}\n",
       ".list-inline>li {display: inline-block}\n",
       ".list-inline>li:not(:last-child)::after {content: \"\\00b7\"; padding: 0 .5ex}\n",
       "</style>\n",
       "<ol class=list-inline><li>53735</li><li>4220</li></ol>\n"
      ],
      "text/latex": [
       "\\begin{enumerate*}\n",
       "\\item 53735\n",
       "\\item 4220\n",
       "\\end{enumerate*}\n"
      ],
      "text/markdown": [
       "1. 53735\n",
       "2. 4220\n",
       "\n",
       "\n"
      ],
      "text/plain": [
       "[1] 53735  4220"
      ]
     },
     "metadata": {},
     "output_type": "display_data"
    }
   ],
   "source": [
    "test_mod <- as.data.frame(TEST_ATAC_obj@assays$ATAC@counts)\n",
    "shared<-intersect(rownames(test_mod),rownames(Imp_New_peaks))\n",
    "Imp_New_peaks<-Imp_New_peaks[shared,]\n",
    "test_mod<-test_mod[shared,]\n",
    "dim(test_mod)\n",
    "dim(Imp_New_peaks) \n",
    "test_mod$index <- rownames(test_mod)\n",
    "Imp_New_peaks$index <- rownames(Imp_New_peaks)"
   ]
  },
  {
   "cell_type": "code",
   "execution_count": 9,
   "id": "9dff8f3e-b178-42f9-9f20-cbb6008a2efc",
   "metadata": {},
   "outputs": [],
   "source": [
    "write_feather(test_mod, paste0(save_path,\"Seurat_true.feather\")) \n",
    "write_feather(Imp_New_peaks, paste0(save_path,\"Seurat_pred.feather\")) "
   ]
  },
  {
   "cell_type": "code",
   "execution_count": null,
   "id": "20fdc6bf-5fa5-4ce3-b1e6-714f7882aa7d",
   "metadata": {},
   "outputs": [],
   "source": []
  }
 ],
 "metadata": {
  "kernelspec": {
   "display_name": "r4.2",
   "language": "R",
   "name": "r4.2"
  },
  "language_info": {
   "codemirror_mode": "r",
   "file_extension": ".r",
   "mimetype": "text/x-r-source",
   "name": "R",
   "pygments_lexer": "r",
   "version": "4.2.0"
  }
 },
 "nbformat": 4,
 "nbformat_minor": 5
}
