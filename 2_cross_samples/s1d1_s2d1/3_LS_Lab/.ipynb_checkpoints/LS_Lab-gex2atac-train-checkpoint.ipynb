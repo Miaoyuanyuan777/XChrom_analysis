{
 "cells": [
  {
   "cell_type": "markdown",
   "id": "340ddf9c-0eaa-4663-82e7-20d461afd11e",
   "metadata": {},
   "source": [
    "## LS_Lab train"
   ]
  },
  {
   "cell_type": "code",
   "execution_count": 1,
   "id": "872b45f8-7443-4e53-85ad-8077d952d6a8",
   "metadata": {},
   "outputs": [],
   "source": [
    "import numpy as np\n",
    "import pandas as pd\n",
    "import scanpy as sc\n",
    "import anndata\n",
    "import logging\n",
    "import copy\n",
    "import sys\n",
    "from tqdm import tqdm\n",
    "import random\n",
    "import h5py\n",
    "from scipy.sparse import csr_matrix, coo_matrix, csc_matrix\n",
    "from scipy.io import mmread, mmwrite\n",
    "import torch\n",
    "import torch.nn as nn\n",
    "import torch.optim as optim\n",
    "from torch.utils.data.dataset import Dataset\n",
    "from sklearn.model_selection import StratifiedKFold\n",
    "from sklearn.ensemble import RandomForestRegressor\n",
    "from sklearn.decomposition import TruncatedSVD\n",
    "from sklearn.linear_model import LinearRegression\n",
    "from sklearn.neighbors import KNeighborsRegressor\n",
    "import seaborn as sns\n",
    "import matplotlib.pyplot as plt"
   ]
  },
  {
   "cell_type": "code",
   "execution_count": 3,
   "id": "72402903-c08c-4d48-b9f2-66fb66fe68d9",
   "metadata": {},
   "outputs": [],
   "source": [
    "meta = { 'functionality_name': 'lslab' }"
   ]
  },
  {
   "cell_type": "code",
   "execution_count": 4,
   "id": "3338433f-ebfa-45fc-b494-00a9be840134",
   "metadata": {},
   "outputs": [],
   "source": [
    "input_path = '../'\n",
    "input_train_mod1 = sc.read_h5ad(f'{input_path}/0_preprocess/processed_data/train_rna.h5ad')\n",
    "input_train_mod2 = sc.read_h5ad(f'{input_path}/0_preprocess/processed_data/train_atac.h5ad')\n",
    "final_input_test_mod1 = sc.read_h5ad(f'{input_path}/0_preprocess/processed_data/test_rna.h5ad')\n",
    "input_test_mod2 = sc.read_h5ad(f'{input_path}/0_preprocess/processed_data/test_atac.h5ad')\n",
    "save_path = './Results/'"
   ]
  },
  {
   "cell_type": "code",
   "execution_count": 5,
   "id": "e66c2d4b-bfd1-40d8-ac90-c263c6f91641",
   "metadata": {},
   "outputs": [],
   "source": [
    "input_train_mod1.var['feature_types'] = pd.Categorical(len(input_train_mod1.var_names)*['ATAC'])\n",
    "input_train_mod1.obs['batch'] = pd.Categorical(len(input_train_mod1.obs)*['batch1'])\n",
    "input_train_mod1.uns = {'dataset_id': 's1d1', 'organism': 'human'}\n",
    "\n",
    "input_train_mod2.var['feature_types'] = pd.Categorical(len(input_train_mod2.var_names)*['ATAC'])\n",
    "input_train_mod2.obs['batch'] = pd.Categorical(len(input_train_mod2.obs)*['batch1'])\n",
    "input_train_mod2.uns = {'dataset_id': 's1d1', 'organism': 'human'}"
   ]
  },
  {
   "cell_type": "code",
   "execution_count": 6,
   "id": "7687c52e-6f4c-4e36-ac56-843138485c6b",
   "metadata": {},
   "outputs": [
    {
     "name": "stdout",
     "output_type": "stream",
     "text": [
      "(6224, 12278) (4220, 12278)\n"
     ]
    }
   ],
   "source": [
    "common_genes = input_train_mod1.var_names.intersection(final_input_test_mod1.var_names)\n",
    "# common genes\n",
    "input_train_mod1 = input_train_mod1[:, common_genes]\n",
    "final_input_test_mod1 = final_input_test_mod1[:, common_genes]\n",
    "print(input_train_mod1.shape,final_input_test_mod1.shape)"
   ]
  },
  {
   "cell_type": "code",
   "execution_count": 7,
   "id": "55c9dbe8-7228-43d5-8d24-c8ab21757422",
   "metadata": {},
   "outputs": [
    {
     "name": "stdout",
     "output_type": "stream",
     "text": [
      "y length: 6224 [0, 0, 0]\n",
      "X                              cell_type   batch             Samplename  n_genes\n",
      "TAGTTGTCACCCTCAC-1-s1d1  Naive CD20+ B  batch1  site1_donor1_multiome      994\n",
      "CTATGGCCATAACGGG-1-s1d1     CD14+ Mono  batch1  site1_donor1_multiome     1057\n"
     ]
    }
   ],
   "source": [
    "dataset_id = \"gex2atac\"\n",
    "skf = StratifiedKFold(n_splits=10, shuffle=True, random_state=0)\n",
    "batches = set(input_train_mod1.obs[\"batch\"])\n",
    "batch_dict = {batch:i for i, batch in enumerate(batches)}\n",
    "y = []\n",
    "for i in range(input_train_mod1.n_obs):\n",
    "    y.append(int(batch_dict[input_train_mod1.obs[\"batch\"][i]]))\n",
    "print('y length:',len(y),y[:3])\n",
    "# Encode the labels of each batch and store them in the y list for stratified sampling during cross-validation.\n",
    "X = input_train_mod1.obs\n",
    "batches = np.array(y)\n",
    "inp_train_mod1 = input_train_mod1.copy()\n",
    "inp_train_mod2 = input_train_mod2.copy()\n",
    "print('X',X[:2])"
   ]
  },
  {
   "cell_type": "code",
   "execution_count": 11,
   "id": "93375afa-baec-4805-94e0-1aeccbf288e6",
   "metadata": {},
   "outputs": [
    {
     "name": "stdout",
     "output_type": "stream",
     "text": [
      "0\n",
      "ERROR! Session/line number was not unique in database. History logging moved to new session 3019\n",
      "1\n",
      "2\n",
      "3\n",
      "4\n",
      "5\n",
      "6\n",
      "7\n",
      "8\n",
      "9\n"
     ]
    }
   ],
   "source": [
    "fold = 0\n",
    "out1, out2 = 0, 0\n",
    "if \"gex2atac\" in dataset_id:\n",
    "    out_knn = 0\n",
    "    for train_index, test_index in skf.split(X, y):\n",
    "        print(fold)\n",
    "        fold += 1\n",
    "        input_test_mod1 = inp_train_mod1[test_index, :]\n",
    "        true_test_mod2 = inp_train_mod2[test_index, :]\n",
    "        input_train_mod1 = inp_train_mod1[train_index, :]\n",
    "        input_train_mod2 = inp_train_mod2[train_index, :]\n",
    "        input_mod1 = anndata.concat(\n",
    "                {\"train\": input_train_mod1, \"val\": input_test_mod1, \"test\": final_input_test_mod1},\n",
    "                axis=0,\n",
    "                join=\"outer\",\n",
    "                label=\"group\",\n",
    "                fill_value=0,\n",
    "                index_unique=\"-\",\n",
    "            )\n",
    "        logging.info('Performing dimensionality reduction on modality 1 values...')\n",
    "        embedder_mod1 = TruncatedSVD(n_components=50)\n",
    "        mod1_pca = embedder_mod1.fit_transform(input_mod1.X)\n",
    "        logging.info('Performing dimensionality reduction on modality 2 values...')\n",
    "        embedder_mod2 = TruncatedSVD(n_components=50)\n",
    "        mod2_pca = embedder_mod2.fit_transform(input_train_mod2.X)\n",
    "        X_train = mod1_pca[input_mod1.obs['group'] == 'train']\n",
    "        X_test = mod1_pca[input_mod1.obs['group'] == 'test']\n",
    "        y_train = mod2_pca\n",
    "        logging.info('Running Linear regression...')\n",
    "        reg = KNeighborsRegressor(n_neighbors=25, metric='minkowski')\n",
    "        reg.fit(X_train, y_train)\n",
    "        y_pred = reg.predict(X_test)\n",
    "        y_pred = y_pred @ embedder_mod2.components_\n",
    "        out_knn += y_pred\n",
    "        y_pred = out_knn / 10\n",
    "        y_pred = csc_matrix(y_pred)\n",
    "        adata = anndata.AnnData(\n",
    "            X=y_pred,\n",
    "        obs=final_input_test_mod1.obs,\n",
    "        var=inp_train_mod2.var,\n",
    "        uns={\n",
    "            'dataset_id': dataset_id,\n",
    "            'method_id': meta[\"functionality_name\"],\n",
    "        })\n",
    "        logging.info('Storing annotated data...')"
   ]
  },
  {
   "cell_type": "code",
   "execution_count": 12,
   "id": "04ecc763-1b4c-466f-ab94-15b6fc6b4ca1",
   "metadata": {},
   "outputs": [],
   "source": [
    "adata.write_h5ad(f'{save_path}/lslab_pred.h5ad')  ## cross-samples prediction"
   ]
  },
  {
   "cell_type": "code",
   "execution_count": null,
   "id": "979adc0c-bafc-422c-9e83-2a37d22b760e",
   "metadata": {},
   "outputs": [],
   "source": []
  }
 ],
 "metadata": {
  "kernelspec": {
   "display_name": "torch",
   "language": "python",
   "name": "torch"
  },
  "language_info": {
   "codemirror_mode": {
    "name": "ipython",
    "version": 3
   },
   "file_extension": ".py",
   "mimetype": "text/x-python",
   "name": "python",
   "nbconvert_exporter": "python",
   "pygments_lexer": "ipython3",
   "version": "3.8.20"
  }
 },
 "nbformat": 4,
 "nbformat_minor": 5
}
