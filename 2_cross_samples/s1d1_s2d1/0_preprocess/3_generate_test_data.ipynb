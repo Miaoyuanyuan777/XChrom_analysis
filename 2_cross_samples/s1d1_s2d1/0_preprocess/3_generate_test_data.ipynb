{
 "cells": [
  {
   "cell_type": "code",
   "execution_count": null,
   "id": "837541cf-c5a0-459d-aed2-568aa4f28ecb",
   "metadata": {},
   "outputs": [],
   "source": [
    "import xchrom as xc\n",
    "import scanpy as sc"
   ]
  },
  {
   "cell_type": "code",
   "execution_count": null,
   "id": "e59987f5-b6e8-4db4-8f0c-af9fe7570ba3",
   "metadata": {},
   "outputs": [],
   "source": [
    "path = './'\n",
    "test_atac = sc.read_h5ad(f'{path}/processed_data/test_atac.h5ad')\n",
    "input_fasta = '/picb/bigdata/project/miaoyuanyuan/hg38.fa'\n",
    "test_folder = f'{path}/test_data/'\n",
    "dict = xc.pp.process_test_dual(\n",
    "    ad_atac=test_atac, ## can be a str, Path, or anndata.AnnData object\n",
    "    input_fasta=input_fasta,\n",
    "    output_path=test_folder\n",
    ")"
   ]
  }
 ],
 "metadata": {
  "kernelspec": {
   "display_name": "py3.8_tf2.6.0",
   "language": "python",
   "name": "py3.8_tf2.6.0"
  },
  "language_info": {
   "codemirror_mode": {
    "name": "ipython",
    "version": 3
   },
   "file_extension": ".py",
   "mimetype": "text/x-python",
   "name": "python",
   "nbconvert_exporter": "python",
   "pygments_lexer": "ipython3",
   "version": "3.8.15"
  }
 },
 "nbformat": 4,
 "nbformat_minor": 5
}
