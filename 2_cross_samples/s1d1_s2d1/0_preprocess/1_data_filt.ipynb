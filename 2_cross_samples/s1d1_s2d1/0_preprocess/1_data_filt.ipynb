{
 "cells": [
  {
   "cell_type": "markdown",
   "id": "b3dc97f3-7f11-4479-8e8b-57aa052c0ece",
   "metadata": {},
   "source": [
    "## extract dataset of s1d1 & s2d1,as training data and testing data respectively"
   ]
  },
  {
   "cell_type": "code",
   "execution_count": 1,
   "id": "3eb3d582-e183-43cc-963a-ecf0319be9d2",
   "metadata": {},
   "outputs": [],
   "source": [
    "import scanpy as sc\n",
    "import anndata as ad\n",
    "import numpy as np\n",
    "import xchrom as xc"
   ]
  },
  {
   "cell_type": "code",
   "execution_count": 2,
   "id": "02c83a78-3474-45c5-91c9-68b652d73fa9",
   "metadata": {},
   "outputs": [],
   "source": [
    "path = '/picb/bigdata/project/miaoyuanyuan/train/XChrom_analysis/2_cross_samples/s1d1_s2d1/0_preprocess/'\n",
    "bmmc = sc.read_h5ad(f'{path}/raw_data/bmmc_GSE194122.h5ad')"
   ]
  },
  {
   "cell_type": "code",
   "execution_count": 3,
   "id": "81bbcca2-cfa7-40b7-81a2-89bf97dd78b2",
   "metadata": {},
   "outputs": [],
   "source": [
    "train = 'site1_donor1_multiome'\n",
    "test = 'site2_donor1_multiome'"
   ]
  },
  {
   "cell_type": "code",
   "execution_count": 4,
   "id": "f3f62f4b-b9e8-4dcb-814a-4da1d9261b74",
   "metadata": {},
   "outputs": [
    {
     "data": {
      "text/plain": [
       "AnnData object with n_obs × n_vars = 69249 × 129921\n",
       "    obs: 'GEX_pct_counts_mt', 'GEX_n_counts', 'GEX_n_genes', 'GEX_size_factors', 'GEX_phase', 'ATAC_nCount_peaks', 'ATAC_atac_fragments', 'ATAC_reads_in_peaks_frac', 'ATAC_blacklist_fraction', 'ATAC_nucleosome_signal', 'cell_type', 'batch', 'ATAC_pseudotime_order', 'GEX_pseudotime_order', 'Samplename', 'Site', 'DonorNumber', 'Modality', 'VendorLot', 'DonorID', 'DonorAge', 'DonorBMI', 'DonorBloodType', 'DonorRace', 'Ethnicity', 'DonorGender', 'QCMeds', 'DonorSmoker'\n",
       "    var: 'feature_types', 'gene_id'\n",
       "    uns: 'ATAC_gene_activity_var_names', 'dataset_id', 'genome', 'organism'\n",
       "    obsm: 'ATAC_gene_activity', 'ATAC_lsi_full', 'ATAC_lsi_red', 'ATAC_umap', 'GEX_X_pca', 'GEX_X_umap'\n",
       "    layers: 'counts'"
      ]
     },
     "execution_count": 4,
     "metadata": {},
     "output_type": "execute_result"
    }
   ],
   "source": [
    "bmmc"
   ]
  },
  {
   "cell_type": "code",
   "execution_count": 5,
   "id": "a5cb0083-9561-430b-b999-3c08493fc32c",
   "metadata": {},
   "outputs": [],
   "source": [
    "adata = bmmc[(bmmc.obs['Samplename'] == train) | (bmmc.obs['Samplename'] == test)]"
   ]
  },
  {
   "cell_type": "code",
   "execution_count": 6,
   "id": "9e2851e2-df14-4a9b-89d4-c806cdfdbe20",
   "metadata": {},
   "outputs": [
    {
     "data": {
      "text/plain": [
       "Samplename\n",
       "site1_donor1_multiome    6224\n",
       "site2_donor1_multiome    4220\n",
       "dtype: int64"
      ]
     },
     "execution_count": 6,
     "metadata": {},
     "output_type": "execute_result"
    }
   ],
   "source": [
    "adata.obs.groupby('Samplename').size()"
   ]
  },
  {
   "cell_type": "code",
   "execution_count": 7,
   "id": "7bb8199a-c134-4b35-ab41-292240b1f40e",
   "metadata": {},
   "outputs": [],
   "source": [
    "adata.layers['counts'] = adata.layers['counts'].astype(np.int32)\n",
    "adata.X = adata.layers['counts'].copy()\n",
    "# Create a new AnnData and retain the layers of interest\n",
    "adata = ad.AnnData(\n",
    "    X=adata.X.copy(),\n",
    "    obs=adata.obs.copy(),\n",
    "    var=adata.var.copy()\n",
    ")\n",
    "adata.obs = adata.obs[['cell_type','batch','Samplename']] \n",
    "\n",
    "adata_rna = adata[:, adata.var['feature_types']=='GEX']\n",
    "adata_atac = adata[:, adata.var['feature_types']=='ATAC']"
   ]
  },
  {
   "cell_type": "code",
   "execution_count": 8,
   "id": "1cd62f5d-3312-4c4d-9fa9-ad8c5cfbbb5d",
   "metadata": {},
   "outputs": [
    {
     "name": "stderr",
     "output_type": "stream",
     "text": [
      "/tmp/ipykernel_16760/2766228937.py:7: ImplicitModificationWarning: Trying to modify attribute `.var` of view, initializing view as actual.\n",
      "  adata_atac.var['chr'] = chromosome_start_end_df['chr']\n"
     ]
    },
    {
     "name": "stdout",
     "output_type": "stream",
     "text": [
      "                     chr   start     end\n",
      "chr1-9776-10668     chr1    9776   10668\n",
      "chr1-180726-181005  chr1  180726  181005\n",
      "chr1-181117-181803  chr1  181117  181803\n",
      "chr1-191133-192055  chr1  191133  192055\n",
      "chr1-267562-268456  chr1  267562  268456\n"
     ]
    }
   ],
   "source": [
    "## Break down the features in var into chr, start, and end\n",
    "features = adata_atac.var.index\n",
    "chromosome_start_end = features.str.split(\"-\", n=2, expand=True)\n",
    "chromosome_start_end_df = chromosome_start_end.to_frame(index=False)\n",
    "chromosome_start_end_df.columns = [\"chr\", \"start\", \"end\"]\n",
    "chromosome_start_end_df.index = adata_atac.var.index\n",
    "adata_atac.var['chr'] = chromosome_start_end_df['chr']\n",
    "adata_atac.var['start'] = chromosome_start_end_df['start'].astype(int)\n",
    "adata_atac.var['end'] = chromosome_start_end_df['end'].astype(int)\n",
    "print(adata_atac.var[['chr', 'start', 'end']].head())"
   ]
  },
  {
   "cell_type": "code",
   "execution_count": 11,
   "id": "e5636afe-673e-4d3d-bf60-88400b0f3352",
   "metadata": {},
   "outputs": [
    {
     "name": "stdout",
     "output_type": "stream",
     "text": [
      "RNA data after filtering: View of AnnData object with n_obs × n_vars = 10444 × 12278\n",
      "    obs: 'cell_type', 'batch', 'Samplename', 'n_genes'\n",
      "    var: 'feature_types', 'gene_id', 'n_cells'\n",
      "ATAC data after filtering: View of AnnData object with n_obs × n_vars = 10444 × 53735\n",
      "    obs: 'cell_type', 'batch', 'Samplename', 'n_genes'\n",
      "    var: 'feature_types', 'gene_id', 'chr', 'start', 'end', 'n_cells'\n"
     ]
    }
   ],
   "source": [
    "adata_rna, adata_atac = xc.pp.filter_multiome_data(\n",
    "    ad_rna=adata_rna,\n",
    "    ad_atac=adata_atac,\n",
    "    species='human',\n",
    "    filter_ratio=0.01\n",
    ")"
   ]
  },
  {
   "cell_type": "code",
   "execution_count": 12,
   "id": "50697b71-3908-4eca-bdf8-c7dcaafcfb98",
   "metadata": {},
   "outputs": [
    {
     "name": "stderr",
     "output_type": "stream",
     "text": [
      "/home/miaoyuanyuan/miniconda3/envs/py3.8_tf2.6.0/lib/python3.8/site-packages/anndata/_core/anndata.py:1230: ImplicitModificationWarning: Trying to modify attribute `.var` of view, initializing view as actual.\n",
      "  df[key] = c\n",
      "/home/miaoyuanyuan/miniconda3/envs/py3.8_tf2.6.0/lib/python3.8/site-packages/anndata/_core/anndata.py:1230: ImplicitModificationWarning: Trying to modify attribute `.var` of view, initializing view as actual.\n",
      "  df[key] = c\n"
     ]
    }
   ],
   "source": [
    "train_atac = adata_atac[(adata_atac.obs['Samplename'] == train)]\n",
    "test_atac = adata_atac[(adata_atac.obs['Samplename'] == test)]\n",
    "\n",
    "train_rna = adata_rna[(adata_rna.obs['Samplename'] == train)]\n",
    "test_rna = adata_rna[(adata_rna.obs['Samplename'] == test)]\n",
    "\n",
    "train_atac.write_h5ad(f'{path}/processed_data/train_atac.h5ad')\n",
    "test_atac.write_h5ad(f'{path}/processed_data/test_atac.h5ad')\n",
    "train_rna.write_h5ad(f'{path}/processed_data/train_rna.h5ad')\n",
    "test_rna.write_h5ad(f'{path}/processed_data/test_rna.h5ad')"
   ]
  },
  {
   "cell_type": "code",
   "execution_count": null,
   "id": "7063545f-a4cf-43b5-a99a-4758071b11d4",
   "metadata": {},
   "outputs": [],
   "source": []
  }
 ],
 "metadata": {
  "kernelspec": {
   "display_name": "py3.8_tf2.6.0",
   "language": "python",
   "name": "py3.8_tf2.6.0"
  },
  "language_info": {
   "codemirror_mode": {
    "name": "ipython",
    "version": 3
   },
   "file_extension": ".py",
   "mimetype": "text/x-python",
   "name": "python",
   "nbconvert_exporter": "python",
   "pygments_lexer": "ipython3",
   "version": "3.8.15"
  }
 },
 "nbformat": 4,
 "nbformat_minor": 5
}
