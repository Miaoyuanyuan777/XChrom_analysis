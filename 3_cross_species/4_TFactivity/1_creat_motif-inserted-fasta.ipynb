{
 "cells": [
  {
   "cell_type": "markdown",
   "id": "7242b32e-9a4a-4a81-82ef-aa944a4cbac2",
   "metadata": {},
   "source": [
    "## fasta files for constructing random sequences and sequences after inserting motifs\n",
    "- Take the peaks of the m1d1 sample as an example"
   ]
  },
  {
   "cell_type": "code",
   "execution_count": 1,
   "id": "251ffd97-9560-4057-a383-ec3a11a26043",
   "metadata": {},
   "outputs": [],
   "source": [
    "import xchrom as xc"
   ]
  },
  {
   "cell_type": "code",
   "execution_count": 2,
   "id": "634dc3d3-f728-4fee-af68-2c8b7f8f99cb",
   "metadata": {},
   "outputs": [
    {
     "name": "stdout",
     "output_type": "stream",
     "text": [
      "=== Start preparing motif data ===\n",
      "1. Read BED file: ../0_preprocess/test_data/human/m1d1/peaks.bed\n",
      "Sampled 1000 regions from ../0_preprocess/test_data/human/m1d1/peaks.bed\n",
      "2. Extract background sequences...\n",
      "Extracting sequences from BED file...\n",
      "Reference genome: /picb/bigdata/project/miaoyuanyuan/hg38.fa\n",
      "Sequence length: 1344\n",
      "Consider strand information: False\n",
      "Successfully extracted 1000 sequences\n",
      "Writing to FASTA file: motif_fasta/ref_peaks1000.fasta\n",
      "FASTA file saved to: motif_fasta/ref_peaks1000.fasta\n",
      "Number of sequences written: 1000\n",
      "Extracted 1000 sequences, saved to motif_fasta/ref_peaks1000.fasta\n",
      "3. Generate shuffled background sequences...\n",
      "Using fasta_ushuffle from: /home/miaoyuanyuan/miniconda3/envs/py3.8_tf2.6.0/bin/fasta_ushuffle\n",
      "Dinucleotide shuffled 1000 sequences, saved to motif_fasta/shuffled_peaks.fasta\n",
      "4. Read motif file(meme format)...\n",
      "Read 1065 motifs from ../3_ISM/motif_databases/CIS-BP_2.00/Homo_sapiens.meme\n",
      "5. Generate motif inserted sequences...\n"
     ]
    },
    {
     "name": "stderr",
     "output_type": "stream",
     "text": [
      "Processing motifs: 100%|███████████████████████████████████████████████████████████████████████████████████████████████████████| 1065/1065 [05:12<00:00,  3.41it/s]"
     ]
    },
    {
     "name": "stdout",
     "output_type": "stream",
     "text": [
      "=== motif data preparation completed ===\n",
      "Background sequence file: motif_fasta/shuffled_peaks.fasta\n",
      "Motif inserted sequence directory: motif_fasta/shuffled_peaks_motifs\n"
     ]
    },
    {
     "name": "stderr",
     "output_type": "stream",
     "text": [
      "\n"
     ]
    }
   ],
   "source": [
    "seq_path = xc.tl.generate_tf_activity_data(\n",
    "    bed_file = '../0_preprocess/test_data/human/m1d1/peaks.bed',  ## to generate background sequence\n",
    "    input_fasta = '/picb/bigdata/project/miaoyuanyuan/hg38.fa',\n",
    "    motif_file = '../3_ISM/motif_databases/CIS-BP_2.00/Homo_sapiens.meme',\n",
    "    output_dir = './motif_fasta/',\n",
    "    n_samples = 1000,\n",
    "    n_motif_instances = 1000)"
   ]
  }
 ],
 "metadata": {
  "kernelspec": {
   "display_name": "py3.8_tf2.6.0",
   "language": "python",
   "name": "py3.8_tf2.6.0"
  },
  "language_info": {
   "codemirror_mode": {
    "name": "ipython",
    "version": 3
   },
   "file_extension": ".py",
   "mimetype": "text/x-python",
   "name": "python",
   "nbconvert_exporter": "python",
   "pygments_lexer": "ipython3",
   "version": "3.8.15"
  }
 },
 "nbformat": 4,
 "nbformat_minor": 5
}
