{
 "cells": [
  {
   "cell_type": "markdown",
   "id": "2485c7b9-e37a-4062-b2ae-c51245ed6336",
   "metadata": {},
   "source": [
    "## fasta files for constructing random sequences and sequences after inserting motifs\n",
    "- Take the peaks of the m1d1 sample as an example"
   ]
  },
  {
   "cell_type": "code",
   "execution_count": 2,
   "id": "7277b6b9-70c8-4ed3-acff-3a67017455dd",
   "metadata": {},
   "outputs": [],
   "source": [
    "library(rtracklayer) \n",
    "library(GenomicRanges) \n",
    "library(Rsamtools)    \n",
    "library(Biostrings)   \n",
    "library(universalmotif)"
   ]
  },
  {
   "cell_type": "code",
   "execution_count": 4,
   "id": "d8a8c0af-ab72-40ce-95e7-ef79c07632a8",
   "metadata": {},
   "outputs": [],
   "source": [
    "# dir.create(\"./motif_fasta\")\n",
    "path = '/picb/bigdata/project/miaoyuanyuan/train/XChrom_analysis/3_cross_species/'"
   ]
  },
  {
   "cell_type": "code",
   "execution_count": 5,
   "id": "6d8607fb-fd16-4a4e-a53f-946cc9d34964",
   "metadata": {},
   "outputs": [],
   "source": [
    "#######################################\n",
    "# generate dinucleotide shuffled seqs #\n",
    "#######################################\n",
    "bed <- import.bed(paste0(path,\"0_preprocess/test_data/human/m1d1/peaks.bed\"))\n",
    "bed <- resize(bed, width=1344, fix=\"center\")\n",
    "set.seed(10)\n",
    "examples <- sample(bed, 1000)\n",
    "\n",
    "# Extract the corresponding sequence from the fasta file\n",
    "fa <- FaFile(\"/picb/bigdata/project/miaoyuanyuan/hg38.fa\")\n",
    "seqs <- getSeq(fa, examples)\n",
    "writeXStringSet(seqs, \"./motif_fasta/ref_peaks1000.fasta\", format=\"fasta\", width=1344) \n",
    "## run 1_shuffle_seq.sh to get shuffled sequences:shuffled_peaks.fasta"
   ]
  },
  {
   "cell_type": "code",
   "execution_count": 7,
   "id": "417cc62f-107b-42c6-b61e-87d7aadc393d",
   "metadata": {},
   "outputs": [],
   "source": [
    "################\n",
    "# read motifs #\n",
    "################\n",
    "motifs <- read_meme(paste0(path,\"/3_ISM/motif_databases/CIS-BP_2.00/Homo_sapiens.meme\"))\n",
    "shuffled_pks <- readDNAStringSet(\"./motif_fasta/shuffled_peaks.fasta\", format=\"fasta\")\n",
    "# dir.create(\"./motif_fasta/shuffled_peaks_motifs/\")"
   ]
  },
  {
   "cell_type": "code",
   "execution_count": 9,
   "id": "e3e9fc54-88f8-41db-a943-cd1222b77e99",
   "metadata": {},
   "outputs": [],
   "source": [
    "#######################\n",
    "# write fasta + motif #\n",
    "#######################\n",
    "for (i in 1:length(motifs)) {\n",
    "  tf <- gsub(\"\\\\(|\\\\)\",\"\", strsplit(motifs[[i]]@altname, \"_\")[[1]][1])\n",
    "  pwm <- motifs[[i]]@motif\n",
    "  set.seed(10)\n",
    "  out <- apply(pwm, 2, function(x) {\n",
    "    return(sample(rownames(pwm), 1000, replace=T, prob=x))\n",
    "  })\n",
    "    ## Generate 1000 simulated motif instances (each with a length equal to the number of PWM columns), \n",
    "    ## where x is sampled based on the probability of each base and is reversible\n",
    "  motif_seqs <- apply(out, 1, function(x) paste(x, collapse=\"\"))\n",
    "  # insert motif seqs to the center of shuffled peaks\n",
    "  left_coord <- width(shuffled_pks)[1]/2 - floor(ncol(pwm)/2)\n",
    "  left <- as.character(subseq(shuffled_pks, start=1, end=left_coord))\n",
    "  right <- as.character(subseq(shuffled_pks, start=left_coord+ncol(pwm)+1, end=width(shuffled_pks)[1]))\n",
    "  shuffled_pks_motifs <- DNAStringSet(paste0(left, motif_seqs, right))\n",
    "  writeXStringSet(shuffled_pks_motifs, paste0(\"./motif_fasta/shuffled_peaks_motifs/\", tf, \".fasta\"), format=\"fasta\")\n",
    "}"
   ]
  },
  {
   "cell_type": "code",
   "execution_count": null,
   "id": "a366cc98-ca90-4b66-b620-f1d91222853b",
   "metadata": {},
   "outputs": [],
   "source": []
  }
 ],
 "metadata": {
  "kernelspec": {
   "display_name": "r4.2",
   "language": "R",
   "name": "r4.2"
  },
  "language_info": {
   "codemirror_mode": "r",
   "file_extension": ".r",
   "mimetype": "text/x-r-source",
   "name": "R",
   "pygments_lexer": "r",
   "version": "4.2.0"
  }
 },
 "nbformat": 4,
 "nbformat_minor": 5
}
