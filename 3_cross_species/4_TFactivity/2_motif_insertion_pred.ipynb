{
 "cells": [
  {
   "cell_type": "markdown",
   "id": "621a2a77-041e-4237-bdeb-bb130c3cb953",
   "metadata": {},
   "source": [
    "## 🍊Model prediction was conducted on the generated shuffled peaks.fasta and the sequence after inserting the motif\n",
    "- Input:\n",
    "    - mouse trained model,             \n",
    "    - m1d1 cell embedding,\n",
    "    - background_shuffled peaks,\n",
    "    - motif insertion peaks"
   ]
  },
  {
   "cell_type": "code",
   "execution_count": 1,
   "id": "b2f2157b-cff3-43b5-bd0b-b226900f8f6a",
   "metadata": {},
   "outputs": [],
   "source": [
    "import xchrom as xc\n",
    "import scanpy as sc"
   ]
  },
  {
   "cell_type": "code",
   "execution_count": 3,
   "id": "fce5a995-f16c-45b2-8d76-b15e4b1e8389",
   "metadata": {},
   "outputs": [
    {
     "name": "stdout",
     "output_type": "stream",
     "text": [
      "=== Start calculating TF Activity ===\n",
      "1. Prepare raw cell embedding...\n",
      "2. Generate motif insertion sequence h5 files...\n"
     ]
    },
    {
     "name": "stderr",
     "output_type": "stream",
     "text": [
      "Generating H5 files: 100%|█████████████████████████████████████████████████████████████████████████████████████████████████████| 1065/1065 [06:56<00:00,  2.56it/s]\n"
     ]
    },
    {
     "name": "stdout",
     "output_type": "stream",
     "text": [
      "Found 1065 motif files\n",
      "3. Generate background sequence h5 file...\n",
      "Generating background sequence h5 file...\n",
      "4. Prepare data for XChrom model input...\n",
      "Converting adata.X to dense array. For large datasets, consider pre-computing and saving as sparse matrix.\n",
      "5. Load trained model...\n",
      "6. Calculate background sequence prediction...\n"
     ]
    },
    {
     "name": "stderr",
     "output_type": "stream",
     "text": [
      "2025-08-20 09:17:56.738451: I tensorflow/compiler/mlir/mlir_graph_optimization_pass.cc:185] None of the MLIR Optimization Passes are enabled (registered 2)\n",
      "2025-08-20 09:17:59.172001: I tensorflow/stream_executor/cuda/cuda_dnn.cc:369] Loaded cuDNN version 8800\n",
      "2025-08-20 09:17:59.336205: I tensorflow/stream_executor/cuda/cuda_blas.cc:1760] TensorFloat-32 will be used for the matrix multiplication. This will only be logged once.\n"
     ]
    },
    {
     "name": "stdout",
     "output_type": "stream",
     "text": [
      "7. Calculate motif insertion scores...\n",
      "Processing 1065 motif files...\n"
     ]
    },
    {
     "name": "stderr",
     "output_type": "stream",
     "text": [
      "100%|██████████████████████████████████████████████████████████████████████████████████████████████████████████████████████████| 1065/1065 [39:29<00:00,  2.22s/it]\n"
     ]
    },
    {
     "name": "stdout",
     "output_type": "stream",
     "text": [
      "8. Save results...\n",
      "=== Done! Results saved to: activity_out/Mmodel_m1d1_tfactivity.h5ad ===\n",
      "TF activity matrix shape: (4489, 1065) (cells × motifs)\n"
     ]
    }
   ],
   "source": [
    "rna = sc.read_h5ad('../0_preprocess/harmony_pca/m1d1_rna_harmony.h5ad')\n",
    "tf_act = xc.tl.calc_tf_activity(\n",
    "    motif_dir = './motif_fasta/shuffled_peaks_motifs/',\n",
    "    background_fasta = './motif_fasta/shuffled_peaks.fasta',\n",
    "    model_path = '../1_XChrom_train/mouse_mop3c2_train/train_out/E1000best_model.h5',\n",
    "    ad_rna = rna,\n",
    "    output_file = './activity_out/Mmodel_m1d1_tfactivity.h5ad',\n",
    "    cell_embed_raw = 'X_pca_harmony',\n",
    "    regenerate_motif_h5 = True,\n",
    "    regenerate_bg_h5 = True)"
   ]
  },
  {
   "cell_type": "code",
   "execution_count": null,
   "id": "9440af29-2c23-4927-9a3f-1837efb37abf",
   "metadata": {},
   "outputs": [],
   "source": []
  }
 ],
 "metadata": {
  "kernelspec": {
   "display_name": "py3.8_tf2.6.0",
   "language": "python",
   "name": "py3.8_tf2.6.0"
  },
  "language_info": {
   "codemirror_mode": {
    "name": "ipython",
    "version": 3
   },
   "file_extension": ".py",
   "mimetype": "text/x-python",
   "name": "python",
   "nbconvert_exporter": "python",
   "pygments_lexer": "ipython3",
   "version": "3.8.15"
  }
 },
 "nbformat": 4,
 "nbformat_minor": 5
}
