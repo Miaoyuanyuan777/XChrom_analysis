{
 "cells": [
  {
   "cell_type": "markdown",
   "id": "9aaaaf53-0a7a-47fe-a62b-7027f8946461",
   "metadata": {},
   "source": [
    "## find the 1v1 homologous genes of four species and generate this file for batch correction"
   ]
  },
  {
   "cell_type": "code",
   "execution_count": 1,
   "id": "f25dc38a-2f56-44bb-8f64-bdf84140b09a",
   "metadata": {},
   "outputs": [
    {
     "name": "stderr",
     "output_type": "stream",
     "text": [
      "Warning message:\n",
      "“package ‘biomaRt’ was built under R version 4.2.2”\n",
      "Warning message:\n",
      "“package ‘dplyr’ was built under R version 4.2.3”\n",
      "\n",
      "Attaching package: ‘dplyr’\n",
      "\n",
      "\n",
      "The following object is masked from ‘package:biomaRt’:\n",
      "\n",
      "    select\n",
      "\n",
      "\n",
      "The following objects are masked from ‘package:stats’:\n",
      "\n",
      "    filter, lag\n",
      "\n",
      "\n",
      "The following objects are masked from ‘package:base’:\n",
      "\n",
      "    intersect, setdiff, setequal, union\n",
      "\n",
      "\n"
     ]
    }
   ],
   "source": [
    "library(biomaRt)\n",
    "library(dplyr)\n",
    "ensembl <- useMart(\"ensembl\")"
   ]
  },
  {
   "cell_type": "code",
   "execution_count": 2,
   "id": "1873b781-67ac-4084-9f42-7305638436d0",
   "metadata": {},
   "outputs": [
    {
     "name": "stdout",
     "output_type": "stream",
     "text": [
      "'data.frame':\t12481 obs. of  2 variables:\n",
      " $ ids  : chr  \"ENSG00000237491\" \"ENSG00000228794\" \"ENSG00000188976\" \"ENSG00000188290\" ...\n",
      " $ names: chr  \"LINC01409\" \"LINC01128\" \"NOC2L\" \"HES4\" ...\n"
     ]
    }
   ],
   "source": [
    "## load human gene list\n",
    "hu <- read.csv('./hu_genelst.csv', row.names = NULL)\n",
    "str(hu)"
   ]
  },
  {
   "cell_type": "code",
   "execution_count": 3,
   "id": "c2a97506-a86d-426e-98ce-c4eb0fc45bbe",
   "metadata": {},
   "outputs": [
    {
     "data": {
      "text/html": [
       "<table class=\"dataframe\">\n",
       "<caption>A data.frame: 6 × 3</caption>\n",
       "<thead>\n",
       "\t<tr><th></th><th scope=col>dataset</th><th scope=col>description</th><th scope=col>version</th></tr>\n",
       "\t<tr><th></th><th scope=col>&lt;I&lt;chr&gt;&gt;</th><th scope=col>&lt;I&lt;chr&gt;&gt;</th><th scope=col>&lt;I&lt;chr&gt;&gt;</th></tr>\n",
       "</thead>\n",
       "<tbody>\n",
       "\t<tr><th scope=row>1</th><td>abrachyrhynchus_gene_ensembl</td><td>Pink-footed goose genes (ASM259213v1)</td><td>ASM259213v1</td></tr>\n",
       "\t<tr><th scope=row>2</th><td>acalliptera_gene_ensembl    </td><td>Eastern happy genes (fAstCal1.3)     </td><td>fAstCal1.3 </td></tr>\n",
       "\t<tr><th scope=row>3</th><td>acarolinensis_gene_ensembl  </td><td>Green anole genes (AnoCar2.0v2)      </td><td>AnoCar2.0v2</td></tr>\n",
       "\t<tr><th scope=row>4</th><td>acchrysaetos_gene_ensembl   </td><td>Golden eagle genes (bAquChr1.2)      </td><td>bAquChr1.2 </td></tr>\n",
       "\t<tr><th scope=row>5</th><td>acitrinellus_gene_ensembl   </td><td>Midas cichlid genes (Midas_v5)       </td><td>Midas_v5   </td></tr>\n",
       "\t<tr><th scope=row>6</th><td>amelanoleuca_gene_ensembl   </td><td>Giant panda genes (ASM200744v2)      </td><td>ASM200744v2</td></tr>\n",
       "</tbody>\n",
       "</table>\n"
      ],
      "text/latex": [
       "A data.frame: 6 × 3\n",
       "\\begin{tabular}{r|lll}\n",
       "  & dataset & description & version\\\\\n",
       "  & <I<chr>> & <I<chr>> & <I<chr>>\\\\\n",
       "\\hline\n",
       "\t1 & abrachyrhynchus\\_gene\\_ensembl & Pink-footed goose genes (ASM259213v1) & ASM259213v1\\\\\n",
       "\t2 & acalliptera\\_gene\\_ensembl     & Eastern happy genes (fAstCal1.3)      & fAstCal1.3 \\\\\n",
       "\t3 & acarolinensis\\_gene\\_ensembl   & Green anole genes (AnoCar2.0v2)       & AnoCar2.0v2\\\\\n",
       "\t4 & acchrysaetos\\_gene\\_ensembl    & Golden eagle genes (bAquChr1.2)       & bAquChr1.2 \\\\\n",
       "\t5 & acitrinellus\\_gene\\_ensembl    & Midas cichlid genes (Midas\\_v5)        & Midas\\_v5   \\\\\n",
       "\t6 & amelanoleuca\\_gene\\_ensembl    & Giant panda genes (ASM200744v2)       & ASM200744v2\\\\\n",
       "\\end{tabular}\n"
      ],
      "text/markdown": [
       "\n",
       "A data.frame: 6 × 3\n",
       "\n",
       "| <!--/--> | dataset &lt;I&lt;chr&gt;&gt; | description &lt;I&lt;chr&gt;&gt; | version &lt;I&lt;chr&gt;&gt; |\n",
       "|---|---|---|---|\n",
       "| 1 | abrachyrhynchus_gene_ensembl | Pink-footed goose genes (ASM259213v1) | ASM259213v1 |\n",
       "| 2 | acalliptera_gene_ensembl     | Eastern happy genes (fAstCal1.3)      | fAstCal1.3  |\n",
       "| 3 | acarolinensis_gene_ensembl   | Green anole genes (AnoCar2.0v2)       | AnoCar2.0v2 |\n",
       "| 4 | acchrysaetos_gene_ensembl    | Golden eagle genes (bAquChr1.2)       | bAquChr1.2  |\n",
       "| 5 | acitrinellus_gene_ensembl    | Midas cichlid genes (Midas_v5)        | Midas_v5    |\n",
       "| 6 | amelanoleuca_gene_ensembl    | Giant panda genes (ASM200744v2)       | ASM200744v2 |\n",
       "\n"
      ],
      "text/plain": [
       "  dataset                      description                          \n",
       "1 abrachyrhynchus_gene_ensembl Pink-footed goose genes (ASM259213v1)\n",
       "2 acalliptera_gene_ensembl     Eastern happy genes (fAstCal1.3)     \n",
       "3 acarolinensis_gene_ensembl   Green anole genes (AnoCar2.0v2)      \n",
       "4 acchrysaetos_gene_ensembl    Golden eagle genes (bAquChr1.2)      \n",
       "5 acitrinellus_gene_ensembl    Midas cichlid genes (Midas_v5)       \n",
       "6 amelanoleuca_gene_ensembl    Giant panda genes (ASM200744v2)      \n",
       "  version    \n",
       "1 ASM259213v1\n",
       "2 fAstCal1.3 \n",
       "3 AnoCar2.0v2\n",
       "4 bAquChr1.2 \n",
       "5 Midas_v5   \n",
       "6 ASM200744v2"
      ]
     },
     "metadata": {},
     "output_type": "display_data"
    }
   ],
   "source": [
    "datasets <- listDatasets(ensembl)\n",
    "head(datasets)\n",
    "# ensembl_human <- useDataset(\"hsapiens_gene_ensembl\", mart = ensembl)"
   ]
  },
  {
   "cell_type": "code",
   "execution_count": 1,
   "id": "cb9fc112-c612-4721-9297-92721ef5b612",
   "metadata": {},
   "outputs": [],
   "source": [
    "hu_ensembl <- useEnsembl(biomart = \"ENSEMBL_MART_ENSEMBL\", \n",
    "                            dataset = \"hsapiens_gene_ensembl\", \n",
    "                            host = \"https://www.ensembl.org\")"
   ]
  },
  {
   "cell_type": "code",
   "execution_count": 198,
   "id": "39bcb3ed-fdc7-492e-8e17-0b8549c18f20",
   "metadata": {},
   "outputs": [
    {
     "name": "stderr",
     "output_type": "stream",
     "text": [
      "\n",
      "Batch submitting query [=========>---------------------]  33% eta: 29s\n",
      "\n",
      "Batch submitting query [====================>----------]  67% eta: 13s\n",
      "                                                                      \n",
      "\n"
     ]
    }
   ],
   "source": [
    "homologs <- getBM(attributes = c(\"ensembl_gene_id\", \"external_gene_name\", \n",
    "                                 \"cjacchus_homolog_ensembl_gene\", \"cjacchus_homolog_associated_gene_name\",\n",
    "                                 'cjacchus_homolog_orthology_type',\n",
    "                                 \"mmusculus_homolog_ensembl_gene\",'mmusculus_homolog_associated_gene_name',\n",
    "                                 'mmusculus_homolog_orthology_type',\n",
    "                                 \"mmulatta_homolog_ensembl_gene\", \"mmulatta_homolog_associated_gene_name\",\n",
    "                                'mmulatta_homolog_orthology_type'),\n",
    "                  mart = hu_ensembl,values = hu$ids,filters = 'ensembl_gene_id')"
   ]
  },
  {
   "cell_type": "code",
   "execution_count": 199,
   "id": "17a2e115-4b58-4765-83ab-e55b2b1bc761",
   "metadata": {},
   "outputs": [
    {
     "data": {
      "text/html": [
       "<table class=\"dataframe\">\n",
       "<caption>A data.frame: 6 × 11</caption>\n",
       "<thead>\n",
       "\t<tr><th></th><th scope=col>ensembl_gene_id</th><th scope=col>external_gene_name</th><th scope=col>cjacchus_homolog_ensembl_gene</th><th scope=col>cjacchus_homolog_associated_gene_name</th><th scope=col>cjacchus_homolog_orthology_type</th><th scope=col>mmusculus_homolog_ensembl_gene</th><th scope=col>mmusculus_homolog_associated_gene_name</th><th scope=col>mmusculus_homolog_orthology_type</th><th scope=col>mmulatta_homolog_ensembl_gene</th><th scope=col>mmulatta_homolog_associated_gene_name</th><th scope=col>mmulatta_homolog_orthology_type</th></tr>\n",
       "\t<tr><th></th><th scope=col>&lt;chr&gt;</th><th scope=col>&lt;chr&gt;</th><th scope=col>&lt;chr&gt;</th><th scope=col>&lt;chr&gt;</th><th scope=col>&lt;chr&gt;</th><th scope=col>&lt;chr&gt;</th><th scope=col>&lt;chr&gt;</th><th scope=col>&lt;chr&gt;</th><th scope=col>&lt;chr&gt;</th><th scope=col>&lt;chr&gt;</th><th scope=col>&lt;chr&gt;</th></tr>\n",
       "</thead>\n",
       "<tbody>\n",
       "\t<tr><th scope=row>1</th><td>ENSG00000000457</td><td>SCYL3 </td><td>ENSCJAG00000010050</td><td>SCYL3 </td><td>ortholog_one2one</td><td>ENSMUSG00000026584</td><td>Scyl3 </td><td>ortholog_one2one</td><td>ENSMMUG00000016583</td><td>SCYL3 </td><td>ortholog_one2one</td></tr>\n",
       "\t<tr><th scope=row>2</th><td>ENSG00000000460</td><td>FIRRM </td><td>ENSCJAG00000010088</td><td>FIRRM </td><td>ortholog_one2one</td><td>ENSMUSG00000041406</td><td>Firrm </td><td>ortholog_one2one</td><td>ENSMMUG00000016582</td><td>FIRRM </td><td>ortholog_one2one</td></tr>\n",
       "\t<tr><th scope=row>3</th><td>ENSG00000001460</td><td>STPG1 </td><td>ENSCJAG00000020857</td><td>STPG1 </td><td>ortholog_one2one</td><td>ENSMUSG00000028801</td><td>Stpg1 </td><td>ortholog_one2one</td><td>ENSMMUG00000054255</td><td>STPG1 </td><td>ortholog_one2one</td></tr>\n",
       "\t<tr><th scope=row>4</th><td>ENSG00000001461</td><td>NIPAL3</td><td>ENSCJAG00000020848</td><td>NIPAL3</td><td>ortholog_one2one</td><td>ENSMUSG00000028803</td><td>Nipal3</td><td>ortholog_one2one</td><td>ENSMMUG00000004466</td><td>NIPAL3</td><td>ortholog_one2one</td></tr>\n",
       "\t<tr><th scope=row>5</th><td>ENSG00000002549</td><td>LAP3  </td><td>ENSCJAG00000012680</td><td>LAP3  </td><td>ortholog_one2one</td><td>ENSMUSG00000039682</td><td>Lap3  </td><td>ortholog_one2one</td><td>ENSMMUG00000005732</td><td>LAP3  </td><td>ortholog_one2one</td></tr>\n",
       "\t<tr><th scope=row>6</th><td>ENSG00000002587</td><td>HS3ST1</td><td>ENSCJAG00000012119</td><td>HS3ST1</td><td>ortholog_one2one</td><td>ENSMUSG00000051022</td><td>Hs3st1</td><td>ortholog_one2one</td><td>ENSMMUG00000001341</td><td>HS3ST1</td><td>ortholog_one2one</td></tr>\n",
       "</tbody>\n",
       "</table>\n"
      ],
      "text/latex": [
       "A data.frame: 6 × 11\n",
       "\\begin{tabular}{r|lllllllllll}\n",
       "  & ensembl\\_gene\\_id & external\\_gene\\_name & cjacchus\\_homolog\\_ensembl\\_gene & cjacchus\\_homolog\\_associated\\_gene\\_name & cjacchus\\_homolog\\_orthology\\_type & mmusculus\\_homolog\\_ensembl\\_gene & mmusculus\\_homolog\\_associated\\_gene\\_name & mmusculus\\_homolog\\_orthology\\_type & mmulatta\\_homolog\\_ensembl\\_gene & mmulatta\\_homolog\\_associated\\_gene\\_name & mmulatta\\_homolog\\_orthology\\_type\\\\\n",
       "  & <chr> & <chr> & <chr> & <chr> & <chr> & <chr> & <chr> & <chr> & <chr> & <chr> & <chr>\\\\\n",
       "\\hline\n",
       "\t1 & ENSG00000000457 & SCYL3  & ENSCJAG00000010050 & SCYL3  & ortholog\\_one2one & ENSMUSG00000026584 & Scyl3  & ortholog\\_one2one & ENSMMUG00000016583 & SCYL3  & ortholog\\_one2one\\\\\n",
       "\t2 & ENSG00000000460 & FIRRM  & ENSCJAG00000010088 & FIRRM  & ortholog\\_one2one & ENSMUSG00000041406 & Firrm  & ortholog\\_one2one & ENSMMUG00000016582 & FIRRM  & ortholog\\_one2one\\\\\n",
       "\t3 & ENSG00000001460 & STPG1  & ENSCJAG00000020857 & STPG1  & ortholog\\_one2one & ENSMUSG00000028801 & Stpg1  & ortholog\\_one2one & ENSMMUG00000054255 & STPG1  & ortholog\\_one2one\\\\\n",
       "\t4 & ENSG00000001461 & NIPAL3 & ENSCJAG00000020848 & NIPAL3 & ortholog\\_one2one & ENSMUSG00000028803 & Nipal3 & ortholog\\_one2one & ENSMMUG00000004466 & NIPAL3 & ortholog\\_one2one\\\\\n",
       "\t5 & ENSG00000002549 & LAP3   & ENSCJAG00000012680 & LAP3   & ortholog\\_one2one & ENSMUSG00000039682 & Lap3   & ortholog\\_one2one & ENSMMUG00000005732 & LAP3   & ortholog\\_one2one\\\\\n",
       "\t6 & ENSG00000002587 & HS3ST1 & ENSCJAG00000012119 & HS3ST1 & ortholog\\_one2one & ENSMUSG00000051022 & Hs3st1 & ortholog\\_one2one & ENSMMUG00000001341 & HS3ST1 & ortholog\\_one2one\\\\\n",
       "\\end{tabular}\n"
      ],
      "text/markdown": [
       "\n",
       "A data.frame: 6 × 11\n",
       "\n",
       "| <!--/--> | ensembl_gene_id &lt;chr&gt; | external_gene_name &lt;chr&gt; | cjacchus_homolog_ensembl_gene &lt;chr&gt; | cjacchus_homolog_associated_gene_name &lt;chr&gt; | cjacchus_homolog_orthology_type &lt;chr&gt; | mmusculus_homolog_ensembl_gene &lt;chr&gt; | mmusculus_homolog_associated_gene_name &lt;chr&gt; | mmusculus_homolog_orthology_type &lt;chr&gt; | mmulatta_homolog_ensembl_gene &lt;chr&gt; | mmulatta_homolog_associated_gene_name &lt;chr&gt; | mmulatta_homolog_orthology_type &lt;chr&gt; |\n",
       "|---|---|---|---|---|---|---|---|---|---|---|---|\n",
       "| 1 | ENSG00000000457 | SCYL3  | ENSCJAG00000010050 | SCYL3  | ortholog_one2one | ENSMUSG00000026584 | Scyl3  | ortholog_one2one | ENSMMUG00000016583 | SCYL3  | ortholog_one2one |\n",
       "| 2 | ENSG00000000460 | FIRRM  | ENSCJAG00000010088 | FIRRM  | ortholog_one2one | ENSMUSG00000041406 | Firrm  | ortholog_one2one | ENSMMUG00000016582 | FIRRM  | ortholog_one2one |\n",
       "| 3 | ENSG00000001460 | STPG1  | ENSCJAG00000020857 | STPG1  | ortholog_one2one | ENSMUSG00000028801 | Stpg1  | ortholog_one2one | ENSMMUG00000054255 | STPG1  | ortholog_one2one |\n",
       "| 4 | ENSG00000001461 | NIPAL3 | ENSCJAG00000020848 | NIPAL3 | ortholog_one2one | ENSMUSG00000028803 | Nipal3 | ortholog_one2one | ENSMMUG00000004466 | NIPAL3 | ortholog_one2one |\n",
       "| 5 | ENSG00000002549 | LAP3   | ENSCJAG00000012680 | LAP3   | ortholog_one2one | ENSMUSG00000039682 | Lap3   | ortholog_one2one | ENSMMUG00000005732 | LAP3   | ortholog_one2one |\n",
       "| 6 | ENSG00000002587 | HS3ST1 | ENSCJAG00000012119 | HS3ST1 | ortholog_one2one | ENSMUSG00000051022 | Hs3st1 | ortholog_one2one | ENSMMUG00000001341 | HS3ST1 | ortholog_one2one |\n",
       "\n"
      ],
      "text/plain": [
       "  ensembl_gene_id external_gene_name cjacchus_homolog_ensembl_gene\n",
       "1 ENSG00000000457 SCYL3              ENSCJAG00000010050           \n",
       "2 ENSG00000000460 FIRRM              ENSCJAG00000010088           \n",
       "3 ENSG00000001460 STPG1              ENSCJAG00000020857           \n",
       "4 ENSG00000001461 NIPAL3             ENSCJAG00000020848           \n",
       "5 ENSG00000002549 LAP3               ENSCJAG00000012680           \n",
       "6 ENSG00000002587 HS3ST1             ENSCJAG00000012119           \n",
       "  cjacchus_homolog_associated_gene_name cjacchus_homolog_orthology_type\n",
       "1 SCYL3                                 ortholog_one2one               \n",
       "2 FIRRM                                 ortholog_one2one               \n",
       "3 STPG1                                 ortholog_one2one               \n",
       "4 NIPAL3                                ortholog_one2one               \n",
       "5 LAP3                                  ortholog_one2one               \n",
       "6 HS3ST1                                ortholog_one2one               \n",
       "  mmusculus_homolog_ensembl_gene mmusculus_homolog_associated_gene_name\n",
       "1 ENSMUSG00000026584             Scyl3                                 \n",
       "2 ENSMUSG00000041406             Firrm                                 \n",
       "3 ENSMUSG00000028801             Stpg1                                 \n",
       "4 ENSMUSG00000028803             Nipal3                                \n",
       "5 ENSMUSG00000039682             Lap3                                  \n",
       "6 ENSMUSG00000051022             Hs3st1                                \n",
       "  mmusculus_homolog_orthology_type mmulatta_homolog_ensembl_gene\n",
       "1 ortholog_one2one                 ENSMMUG00000016583           \n",
       "2 ortholog_one2one                 ENSMMUG00000016582           \n",
       "3 ortholog_one2one                 ENSMMUG00000054255           \n",
       "4 ortholog_one2one                 ENSMMUG00000004466           \n",
       "5 ortholog_one2one                 ENSMMUG00000005732           \n",
       "6 ortholog_one2one                 ENSMMUG00000001341           \n",
       "  mmulatta_homolog_associated_gene_name mmulatta_homolog_orthology_type\n",
       "1 SCYL3                                 ortholog_one2one               \n",
       "2 FIRRM                                 ortholog_one2one               \n",
       "3 STPG1                                 ortholog_one2one               \n",
       "4 NIPAL3                                ortholog_one2one               \n",
       "5 LAP3                                  ortholog_one2one               \n",
       "6 HS3ST1                                ortholog_one2one               "
      ]
     },
     "metadata": {},
     "output_type": "display_data"
    },
    {
     "data": {
      "text/html": [
       "<style>\n",
       ".list-inline {list-style: none; margin:0; padding: 0}\n",
       ".list-inline>li {display: inline-block}\n",
       ".list-inline>li:not(:last-child)::after {content: \"\\00b7\"; padding: 0 .5ex}\n",
       "</style>\n",
       "<ol class=list-inline><li>14012</li><li>11</li></ol>\n"
      ],
      "text/latex": [
       "\\begin{enumerate*}\n",
       "\\item 14012\n",
       "\\item 11\n",
       "\\end{enumerate*}\n"
      ],
      "text/markdown": [
       "1. 14012\n",
       "2. 11\n",
       "\n",
       "\n"
      ],
      "text/plain": [
       "[1] 14012    11"
      ]
     },
     "metadata": {},
     "output_type": "display_data"
    }
   ],
   "source": [
    "head(homologs)\n",
    "dim(homologs)"
   ]
  },
  {
   "cell_type": "code",
   "execution_count": 200,
   "id": "59f0e64d-2f36-4e9a-a317-6d0dab896eb3",
   "metadata": {},
   "outputs": [
    {
     "name": "stdout",
     "output_type": "stream",
     "text": [
      "'data.frame':\t14012 obs. of  11 variables:\n",
      " $ ensembl_gene_id                       : chr  \"ENSG00000000457\" \"ENSG00000000460\" \"ENSG00000001460\" \"ENSG00000001461\" ...\n",
      " $ external_gene_name                    : chr  \"SCYL3\" \"FIRRM\" \"STPG1\" \"NIPAL3\" ...\n",
      " $ cjacchus_homolog_ensembl_gene         : chr  \"ENSCJAG00000010050\" \"ENSCJAG00000010088\" \"ENSCJAG00000020857\" \"ENSCJAG00000020848\" ...\n",
      " $ cjacchus_homolog_associated_gene_name : chr  \"SCYL3\" \"FIRRM\" \"STPG1\" \"NIPAL3\" ...\n",
      " $ cjacchus_homolog_orthology_type       : chr  \"ortholog_one2one\" \"ortholog_one2one\" \"ortholog_one2one\" \"ortholog_one2one\" ...\n",
      " $ mmusculus_homolog_ensembl_gene        : chr  \"ENSMUSG00000026584\" \"ENSMUSG00000041406\" \"ENSMUSG00000028801\" \"ENSMUSG00000028803\" ...\n",
      " $ mmusculus_homolog_associated_gene_name: chr  \"Scyl3\" \"Firrm\" \"Stpg1\" \"Nipal3\" ...\n",
      " $ mmusculus_homolog_orthology_type      : chr  \"ortholog_one2one\" \"ortholog_one2one\" \"ortholog_one2one\" \"ortholog_one2one\" ...\n",
      " $ mmulatta_homolog_ensembl_gene         : chr  \"ENSMMUG00000016583\" \"ENSMMUG00000016582\" \"ENSMMUG00000054255\" \"ENSMMUG00000004466\" ...\n",
      " $ mmulatta_homolog_associated_gene_name : chr  \"SCYL3\" \"FIRRM\" \"STPG1\" \"NIPAL3\" ...\n",
      " $ mmulatta_homolog_orthology_type       : chr  \"ortholog_one2one\" \"ortholog_one2one\" \"ortholog_one2one\" \"ortholog_one2one\" ...\n"
     ]
    }
   ],
   "source": [
    "str(homologs) "
   ]
  },
  {
   "cell_type": "code",
   "execution_count": 201,
   "id": "13e28c0b-c5a2-406e-ac91-c78c510da52d",
   "metadata": {},
   "outputs": [
    {
     "data": {
      "text/html": [
       "2098"
      ],
      "text/latex": [
       "2098"
      ],
      "text/markdown": [
       "2098"
      ],
      "text/plain": [
       "[1] 2098"
      ]
     },
     "metadata": {},
     "output_type": "display_data"
    },
    {
     "data": {
      "text/html": [
       "0"
      ],
      "text/latex": [
       "0"
      ],
      "text/markdown": [
       "0"
      ],
      "text/plain": [
       "[1] 0"
      ]
     },
     "metadata": {},
     "output_type": "display_data"
    },
    {
     "data": {
      "text/html": [
       "10232"
      ],
      "text/latex": [
       "10232"
      ],
      "text/markdown": [
       "10232"
      ],
      "text/plain": [
       "[1] 10232"
      ]
     },
     "metadata": {},
     "output_type": "display_data"
    },
    {
     "data": {
      "text/html": [
       "1902"
      ],
      "text/latex": [
       "1902"
      ],
      "text/markdown": [
       "1902"
      ],
      "text/plain": [
       "[1] 1902"
      ]
     },
     "metadata": {},
     "output_type": "display_data"
    },
    {
     "data": {
      "text/html": [
       "0"
      ],
      "text/latex": [
       "0"
      ],
      "text/markdown": [
       "0"
      ],
      "text/plain": [
       "[1] 0"
      ]
     },
     "metadata": {},
     "output_type": "display_data"
    },
    {
     "data": {
      "text/html": [
       "10935"
      ],
      "text/latex": [
       "10935"
      ],
      "text/markdown": [
       "10935"
      ],
      "text/plain": [
       "[1] 10935"
      ]
     },
     "metadata": {},
     "output_type": "display_data"
    },
    {
     "data": {
      "text/html": [
       "2184"
      ],
      "text/latex": [
       "2184"
      ],
      "text/markdown": [
       "2184"
      ],
      "text/plain": [
       "[1] 2184"
      ]
     },
     "metadata": {},
     "output_type": "display_data"
    },
    {
     "data": {
      "text/html": [
       "0"
      ],
      "text/latex": [
       "0"
      ],
      "text/markdown": [
       "0"
      ],
      "text/plain": [
       "[1] 0"
      ]
     },
     "metadata": {},
     "output_type": "display_data"
    },
    {
     "data": {
      "text/html": [
       "10867"
      ],
      "text/latex": [
       "10867"
      ],
      "text/markdown": [
       "10867"
      ],
      "text/plain": [
       "[1] 10867"
      ]
     },
     "metadata": {},
     "output_type": "display_data"
    }
   ],
   "source": [
    "# Check for any blank characters or \"NA\"\n",
    "sum(homologs$cjacchus_homolog_ensembl_gene == \"\")  \n",
    "sum(is.na(homologs$cjacchus_homolog_ensembl_gene))  \n",
    "sum(homologs$cjacchus_homolog_orthology_type == \"ortholog_one2one\") \n",
    "sum(homologs$mmusculus_homolog_ensembl_gene == \"\") \n",
    "sum(is.na(homologs$mmusculus_homolog_ensembl_gene))\n",
    "sum(homologs$mmusculus_homolog_orthology_type == \"ortholog_one2one\")\n",
    "sum(homologs$mmulatta_homolog_ensembl_gene == \"\") \n",
    "sum(is.na(homologs$mmulatta_homolog_ensembl_gene))\n",
    "sum(homologs$mmulatta_homolog_orthology_type == \"ortholog_one2one\")"
   ]
  },
  {
   "cell_type": "code",
   "execution_count": 202,
   "id": "d03b0c1f-015f-4fdc-b282-92b361089cd0",
   "metadata": {},
   "outputs": [
    {
     "data": {
      "text/html": [
       "<table class=\"dataframe\">\n",
       "<caption>A data.frame: 8904 × 11</caption>\n",
       "<thead>\n",
       "\t<tr><th></th><th scope=col>ensembl_gene_id</th><th scope=col>external_gene_name</th><th scope=col>cjacchus_homolog_ensembl_gene</th><th scope=col>cjacchus_homolog_associated_gene_name</th><th scope=col>cjacchus_homolog_orthology_type</th><th scope=col>mmusculus_homolog_ensembl_gene</th><th scope=col>mmusculus_homolog_associated_gene_name</th><th scope=col>mmusculus_homolog_orthology_type</th><th scope=col>mmulatta_homolog_ensembl_gene</th><th scope=col>mmulatta_homolog_associated_gene_name</th><th scope=col>mmulatta_homolog_orthology_type</th></tr>\n",
       "\t<tr><th></th><th scope=col>&lt;chr&gt;</th><th scope=col>&lt;chr&gt;</th><th scope=col>&lt;chr&gt;</th><th scope=col>&lt;chr&gt;</th><th scope=col>&lt;chr&gt;</th><th scope=col>&lt;chr&gt;</th><th scope=col>&lt;chr&gt;</th><th scope=col>&lt;chr&gt;</th><th scope=col>&lt;chr&gt;</th><th scope=col>&lt;chr&gt;</th><th scope=col>&lt;chr&gt;</th></tr>\n",
       "</thead>\n",
       "<tbody>\n",
       "\t<tr><th scope=row>1</th><td>ENSG00000000457</td><td>SCYL3   </td><td>ENSCJAG00000010050</td><td>SCYL3   </td><td>ortholog_one2one</td><td>ENSMUSG00000026584</td><td>Scyl3   </td><td>ortholog_one2one</td><td>ENSMMUG00000016583</td><td>SCYL3   </td><td>ortholog_one2one</td></tr>\n",
       "\t<tr><th scope=row>2</th><td>ENSG00000000460</td><td>FIRRM   </td><td>ENSCJAG00000010088</td><td>FIRRM   </td><td>ortholog_one2one</td><td>ENSMUSG00000041406</td><td>Firrm   </td><td>ortholog_one2one</td><td>ENSMMUG00000016582</td><td>FIRRM   </td><td>ortholog_one2one</td></tr>\n",
       "\t<tr><th scope=row>3</th><td>ENSG00000001460</td><td>STPG1   </td><td>ENSCJAG00000020857</td><td>STPG1   </td><td>ortholog_one2one</td><td>ENSMUSG00000028801</td><td>Stpg1   </td><td>ortholog_one2one</td><td>ENSMMUG00000054255</td><td>STPG1   </td><td>ortholog_one2one</td></tr>\n",
       "\t<tr><th scope=row>4</th><td>ENSG00000001461</td><td>NIPAL3  </td><td>ENSCJAG00000020848</td><td>NIPAL3  </td><td>ortholog_one2one</td><td>ENSMUSG00000028803</td><td>Nipal3  </td><td>ortholog_one2one</td><td>ENSMMUG00000004466</td><td>NIPAL3  </td><td>ortholog_one2one</td></tr>\n",
       "\t<tr><th scope=row>5</th><td>ENSG00000002549</td><td>LAP3    </td><td>ENSCJAG00000012680</td><td>LAP3    </td><td>ortholog_one2one</td><td>ENSMUSG00000039682</td><td>Lap3    </td><td>ortholog_one2one</td><td>ENSMMUG00000005732</td><td>LAP3    </td><td>ortholog_one2one</td></tr>\n",
       "\t<tr><th scope=row>6</th><td>ENSG00000002587</td><td>HS3ST1  </td><td>ENSCJAG00000012119</td><td>HS3ST1  </td><td>ortholog_one2one</td><td>ENSMUSG00000051022</td><td>Hs3st1  </td><td>ortholog_one2one</td><td>ENSMMUG00000001341</td><td>HS3ST1  </td><td>ortholog_one2one</td></tr>\n",
       "\t<tr><th scope=row>7</th><td>ENSG00000003393</td><td>ALS2    </td><td>ENSCJAG00000004769</td><td>ALS2    </td><td>ortholog_one2one</td><td>ENSMUSG00000026024</td><td>Als2    </td><td>ortholog_one2one</td><td>ENSMMUG00000018155</td><td>ALS2    </td><td>ortholog_one2one</td></tr>\n",
       "\t<tr><th scope=row>10</th><td>ENSG00000003509</td><td>NDUFAF7 </td><td>ENSCJAG00000003932</td><td>NDUFAF7 </td><td>ortholog_one2one</td><td>ENSMUSG00000024082</td><td>Ndufaf7 </td><td>ortholog_one2one</td><td>ENSMMUG00000016434</td><td>NDUFAF7 </td><td>ortholog_one2one</td></tr>\n",
       "\t<tr><th scope=row>11</th><td>ENSG00000003756</td><td>RBM5    </td><td>ENSCJAG00000004740</td><td>RBM5    </td><td>ortholog_one2one</td><td>ENSMUSG00000032580</td><td>Rbm5    </td><td>ortholog_one2one</td><td>ENSMMUG00000004921</td><td>RBM5    </td><td>ortholog_one2one</td></tr>\n",
       "\t<tr><th scope=row>12</th><td>ENSG00000004399</td><td>PLXND1  </td><td>ENSCJAG00000005429</td><td>PLXND1  </td><td>ortholog_one2one</td><td>ENSMUSG00000030123</td><td>Plxnd1  </td><td>ortholog_one2one</td><td>ENSMMUG00000012737</td><td>PLXND1  </td><td>ortholog_one2one</td></tr>\n",
       "\t<tr><th scope=row>17</th><td>ENSG00000004534</td><td>RBM6    </td><td>ENSCJAG00000004620</td><td>RBM6    </td><td>ortholog_one2one</td><td>ENSMUSG00000032582</td><td>Rbm6    </td><td>ortholog_one2one</td><td>ENSMMUG00000003494</td><td>RBM6    </td><td>ortholog_one2one</td></tr>\n",
       "\t<tr><th scope=row>18</th><td>ENSG00000005059</td><td>MCUB    </td><td>ENSCJAG00000016158</td><td>MCUB    </td><td>ortholog_one2one</td><td>ENSMUSG00000027994</td><td>Mcub    </td><td>ortholog_one2one</td><td>ENSMMUG00000052933</td><td>MCUB    </td><td>ortholog_one2one</td></tr>\n",
       "\t<tr><th scope=row>19</th><td>ENSG00000005436</td><td>GCFC2   </td><td>ENSCJAG00000017096</td><td>GCFC2   </td><td>ortholog_one2one</td><td>ENSMUSG00000035125</td><td>Gcfc2   </td><td>ortholog_one2one</td><td>ENSMMUG00000018512</td><td>GCFC2   </td><td>ortholog_one2one</td></tr>\n",
       "\t<tr><th scope=row>20</th><td>ENSG00000005448</td><td>WDR54   </td><td>ENSCJAG00000017568</td><td>WDR54   </td><td>ortholog_one2one</td><td>ENSMUSG00000030032</td><td>Wdr54   </td><td>ortholog_one2one</td><td>ENSMMUG00000002719</td><td>WDR54   </td><td>ortholog_one2one</td></tr>\n",
       "\t<tr><th scope=row>21</th><td>ENSG00000006607</td><td>FARP2   </td><td>ENSCJAG00000006087</td><td>FARP2   </td><td>ortholog_one2one</td><td>ENSMUSG00000034066</td><td>Farp2   </td><td>ortholog_one2one</td><td>ENSMMUG00000001313</td><td>FARP2   </td><td>ortholog_one2one</td></tr>\n",
       "\t<tr><th scope=row>24</th><td>ENSG00000007341</td><td>ST7L    </td><td>ENSCJAG00000013490</td><td>ST7L    </td><td>ortholog_one2one</td><td>ENSMUSG00000045576</td><td>St7l    </td><td>ortholog_one2one</td><td>ENSMMUG00000007766</td><td>ST7L    </td><td>ortholog_one2one</td></tr>\n",
       "\t<tr><th scope=row>25</th><td>ENSG00000007402</td><td>CACNA2D2</td><td>ENSCJAG00000005215</td><td>CACNA2D2</td><td>ortholog_one2one</td><td>ENSMUSG00000010066</td><td>Cacna2d2</td><td>ortholog_one2one</td><td>ENSMMUG00000007022</td><td>CACNA2D2</td><td>ortholog_one2one</td></tr>\n",
       "\t<tr><th scope=row>26</th><td>ENSG00000007923</td><td>DNAJC11 </td><td>ENSCJAG00000000242</td><td>DNAJC11 </td><td>ortholog_one2one</td><td>ENSMUSG00000039768</td><td>Dnajc11 </td><td>ortholog_one2one</td><td>ENSMMUG00000004686</td><td>DNAJC11 </td><td>ortholog_one2one</td></tr>\n",
       "\t<tr><th scope=row>29</th><td>ENSG00000008083</td><td>JARID2  </td><td>ENSCJAG00000005717</td><td>JARID2  </td><td>ortholog_one2one</td><td>ENSMUSG00000038518</td><td>Jarid2  </td><td>ortholog_one2one</td><td>ENSMMUG00000015362</td><td>JARID2  </td><td>ortholog_one2one</td></tr>\n",
       "\t<tr><th scope=row>30</th><td>ENSG00000008118</td><td>CAMK1G  </td><td>ENSCJAG00000014868</td><td>CAMK1G  </td><td>ortholog_one2one</td><td>ENSMUSG00000016179</td><td>Camk1g  </td><td>ortholog_one2one</td><td>ENSMMUG00000003369</td><td>CAMK1G  </td><td>ortholog_one2one</td></tr>\n",
       "\t<tr><th scope=row>32</th><td>ENSG00000008130</td><td>NADK    </td><td>ENSCJAG00000010843</td><td>NADK    </td><td>ortholog_one2one</td><td>ENSMUSG00000029063</td><td>Nadk    </td><td>ortholog_one2one</td><td>ENSMMUG00000010879</td><td>NADK    </td><td>ortholog_one2one</td></tr>\n",
       "\t<tr><th scope=row>33</th><td>ENSG00000008300</td><td>CELSR3  </td><td>ENSCJAG00000003177</td><td>CELSR3  </td><td>ortholog_one2one</td><td>ENSMUSG00000023473</td><td>Celsr3  </td><td>ortholog_one2one</td><td>ENSMMUG00000014707</td><td>CELSR3  </td><td>ortholog_one2one</td></tr>\n",
       "\t<tr><th scope=row>35</th><td>ENSG00000008869</td><td>HEATR5B </td><td>ENSCJAG00000003707</td><td>HEATR5B </td><td>ortholog_one2one</td><td>ENSMUSG00000039414</td><td>Heatr5b </td><td>ortholog_one2one</td><td>ENSMMUG00000014939</td><td>HEATR5B </td><td>ortholog_one2one</td></tr>\n",
       "\t<tr><th scope=row>36</th><td>ENSG00000008952</td><td>SEC62   </td><td>ENSCJAG00000002576</td><td>SEC62   </td><td>ortholog_one2one</td><td>ENSMUSG00000027706</td><td>Sec62   </td><td>ortholog_one2one</td><td>ENSMMUG00000021899</td><td>SEC62   </td><td>ortholog_one2one</td></tr>\n",
       "\t<tr><th scope=row>37</th><td>ENSG00000009307</td><td>CSDE1   </td><td>ENSCJAG00000012565</td><td>CSDE1   </td><td>ortholog_one2one</td><td>ENSMUSG00000068823</td><td>Csde1   </td><td>ortholog_one2one</td><td>ENSMMUG00000001974</td><td>CSDE1   </td><td>ortholog_one2one</td></tr>\n",
       "\t<tr><th scope=row>38</th><td>ENSG00000009780</td><td>FAM76A  </td><td>ENSCJAG00000009327</td><td>FAM76A  </td><td>ortholog_one2one</td><td>ENSMUSG00000028878</td><td>Fam76a  </td><td>ortholog_one2one</td><td>ENSMMUG00000012243</td><td>FAM76A  </td><td>ortholog_one2one</td></tr>\n",
       "\t<tr><th scope=row>39</th><td>ENSG00000010017</td><td>RANBP9  </td><td>ENSCJAG00000019797</td><td>RANBP9  </td><td>ortholog_one2one</td><td>ENSMUSG00000038546</td><td>Ranbp9  </td><td>ortholog_one2one</td><td>ENSMMUG00000020122</td><td>RANBP9  </td><td>ortholog_one2one</td></tr>\n",
       "\t<tr><th scope=row>40</th><td>ENSG00000010072</td><td>SPRTN   </td><td>ENSCJAG00000018340</td><td>SPRTN   </td><td>ortholog_one2one</td><td>ENSMUSG00000031986</td><td>Sprtn   </td><td>ortholog_one2one</td><td>ENSMMUG00000005244</td><td>SPRTN   </td><td>ortholog_one2one</td></tr>\n",
       "\t<tr><th scope=row>41</th><td>ENSG00000010165</td><td>METTL13 </td><td>ENSCJAG00000009633</td><td>METTL13 </td><td>ortholog_one2one</td><td>ENSMUSG00000026694</td><td>Mettl13 </td><td>ortholog_one2one</td><td>ENSMMUG00000007266</td><td>METTL13 </td><td>ortholog_one2one</td></tr>\n",
       "\t<tr><th scope=row>42</th><td>ENSG00000010256</td><td>UQCRC1  </td><td>ENSCJAG00000003132</td><td>UQCRC1  </td><td>ortholog_one2one</td><td>ENSMUSG00000025651</td><td>Uqcrc1  </td><td>ortholog_one2one</td><td>ENSMMUG00000014705</td><td>UQCRC1  </td><td>ortholog_one2one</td></tr>\n",
       "\t<tr><th scope=row>⋮</th><td>⋮</td><td>⋮</td><td>⋮</td><td>⋮</td><td>⋮</td><td>⋮</td><td>⋮</td><td>⋮</td><td>⋮</td><td>⋮</td><td>⋮</td></tr>\n",
       "\t<tr><th scope=row>13886</th><td>ENSG00000269335</td><td>IKBKG   </td><td>ENSCJAG00000016764</td><td>IKBKG   </td><td>ortholog_one2one</td><td>ENSMUSG00000004221</td><td>Ikbkg   </td><td>ortholog_one2one</td><td>ENSMMUG00000017277</td><td>IKBKG   </td><td>ortholog_one2one</td></tr>\n",
       "\t<tr><th scope=row>13894</th><td>ENSG00000269743</td><td>SLC25A53</td><td>ENSCJAG00000085438</td><td>SLC25A53</td><td>ortholog_one2one</td><td>ENSMUSG00000044348</td><td>Slc25a53</td><td>ortholog_one2one</td><td>ENSMMUG00000040845</td><td>SLC25A53</td><td>ortholog_one2one</td></tr>\n",
       "\t<tr><th scope=row>13896</th><td>ENSG00000269858</td><td>EGLN2   </td><td>ENSCJAG00000014887</td><td>EGLN2   </td><td>ortholog_one2one</td><td>ENSMUSG00000058709</td><td>Egln2   </td><td>ortholog_one2one</td><td>ENSMMUG00000001197</td><td>EGLN2   </td><td>ortholog_one2one</td></tr>\n",
       "\t<tr><th scope=row>13903</th><td>ENSG00000270647</td><td>TAF15   </td><td>ENSCJAG00000014961</td><td>TAF15   </td><td>ortholog_one2one</td><td>ENSMUSG00000020680</td><td>Taf15   </td><td>ortholog_one2one</td><td>ENSMMUG00000047780</td><td>TAF15   </td><td>ortholog_one2one</td></tr>\n",
       "\t<tr><th scope=row>13906</th><td>ENSG00000271303</td><td>SRXN1   </td><td>ENSCJAG00000020869</td><td>SRXN1   </td><td>ortholog_one2one</td><td>ENSMUSG00000032802</td><td>Srxn1   </td><td>ortholog_one2one</td><td>ENSMMUG00000047391</td><td>SRXN1   </td><td>ortholog_one2one</td></tr>\n",
       "\t<tr><th scope=row>13907</th><td>ENSG00000271447</td><td>MMP28   </td><td>ENSCJAG00000047189</td><td>MMP28   </td><td>ortholog_one2one</td><td>ENSMUSG00000020682</td><td>Mmp28   </td><td>ortholog_one2one</td><td>ENSMMUG00000022229</td><td>MMP28   </td><td>ortholog_one2one</td></tr>\n",
       "\t<tr><th scope=row>13911</th><td>ENSG00000272333</td><td>KMT2B   </td><td>ENSCJAG00000010126</td><td>KMT2B   </td><td>ortholog_one2one</td><td>ENSMUSG00000006307</td><td>Kmt2b   </td><td>ortholog_one2one</td><td>ENSMMUG00000002381</td><td>KMT2B   </td><td>ortholog_one2one</td></tr>\n",
       "\t<tr><th scope=row>13912</th><td>ENSG00000272636</td><td>DOC2B   </td><td>ENSCJAG00000040180</td><td>DOC2B   </td><td>ortholog_one2one</td><td>ENSMUSG00000020848</td><td>Doc2b   </td><td>ortholog_one2one</td><td>ENSMMUG00000005222</td><td>DOC2B   </td><td>ortholog_one2one</td></tr>\n",
       "\t<tr><th scope=row>13920</th><td>ENSG00000273540</td><td>AGBL1   </td><td>ENSCJAG00000013146</td><td>AGBL1   </td><td>ortholog_one2one</td><td>ENSMUSG00000025754</td><td>Agbl1   </td><td>ortholog_one2one</td><td>ENSMMUG00000008495</td><td>AGBL1   </td><td>ortholog_one2one</td></tr>\n",
       "\t<tr><th scope=row>13921</th><td>ENSG00000273559</td><td>CWC25   </td><td>ENSCJAG00000008289</td><td>CWC25   </td><td>ortholog_one2one</td><td>ENSMUSG00000018541</td><td>Cwc25   </td><td>ortholog_one2one</td><td>ENSMMUG00000002944</td><td>CWC25   </td><td>ortholog_one2one</td></tr>\n",
       "\t<tr><th scope=row>13927</th><td>ENSG00000273749</td><td>CYFIP1  </td><td>ENSCJAG00000005289</td><td>CYFIP1  </td><td>ortholog_one2one</td><td>ENSMUSG00000030447</td><td>Cyfip1  </td><td>ortholog_one2one</td><td>ENSMMUG00000003890</td><td>CYFIP1  </td><td>ortholog_one2one</td></tr>\n",
       "\t<tr><th scope=row>13928</th><td>ENSG00000273899</td><td>NOL12   </td><td>ENSCJAG00000070089</td><td>NOL12   </td><td>ortholog_one2one</td><td>ENSMUSG00000033099</td><td>Nol12   </td><td>ortholog_one2one</td><td>ENSMMUG00000056629</td><td>NOL12   </td><td>ortholog_one2one</td></tr>\n",
       "\t<tr><th scope=row>13929</th><td>ENSG00000274211</td><td>SOCS7   </td><td>ENSCJAG00000008108</td><td>SOCS7   </td><td>ortholog_one2one</td><td>ENSMUSG00000038485</td><td>Socs7   </td><td>ortholog_one2one</td><td>ENSMMUG00000020531</td><td>SOCS7   </td><td>ortholog_one2one</td></tr>\n",
       "\t<tr><th scope=row>13934</th><td>ENSG00000275023</td><td>MLLT6   </td><td>ENSCJAG00000008169</td><td>MLLT6   </td><td>ortholog_one2one</td><td>ENSMUSG00000038437</td><td>Mllt6   </td><td>ortholog_one2one</td><td>ENSMMUG00000002637</td><td>MLLT6   </td><td>ortholog_one2one</td></tr>\n",
       "\t<tr><th scope=row>13935</th><td>ENSG00000275066</td><td>SYNRG   </td><td>ENSCJAG00000015209</td><td>SYNRG   </td><td>ortholog_one2one</td><td>ENSMUSG00000034940</td><td>Synrg   </td><td>ortholog_one2one</td><td>ENSMMUG00000002976</td><td>SYNRG   </td><td>ortholog_one2one</td></tr>\n",
       "\t<tr><th scope=row>13941</th><td>ENSG00000275832</td><td>ARHGAP23</td><td>ENSCJAG00000008112</td><td>ARHGAP23</td><td>ortholog_one2one</td><td>ENSMUSG00000049807</td><td>Arhgap23</td><td>ortholog_one2one</td><td>ENSMMUG00000020020</td><td>ARHGAP23</td><td>ortholog_one2one</td></tr>\n",
       "\t<tr><th scope=row>13942</th><td>ENSG00000275835</td><td>TUBGCP5 </td><td>ENSCJAG00000005261</td><td>TUBGCP5 </td><td>ortholog_one2one</td><td>ENSMUSG00000033790</td><td>Tubgcp5 </td><td>ortholog_one2one</td><td>ENSMMUG00000005533</td><td>TUBGCP5 </td><td>ortholog_one2one</td></tr>\n",
       "\t<tr><th scope=row>13943</th><td>ENSG00000276023</td><td>DUSP14  </td><td>ENSCJAG00000039500</td><td>DUSP14  </td><td>ortholog_one2one</td><td>ENSMUSG00000018648</td><td>Dusp14  </td><td>ortholog_one2one</td><td>ENSMMUG00000002975</td><td>DUSP14  </td><td>ortholog_one2one</td></tr>\n",
       "\t<tr><th scope=row>13944</th><td>ENSG00000276234</td><td>TADA2A  </td><td>ENSCJAG00000015275</td><td>TADA2A  </td><td>ortholog_one2one</td><td>ENSMUSG00000018651</td><td>Tada2a  </td><td>ortholog_one2one</td><td>ENSMMUG00000021911</td><td>TADA2A  </td><td>ortholog_one2one</td></tr>\n",
       "\t<tr><th scope=row>13945</th><td>ENSG00000276293</td><td>PIP4K2B </td><td>ENSCJAG00000042442</td><td>PIP4K2B </td><td>ortholog_one2one</td><td>ENSMUSG00000018547</td><td>Pip4k2b </td><td>ortholog_one2one</td><td>ENSMMUG00000012365</td><td>PIP4K2B </td><td>ortholog_one2one</td></tr>\n",
       "\t<tr><th scope=row>13948</th><td>ENSG00000277258</td><td>PCGF2   </td><td>ENSCJAG00000008215</td><td>PCGF2   </td><td>ortholog_one2one</td><td>ENSMUSG00000018537</td><td>Pcgf2   </td><td>ortholog_one2one</td><td>ENSMMUG00000052879</td><td>PCGF2   </td><td>ortholog_one2one</td></tr>\n",
       "\t<tr><th scope=row>13949</th><td>ENSG00000277363</td><td>SRCIN1  </td><td>ENSCJAG00000008123</td><td>SRCIN1  </td><td>ortholog_one2one</td><td>ENSMUSG00000038453</td><td>Srcin1  </td><td>ortholog_one2one</td><td>ENSMMUG00000005041</td><td>SRCIN1  </td><td>ortholog_one2one</td></tr>\n",
       "\t<tr><th scope=row>13950</th><td>ENSG00000277531</td><td>PNMA8C  </td><td>ENSCJAG00000075292</td><td>PNMA8C  </td><td>ortholog_one2one</td><td>ENSMUSG00000108348</td><td>Pnma8c  </td><td>ortholog_one2one</td><td>ENSMMUG00000061795</td><td>PNMA8C  </td><td>ortholog_one2one</td></tr>\n",
       "\t<tr><th scope=row>13951</th><td>ENSG00000277791</td><td>PSMB3   </td><td>ENSCJAG00000008246</td><td>PSMB3   </td><td>ortholog_one2one</td><td>ENSMUSG00000069744</td><td>Psmb3   </td><td>ortholog_one2one</td><td>ENSMMUG00000012363</td><td>PSMB3   </td><td>ortholog_one2one</td></tr>\n",
       "\t<tr><th scope=row>13953</th><td>ENSG00000278053</td><td>DDX52   </td><td>ENSCJAG00000015190</td><td>DDX52   </td><td>ortholog_one2one</td><td>ENSMUSG00000020677</td><td>Ddx52   </td><td>ortholog_one2one</td><td>ENSMMUG00000002980</td><td>DDX52   </td><td>ortholog_one2one</td></tr>\n",
       "\t<tr><th scope=row>13954</th><td>ENSG00000278129</td><td>ZNF8    </td><td>ENSCJAG00000047255</td><td>ZNF8    </td><td>ortholog_one2one</td><td>ENSMUSG00000060397</td><td>Zfp128  </td><td>ortholog_one2one</td><td>ENSMMUG00000020508</td><td>ZNF8    </td><td>ortholog_one2one</td></tr>\n",
       "\t<tr><th scope=row>13955</th><td>ENSG00000278259</td><td>MYO19   </td><td>ENSCJAG00000001068</td><td>MYO19   </td><td>ortholog_one2one</td><td>ENSMUSG00000020527</td><td>Myo19   </td><td>ortholog_one2one</td><td>ENSMMUG00000007920</td><td>MYO19   </td><td>ortholog_one2one</td></tr>\n",
       "\t<tr><th scope=row>13956</th><td>ENSG00000278311</td><td>GGNBP2  </td><td>ENSCJAG00000001044</td><td>GGNBP2  </td><td>ortholog_one2one</td><td>ENSMUSG00000020530</td><td>Ggnbp2  </td><td>ortholog_one2one</td><td>ENSMMUG00000000618</td><td>GGNBP2  </td><td>ortholog_one2one</td></tr>\n",
       "\t<tr><th scope=row>13958</th><td>ENSG00000278540</td><td>ACACA   </td><td>ENSCJAG00000015336</td><td>ACACA   </td><td>ortholog_one2one</td><td>ENSMUSG00000020532</td><td>Acaca   </td><td>ortholog_one2one</td><td>ENSMMUG00000009349</td><td>ACACA   </td><td>ortholog_one2one</td></tr>\n",
       "\t<tr><th scope=row>13968</th><td>ENSG00000278845</td><td>MRPL45  </td><td>ENSCJAG00000008080</td><td>MRPL45  </td><td>ortholog_one2one</td><td>ENSMUSG00000018882</td><td>Mrpl45  </td><td>ortholog_one2one</td><td>ENSMMUG00000030213</td><td>MRPL45  </td><td>ortholog_one2one</td></tr>\n",
       "</tbody>\n",
       "</table>\n"
      ],
      "text/latex": [
       "A data.frame: 8904 × 11\n",
       "\\begin{tabular}{r|lllllllllll}\n",
       "  & ensembl\\_gene\\_id & external\\_gene\\_name & cjacchus\\_homolog\\_ensembl\\_gene & cjacchus\\_homolog\\_associated\\_gene\\_name & cjacchus\\_homolog\\_orthology\\_type & mmusculus\\_homolog\\_ensembl\\_gene & mmusculus\\_homolog\\_associated\\_gene\\_name & mmusculus\\_homolog\\_orthology\\_type & mmulatta\\_homolog\\_ensembl\\_gene & mmulatta\\_homolog\\_associated\\_gene\\_name & mmulatta\\_homolog\\_orthology\\_type\\\\\n",
       "  & <chr> & <chr> & <chr> & <chr> & <chr> & <chr> & <chr> & <chr> & <chr> & <chr> & <chr>\\\\\n",
       "\\hline\n",
       "\t1 & ENSG00000000457 & SCYL3    & ENSCJAG00000010050 & SCYL3    & ortholog\\_one2one & ENSMUSG00000026584 & Scyl3    & ortholog\\_one2one & ENSMMUG00000016583 & SCYL3    & ortholog\\_one2one\\\\\n",
       "\t2 & ENSG00000000460 & FIRRM    & ENSCJAG00000010088 & FIRRM    & ortholog\\_one2one & ENSMUSG00000041406 & Firrm    & ortholog\\_one2one & ENSMMUG00000016582 & FIRRM    & ortholog\\_one2one\\\\\n",
       "\t3 & ENSG00000001460 & STPG1    & ENSCJAG00000020857 & STPG1    & ortholog\\_one2one & ENSMUSG00000028801 & Stpg1    & ortholog\\_one2one & ENSMMUG00000054255 & STPG1    & ortholog\\_one2one\\\\\n",
       "\t4 & ENSG00000001461 & NIPAL3   & ENSCJAG00000020848 & NIPAL3   & ortholog\\_one2one & ENSMUSG00000028803 & Nipal3   & ortholog\\_one2one & ENSMMUG00000004466 & NIPAL3   & ortholog\\_one2one\\\\\n",
       "\t5 & ENSG00000002549 & LAP3     & ENSCJAG00000012680 & LAP3     & ortholog\\_one2one & ENSMUSG00000039682 & Lap3     & ortholog\\_one2one & ENSMMUG00000005732 & LAP3     & ortholog\\_one2one\\\\\n",
       "\t6 & ENSG00000002587 & HS3ST1   & ENSCJAG00000012119 & HS3ST1   & ortholog\\_one2one & ENSMUSG00000051022 & Hs3st1   & ortholog\\_one2one & ENSMMUG00000001341 & HS3ST1   & ortholog\\_one2one\\\\\n",
       "\t7 & ENSG00000003393 & ALS2     & ENSCJAG00000004769 & ALS2     & ortholog\\_one2one & ENSMUSG00000026024 & Als2     & ortholog\\_one2one & ENSMMUG00000018155 & ALS2     & ortholog\\_one2one\\\\\n",
       "\t10 & ENSG00000003509 & NDUFAF7  & ENSCJAG00000003932 & NDUFAF7  & ortholog\\_one2one & ENSMUSG00000024082 & Ndufaf7  & ortholog\\_one2one & ENSMMUG00000016434 & NDUFAF7  & ortholog\\_one2one\\\\\n",
       "\t11 & ENSG00000003756 & RBM5     & ENSCJAG00000004740 & RBM5     & ortholog\\_one2one & ENSMUSG00000032580 & Rbm5     & ortholog\\_one2one & ENSMMUG00000004921 & RBM5     & ortholog\\_one2one\\\\\n",
       "\t12 & ENSG00000004399 & PLXND1   & ENSCJAG00000005429 & PLXND1   & ortholog\\_one2one & ENSMUSG00000030123 & Plxnd1   & ortholog\\_one2one & ENSMMUG00000012737 & PLXND1   & ortholog\\_one2one\\\\\n",
       "\t17 & ENSG00000004534 & RBM6     & ENSCJAG00000004620 & RBM6     & ortholog\\_one2one & ENSMUSG00000032582 & Rbm6     & ortholog\\_one2one & ENSMMUG00000003494 & RBM6     & ortholog\\_one2one\\\\\n",
       "\t18 & ENSG00000005059 & MCUB     & ENSCJAG00000016158 & MCUB     & ortholog\\_one2one & ENSMUSG00000027994 & Mcub     & ortholog\\_one2one & ENSMMUG00000052933 & MCUB     & ortholog\\_one2one\\\\\n",
       "\t19 & ENSG00000005436 & GCFC2    & ENSCJAG00000017096 & GCFC2    & ortholog\\_one2one & ENSMUSG00000035125 & Gcfc2    & ortholog\\_one2one & ENSMMUG00000018512 & GCFC2    & ortholog\\_one2one\\\\\n",
       "\t20 & ENSG00000005448 & WDR54    & ENSCJAG00000017568 & WDR54    & ortholog\\_one2one & ENSMUSG00000030032 & Wdr54    & ortholog\\_one2one & ENSMMUG00000002719 & WDR54    & ortholog\\_one2one\\\\\n",
       "\t21 & ENSG00000006607 & FARP2    & ENSCJAG00000006087 & FARP2    & ortholog\\_one2one & ENSMUSG00000034066 & Farp2    & ortholog\\_one2one & ENSMMUG00000001313 & FARP2    & ortholog\\_one2one\\\\\n",
       "\t24 & ENSG00000007341 & ST7L     & ENSCJAG00000013490 & ST7L     & ortholog\\_one2one & ENSMUSG00000045576 & St7l     & ortholog\\_one2one & ENSMMUG00000007766 & ST7L     & ortholog\\_one2one\\\\\n",
       "\t25 & ENSG00000007402 & CACNA2D2 & ENSCJAG00000005215 & CACNA2D2 & ortholog\\_one2one & ENSMUSG00000010066 & Cacna2d2 & ortholog\\_one2one & ENSMMUG00000007022 & CACNA2D2 & ortholog\\_one2one\\\\\n",
       "\t26 & ENSG00000007923 & DNAJC11  & ENSCJAG00000000242 & DNAJC11  & ortholog\\_one2one & ENSMUSG00000039768 & Dnajc11  & ortholog\\_one2one & ENSMMUG00000004686 & DNAJC11  & ortholog\\_one2one\\\\\n",
       "\t29 & ENSG00000008083 & JARID2   & ENSCJAG00000005717 & JARID2   & ortholog\\_one2one & ENSMUSG00000038518 & Jarid2   & ortholog\\_one2one & ENSMMUG00000015362 & JARID2   & ortholog\\_one2one\\\\\n",
       "\t30 & ENSG00000008118 & CAMK1G   & ENSCJAG00000014868 & CAMK1G   & ortholog\\_one2one & ENSMUSG00000016179 & Camk1g   & ortholog\\_one2one & ENSMMUG00000003369 & CAMK1G   & ortholog\\_one2one\\\\\n",
       "\t32 & ENSG00000008130 & NADK     & ENSCJAG00000010843 & NADK     & ortholog\\_one2one & ENSMUSG00000029063 & Nadk     & ortholog\\_one2one & ENSMMUG00000010879 & NADK     & ortholog\\_one2one\\\\\n",
       "\t33 & ENSG00000008300 & CELSR3   & ENSCJAG00000003177 & CELSR3   & ortholog\\_one2one & ENSMUSG00000023473 & Celsr3   & ortholog\\_one2one & ENSMMUG00000014707 & CELSR3   & ortholog\\_one2one\\\\\n",
       "\t35 & ENSG00000008869 & HEATR5B  & ENSCJAG00000003707 & HEATR5B  & ortholog\\_one2one & ENSMUSG00000039414 & Heatr5b  & ortholog\\_one2one & ENSMMUG00000014939 & HEATR5B  & ortholog\\_one2one\\\\\n",
       "\t36 & ENSG00000008952 & SEC62    & ENSCJAG00000002576 & SEC62    & ortholog\\_one2one & ENSMUSG00000027706 & Sec62    & ortholog\\_one2one & ENSMMUG00000021899 & SEC62    & ortholog\\_one2one\\\\\n",
       "\t37 & ENSG00000009307 & CSDE1    & ENSCJAG00000012565 & CSDE1    & ortholog\\_one2one & ENSMUSG00000068823 & Csde1    & ortholog\\_one2one & ENSMMUG00000001974 & CSDE1    & ortholog\\_one2one\\\\\n",
       "\t38 & ENSG00000009780 & FAM76A   & ENSCJAG00000009327 & FAM76A   & ortholog\\_one2one & ENSMUSG00000028878 & Fam76a   & ortholog\\_one2one & ENSMMUG00000012243 & FAM76A   & ortholog\\_one2one\\\\\n",
       "\t39 & ENSG00000010017 & RANBP9   & ENSCJAG00000019797 & RANBP9   & ortholog\\_one2one & ENSMUSG00000038546 & Ranbp9   & ortholog\\_one2one & ENSMMUG00000020122 & RANBP9   & ortholog\\_one2one\\\\\n",
       "\t40 & ENSG00000010072 & SPRTN    & ENSCJAG00000018340 & SPRTN    & ortholog\\_one2one & ENSMUSG00000031986 & Sprtn    & ortholog\\_one2one & ENSMMUG00000005244 & SPRTN    & ortholog\\_one2one\\\\\n",
       "\t41 & ENSG00000010165 & METTL13  & ENSCJAG00000009633 & METTL13  & ortholog\\_one2one & ENSMUSG00000026694 & Mettl13  & ortholog\\_one2one & ENSMMUG00000007266 & METTL13  & ortholog\\_one2one\\\\\n",
       "\t42 & ENSG00000010256 & UQCRC1   & ENSCJAG00000003132 & UQCRC1   & ortholog\\_one2one & ENSMUSG00000025651 & Uqcrc1   & ortholog\\_one2one & ENSMMUG00000014705 & UQCRC1   & ortholog\\_one2one\\\\\n",
       "\t⋮ & ⋮ & ⋮ & ⋮ & ⋮ & ⋮ & ⋮ & ⋮ & ⋮ & ⋮ & ⋮ & ⋮\\\\\n",
       "\t13886 & ENSG00000269335 & IKBKG    & ENSCJAG00000016764 & IKBKG    & ortholog\\_one2one & ENSMUSG00000004221 & Ikbkg    & ortholog\\_one2one & ENSMMUG00000017277 & IKBKG    & ortholog\\_one2one\\\\\n",
       "\t13894 & ENSG00000269743 & SLC25A53 & ENSCJAG00000085438 & SLC25A53 & ortholog\\_one2one & ENSMUSG00000044348 & Slc25a53 & ortholog\\_one2one & ENSMMUG00000040845 & SLC25A53 & ortholog\\_one2one\\\\\n",
       "\t13896 & ENSG00000269858 & EGLN2    & ENSCJAG00000014887 & EGLN2    & ortholog\\_one2one & ENSMUSG00000058709 & Egln2    & ortholog\\_one2one & ENSMMUG00000001197 & EGLN2    & ortholog\\_one2one\\\\\n",
       "\t13903 & ENSG00000270647 & TAF15    & ENSCJAG00000014961 & TAF15    & ortholog\\_one2one & ENSMUSG00000020680 & Taf15    & ortholog\\_one2one & ENSMMUG00000047780 & TAF15    & ortholog\\_one2one\\\\\n",
       "\t13906 & ENSG00000271303 & SRXN1    & ENSCJAG00000020869 & SRXN1    & ortholog\\_one2one & ENSMUSG00000032802 & Srxn1    & ortholog\\_one2one & ENSMMUG00000047391 & SRXN1    & ortholog\\_one2one\\\\\n",
       "\t13907 & ENSG00000271447 & MMP28    & ENSCJAG00000047189 & MMP28    & ortholog\\_one2one & ENSMUSG00000020682 & Mmp28    & ortholog\\_one2one & ENSMMUG00000022229 & MMP28    & ortholog\\_one2one\\\\\n",
       "\t13911 & ENSG00000272333 & KMT2B    & ENSCJAG00000010126 & KMT2B    & ortholog\\_one2one & ENSMUSG00000006307 & Kmt2b    & ortholog\\_one2one & ENSMMUG00000002381 & KMT2B    & ortholog\\_one2one\\\\\n",
       "\t13912 & ENSG00000272636 & DOC2B    & ENSCJAG00000040180 & DOC2B    & ortholog\\_one2one & ENSMUSG00000020848 & Doc2b    & ortholog\\_one2one & ENSMMUG00000005222 & DOC2B    & ortholog\\_one2one\\\\\n",
       "\t13920 & ENSG00000273540 & AGBL1    & ENSCJAG00000013146 & AGBL1    & ortholog\\_one2one & ENSMUSG00000025754 & Agbl1    & ortholog\\_one2one & ENSMMUG00000008495 & AGBL1    & ortholog\\_one2one\\\\\n",
       "\t13921 & ENSG00000273559 & CWC25    & ENSCJAG00000008289 & CWC25    & ortholog\\_one2one & ENSMUSG00000018541 & Cwc25    & ortholog\\_one2one & ENSMMUG00000002944 & CWC25    & ortholog\\_one2one\\\\\n",
       "\t13927 & ENSG00000273749 & CYFIP1   & ENSCJAG00000005289 & CYFIP1   & ortholog\\_one2one & ENSMUSG00000030447 & Cyfip1   & ortholog\\_one2one & ENSMMUG00000003890 & CYFIP1   & ortholog\\_one2one\\\\\n",
       "\t13928 & ENSG00000273899 & NOL12    & ENSCJAG00000070089 & NOL12    & ortholog\\_one2one & ENSMUSG00000033099 & Nol12    & ortholog\\_one2one & ENSMMUG00000056629 & NOL12    & ortholog\\_one2one\\\\\n",
       "\t13929 & ENSG00000274211 & SOCS7    & ENSCJAG00000008108 & SOCS7    & ortholog\\_one2one & ENSMUSG00000038485 & Socs7    & ortholog\\_one2one & ENSMMUG00000020531 & SOCS7    & ortholog\\_one2one\\\\\n",
       "\t13934 & ENSG00000275023 & MLLT6    & ENSCJAG00000008169 & MLLT6    & ortholog\\_one2one & ENSMUSG00000038437 & Mllt6    & ortholog\\_one2one & ENSMMUG00000002637 & MLLT6    & ortholog\\_one2one\\\\\n",
       "\t13935 & ENSG00000275066 & SYNRG    & ENSCJAG00000015209 & SYNRG    & ortholog\\_one2one & ENSMUSG00000034940 & Synrg    & ortholog\\_one2one & ENSMMUG00000002976 & SYNRG    & ortholog\\_one2one\\\\\n",
       "\t13941 & ENSG00000275832 & ARHGAP23 & ENSCJAG00000008112 & ARHGAP23 & ortholog\\_one2one & ENSMUSG00000049807 & Arhgap23 & ortholog\\_one2one & ENSMMUG00000020020 & ARHGAP23 & ortholog\\_one2one\\\\\n",
       "\t13942 & ENSG00000275835 & TUBGCP5  & ENSCJAG00000005261 & TUBGCP5  & ortholog\\_one2one & ENSMUSG00000033790 & Tubgcp5  & ortholog\\_one2one & ENSMMUG00000005533 & TUBGCP5  & ortholog\\_one2one\\\\\n",
       "\t13943 & ENSG00000276023 & DUSP14   & ENSCJAG00000039500 & DUSP14   & ortholog\\_one2one & ENSMUSG00000018648 & Dusp14   & ortholog\\_one2one & ENSMMUG00000002975 & DUSP14   & ortholog\\_one2one\\\\\n",
       "\t13944 & ENSG00000276234 & TADA2A   & ENSCJAG00000015275 & TADA2A   & ortholog\\_one2one & ENSMUSG00000018651 & Tada2a   & ortholog\\_one2one & ENSMMUG00000021911 & TADA2A   & ortholog\\_one2one\\\\\n",
       "\t13945 & ENSG00000276293 & PIP4K2B  & ENSCJAG00000042442 & PIP4K2B  & ortholog\\_one2one & ENSMUSG00000018547 & Pip4k2b  & ortholog\\_one2one & ENSMMUG00000012365 & PIP4K2B  & ortholog\\_one2one\\\\\n",
       "\t13948 & ENSG00000277258 & PCGF2    & ENSCJAG00000008215 & PCGF2    & ortholog\\_one2one & ENSMUSG00000018537 & Pcgf2    & ortholog\\_one2one & ENSMMUG00000052879 & PCGF2    & ortholog\\_one2one\\\\\n",
       "\t13949 & ENSG00000277363 & SRCIN1   & ENSCJAG00000008123 & SRCIN1   & ortholog\\_one2one & ENSMUSG00000038453 & Srcin1   & ortholog\\_one2one & ENSMMUG00000005041 & SRCIN1   & ortholog\\_one2one\\\\\n",
       "\t13950 & ENSG00000277531 & PNMA8C   & ENSCJAG00000075292 & PNMA8C   & ortholog\\_one2one & ENSMUSG00000108348 & Pnma8c   & ortholog\\_one2one & ENSMMUG00000061795 & PNMA8C   & ortholog\\_one2one\\\\\n",
       "\t13951 & ENSG00000277791 & PSMB3    & ENSCJAG00000008246 & PSMB3    & ortholog\\_one2one & ENSMUSG00000069744 & Psmb3    & ortholog\\_one2one & ENSMMUG00000012363 & PSMB3    & ortholog\\_one2one\\\\\n",
       "\t13953 & ENSG00000278053 & DDX52    & ENSCJAG00000015190 & DDX52    & ortholog\\_one2one & ENSMUSG00000020677 & Ddx52    & ortholog\\_one2one & ENSMMUG00000002980 & DDX52    & ortholog\\_one2one\\\\\n",
       "\t13954 & ENSG00000278129 & ZNF8     & ENSCJAG00000047255 & ZNF8     & ortholog\\_one2one & ENSMUSG00000060397 & Zfp128   & ortholog\\_one2one & ENSMMUG00000020508 & ZNF8     & ortholog\\_one2one\\\\\n",
       "\t13955 & ENSG00000278259 & MYO19    & ENSCJAG00000001068 & MYO19    & ortholog\\_one2one & ENSMUSG00000020527 & Myo19    & ortholog\\_one2one & ENSMMUG00000007920 & MYO19    & ortholog\\_one2one\\\\\n",
       "\t13956 & ENSG00000278311 & GGNBP2   & ENSCJAG00000001044 & GGNBP2   & ortholog\\_one2one & ENSMUSG00000020530 & Ggnbp2   & ortholog\\_one2one & ENSMMUG00000000618 & GGNBP2   & ortholog\\_one2one\\\\\n",
       "\t13958 & ENSG00000278540 & ACACA    & ENSCJAG00000015336 & ACACA    & ortholog\\_one2one & ENSMUSG00000020532 & Acaca    & ortholog\\_one2one & ENSMMUG00000009349 & ACACA    & ortholog\\_one2one\\\\\n",
       "\t13968 & ENSG00000278845 & MRPL45   & ENSCJAG00000008080 & MRPL45   & ortholog\\_one2one & ENSMUSG00000018882 & Mrpl45   & ortholog\\_one2one & ENSMMUG00000030213 & MRPL45   & ortholog\\_one2one\\\\\n",
       "\\end{tabular}\n"
      ],
      "text/markdown": [
       "\n",
       "A data.frame: 8904 × 11\n",
       "\n",
       "| <!--/--> | ensembl_gene_id &lt;chr&gt; | external_gene_name &lt;chr&gt; | cjacchus_homolog_ensembl_gene &lt;chr&gt; | cjacchus_homolog_associated_gene_name &lt;chr&gt; | cjacchus_homolog_orthology_type &lt;chr&gt; | mmusculus_homolog_ensembl_gene &lt;chr&gt; | mmusculus_homolog_associated_gene_name &lt;chr&gt; | mmusculus_homolog_orthology_type &lt;chr&gt; | mmulatta_homolog_ensembl_gene &lt;chr&gt; | mmulatta_homolog_associated_gene_name &lt;chr&gt; | mmulatta_homolog_orthology_type &lt;chr&gt; |\n",
       "|---|---|---|---|---|---|---|---|---|---|---|---|\n",
       "| 1 | ENSG00000000457 | SCYL3    | ENSCJAG00000010050 | SCYL3    | ortholog_one2one | ENSMUSG00000026584 | Scyl3    | ortholog_one2one | ENSMMUG00000016583 | SCYL3    | ortholog_one2one |\n",
       "| 2 | ENSG00000000460 | FIRRM    | ENSCJAG00000010088 | FIRRM    | ortholog_one2one | ENSMUSG00000041406 | Firrm    | ortholog_one2one | ENSMMUG00000016582 | FIRRM    | ortholog_one2one |\n",
       "| 3 | ENSG00000001460 | STPG1    | ENSCJAG00000020857 | STPG1    | ortholog_one2one | ENSMUSG00000028801 | Stpg1    | ortholog_one2one | ENSMMUG00000054255 | STPG1    | ortholog_one2one |\n",
       "| 4 | ENSG00000001461 | NIPAL3   | ENSCJAG00000020848 | NIPAL3   | ortholog_one2one | ENSMUSG00000028803 | Nipal3   | ortholog_one2one | ENSMMUG00000004466 | NIPAL3   | ortholog_one2one |\n",
       "| 5 | ENSG00000002549 | LAP3     | ENSCJAG00000012680 | LAP3     | ortholog_one2one | ENSMUSG00000039682 | Lap3     | ortholog_one2one | ENSMMUG00000005732 | LAP3     | ortholog_one2one |\n",
       "| 6 | ENSG00000002587 | HS3ST1   | ENSCJAG00000012119 | HS3ST1   | ortholog_one2one | ENSMUSG00000051022 | Hs3st1   | ortholog_one2one | ENSMMUG00000001341 | HS3ST1   | ortholog_one2one |\n",
       "| 7 | ENSG00000003393 | ALS2     | ENSCJAG00000004769 | ALS2     | ortholog_one2one | ENSMUSG00000026024 | Als2     | ortholog_one2one | ENSMMUG00000018155 | ALS2     | ortholog_one2one |\n",
       "| 10 | ENSG00000003509 | NDUFAF7  | ENSCJAG00000003932 | NDUFAF7  | ortholog_one2one | ENSMUSG00000024082 | Ndufaf7  | ortholog_one2one | ENSMMUG00000016434 | NDUFAF7  | ortholog_one2one |\n",
       "| 11 | ENSG00000003756 | RBM5     | ENSCJAG00000004740 | RBM5     | ortholog_one2one | ENSMUSG00000032580 | Rbm5     | ortholog_one2one | ENSMMUG00000004921 | RBM5     | ortholog_one2one |\n",
       "| 12 | ENSG00000004399 | PLXND1   | ENSCJAG00000005429 | PLXND1   | ortholog_one2one | ENSMUSG00000030123 | Plxnd1   | ortholog_one2one | ENSMMUG00000012737 | PLXND1   | ortholog_one2one |\n",
       "| 17 | ENSG00000004534 | RBM6     | ENSCJAG00000004620 | RBM6     | ortholog_one2one | ENSMUSG00000032582 | Rbm6     | ortholog_one2one | ENSMMUG00000003494 | RBM6     | ortholog_one2one |\n",
       "| 18 | ENSG00000005059 | MCUB     | ENSCJAG00000016158 | MCUB     | ortholog_one2one | ENSMUSG00000027994 | Mcub     | ortholog_one2one | ENSMMUG00000052933 | MCUB     | ortholog_one2one |\n",
       "| 19 | ENSG00000005436 | GCFC2    | ENSCJAG00000017096 | GCFC2    | ortholog_one2one | ENSMUSG00000035125 | Gcfc2    | ortholog_one2one | ENSMMUG00000018512 | GCFC2    | ortholog_one2one |\n",
       "| 20 | ENSG00000005448 | WDR54    | ENSCJAG00000017568 | WDR54    | ortholog_one2one | ENSMUSG00000030032 | Wdr54    | ortholog_one2one | ENSMMUG00000002719 | WDR54    | ortholog_one2one |\n",
       "| 21 | ENSG00000006607 | FARP2    | ENSCJAG00000006087 | FARP2    | ortholog_one2one | ENSMUSG00000034066 | Farp2    | ortholog_one2one | ENSMMUG00000001313 | FARP2    | ortholog_one2one |\n",
       "| 24 | ENSG00000007341 | ST7L     | ENSCJAG00000013490 | ST7L     | ortholog_one2one | ENSMUSG00000045576 | St7l     | ortholog_one2one | ENSMMUG00000007766 | ST7L     | ortholog_one2one |\n",
       "| 25 | ENSG00000007402 | CACNA2D2 | ENSCJAG00000005215 | CACNA2D2 | ortholog_one2one | ENSMUSG00000010066 | Cacna2d2 | ortholog_one2one | ENSMMUG00000007022 | CACNA2D2 | ortholog_one2one |\n",
       "| 26 | ENSG00000007923 | DNAJC11  | ENSCJAG00000000242 | DNAJC11  | ortholog_one2one | ENSMUSG00000039768 | Dnajc11  | ortholog_one2one | ENSMMUG00000004686 | DNAJC11  | ortholog_one2one |\n",
       "| 29 | ENSG00000008083 | JARID2   | ENSCJAG00000005717 | JARID2   | ortholog_one2one | ENSMUSG00000038518 | Jarid2   | ortholog_one2one | ENSMMUG00000015362 | JARID2   | ortholog_one2one |\n",
       "| 30 | ENSG00000008118 | CAMK1G   | ENSCJAG00000014868 | CAMK1G   | ortholog_one2one | ENSMUSG00000016179 | Camk1g   | ortholog_one2one | ENSMMUG00000003369 | CAMK1G   | ortholog_one2one |\n",
       "| 32 | ENSG00000008130 | NADK     | ENSCJAG00000010843 | NADK     | ortholog_one2one | ENSMUSG00000029063 | Nadk     | ortholog_one2one | ENSMMUG00000010879 | NADK     | ortholog_one2one |\n",
       "| 33 | ENSG00000008300 | CELSR3   | ENSCJAG00000003177 | CELSR3   | ortholog_one2one | ENSMUSG00000023473 | Celsr3   | ortholog_one2one | ENSMMUG00000014707 | CELSR3   | ortholog_one2one |\n",
       "| 35 | ENSG00000008869 | HEATR5B  | ENSCJAG00000003707 | HEATR5B  | ortholog_one2one | ENSMUSG00000039414 | Heatr5b  | ortholog_one2one | ENSMMUG00000014939 | HEATR5B  | ortholog_one2one |\n",
       "| 36 | ENSG00000008952 | SEC62    | ENSCJAG00000002576 | SEC62    | ortholog_one2one | ENSMUSG00000027706 | Sec62    | ortholog_one2one | ENSMMUG00000021899 | SEC62    | ortholog_one2one |\n",
       "| 37 | ENSG00000009307 | CSDE1    | ENSCJAG00000012565 | CSDE1    | ortholog_one2one | ENSMUSG00000068823 | Csde1    | ortholog_one2one | ENSMMUG00000001974 | CSDE1    | ortholog_one2one |\n",
       "| 38 | ENSG00000009780 | FAM76A   | ENSCJAG00000009327 | FAM76A   | ortholog_one2one | ENSMUSG00000028878 | Fam76a   | ortholog_one2one | ENSMMUG00000012243 | FAM76A   | ortholog_one2one |\n",
       "| 39 | ENSG00000010017 | RANBP9   | ENSCJAG00000019797 | RANBP9   | ortholog_one2one | ENSMUSG00000038546 | Ranbp9   | ortholog_one2one | ENSMMUG00000020122 | RANBP9   | ortholog_one2one |\n",
       "| 40 | ENSG00000010072 | SPRTN    | ENSCJAG00000018340 | SPRTN    | ortholog_one2one | ENSMUSG00000031986 | Sprtn    | ortholog_one2one | ENSMMUG00000005244 | SPRTN    | ortholog_one2one |\n",
       "| 41 | ENSG00000010165 | METTL13  | ENSCJAG00000009633 | METTL13  | ortholog_one2one | ENSMUSG00000026694 | Mettl13  | ortholog_one2one | ENSMMUG00000007266 | METTL13  | ortholog_one2one |\n",
       "| 42 | ENSG00000010256 | UQCRC1   | ENSCJAG00000003132 | UQCRC1   | ortholog_one2one | ENSMUSG00000025651 | Uqcrc1   | ortholog_one2one | ENSMMUG00000014705 | UQCRC1   | ortholog_one2one |\n",
       "| ⋮ | ⋮ | ⋮ | ⋮ | ⋮ | ⋮ | ⋮ | ⋮ | ⋮ | ⋮ | ⋮ | ⋮ |\n",
       "| 13886 | ENSG00000269335 | IKBKG    | ENSCJAG00000016764 | IKBKG    | ortholog_one2one | ENSMUSG00000004221 | Ikbkg    | ortholog_one2one | ENSMMUG00000017277 | IKBKG    | ortholog_one2one |\n",
       "| 13894 | ENSG00000269743 | SLC25A53 | ENSCJAG00000085438 | SLC25A53 | ortholog_one2one | ENSMUSG00000044348 | Slc25a53 | ortholog_one2one | ENSMMUG00000040845 | SLC25A53 | ortholog_one2one |\n",
       "| 13896 | ENSG00000269858 | EGLN2    | ENSCJAG00000014887 | EGLN2    | ortholog_one2one | ENSMUSG00000058709 | Egln2    | ortholog_one2one | ENSMMUG00000001197 | EGLN2    | ortholog_one2one |\n",
       "| 13903 | ENSG00000270647 | TAF15    | ENSCJAG00000014961 | TAF15    | ortholog_one2one | ENSMUSG00000020680 | Taf15    | ortholog_one2one | ENSMMUG00000047780 | TAF15    | ortholog_one2one |\n",
       "| 13906 | ENSG00000271303 | SRXN1    | ENSCJAG00000020869 | SRXN1    | ortholog_one2one | ENSMUSG00000032802 | Srxn1    | ortholog_one2one | ENSMMUG00000047391 | SRXN1    | ortholog_one2one |\n",
       "| 13907 | ENSG00000271447 | MMP28    | ENSCJAG00000047189 | MMP28    | ortholog_one2one | ENSMUSG00000020682 | Mmp28    | ortholog_one2one | ENSMMUG00000022229 | MMP28    | ortholog_one2one |\n",
       "| 13911 | ENSG00000272333 | KMT2B    | ENSCJAG00000010126 | KMT2B    | ortholog_one2one | ENSMUSG00000006307 | Kmt2b    | ortholog_one2one | ENSMMUG00000002381 | KMT2B    | ortholog_one2one |\n",
       "| 13912 | ENSG00000272636 | DOC2B    | ENSCJAG00000040180 | DOC2B    | ortholog_one2one | ENSMUSG00000020848 | Doc2b    | ortholog_one2one | ENSMMUG00000005222 | DOC2B    | ortholog_one2one |\n",
       "| 13920 | ENSG00000273540 | AGBL1    | ENSCJAG00000013146 | AGBL1    | ortholog_one2one | ENSMUSG00000025754 | Agbl1    | ortholog_one2one | ENSMMUG00000008495 | AGBL1    | ortholog_one2one |\n",
       "| 13921 | ENSG00000273559 | CWC25    | ENSCJAG00000008289 | CWC25    | ortholog_one2one | ENSMUSG00000018541 | Cwc25    | ortholog_one2one | ENSMMUG00000002944 | CWC25    | ortholog_one2one |\n",
       "| 13927 | ENSG00000273749 | CYFIP1   | ENSCJAG00000005289 | CYFIP1   | ortholog_one2one | ENSMUSG00000030447 | Cyfip1   | ortholog_one2one | ENSMMUG00000003890 | CYFIP1   | ortholog_one2one |\n",
       "| 13928 | ENSG00000273899 | NOL12    | ENSCJAG00000070089 | NOL12    | ortholog_one2one | ENSMUSG00000033099 | Nol12    | ortholog_one2one | ENSMMUG00000056629 | NOL12    | ortholog_one2one |\n",
       "| 13929 | ENSG00000274211 | SOCS7    | ENSCJAG00000008108 | SOCS7    | ortholog_one2one | ENSMUSG00000038485 | Socs7    | ortholog_one2one | ENSMMUG00000020531 | SOCS7    | ortholog_one2one |\n",
       "| 13934 | ENSG00000275023 | MLLT6    | ENSCJAG00000008169 | MLLT6    | ortholog_one2one | ENSMUSG00000038437 | Mllt6    | ortholog_one2one | ENSMMUG00000002637 | MLLT6    | ortholog_one2one |\n",
       "| 13935 | ENSG00000275066 | SYNRG    | ENSCJAG00000015209 | SYNRG    | ortholog_one2one | ENSMUSG00000034940 | Synrg    | ortholog_one2one | ENSMMUG00000002976 | SYNRG    | ortholog_one2one |\n",
       "| 13941 | ENSG00000275832 | ARHGAP23 | ENSCJAG00000008112 | ARHGAP23 | ortholog_one2one | ENSMUSG00000049807 | Arhgap23 | ortholog_one2one | ENSMMUG00000020020 | ARHGAP23 | ortholog_one2one |\n",
       "| 13942 | ENSG00000275835 | TUBGCP5  | ENSCJAG00000005261 | TUBGCP5  | ortholog_one2one | ENSMUSG00000033790 | Tubgcp5  | ortholog_one2one | ENSMMUG00000005533 | TUBGCP5  | ortholog_one2one |\n",
       "| 13943 | ENSG00000276023 | DUSP14   | ENSCJAG00000039500 | DUSP14   | ortholog_one2one | ENSMUSG00000018648 | Dusp14   | ortholog_one2one | ENSMMUG00000002975 | DUSP14   | ortholog_one2one |\n",
       "| 13944 | ENSG00000276234 | TADA2A   | ENSCJAG00000015275 | TADA2A   | ortholog_one2one | ENSMUSG00000018651 | Tada2a   | ortholog_one2one | ENSMMUG00000021911 | TADA2A   | ortholog_one2one |\n",
       "| 13945 | ENSG00000276293 | PIP4K2B  | ENSCJAG00000042442 | PIP4K2B  | ortholog_one2one | ENSMUSG00000018547 | Pip4k2b  | ortholog_one2one | ENSMMUG00000012365 | PIP4K2B  | ortholog_one2one |\n",
       "| 13948 | ENSG00000277258 | PCGF2    | ENSCJAG00000008215 | PCGF2    | ortholog_one2one | ENSMUSG00000018537 | Pcgf2    | ortholog_one2one | ENSMMUG00000052879 | PCGF2    | ortholog_one2one |\n",
       "| 13949 | ENSG00000277363 | SRCIN1   | ENSCJAG00000008123 | SRCIN1   | ortholog_one2one | ENSMUSG00000038453 | Srcin1   | ortholog_one2one | ENSMMUG00000005041 | SRCIN1   | ortholog_one2one |\n",
       "| 13950 | ENSG00000277531 | PNMA8C   | ENSCJAG00000075292 | PNMA8C   | ortholog_one2one | ENSMUSG00000108348 | Pnma8c   | ortholog_one2one | ENSMMUG00000061795 | PNMA8C   | ortholog_one2one |\n",
       "| 13951 | ENSG00000277791 | PSMB3    | ENSCJAG00000008246 | PSMB3    | ortholog_one2one | ENSMUSG00000069744 | Psmb3    | ortholog_one2one | ENSMMUG00000012363 | PSMB3    | ortholog_one2one |\n",
       "| 13953 | ENSG00000278053 | DDX52    | ENSCJAG00000015190 | DDX52    | ortholog_one2one | ENSMUSG00000020677 | Ddx52    | ortholog_one2one | ENSMMUG00000002980 | DDX52    | ortholog_one2one |\n",
       "| 13954 | ENSG00000278129 | ZNF8     | ENSCJAG00000047255 | ZNF8     | ortholog_one2one | ENSMUSG00000060397 | Zfp128   | ortholog_one2one | ENSMMUG00000020508 | ZNF8     | ortholog_one2one |\n",
       "| 13955 | ENSG00000278259 | MYO19    | ENSCJAG00000001068 | MYO19    | ortholog_one2one | ENSMUSG00000020527 | Myo19    | ortholog_one2one | ENSMMUG00000007920 | MYO19    | ortholog_one2one |\n",
       "| 13956 | ENSG00000278311 | GGNBP2   | ENSCJAG00000001044 | GGNBP2   | ortholog_one2one | ENSMUSG00000020530 | Ggnbp2   | ortholog_one2one | ENSMMUG00000000618 | GGNBP2   | ortholog_one2one |\n",
       "| 13958 | ENSG00000278540 | ACACA    | ENSCJAG00000015336 | ACACA    | ortholog_one2one | ENSMUSG00000020532 | Acaca    | ortholog_one2one | ENSMMUG00000009349 | ACACA    | ortholog_one2one |\n",
       "| 13968 | ENSG00000278845 | MRPL45   | ENSCJAG00000008080 | MRPL45   | ortholog_one2one | ENSMUSG00000018882 | Mrpl45   | ortholog_one2one | ENSMMUG00000030213 | MRPL45   | ortholog_one2one |\n",
       "\n"
      ],
      "text/plain": [
       "      ensembl_gene_id external_gene_name cjacchus_homolog_ensembl_gene\n",
       "1     ENSG00000000457 SCYL3              ENSCJAG00000010050           \n",
       "2     ENSG00000000460 FIRRM              ENSCJAG00000010088           \n",
       "3     ENSG00000001460 STPG1              ENSCJAG00000020857           \n",
       "4     ENSG00000001461 NIPAL3             ENSCJAG00000020848           \n",
       "5     ENSG00000002549 LAP3               ENSCJAG00000012680           \n",
       "6     ENSG00000002587 HS3ST1             ENSCJAG00000012119           \n",
       "7     ENSG00000003393 ALS2               ENSCJAG00000004769           \n",
       "10    ENSG00000003509 NDUFAF7            ENSCJAG00000003932           \n",
       "11    ENSG00000003756 RBM5               ENSCJAG00000004740           \n",
       "12    ENSG00000004399 PLXND1             ENSCJAG00000005429           \n",
       "17    ENSG00000004534 RBM6               ENSCJAG00000004620           \n",
       "18    ENSG00000005059 MCUB               ENSCJAG00000016158           \n",
       "19    ENSG00000005436 GCFC2              ENSCJAG00000017096           \n",
       "20    ENSG00000005448 WDR54              ENSCJAG00000017568           \n",
       "21    ENSG00000006607 FARP2              ENSCJAG00000006087           \n",
       "24    ENSG00000007341 ST7L               ENSCJAG00000013490           \n",
       "25    ENSG00000007402 CACNA2D2           ENSCJAG00000005215           \n",
       "26    ENSG00000007923 DNAJC11            ENSCJAG00000000242           \n",
       "29    ENSG00000008083 JARID2             ENSCJAG00000005717           \n",
       "30    ENSG00000008118 CAMK1G             ENSCJAG00000014868           \n",
       "32    ENSG00000008130 NADK               ENSCJAG00000010843           \n",
       "33    ENSG00000008300 CELSR3             ENSCJAG00000003177           \n",
       "35    ENSG00000008869 HEATR5B            ENSCJAG00000003707           \n",
       "36    ENSG00000008952 SEC62              ENSCJAG00000002576           \n",
       "37    ENSG00000009307 CSDE1              ENSCJAG00000012565           \n",
       "38    ENSG00000009780 FAM76A             ENSCJAG00000009327           \n",
       "39    ENSG00000010017 RANBP9             ENSCJAG00000019797           \n",
       "40    ENSG00000010072 SPRTN              ENSCJAG00000018340           \n",
       "41    ENSG00000010165 METTL13            ENSCJAG00000009633           \n",
       "42    ENSG00000010256 UQCRC1             ENSCJAG00000003132           \n",
       "⋮     ⋮               ⋮                  ⋮                            \n",
       "13886 ENSG00000269335 IKBKG              ENSCJAG00000016764           \n",
       "13894 ENSG00000269743 SLC25A53           ENSCJAG00000085438           \n",
       "13896 ENSG00000269858 EGLN2              ENSCJAG00000014887           \n",
       "13903 ENSG00000270647 TAF15              ENSCJAG00000014961           \n",
       "13906 ENSG00000271303 SRXN1              ENSCJAG00000020869           \n",
       "13907 ENSG00000271447 MMP28              ENSCJAG00000047189           \n",
       "13911 ENSG00000272333 KMT2B              ENSCJAG00000010126           \n",
       "13912 ENSG00000272636 DOC2B              ENSCJAG00000040180           \n",
       "13920 ENSG00000273540 AGBL1              ENSCJAG00000013146           \n",
       "13921 ENSG00000273559 CWC25              ENSCJAG00000008289           \n",
       "13927 ENSG00000273749 CYFIP1             ENSCJAG00000005289           \n",
       "13928 ENSG00000273899 NOL12              ENSCJAG00000070089           \n",
       "13929 ENSG00000274211 SOCS7              ENSCJAG00000008108           \n",
       "13934 ENSG00000275023 MLLT6              ENSCJAG00000008169           \n",
       "13935 ENSG00000275066 SYNRG              ENSCJAG00000015209           \n",
       "13941 ENSG00000275832 ARHGAP23           ENSCJAG00000008112           \n",
       "13942 ENSG00000275835 TUBGCP5            ENSCJAG00000005261           \n",
       "13943 ENSG00000276023 DUSP14             ENSCJAG00000039500           \n",
       "13944 ENSG00000276234 TADA2A             ENSCJAG00000015275           \n",
       "13945 ENSG00000276293 PIP4K2B            ENSCJAG00000042442           \n",
       "13948 ENSG00000277258 PCGF2              ENSCJAG00000008215           \n",
       "13949 ENSG00000277363 SRCIN1             ENSCJAG00000008123           \n",
       "13950 ENSG00000277531 PNMA8C             ENSCJAG00000075292           \n",
       "13951 ENSG00000277791 PSMB3              ENSCJAG00000008246           \n",
       "13953 ENSG00000278053 DDX52              ENSCJAG00000015190           \n",
       "13954 ENSG00000278129 ZNF8               ENSCJAG00000047255           \n",
       "13955 ENSG00000278259 MYO19              ENSCJAG00000001068           \n",
       "13956 ENSG00000278311 GGNBP2             ENSCJAG00000001044           \n",
       "13958 ENSG00000278540 ACACA              ENSCJAG00000015336           \n",
       "13968 ENSG00000278845 MRPL45             ENSCJAG00000008080           \n",
       "      cjacchus_homolog_associated_gene_name cjacchus_homolog_orthology_type\n",
       "1     SCYL3                                 ortholog_one2one               \n",
       "2     FIRRM                                 ortholog_one2one               \n",
       "3     STPG1                                 ortholog_one2one               \n",
       "4     NIPAL3                                ortholog_one2one               \n",
       "5     LAP3                                  ortholog_one2one               \n",
       "6     HS3ST1                                ortholog_one2one               \n",
       "7     ALS2                                  ortholog_one2one               \n",
       "10    NDUFAF7                               ortholog_one2one               \n",
       "11    RBM5                                  ortholog_one2one               \n",
       "12    PLXND1                                ortholog_one2one               \n",
       "17    RBM6                                  ortholog_one2one               \n",
       "18    MCUB                                  ortholog_one2one               \n",
       "19    GCFC2                                 ortholog_one2one               \n",
       "20    WDR54                                 ortholog_one2one               \n",
       "21    FARP2                                 ortholog_one2one               \n",
       "24    ST7L                                  ortholog_one2one               \n",
       "25    CACNA2D2                              ortholog_one2one               \n",
       "26    DNAJC11                               ortholog_one2one               \n",
       "29    JARID2                                ortholog_one2one               \n",
       "30    CAMK1G                                ortholog_one2one               \n",
       "32    NADK                                  ortholog_one2one               \n",
       "33    CELSR3                                ortholog_one2one               \n",
       "35    HEATR5B                               ortholog_one2one               \n",
       "36    SEC62                                 ortholog_one2one               \n",
       "37    CSDE1                                 ortholog_one2one               \n",
       "38    FAM76A                                ortholog_one2one               \n",
       "39    RANBP9                                ortholog_one2one               \n",
       "40    SPRTN                                 ortholog_one2one               \n",
       "41    METTL13                               ortholog_one2one               \n",
       "42    UQCRC1                                ortholog_one2one               \n",
       "⋮     ⋮                                     ⋮                              \n",
       "13886 IKBKG                                 ortholog_one2one               \n",
       "13894 SLC25A53                              ortholog_one2one               \n",
       "13896 EGLN2                                 ortholog_one2one               \n",
       "13903 TAF15                                 ortholog_one2one               \n",
       "13906 SRXN1                                 ortholog_one2one               \n",
       "13907 MMP28                                 ortholog_one2one               \n",
       "13911 KMT2B                                 ortholog_one2one               \n",
       "13912 DOC2B                                 ortholog_one2one               \n",
       "13920 AGBL1                                 ortholog_one2one               \n",
       "13921 CWC25                                 ortholog_one2one               \n",
       "13927 CYFIP1                                ortholog_one2one               \n",
       "13928 NOL12                                 ortholog_one2one               \n",
       "13929 SOCS7                                 ortholog_one2one               \n",
       "13934 MLLT6                                 ortholog_one2one               \n",
       "13935 SYNRG                                 ortholog_one2one               \n",
       "13941 ARHGAP23                              ortholog_one2one               \n",
       "13942 TUBGCP5                               ortholog_one2one               \n",
       "13943 DUSP14                                ortholog_one2one               \n",
       "13944 TADA2A                                ortholog_one2one               \n",
       "13945 PIP4K2B                               ortholog_one2one               \n",
       "13948 PCGF2                                 ortholog_one2one               \n",
       "13949 SRCIN1                                ortholog_one2one               \n",
       "13950 PNMA8C                                ortholog_one2one               \n",
       "13951 PSMB3                                 ortholog_one2one               \n",
       "13953 DDX52                                 ortholog_one2one               \n",
       "13954 ZNF8                                  ortholog_one2one               \n",
       "13955 MYO19                                 ortholog_one2one               \n",
       "13956 GGNBP2                                ortholog_one2one               \n",
       "13958 ACACA                                 ortholog_one2one               \n",
       "13968 MRPL45                                ortholog_one2one               \n",
       "      mmusculus_homolog_ensembl_gene mmusculus_homolog_associated_gene_name\n",
       "1     ENSMUSG00000026584             Scyl3                                 \n",
       "2     ENSMUSG00000041406             Firrm                                 \n",
       "3     ENSMUSG00000028801             Stpg1                                 \n",
       "4     ENSMUSG00000028803             Nipal3                                \n",
       "5     ENSMUSG00000039682             Lap3                                  \n",
       "6     ENSMUSG00000051022             Hs3st1                                \n",
       "7     ENSMUSG00000026024             Als2                                  \n",
       "10    ENSMUSG00000024082             Ndufaf7                               \n",
       "11    ENSMUSG00000032580             Rbm5                                  \n",
       "12    ENSMUSG00000030123             Plxnd1                                \n",
       "17    ENSMUSG00000032582             Rbm6                                  \n",
       "18    ENSMUSG00000027994             Mcub                                  \n",
       "19    ENSMUSG00000035125             Gcfc2                                 \n",
       "20    ENSMUSG00000030032             Wdr54                                 \n",
       "21    ENSMUSG00000034066             Farp2                                 \n",
       "24    ENSMUSG00000045576             St7l                                  \n",
       "25    ENSMUSG00000010066             Cacna2d2                              \n",
       "26    ENSMUSG00000039768             Dnajc11                               \n",
       "29    ENSMUSG00000038518             Jarid2                                \n",
       "30    ENSMUSG00000016179             Camk1g                                \n",
       "32    ENSMUSG00000029063             Nadk                                  \n",
       "33    ENSMUSG00000023473             Celsr3                                \n",
       "35    ENSMUSG00000039414             Heatr5b                               \n",
       "36    ENSMUSG00000027706             Sec62                                 \n",
       "37    ENSMUSG00000068823             Csde1                                 \n",
       "38    ENSMUSG00000028878             Fam76a                                \n",
       "39    ENSMUSG00000038546             Ranbp9                                \n",
       "40    ENSMUSG00000031986             Sprtn                                 \n",
       "41    ENSMUSG00000026694             Mettl13                               \n",
       "42    ENSMUSG00000025651             Uqcrc1                                \n",
       "⋮     ⋮                              ⋮                                     \n",
       "13886 ENSMUSG00000004221             Ikbkg                                 \n",
       "13894 ENSMUSG00000044348             Slc25a53                              \n",
       "13896 ENSMUSG00000058709             Egln2                                 \n",
       "13903 ENSMUSG00000020680             Taf15                                 \n",
       "13906 ENSMUSG00000032802             Srxn1                                 \n",
       "13907 ENSMUSG00000020682             Mmp28                                 \n",
       "13911 ENSMUSG00000006307             Kmt2b                                 \n",
       "13912 ENSMUSG00000020848             Doc2b                                 \n",
       "13920 ENSMUSG00000025754             Agbl1                                 \n",
       "13921 ENSMUSG00000018541             Cwc25                                 \n",
       "13927 ENSMUSG00000030447             Cyfip1                                \n",
       "13928 ENSMUSG00000033099             Nol12                                 \n",
       "13929 ENSMUSG00000038485             Socs7                                 \n",
       "13934 ENSMUSG00000038437             Mllt6                                 \n",
       "13935 ENSMUSG00000034940             Synrg                                 \n",
       "13941 ENSMUSG00000049807             Arhgap23                              \n",
       "13942 ENSMUSG00000033790             Tubgcp5                               \n",
       "13943 ENSMUSG00000018648             Dusp14                                \n",
       "13944 ENSMUSG00000018651             Tada2a                                \n",
       "13945 ENSMUSG00000018547             Pip4k2b                               \n",
       "13948 ENSMUSG00000018537             Pcgf2                                 \n",
       "13949 ENSMUSG00000038453             Srcin1                                \n",
       "13950 ENSMUSG00000108348             Pnma8c                                \n",
       "13951 ENSMUSG00000069744             Psmb3                                 \n",
       "13953 ENSMUSG00000020677             Ddx52                                 \n",
       "13954 ENSMUSG00000060397             Zfp128                                \n",
       "13955 ENSMUSG00000020527             Myo19                                 \n",
       "13956 ENSMUSG00000020530             Ggnbp2                                \n",
       "13958 ENSMUSG00000020532             Acaca                                 \n",
       "13968 ENSMUSG00000018882             Mrpl45                                \n",
       "      mmusculus_homolog_orthology_type mmulatta_homolog_ensembl_gene\n",
       "1     ortholog_one2one                 ENSMMUG00000016583           \n",
       "2     ortholog_one2one                 ENSMMUG00000016582           \n",
       "3     ortholog_one2one                 ENSMMUG00000054255           \n",
       "4     ortholog_one2one                 ENSMMUG00000004466           \n",
       "5     ortholog_one2one                 ENSMMUG00000005732           \n",
       "6     ortholog_one2one                 ENSMMUG00000001341           \n",
       "7     ortholog_one2one                 ENSMMUG00000018155           \n",
       "10    ortholog_one2one                 ENSMMUG00000016434           \n",
       "11    ortholog_one2one                 ENSMMUG00000004921           \n",
       "12    ortholog_one2one                 ENSMMUG00000012737           \n",
       "17    ortholog_one2one                 ENSMMUG00000003494           \n",
       "18    ortholog_one2one                 ENSMMUG00000052933           \n",
       "19    ortholog_one2one                 ENSMMUG00000018512           \n",
       "20    ortholog_one2one                 ENSMMUG00000002719           \n",
       "21    ortholog_one2one                 ENSMMUG00000001313           \n",
       "24    ortholog_one2one                 ENSMMUG00000007766           \n",
       "25    ortholog_one2one                 ENSMMUG00000007022           \n",
       "26    ortholog_one2one                 ENSMMUG00000004686           \n",
       "29    ortholog_one2one                 ENSMMUG00000015362           \n",
       "30    ortholog_one2one                 ENSMMUG00000003369           \n",
       "32    ortholog_one2one                 ENSMMUG00000010879           \n",
       "33    ortholog_one2one                 ENSMMUG00000014707           \n",
       "35    ortholog_one2one                 ENSMMUG00000014939           \n",
       "36    ortholog_one2one                 ENSMMUG00000021899           \n",
       "37    ortholog_one2one                 ENSMMUG00000001974           \n",
       "38    ortholog_one2one                 ENSMMUG00000012243           \n",
       "39    ortholog_one2one                 ENSMMUG00000020122           \n",
       "40    ortholog_one2one                 ENSMMUG00000005244           \n",
       "41    ortholog_one2one                 ENSMMUG00000007266           \n",
       "42    ortholog_one2one                 ENSMMUG00000014705           \n",
       "⋮     ⋮                                ⋮                            \n",
       "13886 ortholog_one2one                 ENSMMUG00000017277           \n",
       "13894 ortholog_one2one                 ENSMMUG00000040845           \n",
       "13896 ortholog_one2one                 ENSMMUG00000001197           \n",
       "13903 ortholog_one2one                 ENSMMUG00000047780           \n",
       "13906 ortholog_one2one                 ENSMMUG00000047391           \n",
       "13907 ortholog_one2one                 ENSMMUG00000022229           \n",
       "13911 ortholog_one2one                 ENSMMUG00000002381           \n",
       "13912 ortholog_one2one                 ENSMMUG00000005222           \n",
       "13920 ortholog_one2one                 ENSMMUG00000008495           \n",
       "13921 ortholog_one2one                 ENSMMUG00000002944           \n",
       "13927 ortholog_one2one                 ENSMMUG00000003890           \n",
       "13928 ortholog_one2one                 ENSMMUG00000056629           \n",
       "13929 ortholog_one2one                 ENSMMUG00000020531           \n",
       "13934 ortholog_one2one                 ENSMMUG00000002637           \n",
       "13935 ortholog_one2one                 ENSMMUG00000002976           \n",
       "13941 ortholog_one2one                 ENSMMUG00000020020           \n",
       "13942 ortholog_one2one                 ENSMMUG00000005533           \n",
       "13943 ortholog_one2one                 ENSMMUG00000002975           \n",
       "13944 ortholog_one2one                 ENSMMUG00000021911           \n",
       "13945 ortholog_one2one                 ENSMMUG00000012365           \n",
       "13948 ortholog_one2one                 ENSMMUG00000052879           \n",
       "13949 ortholog_one2one                 ENSMMUG00000005041           \n",
       "13950 ortholog_one2one                 ENSMMUG00000061795           \n",
       "13951 ortholog_one2one                 ENSMMUG00000012363           \n",
       "13953 ortholog_one2one                 ENSMMUG00000002980           \n",
       "13954 ortholog_one2one                 ENSMMUG00000020508           \n",
       "13955 ortholog_one2one                 ENSMMUG00000007920           \n",
       "13956 ortholog_one2one                 ENSMMUG00000000618           \n",
       "13958 ortholog_one2one                 ENSMMUG00000009349           \n",
       "13968 ortholog_one2one                 ENSMMUG00000030213           \n",
       "      mmulatta_homolog_associated_gene_name mmulatta_homolog_orthology_type\n",
       "1     SCYL3                                 ortholog_one2one               \n",
       "2     FIRRM                                 ortholog_one2one               \n",
       "3     STPG1                                 ortholog_one2one               \n",
       "4     NIPAL3                                ortholog_one2one               \n",
       "5     LAP3                                  ortholog_one2one               \n",
       "6     HS3ST1                                ortholog_one2one               \n",
       "7     ALS2                                  ortholog_one2one               \n",
       "10    NDUFAF7                               ortholog_one2one               \n",
       "11    RBM5                                  ortholog_one2one               \n",
       "12    PLXND1                                ortholog_one2one               \n",
       "17    RBM6                                  ortholog_one2one               \n",
       "18    MCUB                                  ortholog_one2one               \n",
       "19    GCFC2                                 ortholog_one2one               \n",
       "20    WDR54                                 ortholog_one2one               \n",
       "21    FARP2                                 ortholog_one2one               \n",
       "24    ST7L                                  ortholog_one2one               \n",
       "25    CACNA2D2                              ortholog_one2one               \n",
       "26    DNAJC11                               ortholog_one2one               \n",
       "29    JARID2                                ortholog_one2one               \n",
       "30    CAMK1G                                ortholog_one2one               \n",
       "32    NADK                                  ortholog_one2one               \n",
       "33    CELSR3                                ortholog_one2one               \n",
       "35    HEATR5B                               ortholog_one2one               \n",
       "36    SEC62                                 ortholog_one2one               \n",
       "37    CSDE1                                 ortholog_one2one               \n",
       "38    FAM76A                                ortholog_one2one               \n",
       "39    RANBP9                                ortholog_one2one               \n",
       "40    SPRTN                                 ortholog_one2one               \n",
       "41    METTL13                               ortholog_one2one               \n",
       "42    UQCRC1                                ortholog_one2one               \n",
       "⋮     ⋮                                     ⋮                              \n",
       "13886 IKBKG                                 ortholog_one2one               \n",
       "13894 SLC25A53                              ortholog_one2one               \n",
       "13896 EGLN2                                 ortholog_one2one               \n",
       "13903 TAF15                                 ortholog_one2one               \n",
       "13906 SRXN1                                 ortholog_one2one               \n",
       "13907 MMP28                                 ortholog_one2one               \n",
       "13911 KMT2B                                 ortholog_one2one               \n",
       "13912 DOC2B                                 ortholog_one2one               \n",
       "13920 AGBL1                                 ortholog_one2one               \n",
       "13921 CWC25                                 ortholog_one2one               \n",
       "13927 CYFIP1                                ortholog_one2one               \n",
       "13928 NOL12                                 ortholog_one2one               \n",
       "13929 SOCS7                                 ortholog_one2one               \n",
       "13934 MLLT6                                 ortholog_one2one               \n",
       "13935 SYNRG                                 ortholog_one2one               \n",
       "13941 ARHGAP23                              ortholog_one2one               \n",
       "13942 TUBGCP5                               ortholog_one2one               \n",
       "13943 DUSP14                                ortholog_one2one               \n",
       "13944 TADA2A                                ortholog_one2one               \n",
       "13945 PIP4K2B                               ortholog_one2one               \n",
       "13948 PCGF2                                 ortholog_one2one               \n",
       "13949 SRCIN1                                ortholog_one2one               \n",
       "13950 PNMA8C                                ortholog_one2one               \n",
       "13951 PSMB3                                 ortholog_one2one               \n",
       "13953 DDX52                                 ortholog_one2one               \n",
       "13954 ZNF8                                  ortholog_one2one               \n",
       "13955 MYO19                                 ortholog_one2one               \n",
       "13956 GGNBP2                                ortholog_one2one               \n",
       "13958 ACACA                                 ortholog_one2one               \n",
       "13968 MRPL45                                ortholog_one2one               "
      ]
     },
     "metadata": {},
     "output_type": "display_data"
    }
   ],
   "source": [
    "# filter blank characters and \"NA\"\n",
    "filtered_homologs <- homologs[\n",
    "  !(is.na(homologs$cjacchus_homolog_associated_gene_name) & homologs$cjacchus_homolog_associated_gene_name == \"\") &\n",
    "    homologs$cjacchus_homolog_orthology_type == \"ortholog_one2one\" &\n",
    "  !(is.na(homologs$mmusculus_homolog_associated_gene_name) & homologs$mmusculus_homolog_associated_gene_name == \"\") &\n",
    "    homologs$mmusculus_homolog_orthology_type == \"ortholog_one2one\" &\n",
    "  !(is.na(homologs$mmulatta_homolog_associated_gene_name) & homologs$mmulatta_homolog_associated_gene_name == \"\") &\n",
    "    homologs$mmulatta_homolog_orthology_type == \"ortholog_one2one\", \n",
    "]\n",
    "\n",
    "# 查看过滤后的结果\n",
    "filtered_homologs"
   ]
  },
  {
   "cell_type": "code",
   "execution_count": 203,
   "id": "5f20f1a3-87fb-4cae-856c-3bd3643ab3f8",
   "metadata": {},
   "outputs": [
    {
     "data": {
      "text/html": [
       "<style>\n",
       ".list-inline {list-style: none; margin:0; padding: 0}\n",
       ".list-inline>li {display: inline-block}\n",
       ".list-inline>li:not(:last-child)::after {content: \"\\00b7\"; padding: 0 .5ex}\n",
       "</style>\n",
       "<ol class=list-inline><li>8904</li><li>11</li></ol>\n"
      ],
      "text/latex": [
       "\\begin{enumerate*}\n",
       "\\item 8904\n",
       "\\item 11\n",
       "\\end{enumerate*}\n"
      ],
      "text/markdown": [
       "1. 8904\n",
       "2. 11\n",
       "\n",
       "\n"
      ],
      "text/plain": [
       "[1] 8904   11"
      ]
     },
     "metadata": {},
     "output_type": "display_data"
    }
   ],
   "source": [
    "dim(filtered_homologs)"
   ]
  },
  {
   "cell_type": "code",
   "execution_count": 206,
   "id": "815f0310-d00b-486c-a953-8aced20ff759",
   "metadata": {},
   "outputs": [],
   "source": [
    "write.csv(filtered_homologs, file = paste0(out_dir,'orthologs_1to1_human_mouse_macaque_marmoset_8904.csv'), row.names = FALSE)"
   ]
  },
  {
   "cell_type": "code",
   "execution_count": null,
   "id": "f8eb618f-89df-4ed7-8964-decfe90ec1ff",
   "metadata": {},
   "outputs": [],
   "source": []
  }
 ],
 "metadata": {
  "kernelspec": {
   "display_name": "r4.2",
   "language": "R",
   "name": "r4.2"
  },
  "language_info": {
   "codemirror_mode": "r",
   "file_extension": ".r",
   "mimetype": "text/x-r-source",
   "name": "R",
   "pygments_lexer": "r",
   "version": "4.2.0"
  }
 },
 "nbformat": 4,
 "nbformat_minor": 5
}
