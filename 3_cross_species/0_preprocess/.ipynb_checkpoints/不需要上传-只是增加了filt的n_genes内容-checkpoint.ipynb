{
 "cells": [
  {
   "cell_type": "markdown",
   "id": "a4d20b0f-5bca-4e2e-b454-617b387f3f52",
   "metadata": {},
   "source": [
    "## 之前的原始数据不知道为什么提取的时候明明过滤了，但是没有n_genes这一项，导致后续没法算b值，\n",
    "## 但是我写的新的示例代码中/XChrom_analysis/3_cross_species/0_preprocess/1_extract_paired_data_and_filter.ipynb，是有过滤步骤，且最终生成的文件是有n_genes的，因此这里只需要给原来的文件都加一个过滤基因和cells的步骤就行，，本代码不需要上传\n",
    "\n",
    "完蛋了，可能要重新提取和生成一次，因为这样生成的n_genes是经过5%过滤后的计算出来的，但我们原始的用于训练的是先filt生成n_genes然后再过滤5%，n_genes会 有差别\n",
    "\n",
    "重新跑一遍/20.species4/filt_data/1_human/extract_paired_m1d1_m1d1n.ipynb等代码，只需要重新处理atac部分"
   ]
  },
  {
   "cell_type": "code",
   "execution_count": 1,
   "id": "4d8fd675-babf-4903-a8f2-8812255d0f6e",
   "metadata": {},
   "outputs": [],
   "source": [
    "import scanpy as sc"
   ]
  },
  {
   "cell_type": "code",
   "execution_count": 2,
   "id": "3c77a337-97ed-436e-9e54-75ffdb81c3f2",
   "metadata": {},
   "outputs": [],
   "source": [
    "files = ['m1d2','m1d2n','m1d1n','m1d3n','m1d1']\n",
    "path = '/picb/bigdata/project/miaoyuanyuan/train/single_cell/'\n",
    "for i in files:\n",
    "    ad = sc.read_h5ad(f'{path}/20.species4/filt_data/1_human/{i}/ad_atac.h5ad')\n",
    "    sc.pp.filter_genes(ad, min_cells=0)\n",
    "    sc.pp.filter_cells(ad, min_genes=0)\n",
    "    ad.write_h5ad(f'{path}/20.species4/filt_data/1_human/{i}/ad_atac1.h5ad')"
   ]
  },
  {
   "cell_type": "code",
   "execution_count": 4,
   "id": "92ca262b-8f44-433f-8ae0-da5d080e4f02",
   "metadata": {},
   "outputs": [],
   "source": [
    "files = ['mop2c1','mop2c2','mop3c1','mop3c2','mop4b1','mop4b2','mop5d1','mop5d2']\n",
    "path = '/picb/bigdata/project/miaoyuanyuan/train/single_cell/'\n",
    "for i in files:\n",
    "    ad = sc.read_h5ad(f'{path}/20.species4/filt_data/2_mouse/{i}/ad_atac.h5ad')\n",
    "    sc.pp.filter_genes(ad, min_cells=0)\n",
    "    sc.pp.filter_cells(ad, min_genes=0)\n",
    "    ad.write_h5ad(f'{path}/20.species4/filt_data/2_mouse/{i}/ad_atac1.h5ad')"
   ]
  },
  {
   "cell_type": "code",
   "execution_count": 6,
   "id": "fe39a10e-68a4-4cbb-b701-4ad2b2b41f93",
   "metadata": {},
   "outputs": [
    {
     "data": {
      "text/plain": [
       "AnnData object with n_obs × n_vars = 6788 × 81500\n",
       "    obs: 'cell_type', 'n_genes'\n",
       "    var: 'ids', 'names', 'feature_types', 'chr', 'start', 'end', 'n_cells'"
      ]
     },
     "execution_count": 6,
     "metadata": {},
     "output_type": "execute_result"
    }
   ],
   "source": [
    "ad = sc.read_h5ad('/picb/bigdata/project/miaoyuanyuan/train/single_cell/20.species4/filt_data/2_mouse/mop2c2/ad_atac.h5ad')\n",
    "ad"
   ]
  },
  {
   "cell_type": "markdown",
   "id": "036520ec-b2f4-4f54-93cc-ee01821ea167",
   "metadata": {},
   "source": [
    "## 唉？有些原始文件又是有的，但以防万一就全生成一次"
   ]
  },
  {
   "cell_type": "code",
   "execution_count": null,
   "id": "1d0602cd-d97c-4477-8f69-c316630fd5e9",
   "metadata": {},
   "outputs": [],
   "source": []
  },
  {
   "cell_type": "code",
   "execution_count": null,
   "id": "8f207214-b10b-4c6a-8ac0-9360f2d65477",
   "metadata": {},
   "outputs": [],
   "source": []
  },
  {
   "cell_type": "code",
   "execution_count": 7,
   "id": "29118c58-f251-4313-8b35-1a573727e1bb",
   "metadata": {},
   "outputs": [],
   "source": [
    "files = ['Dheni','Mac3','R2']\n",
    "path = '/picb/bigdata/project/miaoyuanyuan/train/single_cell/'\n",
    "for i in files:\n",
    "    ad = sc.read_h5ad(f'{path}/20.species4/filt_data/3_macaque/{i}/ad_atac.h5ad')\n",
    "    sc.pp.filter_genes(ad, min_cells=0)\n",
    "    sc.pp.filter_cells(ad, min_genes=0)\n",
    "    ad.write_h5ad(f'{path}/20.species4/filt_data/3_macaque/{i}/ad_atac1.h5ad')"
   ]
  },
  {
   "cell_type": "code",
   "execution_count": null,
   "id": "1c7b810d-d4f6-49f9-a55f-eb9c5320e522",
   "metadata": {},
   "outputs": [],
   "source": []
  },
  {
   "cell_type": "code",
   "execution_count": 8,
   "id": "fd10178e-0192-47a4-9f1c-82eda55dbaa5",
   "metadata": {},
   "outputs": [],
   "source": [
    "files = ['Meadow','Peregrine_rep1','Peregrine_rep2','Webster']\n",
    "path = '/picb/bigdata/project/miaoyuanyuan/train/single_cell/'\n",
    "for i in files:\n",
    "    ad = sc.read_h5ad(f'{path}/20.species4/filt_data/4_marmoset/{i}/ad_atac.h5ad')\n",
    "    sc.pp.filter_genes(ad, min_cells=0)\n",
    "    sc.pp.filter_cells(ad, min_genes=0)\n",
    "    ad.write_h5ad(f'{path}/20.species4/filt_data/4_marmoset/{i}/ad_atac1.h5ad')"
   ]
  },
  {
   "cell_type": "code",
   "execution_count": null,
   "id": "3fa8fda0-57ea-4e34-a11e-7abf320655eb",
   "metadata": {},
   "outputs": [],
   "source": []
  },
  {
   "cell_type": "code",
   "execution_count": null,
   "id": "152e3e04-f95c-4d3e-8282-eddb4cf82e43",
   "metadata": {},
   "outputs": [],
   "source": []
  }
 ],
 "metadata": {
  "kernelspec": {
   "display_name": "py3.8_tf2.6.0",
   "language": "python",
   "name": "py3.8_tf2.6.0"
  },
  "language_info": {
   "codemirror_mode": {
    "name": "ipython",
    "version": 3
   },
   "file_extension": ".py",
   "mimetype": "text/x-python",
   "name": "python",
   "nbconvert_exporter": "python",
   "pygments_lexer": "ipython3",
   "version": "3.8.15"
  }
 },
 "nbformat": 4,
 "nbformat_minor": 5
}
