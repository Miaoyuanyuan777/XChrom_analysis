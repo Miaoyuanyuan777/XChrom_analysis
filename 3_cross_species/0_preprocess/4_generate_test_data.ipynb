{
 "cells": [
  {
   "cell_type": "markdown",
   "id": "7218d48e-ac3f-4926-a048-a52d42c23ee7",
   "metadata": {},
   "source": [
    "## Generate test data for evaluating XChrom prediction      \n",
    "- Take m1d1 sample for example, it is actually necessary to perform this operation on all samples"
   ]
  },
  {
   "cell_type": "code",
   "execution_count": 1,
   "id": "1f71d063-ab94-48c7-84af-c85325447a61",
   "metadata": {},
   "outputs": [],
   "source": [
    "import scanpy as sc\n",
    "import xchrom as xc"
   ]
  },
  {
   "cell_type": "code",
   "execution_count": 2,
   "id": "d3ed1278-0f86-406e-9ab5-18c9fe283a2c",
   "metadata": {},
   "outputs": [],
   "source": [
    "input_fasta = '/picb/bigdata/project/miaoyuanyuan/hg38.fa'"
   ]
  },
  {
   "cell_type": "code",
   "execution_count": 4,
   "id": "eac1e605-55df-41aa-ab46-fb8f5c2db9aa",
   "metadata": {},
   "outputs": [
    {
     "name": "stdout",
     "output_type": "stream",
     "text": [
      "train/test data is saved in:  test_data/human/m1d1\n",
      "successful writing bed file.\n",
      "successful writing sparse m.\n",
      "start saving all sequence h5 file...\n"
     ]
    }
   ],
   "source": [
    "test_atac = sc.read_h5ad('./data/1_human/m1d1/ad_atac.h5ad')\n",
    "test_folder = './test_data/human/m1d1/'\n",
    "dict = xc.pp.process_test_dual(\n",
    "    ad_atac=test_atac, ## can be a str, Path, or anndata.AnnData object\n",
    "    input_fasta=input_fasta,\n",
    "    output_path=test_folder\n",
    ")"
   ]
  },
  {
   "cell_type": "code",
   "execution_count": null,
   "id": "37d7cf2c-24da-4f2d-8aab-370bfe82a47f",
   "metadata": {},
   "outputs": [],
   "source": []
  }
 ],
 "metadata": {
  "kernelspec": {
   "display_name": "py3.8_tf2.6.0",
   "language": "python",
   "name": "py3.8_tf2.6.0"
  },
  "language_info": {
   "codemirror_mode": {
    "name": "ipython",
    "version": 3
   },
   "file_extension": ".py",
   "mimetype": "text/x-python",
   "name": "python",
   "nbconvert_exporter": "python",
   "pygments_lexer": "ipython3",
   "version": "3.8.15"
  }
 },
 "nbformat": 4,
 "nbformat_minor": 5
}
