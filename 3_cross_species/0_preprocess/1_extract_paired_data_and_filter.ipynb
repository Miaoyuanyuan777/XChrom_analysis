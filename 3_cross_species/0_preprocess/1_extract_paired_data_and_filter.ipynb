{
 "cells": [
  {
   "cell_type": "markdown",
   "id": "baaa09a5-29a9-4583-b5ec-64832c40f5b3",
   "metadata": {},
   "source": [
    "## Here we show the processing of human: m1d1n, the other samples are the same."
   ]
  },
  {
   "cell_type": "code",
   "execution_count": 1,
   "id": "1f4dfd54-5d45-42a4-a3fa-77d23acf6a99",
   "metadata": {},
   "outputs": [],
   "source": [
    "import scanpy as sc\n",
    "import pandas as pd\n",
    "import numpy as np\n",
    "import anndata\n",
    "from scipy.sparse import csr_matrix\n",
    "from scipy.io import mmread\n",
    "import xchrom as xc"
   ]
  },
  {
   "cell_type": "code",
   "execution_count": 2,
   "id": "6d360db9-8f6d-45a4-941e-5c7916642a3d",
   "metadata": {},
   "outputs": [
    {
     "name": "stdout",
     "output_type": "stream",
     "text": [
      "sample and cell numbers:\n",
      " M1_donor1_neun    10795\n",
      "M1_donor2_neun     8283\n",
      "M1_donor3          7466\n",
      "M1_donor2          6690\n",
      "M1_donor1          4489\n",
      "M1_donor3_neun     1662\n",
      "M1_donor3_rep2     1552\n",
      "Name: orig.ident, dtype: int64\n"
     ]
    }
   ],
   "source": [
    "path1 = './raw_data/alone/human/'\n",
    "metadata = pd.read_csv(f\"{path1}/GSE229169_human_filtered_metadata.tsv.gz\", sep='\\t')\n",
    "features = pd.read_csv(f'{path1}/GSE229169_human_filtered_features.tsv.gz', sep='\\t', header=None)\n",
    "features.columns = ['gene_ids'] \n",
    "cell_names = pd.read_csv(f'{path1}/GSE229169_human_filtered_barcodes.tsv.gz', sep = '\\t', header=None, index_col=None)\n",
    "cell_names.columns = ['cell_ids'] \n",
    "X = csr_matrix(mmread(f'{path1}/GSE229169_human_filtered_matrix.mtx.gz').T)\n",
    "adata = anndata.AnnData(X, obs=pd.DataFrame(index=cell_names.cell_ids), var=pd.DataFrame(index = features.gene_ids))\n",
    "adata.obs = metadata \n",
    "adata.obs.index = adata.obs['cell']\n",
    "print('sample and cell numbers:\\n',adata.obs['orig.ident'].value_counts())"
   ]
  },
  {
   "cell_type": "code",
   "execution_count": 4,
   "id": "1de6b88c-40fb-4a6a-b2d1-81fc681f1332",
   "metadata": {},
   "outputs": [
    {
     "data": {
      "text/plain": [
       "Index(['M1_donor1_AAACAGCCAACAACAA-1', 'M1_donor1_AAACAGCCAGGTATTT-1'], dtype='object', name='cell')"
      ]
     },
     "execution_count": 4,
     "metadata": {},
     "output_type": "execute_result"
    }
   ],
   "source": [
    "adata.obs.index[:2]"
   ]
  },
  {
   "cell_type": "code",
   "execution_count": 5,
   "id": "bb79abe4-30a2-411a-8514-49ac21bdd5ac",
   "metadata": {},
   "outputs": [
    {
     "name": "stderr",
     "output_type": "stream",
     "text": [
      "/home/miaoyuanyuan/miniconda3/envs/py3.8_tf2.6.0/lib/python3.8/site-packages/anndata/_core/anndata.py:1840: UserWarning: Variable names are not unique. To make them unique, call `.var_names_make_unique`.\n",
      "  utils.warn_names_duplicates(\"var\")\n",
      "/home/miaoyuanyuan/miniconda3/envs/py3.8_tf2.6.0/lib/python3.8/site-packages/anndata/_core/anndata.py:121: ImplicitModificationWarning: Transforming to str index.\n",
      "  warnings.warn(\"Transforming to str index.\", ImplicitModificationWarning)\n"
     ]
    },
    {
     "name": "stdout",
     "output_type": "stream",
     "text": [
      "Index(['M1_donor1_neun_AAACAGCCAAACGCGA-1',\n",
      "       'M1_donor1_neun_AAACAGCCAGTAGGTG-1',\n",
      "       'M1_donor1_neun_AAACAGCCATAAGTTC-1'],\n",
      "      dtype='object')\n",
      "Index(['M1_donor1_neun_AAACAGCCAAACGCGA-1',\n",
      "       'M1_donor1_neun_AAACAGCCAGTAGGTG-1',\n",
      "       'M1_donor1_neun_AAACAGCCATAAGTTC-1'],\n",
      "      dtype='object')\n"
     ]
    },
    {
     "name": "stderr",
     "output_type": "stream",
     "text": [
      "/home/miaoyuanyuan/miniconda3/envs/py3.8_tf2.6.0/lib/python3.8/site-packages/anndata/_core/anndata.py:121: ImplicitModificationWarning: Transforming to str index.\n",
      "  warnings.warn(\"Transforming to str index.\", ImplicitModificationWarning)\n"
     ]
    }
   ],
   "source": [
    "m1d1n_path = './raw_data/total/human/'\n",
    "cell_names = pd.read_csv(f'{m1d1n_path}/M1_donor1_neun_barcodes.tsv.gz', sep='\\t', header=None)\n",
    "cell_names.columns = ['cell_ids'] \n",
    "features = pd.read_csv(f'{m1d1n_path}/M1_donor1_neun_features.tsv.gz', sep='\\t', header=None)\n",
    "features.columns = ['ids','names','feature_types','chr','start','end'] \n",
    "X = csr_matrix(mmread(f'{m1d1n_path}/M1_donor1_neun_matrix.mtx.gz').T)\n",
    "hd1 = anndata.AnnData(X, obs=pd.DataFrame(index=cell_names.cell_ids), var=pd.DataFrame(index = features.names))\n",
    "hd1.var = features\n",
    "hd1_rna = hd1[:,hd1.var['feature_types']=='Gene Expression']\n",
    "hd1_atac = hd1[:,hd1.var['feature_types']=='Peaks']\n",
    "\n",
    "rna = hd1_rna.copy()\n",
    "rna.obs.index = ['M1_donor1_neun_' + cell for cell in rna.obs.index]\n",
    "print(rna.obs.index[:3])\n",
    "atac = hd1_atac.copy()\n",
    "atac.obs.index = ['M1_donor1_neun_' + cell for cell in atac.obs.index]\n",
    "print(atac.obs.index[:3])"
   ]
  },
  {
   "cell_type": "code",
   "execution_count": 6,
   "id": "7b1544a5-4860-42fd-baff-3bfddfca3873",
   "metadata": {},
   "outputs": [
    {
     "name": "stderr",
     "output_type": "stream",
     "text": [
      "/tmp/ipykernel_40838/2847143166.py:7: ImplicitModificationWarning: Trying to modify attribute `.obs` of view, initializing view as actual.\n",
      "  rna_c.obs['cell_type'] = adata_c.obs['subclass']\n"
     ]
    },
    {
     "name": "stdout",
     "output_type": "stream",
     "text": [
      "cell numbers:\n",
      " 10795\n"
     ]
    },
    {
     "name": "stderr",
     "output_type": "stream",
     "text": [
      "/tmp/ipykernel_40838/2847143166.py:8: ImplicitModificationWarning: Trying to modify attribute `.obs` of view, initializing view as actual.\n",
      "  atac_c.obs['cell_type'] = adata_c.obs['subclass']\n"
     ]
    }
   ],
   "source": [
    "## 1. extract paired cells and data\n",
    "common_cells = adata.obs.index.intersection(rna.obs.index)\n",
    "print('cell numbers:\\n',len(common_cells))\n",
    "adata_c = adata[common_cells, :]\n",
    "rna_c = rna[common_cells, :]\n",
    "atac_c = atac[common_cells, :]\n",
    "rna_c.obs['cell_type'] = adata_c.obs['subclass']\n",
    "atac_c.obs['cell_type'] = adata_c.obs['subclass']"
   ]
  },
  {
   "cell_type": "code",
   "execution_count": 7,
   "id": "9d064292-9593-4847-a7f6-29cae528dd8f",
   "metadata": {},
   "outputs": [
    {
     "name": "stdout",
     "output_type": "stream",
     "text": [
      "RNA data after filtering: View of AnnData object with n_obs × n_vars = 10795 × 12481\n",
      "    obs: 'cell_type', 'n_genes'\n",
      "    var: 'ids', 'names', 'feature_types', 'chr', 'start', 'end', 'n_cells'\n",
      "ATAC data after filtering: View of AnnData object with n_obs × n_vars = 10795 × 50118\n",
      "    obs: 'cell_type', 'n_genes'\n",
      "    var: 'ids', 'names', 'feature_types', 'chr', 'start', 'end', 'n_cells'\n"
     ]
    }
   ],
   "source": [
    "## 2. filt data\n",
    "rna_f, atac_f = xc.pp.filter_multiome_data(\n",
    "    ad_rna = rna_c,\n",
    "    ad_atac = atac_c,\n",
    "    species = 'human',\n",
    "    filter_ratio = 0.05\n",
    ")"
   ]
  },
  {
   "cell_type": "code",
   "execution_count": 8,
   "id": "d25ef871-2f7f-442e-86fb-e3437a29c622",
   "metadata": {},
   "outputs": [
    {
     "name": "stderr",
     "output_type": "stream",
     "text": [
      "/home/miaoyuanyuan/miniconda3/envs/py3.8_tf2.6.0/lib/python3.8/site-packages/anndata/_core/anndata.py:1230: ImplicitModificationWarning: Trying to modify attribute `.obs` of view, initializing view as actual.\n",
      "  df[key] = c\n",
      "/home/miaoyuanyuan/miniconda3/envs/py3.8_tf2.6.0/lib/python3.8/site-packages/anndata/_core/anndata.py:1230: ImplicitModificationWarning: Trying to modify attribute `.var` of view, initializing view as actual.\n",
      "  df[key] = c\n",
      "/home/miaoyuanyuan/miniconda3/envs/py3.8_tf2.6.0/lib/python3.8/site-packages/anndata/_core/anndata.py:1230: ImplicitModificationWarning: Trying to modify attribute `.var` of view, initializing view as actual.\n",
      "  df[key] = c\n",
      "/home/miaoyuanyuan/miniconda3/envs/py3.8_tf2.6.0/lib/python3.8/site-packages/anndata/_core/anndata.py:1230: ImplicitModificationWarning: Trying to modify attribute `.obs` of view, initializing view as actual.\n",
      "  df[key] = c\n",
      "/home/miaoyuanyuan/miniconda3/envs/py3.8_tf2.6.0/lib/python3.8/site-packages/anndata/_core/anndata.py:1230: ImplicitModificationWarning: Trying to modify attribute `.var` of view, initializing view as actual.\n",
      "  df[key] = c\n"
     ]
    }
   ],
   "source": [
    "rna_f.write_h5ad('./data/1_human/m1d1n/ad_rna.h5ad')\n",
    "atac_f.write_h5ad('./data/1_human/m1d1n/ad_atac.h5ad')"
   ]
  },
  {
   "cell_type": "code",
   "execution_count": 9,
   "id": "65ed23f9-38f0-4c07-b0e9-7a4f48fede90",
   "metadata": {},
   "outputs": [
    {
     "name": "stdout",
     "output_type": "stream",
     "text": [
      "                   ids       names\n",
      "14     ENSG00000237491   LINC01409\n",
      "16     ENSG00000228794   LINC01128\n",
      "24     ENSG00000188976       NOC2L\n",
      "29     ENSG00000188290        HES4\n",
      "30     ENSG00000187608       ISG15\n",
      "...                ...         ...\n",
      "36570  ENSG00000198695      MT-ND6\n",
      "36571  ENSG00000198727      MT-CYB\n",
      "36574  ENSG00000274847       MAFIP\n",
      "36580  ENSG00000273748  AL592183.1\n",
      "36599  ENSG00000278817  AC007325.4\n",
      "\n",
      "[12481 rows x 2 columns]\n"
     ]
    }
   ],
   "source": [
    "hu = sc.read_h5ad('./data/1_human/m1d1n/ad_rna.h5ad')\n",
    "hu_genelst = hu.var.iloc[:,:2]\n",
    "print(hu_genelst)\n",
    "hu_genelst.to_csv('./hu_genelst.csv', index=False)"
   ]
  },
  {
   "cell_type": "code",
   "execution_count": null,
   "id": "4f4713f6-803f-4479-b7ab-e69b17e6873b",
   "metadata": {},
   "outputs": [],
   "source": []
  }
 ],
 "metadata": {
  "kernelspec": {
   "display_name": "py3.8_tf2.6.0",
   "language": "python",
   "name": "py3.8_tf2.6.0"
  },
  "language_info": {
   "codemirror_mode": {
    "name": "ipython",
    "version": 3
   },
   "file_extension": ".py",
   "mimetype": "text/x-python",
   "name": "python",
   "nbconvert_exporter": "python",
   "pygments_lexer": "ipython3",
   "version": "3.8.15"
  }
 },
 "nbformat": 4,
 "nbformat_minor": 5
}
