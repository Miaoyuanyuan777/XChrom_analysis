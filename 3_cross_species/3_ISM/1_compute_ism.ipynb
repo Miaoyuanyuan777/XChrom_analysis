{
 "cells": [
  {
   "cell_type": "markdown",
   "id": "fe4b4a4b-7183-442f-8aaa-a6bffe945418",
   "metadata": {},
   "source": [
    "## Given a peak region, the cell type-specific impact on the predicted outcome after each base mutation can be predicted\n",
    "- input：peak region，trained model，cell embedding                  \n",
    "- output：ISM = m[n,i,j],(n_cells,1344,4)  # important scores"
   ]
  },
  {
   "cell_type": "code",
   "execution_count": 1,
   "id": "755c95bc-f577-45fb-9d14-aae35ed0d1bd",
   "metadata": {},
   "outputs": [],
   "source": [
    "import xchrom as xc\n",
    "import scanpy as sc"
   ]
  },
  {
   "cell_type": "code",
   "execution_count": 2,
   "id": "8776c670-c89f-422e-912c-b64b037487ab",
   "metadata": {},
   "outputs": [
    {
     "name": "stderr",
     "output_type": "stream",
     "text": [
      "2025-08-19 20:51:52.898561: I tensorflow/core/platform/cpu_feature_guard.cc:142] This TensorFlow binary is optimized with oneAPI Deep Neural Network Library (oneDNN) to use the following CPU instructions in performance-critical operations:  SSE4.1 SSE4.2 AVX AVX2 AVX512F FMA\n",
      "To enable them in other operations, rebuild TensorFlow with the appropriate compiler flags.\n",
      "2025-08-19 20:51:55.106437: I tensorflow/core/common_runtime/gpu/gpu_device.cc:1510] Created device /job:localhost/replica:0/task:0/device:GPU:0 with 19276 MB memory:  -> device: 0, name: NVIDIA GeForce RTX 3090, pci bus id: 0000:31:00.0, compute capability: 8.6\n",
      "2025-08-19 20:51:55.108473: I tensorflow/core/common_runtime/gpu/gpu_device.cc:1510] Created device /job:localhost/replica:0/task:0/device:GPU:1 with 22350 MB memory:  -> device: 1, name: NVIDIA GeForce RTX 3090, pci bus id: 0000:4b:00.0, compute capability: 8.6\n",
      "2025-08-19 20:51:55.109900: I tensorflow/core/common_runtime/gpu/gpu_device.cc:1510] Created device /job:localhost/replica:0/task:0/device:GPU:2 with 21285 MB memory:  -> device: 2, name: NVIDIA GeForce RTX 3090, pci bus id: 0000:98:00.0, compute capability: 8.6\n",
      "2025-08-19 20:51:55.111301: I tensorflow/core/common_runtime/gpu/gpu_device.cc:1510] Created device /job:localhost/replica:0/task:0/device:GPU:3 with 21265 MB memory:  -> device: 3, name: NVIDIA GeForce RTX 3090, pci bus id: 0000:b1:00.0, compute capability: 8.6\n"
     ]
    },
    {
     "name": "stdout",
     "output_type": "stream",
     "text": [
      "Extracting sequences from BED file...\n",
      "Converting to one-hot encoding...\n",
      "Calculating ISM for 1 peaks...\n",
      "Processing peak 1/1\n"
     ]
    },
    {
     "name": "stderr",
     "output_type": "stream",
     "text": [
      "2025-08-19 20:51:55.945774: I tensorflow/compiler/mlir/mlir_graph_optimization_pass.cc:185] None of the MLIR Optimization Passes are enabled (registered 2)\n",
      "2025-08-19 20:51:57.188796: I tensorflow/stream_executor/cuda/cuda_dnn.cc:369] Loaded cuDNN version 8800\n",
      "2025-08-19 20:51:57.263567: I tensorflow/stream_executor/cuda/cuda_blas.cc:1760] TensorFloat-32 will be used for the matrix multiplication. This will only be logged once.\n"
     ]
    },
    {
     "name": "stdout",
     "output_type": "stream",
     "text": [
      "All ISM matrices shape (n_peaks, n_cells, seq_len, 4): (1, 4489, 1344, 4)\n",
      "ISM calculation completed. Results saved to ./\n",
      "ISM matrix shape: (4489, 1344, 4)\n"
     ]
    }
   ],
   "source": [
    "m1d1_rna = sc.read_h5ad('../0_preprocess/harmony_pca/m1d1_rna_harmony.h5ad')\n",
    "model = xc.tr.XChrom_model(n_cells=m1d1_rna.shape[0],show_summary=False)\n",
    "model.load_weights('../1_XChrom_train/mouse_mop3c2_train/train_out/E1000best_model.h5')\n",
    "\n",
    "ism_results = xc.tl.calc_ism_from_bed(\n",
    "    cell_embedding_ad = m1d1_rna,\n",
    "    cellembed_raw = 'X_pca_harmony',\n",
    "    peak_bed='./m1d1_peaks.bed',\n",
    "    fasta_file='/picb/bigdata/project/miaoyuanyuan/hg38.fa',\n",
    "    XChrom_model = model,\n",
    "    output_path='./'\n",
    ")\n",
    "print(f\"ISM matrix shape: {ism_results[0].shape}\")"
   ]
  },
  {
   "cell_type": "code",
   "execution_count": 6,
   "id": "689a730a-accd-42d3-b061-5d151b7447dd",
   "metadata": {},
   "outputs": [
    {
     "data": {
      "text/plain": [
       "(4489, 1344, 4)"
      ]
     },
     "execution_count": 6,
     "metadata": {},
     "output_type": "execute_result"
    }
   ],
   "source": [
    "ism_results[0].shape"
   ]
  },
  {
   "cell_type": "code",
   "execution_count": null,
   "id": "44a35f0e-e378-4d00-a81b-803db89adf4c",
   "metadata": {},
   "outputs": [],
   "source": []
  }
 ],
 "metadata": {
  "kernelspec": {
   "display_name": "py3.8_tf2.6.0",
   "language": "python",
   "name": "py3.8_tf2.6.0"
  },
  "language_info": {
   "codemirror_mode": {
    "name": "ipython",
    "version": 3
   },
   "file_extension": ".py",
   "mimetype": "text/x-python",
   "name": "python",
   "nbconvert_exporter": "python",
   "pygments_lexer": "ipython3",
   "version": "3.8.15"
  }
 },
 "nbformat": 4,
 "nbformat_minor": 5
}
