{
 "cells": [
  {
   "cell_type": "markdown",
   "id": "ed432407-4f07-4ad9-8062-69e2794bc6a3",
   "metadata": {},
   "source": [
    "## Extract each motif from the motif database and generate a pwm file"
   ]
  },
  {
   "cell_type": "code",
   "execution_count": 2,
   "id": "4513d1c0-803c-42a4-86d0-0fc7c18c3cc5",
   "metadata": {},
   "outputs": [],
   "source": [
    "library(Biostrings)\n",
    "library(universalmotif)"
   ]
  },
  {
   "cell_type": "code",
   "execution_count": 5,
   "id": "96e20d56-4d5a-4446-ab45-fc0102411172",
   "metadata": {},
   "outputs": [],
   "source": [
    "motifs <- read_meme('./motif_databases/CIS-BP_2.00/Homo_sapiens.meme')"
   ]
  },
  {
   "cell_type": "code",
   "execution_count": 7,
   "id": "6bd5bb69-72b5-4c31-8fbb-f870f9ed9add",
   "metadata": {},
   "outputs": [
    {
     "data": {
      "text/plain": [
       "[[1]]\n",
       "\n",
       "       Motif name:   M00111_2.00\n",
       "   Alternate name:   (TFAP2D)_(Mus_musculus)_(DBD_0.80)\n",
       "         Alphabet:   DNA\n",
       "             Type:   PPM\n",
       "          Strands:   +-\n",
       "         Total IC:   7.33\n",
       "      Pseudocount:   1\n",
       "        Consensus:   NGCCYNNRGS\n",
       "     Target sites:   1\n",
       "          E-value:   0\n",
       "       Extra info:   [eval.string] 0 \n",
       "\n",
       "     N    G    C    C    Y    N    N    R    G    S\n",
       "A 0.22 0.11 0.01 0.00 0.05 0.13 0.43 0.30 0.06 0.10\n",
       "C 0.34 0.19 0.99 0.89 0.38 0.34 0.25 0.02 0.00 0.35\n",
       "G 0.10 0.67 0.00 0.00 0.19 0.33 0.23 0.65 0.94 0.44\n",
       "T 0.34 0.02 0.00 0.11 0.39 0.20 0.09 0.02 0.00 0.12\n"
      ]
     },
     "metadata": {},
     "output_type": "display_data"
    }
   ],
   "source": [
    "motifs[1]"
   ]
  },
  {
   "cell_type": "code",
   "execution_count": 19,
   "id": "43be9428-5c3c-496b-91b2-2127da2a3cd3",
   "metadata": {},
   "outputs": [],
   "source": [
    "new_names0 <-  sapply(motifs, function(x) {x@altname})\n",
    "new_names <- gsub(\"\\\\(|\\\\).*\", \"\", new_names0)\n",
    "head(new_names)\n",
    "\n",
    "output_df <- data.frame(\n",
    "  Original_Name = new_names0,\n",
    "  Cleaned_Name = new_names,\n",
    "  stringsAsFactors = FALSE\n",
    ")\n",
    "\n",
    "write.csv(output_df,paste0(path,'./motif_pwms/motif_names_clean1065.csv'),\n",
    "         row.names = FALSE,\n",
    "         fileEncoding = \"UTF-8\")"
   ]
  },
  {
   "cell_type": "code",
   "execution_count": 24,
   "id": "d59f72e5-6520-4cac-a390-6a5636651153",
   "metadata": {},
   "outputs": [
    {
     "data": {
      "text/html": [
       "<style>\n",
       ".list-inline {list-style: none; margin:0; padding: 0}\n",
       ".list-inline>li {display: inline-block}\n",
       ".list-inline>li:not(:last-child)::after {content: \"\\00b7\"; padding: 0 .5ex}\n",
       "</style>\n",
       "<ol class=list-inline><li>'Tfap2a'</li><li>'Tfap2b'</li><li>'Tfap2c'</li><li>'Tfap2e'</li><li>'Arid5a'</li><li>'Ascl2'</li></ol>\n"
      ],
      "text/latex": [
       "\\begin{enumerate*}\n",
       "\\item 'Tfap2a'\n",
       "\\item 'Tfap2b'\n",
       "\\item 'Tfap2c'\n",
       "\\item 'Tfap2e'\n",
       "\\item 'Arid5a'\n",
       "\\item 'Ascl2'\n",
       "\\end{enumerate*}\n"
      ],
      "text/markdown": [
       "1. 'Tfap2a'\n",
       "2. 'Tfap2b'\n",
       "3. 'Tfap2c'\n",
       "4. 'Tfap2e'\n",
       "5. 'Arid5a'\n",
       "6. 'Ascl2'\n",
       "\n",
       "\n"
      ],
      "text/plain": [
       "[1] \"Tfap2a\" \"Tfap2b\" \"Tfap2c\" \"Tfap2e\" \"Arid5a\" \"Ascl2\" "
      ]
     },
     "metadata": {},
     "output_type": "display_data"
    }
   ],
   "source": [
    "names(motifs) <- new_names\n",
    "head(names(motifs))\n",
    "path_motif = './motif_pwms/motif_files/'\n",
    "for (i in 1:length(motifs)) {\n",
    "    write.csv(motifs[[i]]@motif, paste0(path_motif, names(motifs)[i], \".csv\"))\n",
    "}"
   ]
  }
 ],
 "metadata": {
  "kernelspec": {
   "display_name": "r4.2",
   "language": "R",
   "name": "r4.2"
  },
  "language_info": {
   "codemirror_mode": "r",
   "file_extension": ".r",
   "mimetype": "text/x-r-source",
   "name": "R",
   "pygments_lexer": "r",
   "version": "4.2.0"
  }
 },
 "nbformat": 4,
 "nbformat_minor": 5
}
