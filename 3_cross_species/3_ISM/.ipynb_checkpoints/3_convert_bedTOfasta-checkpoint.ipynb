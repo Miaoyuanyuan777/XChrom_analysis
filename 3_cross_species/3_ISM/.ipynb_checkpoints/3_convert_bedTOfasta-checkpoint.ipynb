{
 "cells": [
  {
   "cell_type": "markdown",
   "id": "d9d9e205-6ac7-4e11-89ae-56c961941a51",
   "metadata": {},
   "source": [
    "## Convert the bed file to a fasta file, and then use the fimo tool to scan the motifs contained in the sequence"
   ]
  },
  {
   "cell_type": "code",
   "execution_count": 1,
   "id": "d3896584-addf-4d6f-af40-d0d99022c9b9",
   "metadata": {},
   "outputs": [],
   "source": [
    "import pandas as pd\n",
    "import xchrom as xc"
   ]
  },
  {
   "cell_type": "code",
   "execution_count": 2,
   "id": "6e94f8e6-1f42-47ee-b4a5-30f6a1a08d0f",
   "metadata": {},
   "outputs": [
    {
     "name": "stdout",
     "output_type": "stream",
     "text": [
      "Extracting sequences from BED file...\n",
      "Reference genome: /picb/bigdata/project/miaoyuanyuan/hg38.fa\n",
      "Sequence length: 1344\n",
      "Consider strand information: False\n",
      "Successfully extracted 1 sequences\n",
      "Writing to FASTA file: ./m1d1_peaks.fasta\n",
      "FASTA file saved to: ./m1d1_peaks.fasta\n",
      "Number of sequences written: 1\n"
     ]
    },
    {
     "data": {
      "text/plain": [
       "(['AATGATTGCCTTTACCTTCTCAGTTCTCAGTTATTTTCCAGCACATTATGATTTTATGACCTTGATACAGAAGGGCTGGGCTCCTGGCTAAATTCCACCCTTAAACCTGGAACTGCAACCCTAAGTGAAAACAGCTAACCCCATTTTTTTTCCCACCCAAATGTTGCCTCTTTGGCCTGCCATGCCCCTATCCTGTGCTCATAAAAATATTTCAGCTGGGCTGGGTGCGGTGGCTCACTCCTATAATCCCAGCACTTTGGGAGACCGAGGCAGGTGGATCACCTGGGGTCAGGAGTTCAAGACCAGCCTGGCCAACATGGCAAAACCGTATCTCTACTAAAAATACAAAAATTAGTTGGGCATGGTGGTGGGCACCATAATCCCAGCTACTTGGGAGGATGAGGCAGGAGAATTGCTTGAACCTGGGCGGCGGAGGTTACAGTGAGCCCAGATTGTGCCAGTGCACTCCAGCCTGGGCAACCGAGTGAGACTCTGTCTCAAAAAAAAAAAAACAAAAACAAAAAAGATTTCAGCAGCTGGGAGAACAATATAAGCAGCTGACGTCAGGGATATAAATGGCTGTGTGTTGGGAATACAAGCAGCTGATTGTCGGAAATACAAGCCACTGAGTGTTGGTGATACAAGTGGCTGAGCAGCGAGCAGAGAATCAGGTGAGCGTTGGAGACTATGGATGGGACGTGGCTAACTTCAGATGGTGCAGCTTTGGAGAATAGGCCCAGCCGGAGATGGCCTGGCTTCAGGGAAAGATCACCTTCTTCCCATACCATCCCTTTTTCAACTCCCCATTCTGCTGAGAACCACTTCCATCGTGCAATACAATCTTCTGCATATACTACCCTTCAATCTGTTCATGTGATCTGATTATTCCTGGACACTGGAAGAGAACCTGGGTGCCAAGAGGAGAGGGCAGGGGCTGCCACCCTGACCCTCCACTGAGCTGGCTGGCACCTGGCCATCCCCGAATGGCCGCGTTGAAGGAGCATTGATTGTAACACACTTGGATGCTGCTGCGGGGCCGCATAGAGCCTGCGCCTGCCAGAGAGGAGCAACTGGCTGGTTCCCGCATTCGTTTGCTCTGATTCCCACACTCACTCACTCGCTTGCACACTGCCTCTTGCAAGGGGTTTGAGTGTGTGGTGGCCGAGTAAACGAGCCACGCTCCGAGCCATGAGGGGGTCAAGGGAATTATCCAGTCTCATCTCAATCCGACTTCCCTCTTCACTGTTTTACTTTTGTAAAACCCTTGATGAACTTCCCATTGTCAATTCAGGGTCTTTTTAGCTCTCATCCTGCCAGACTGTTGATAACACCTCTGATTTGTGC'],\n",
       " [('chr14', 73167855, 73169199)])"
      ]
     },
     "execution_count": 2,
     "metadata": {},
     "output_type": "execute_result"
    }
   ],
   "source": [
    "input_fasta = '/picb/bigdata/project/miaoyuanyuan/hg38.fa'\n",
    "path = '../'\n",
    "bed_df = pd.read_csv('./m1d1_peaks.bed', sep=\"\\t\", header=None)\n",
    "bed_df.columns = [\"chr\", \"start\", \"end\"]\n",
    "seq_len = 1344\n",
    "output_fasta = \"./m1d1_peaks.fasta\"\n",
    "xc.tl.bed_to_fasta(\n",
    "    bed_input=bed_df,\n",
    "    fasta_file=input_fasta,\n",
    "    output_file=output_fasta,\n",
    "    seq_len=seq_len\n",
    "    )"
   ]
  },
  {
   "cell_type": "code",
   "execution_count": null,
   "id": "ed4edac3-17c0-4456-b417-4062b58ec2bb",
   "metadata": {},
   "outputs": [],
   "source": []
  }
 ],
 "metadata": {
  "kernelspec": {
   "display_name": "py3.8_tf2.6.0",
   "language": "python",
   "name": "py3.8_tf2.6.0"
  },
  "language_info": {
   "codemirror_mode": {
    "name": "ipython",
    "version": 3
   },
   "file_extension": ".py",
   "mimetype": "text/x-python",
   "name": "python",
   "nbconvert_exporter": "python",
   "pygments_lexer": "ipython3",
   "version": "3.8.15"
  }
 },
 "nbformat": 4,
 "nbformat_minor": 5
}
