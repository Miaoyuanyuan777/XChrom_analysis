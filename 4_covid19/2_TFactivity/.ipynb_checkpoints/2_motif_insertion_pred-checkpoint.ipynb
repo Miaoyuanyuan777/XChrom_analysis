{
 "cells": [
  {
   "cell_type": "markdown",
   "id": "621a2a77-041e-4237-bdeb-bb130c3cb953",
   "metadata": {},
   "source": [
    "## 🍊Model prediction was conducted on the generated shuffled peaks.fasta and the sequence after inserting the motif\n",
    "- Input:\n",
    "    - pbmc10k trained model,             \n",
    "    - COVID-19 cell embedding,\n",
    "    - background_shuffled peaks based on train_data_seq,\n",
    "    - motif insertion in background_shuffled peaks"
   ]
  },
  {
   "cell_type": "code",
   "execution_count": 1,
   "id": "c86adab9-7555-43d8-b4ca-f8186d3f3134",
   "metadata": {},
   "outputs": [],
   "source": [
    "import xchrom as xc\n",
    "import scanpy as sc"
   ]
  },
  {
   "cell_type": "code",
   "execution_count": 2,
   "id": "4113c5d3-a4df-4bd7-a714-2be328cc1ead",
   "metadata": {},
   "outputs": [
    {
     "name": "stdout",
     "output_type": "stream",
     "text": [
      "=== Start calculating TF Activity ===\n",
      "1. Prepare raw cell embedding...\n",
      "2. Generate motif insertion sequence h5 files...\n"
     ]
    },
    {
     "name": "stderr",
     "output_type": "stream",
     "text": [
      "Generating H5 files: 100%|█████████████████████████████████████████████████████████████████████████████████████████████████████| 1065/1065 [06:53<00:00,  2.58it/s]\n"
     ]
    },
    {
     "name": "stdout",
     "output_type": "stream",
     "text": [
      "Found 1065 motif files\n",
      "3. Generate background sequence h5 file...\n",
      "Generating background sequence h5 file...\n",
      "4. Prepare data for XChrom model input...\n",
      "Converting adata.X to dense array. For large datasets, consider pre-computing and saving as sparse matrix.\n",
      "5. Load trained model...\n"
     ]
    },
    {
     "name": "stderr",
     "output_type": "stream",
     "text": [
      "2025-08-20 14:56:08.309182: I tensorflow/core/platform/cpu_feature_guard.cc:142] This TensorFlow binary is optimized with oneAPI Deep Neural Network Library (oneDNN) to use the following CPU instructions in performance-critical operations:  SSE4.1 SSE4.2 AVX AVX2 AVX512F FMA\n",
      "To enable them in other operations, rebuild TensorFlow with the appropriate compiler flags.\n",
      "2025-08-20 14:56:10.460164: I tensorflow/core/common_runtime/gpu/gpu_device.cc:1510] Created device /job:localhost/replica:0/task:0/device:GPU:0 with 19276 MB memory:  -> device: 0, name: NVIDIA GeForce RTX 3090, pci bus id: 0000:31:00.0, compute capability: 8.6\n",
      "2025-08-20 14:56:10.461302: I tensorflow/core/common_runtime/gpu/gpu_device.cc:1510] Created device /job:localhost/replica:0/task:0/device:GPU:1 with 22350 MB memory:  -> device: 1, name: NVIDIA GeForce RTX 3090, pci bus id: 0000:4b:00.0, compute capability: 8.6\n",
      "2025-08-20 14:56:10.462420: I tensorflow/core/common_runtime/gpu/gpu_device.cc:1510] Created device /job:localhost/replica:0/task:0/device:GPU:2 with 21285 MB memory:  -> device: 2, name: NVIDIA GeForce RTX 3090, pci bus id: 0000:98:00.0, compute capability: 8.6\n",
      "2025-08-20 14:56:10.463244: I tensorflow/core/common_runtime/gpu/gpu_device.cc:1510] Created device /job:localhost/replica:0/task:0/device:GPU:3 with 21265 MB memory:  -> device: 3, name: NVIDIA GeForce RTX 3090, pci bus id: 0000:b1:00.0, compute capability: 8.6\n"
     ]
    },
    {
     "name": "stdout",
     "output_type": "stream",
     "text": [
      "6. Calculate background sequence prediction...\n"
     ]
    },
    {
     "name": "stderr",
     "output_type": "stream",
     "text": [
      "2025-08-20 14:56:13.092160: I tensorflow/compiler/mlir/mlir_graph_optimization_pass.cc:185] None of the MLIR Optimization Passes are enabled (registered 2)\n",
      "2025-08-20 14:56:19.786208: I tensorflow/stream_executor/cuda/cuda_dnn.cc:369] Loaded cuDNN version 8800\n",
      "2025-08-20 14:56:20.046102: I tensorflow/stream_executor/cuda/cuda_blas.cc:1760] TensorFloat-32 will be used for the matrix multiplication. This will only be logged once.\n"
     ]
    },
    {
     "name": "stdout",
     "output_type": "stream",
     "text": [
      "7. Calculate motif insertion scores...\n",
      "Processing 1065 motif files...\n"
     ]
    },
    {
     "name": "stderr",
     "output_type": "stream",
     "text": [
      "100%|████████████████████████████████████████████████████████████████████████████████████████████████████████████████████████| 1065/1065 [9:28:57<00:00, 32.05s/it]\n"
     ]
    },
    {
     "name": "stdout",
     "output_type": "stream",
     "text": [
      "8. Save results...\n",
      "=== Done! Results saved to: activity_out/covid19_tfactivity.h5ad ===\n",
      "TF activity matrix shape: (90312, 1065) (cells × motifs)\n"
     ]
    }
   ],
   "source": [
    "rna = sc.read_h5ad('../0_preprocess/data/harmony/covid_all/0_harmonyPCA.h5ad')\n",
    "tf_act = xc.tl.calc_tf_activity(\n",
    "    motif_dir = './motif_fasta/shuffled_peaks_motifs/',\n",
    "    background_fasta = './motif_fasta/shuffled_peaks.fasta',\n",
    "    model_path = '../1_XChrom_train_pbmc10k/train_out/E1000best_model.h5',\n",
    "    ad_rna = rna,\n",
    "    output_file = './activity_out/covid19_tfactivity.h5ad',\n",
    "    cell_embed_raw = 'X_pca_harmony',\n",
    "    regenerate_motif_h5 = True,\n",
    "    regenerate_bg_h5 = True)"
   ]
  },
  {
   "cell_type": "code",
   "execution_count": null,
   "id": "45be12b6-9016-40c3-a0de-a778716e74eb",
   "metadata": {},
   "outputs": [],
   "source": []
  }
 ],
 "metadata": {
  "kernelspec": {
   "display_name": "py3.8_tf2.6.0",
   "language": "python",
   "name": "py3.8_tf2.6.0"
  },
  "language_info": {
   "codemirror_mode": {
    "name": "ipython",
    "version": 3
   },
   "file_extension": ".py",
   "mimetype": "text/x-python",
   "name": "python",
   "nbconvert_exporter": "python",
   "pygments_lexer": "ipython3",
   "version": "3.8.15"
  }
 },
 "nbformat": 4,
 "nbformat_minor": 5
}
