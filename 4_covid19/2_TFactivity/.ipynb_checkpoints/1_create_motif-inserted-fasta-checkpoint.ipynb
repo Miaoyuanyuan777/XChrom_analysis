{
 "cells": [
  {
   "cell_type": "markdown",
   "id": "66300c9c-c49b-434b-b342-f034525dca66",
   "metadata": {},
   "source": [
    "## fasta files for constructing random sequences and sequences after inserting motifs\n",
    "- Take the peaks of the pbmc10k data to sample background peaks"
   ]
  },
  {
   "cell_type": "code",
   "execution_count": 1,
   "id": "da844dc8-90af-4667-9527-5809c613f701",
   "metadata": {},
   "outputs": [],
   "source": [
    "import xchrom as xc"
   ]
  },
  {
   "cell_type": "code",
   "execution_count": 2,
   "id": "e640e871-4244-44ea-a55f-736dad76445d",
   "metadata": {},
   "outputs": [
    {
     "name": "stdout",
     "output_type": "stream",
     "text": [
      "=== Start preparing motif data ===\n",
      "1. Read BED file: ../1_XChrom_train_pbmc10k/train_data/peaks_trainval.bed\n",
      "Sampled 1000 regions from ../1_XChrom_train_pbmc10k/train_data/peaks_trainval.bed\n",
      "2. Extract background sequences...\n",
      "Extracting sequences from BED file...\n",
      "Reference genome: /picb/bigdata/project/miaoyuanyuan/hg38.fa\n",
      "Sequence length: 1344\n",
      "Consider strand information: False\n",
      "Successfully extracted 1000 sequences\n",
      "Writing to FASTA file: motif_fasta/ref_peaks1000.fasta\n",
      "FASTA file saved to: motif_fasta/ref_peaks1000.fasta\n",
      "Number of sequences written: 1000\n",
      "Extracted 1000 sequences, saved to motif_fasta/ref_peaks1000.fasta\n",
      "3. Generate shuffled background sequences...\n",
      "Using fasta_ushuffle from: /home/miaoyuanyuan/miniconda3/envs/py3.8_tf2.6.0/bin/fasta_ushuffle\n",
      "Dinucleotide shuffled 1000 sequences, saved to motif_fasta/shuffled_peaks.fasta\n",
      "4. Read motif file(meme format)...\n",
      "Read 1065 motifs from ../../3_cross_species/3_ISM/motif_databases/CIS-BP_2.00/Homo_sapiens.meme\n",
      "5. Generate motif inserted sequences...\n"
     ]
    },
    {
     "name": "stderr",
     "output_type": "stream",
     "text": [
      "Processing motifs: 100%|███████████████████████████████████████████████████████████████████████████████████████████████████████| 1065/1065 [05:09<00:00,  3.44it/s]"
     ]
    },
    {
     "name": "stdout",
     "output_type": "stream",
     "text": [
      "=== motif data preparation completed ===\n",
      "Background sequence file: motif_fasta/shuffled_peaks.fasta\n",
      "Motif inserted sequence directory: motif_fasta/shuffled_peaks_motifs\n"
     ]
    },
    {
     "name": "stderr",
     "output_type": "stream",
     "text": [
      "\n"
     ]
    }
   ],
   "source": [
    "seq_path = xc.tl.generate_tf_activity_data(\n",
    "    bed_file = '../1_XChrom_train_pbmc10k/train_data/peaks_trainval.bed',  ## to generate background sequence\n",
    "    input_fasta = '/picb/bigdata/project/miaoyuanyuan/hg38.fa',\n",
    "    motif_file = '../../3_cross_species/3_ISM/motif_databases/CIS-BP_2.00/Homo_sapiens.meme',\n",
    "    output_dir = './motif_fasta/',\n",
    "    n_samples = 1000,\n",
    "    n_motif_instances = 1000)"
   ]
  },
  {
   "cell_type": "code",
   "execution_count": null,
   "id": "01f85bb9-98dd-449c-b936-93e61bc55ac3",
   "metadata": {},
   "outputs": [],
   "source": []
  }
 ],
 "metadata": {
  "kernelspec": {
   "display_name": "py3.8_tf2.6.0",
   "language": "python",
   "name": "py3.8_tf2.6.0"
  },
  "language_info": {
   "codemirror_mode": {
    "name": "ipython",
    "version": 3
   },
   "file_extension": ".py",
   "mimetype": "text/x-python",
   "name": "python",
   "nbconvert_exporter": "python",
   "pygments_lexer": "ipython3",
   "version": "3.8.15"
  }
 },
 "nbformat": 4,
 "nbformat_minor": 5
}
