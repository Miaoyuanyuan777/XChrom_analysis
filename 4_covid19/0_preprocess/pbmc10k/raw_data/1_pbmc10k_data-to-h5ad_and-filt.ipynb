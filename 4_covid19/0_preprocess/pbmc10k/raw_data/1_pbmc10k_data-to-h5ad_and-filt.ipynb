{
 "cells": [
  {
   "cell_type": "code",
   "execution_count": 1,
   "id": "3d95ea0f-a62d-4ef0-8c0e-e21b35d64d15",
   "metadata": {},
   "outputs": [],
   "source": [
    "import xchrom as xc\n",
    "import scanpy as sc"
   ]
  },
  {
   "cell_type": "code",
   "execution_count": 2,
   "id": "1c005f4b-8adc-4b7e-9175-9651f89e029e",
   "metadata": {},
   "outputs": [
    {
     "name": "stderr",
     "output_type": "stream",
     "text": [
      "/home/miaoyuanyuan/miniconda3/envs/py3.8_tf2.6.0/lib/python3.8/site-packages/anndata/_core/anndata.py:1840: UserWarning: Variable names are not unique. To make them unique, call `.var_names_make_unique`.\n",
      "  utils.warn_names_duplicates(\"var\")\n"
     ]
    },
    {
     "name": "stdout",
     "output_type": "stream",
     "text": [
      "Successfully converted /picb/bigdata/project/miaoyuanyuan/train/single_cell/21.covid/cell_genomics/pbmc10k/pbmc_granulocyte_sorted_10k_filtered_feature_bc_matrix.h5 to raw_data/pbmc10k.h5ad\n",
      "Data shape: 11898 cells × 180488 features\n"
     ]
    },
    {
     "name": "stderr",
     "output_type": "stream",
     "text": [
      "/picb/bigdata/project/miaoyuanyuan/train/XChrom_test/XChrom/xchrom/readfile.py:327: ImplicitModificationWarning: Trying to modify attribute `.var` of view, initializing view as actual.\n",
      "  ad_atac.var['chr'] = chromosome_start_end['chr']\n"
     ]
    },
    {
     "name": "stdout",
     "output_type": "stream",
     "text": [
      "Successfully extracted ATAC data from raw_data/pbmc10k.h5ad to raw_data/pbmc10k_atac.h5ad\n",
      "Data shape: 11898 cells × 143887 peaks\n",
      "Successfully extracted RNA data from raw_data/pbmc10k.h5ad to raw_data/pbmc10k_rna.h5ad\n",
      "Data shape: 11898 cells × 36601 genes\n"
     ]
    }
   ],
   "source": [
    "input_file = './pbmc_granulocyte_sorted_10k_filtered_feature_bc_matrix.h5'\n",
    "output_file = './pbmc10k.h5ad'\n",
    "ad_rna, ad_atac = xc.read_10x_h5_to_h5ad(\n",
    "    h5_file=input_file,\n",
    "    paired=True,\n",
    "    output_file=output_file\n",
    ")"
   ]
  },
  {
   "cell_type": "code",
   "execution_count": 3,
   "id": "7dc42a6d-39e1-4895-bc31-cc673ebf7810",
   "metadata": {},
   "outputs": [
    {
     "name": "stdout",
     "output_type": "stream",
     "text": [
      "RNA data after filtering: View of AnnData object with n_obs × n_vars = 11898 × 13483\n",
      "    obs: 'n_genes'\n",
      "    var: 'gene_ids', 'feature_types', 'genome', 'n_cells'\n",
      "ATAC data after filtering: View of AnnData object with n_obs × n_vars = 11898 × 101188\n",
      "    obs: 'n_genes'\n",
      "    var: 'gene_ids', 'feature_types', 'genome', 'chr', 'start', 'end', 'n_cells'\n"
     ]
    }
   ],
   "source": [
    "### filter data\n",
    "ad_rna, ad_atac = xc.pp.filter_multiome_data(\n",
    "    ad_rna = ad_rna,\n",
    "    ad_atac = ad_atac,\n",
    "    species = 'human',\n",
    "    filter_ratio = 0.01\n",
    ")"
   ]
  },
  {
   "cell_type": "code",
   "execution_count": 5,
   "id": "724ee63a-40b1-4150-ab14-b4291f44c556",
   "metadata": {},
   "outputs": [],
   "source": [
    "prefix = str(output_file).split('.h5ad')[0]\n",
    "ad_rna.write(f'{prefix}_rna.h5ad')\n",
    "ad_atac.write(f'{prefix}_atac.h5ad')"
   ]
  },
  {
   "cell_type": "code",
   "execution_count": null,
   "id": "fcc7f207-f37a-4e07-8544-da88458645f0",
   "metadata": {},
   "outputs": [],
   "source": []
  }
 ],
 "metadata": {
  "kernelspec": {
   "display_name": "py3.8_tf2.6.0",
   "language": "python",
   "name": "py3.8_tf2.6.0"
  },
  "language_info": {
   "codemirror_mode": {
    "name": "ipython",
    "version": 3
   },
   "file_extension": ".py",
   "mimetype": "text/x-python",
   "name": "python",
   "nbconvert_exporter": "python",
   "pygments_lexer": "ipython3",
   "version": "3.8.15"
  }
 },
 "nbformat": 4,
 "nbformat_minor": 5
}
