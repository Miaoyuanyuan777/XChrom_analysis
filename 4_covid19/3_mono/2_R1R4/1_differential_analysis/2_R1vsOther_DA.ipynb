{
 "cells": [
  {
   "cell_type": "markdown",
   "id": "6ddce2a1-b6e7-482f-8fd1-3e10775eaee7",
   "metadata": {},
   "source": [
    "## TF activity differential analysis between R1 and other subgroups"
   ]
  },
  {
   "cell_type": "code",
   "execution_count": 1,
   "id": "3f4340b9-9aee-4ebe-871d-ebde171e9344",
   "metadata": {},
   "outputs": [],
   "source": [
    "import tensorflow as tf\n",
    "import anndata\n",
    "import h5py\n",
    "import numpy as np\n",
    "import math\n",
    "import scipy\n",
    "import scipy.sparse as sparse\n",
    "from scipy.sparse import csr_matrix\n",
    "import scanpy as sc\n",
    "import copy\n",
    "import pandas as pd\n",
    "from scipy.stats import mannwhitneyu\n",
    "from statsmodels.stats.multitest import multipletests\n",
    "import seaborn as sns\n",
    "import matplotlib.pyplot as plt"
   ]
  },
  {
   "cell_type": "code",
   "execution_count": 3,
   "id": "87c2e0fa-a2d8-4486-8e95-ab0b74929d76",
   "metadata": {},
   "outputs": [],
   "source": [
    "path = '../../../'\n",
    "raw = sc.read_h5ad(f'{path}/2_TFactivity/activity_out/covid19_tfactivity.h5ad')\n",
    "mono = sc.read_h5ad(f'{path}/3_mono/2_R1R4/coviddata/mono_ms.h5ad')"
   ]
  },
  {
   "cell_type": "code",
   "execution_count": 4,
   "id": "f9a5499e-d3a3-49ec-bcd7-344fca741e1d",
   "metadata": {},
   "outputs": [
    {
     "name": "stdout",
     "output_type": "stream",
     "text": [
      "mild      19977\n",
      "severe    18472\n",
      "Name: Severity, dtype: int64 cMono          31594\n",
      "ncMono          3818\n",
      "CD163.cMono     3037\n",
      "Name: celltypeL0, dtype: int64\n"
     ]
    }
   ],
   "source": [
    "mono = mono.raw.to_adata()\n",
    "print(mono.obs.Severity.value_counts(),mono.obs.celltypeL0.value_counts())\n",
    "mono.obs['new.id'] = mono.obs['new.id'].astype(str)"
   ]
  },
  {
   "cell_type": "code",
   "execution_count": 5,
   "id": "d69c1fa7-bbae-48ca-9c61-b6b9aa718830",
   "metadata": {},
   "outputs": [],
   "source": [
    "obj = raw.copy()\n",
    "shared_cells = mono.obs_names.intersection(obj.obs_names)\n",
    "obj_subset = obj[obj.obs_names.isin(shared_cells)].copy()\n",
    "assert obj_subset.obs_names.equals(mono.obs.index),'Indexes differ!'\n",
    "obj_subset.obs['subcluster'] = mono.obs['new.id'] \n",
    "obj_subset.obs['Group'] = np.where(\n",
    "    obj_subset.obs['subcluster'] == '0',\n",
    "    'R1',\n",
    "    'Other'\n",
    ")\n",
    "obj_subset.obs['Group'] = obj_subset.obs['Group'].astype('category')"
   ]
  },
  {
   "cell_type": "code",
   "execution_count": 14,
   "id": "c8ec905d-fef9-462d-b218-1afc20ecb99a",
   "metadata": {},
   "outputs": [
    {
     "data": {
      "text/plain": [
       "Other    34178\n",
       "R1        4271\n",
       "Name: Group, dtype: int64"
      ]
     },
     "execution_count": 14,
     "metadata": {},
     "output_type": "execute_result"
    }
   ],
   "source": [
    "obj_subset.obs['Group'].value_counts()"
   ]
  },
  {
   "cell_type": "code",
   "execution_count": 9,
   "id": "ffcfa366-df3c-433e-859c-5f1ce61f3705",
   "metadata": {},
   "outputs": [],
   "source": [
    "def calculate_pvalues(obj,group,g1,g2,tf):\n",
    "    a = obj[obj.obs[group] == g1].to_df()[tf]\n",
    "    b = obj[obj.obs[group] == g2].to_df()[tf]\n",
    "    if len(a) > 3 and len(b) > 3:\n",
    "        stat, p = mannwhitneyu(a, b, alternative=\"two-sided\")\n",
    "        return p\n",
    "    else:\n",
    "        return np.nan"
   ]
  },
  {
   "cell_type": "code",
   "execution_count": 11,
   "id": "2d89103c-05ba-46e6-8635-f86a0f26dd9b",
   "metadata": {},
   "outputs": [],
   "source": [
    "## calculate difference p-val\n",
    "results = []\n",
    "tfs = obj_subset.var_names\n",
    "for tf in tfs:\n",
    "    pval = calculate_pvalues(obj_subset,group = 'Group',g1='R1',g2='Other',tf=tf)\n",
    "    results.append({\n",
    "        \"tf\": tf,\n",
    "        \"pval\": pval\n",
    "    })\n",
    "\n",
    "results_df = pd.DataFrame(results)\n",
    "mask = results_df['pval'].notna()\n",
    "pvals = results_df.loc[mask, 'pval']\n",
    "if len(pvals) > 0:\n",
    "    _, padj, _, _ = multipletests(pvals, method=\"fdr_bh\")\n",
    "    results_df.loc[mask, 'padj'] = padj"
   ]
  },
  {
   "cell_type": "code",
   "execution_count": 12,
   "id": "fc468325-78af-4c24-99f7-97d0282c0be5",
   "metadata": {},
   "outputs": [],
   "source": [
    "## calculate difference size\n",
    "df_zscore = pd.DataFrame(\n",
    "    obj_subset.X,\n",
    "    index=obj_subset.obs_names,\n",
    "    columns=obj_subset.var_names\n",
    ")\n",
    "df_zscore[\"Group\"] = obj_subset.obs[\"Group\"]\n",
    "grouped_mean = df_zscore.groupby(\"Group\").mean()\n",
    "R1_mean = grouped_mean.loc[\"R1\"]\n",
    "Other_mean = grouped_mean.loc[\"Other\"]\n",
    "effect_sizes = R1_mean - Other_mean  \n",
    "es_long = effect_sizes.rename_axis('tf').reset_index(name='mean_difference')\n",
    "assert len(results_df) == len(es_long), \"The number of TFS does not match, and there may be unprocessed TFs\"\n",
    "results_df = results_df.merge(es_long, on='tf', how='left', validate='one_to_one')"
   ]
  },
  {
   "cell_type": "code",
   "execution_count": 13,
   "id": "246058d4-44d5-43d9-b5df-34654476170f",
   "metadata": {},
   "outputs": [],
   "source": [
    "results_df.to_csv('./DAresults_R1vsOther.csv', index=False)"
   ]
  },
  {
   "cell_type": "code",
   "execution_count": 15,
   "id": "4fb1732a-5bfc-4e51-9582-dc45e654e0b1",
   "metadata": {},
   "outputs": [
    {
     "data": {
      "text/html": [
       "<div>\n",
       "<style scoped>\n",
       "    .dataframe tbody tr th:only-of-type {\n",
       "        vertical-align: middle;\n",
       "    }\n",
       "\n",
       "    .dataframe tbody tr th {\n",
       "        vertical-align: top;\n",
       "    }\n",
       "\n",
       "    .dataframe thead th {\n",
       "        text-align: right;\n",
       "    }\n",
       "</style>\n",
       "<table border=\"1\" class=\"dataframe\">\n",
       "  <thead>\n",
       "    <tr style=\"text-align: right;\">\n",
       "      <th></th>\n",
       "      <th>tf</th>\n",
       "      <th>pval</th>\n",
       "      <th>padj</th>\n",
       "      <th>mean_difference</th>\n",
       "    </tr>\n",
       "  </thead>\n",
       "  <tbody>\n",
       "    <tr>\n",
       "      <th>0</th>\n",
       "      <td>ALX1</td>\n",
       "      <td>0.000000e+00</td>\n",
       "      <td>0.000000e+00</td>\n",
       "      <td>0.006584</td>\n",
       "    </tr>\n",
       "    <tr>\n",
       "      <th>1</th>\n",
       "      <td>ALX3</td>\n",
       "      <td>0.000000e+00</td>\n",
       "      <td>0.000000e+00</td>\n",
       "      <td>0.003114</td>\n",
       "    </tr>\n",
       "    <tr>\n",
       "      <th>2</th>\n",
       "      <td>ALX4</td>\n",
       "      <td>0.000000e+00</td>\n",
       "      <td>0.000000e+00</td>\n",
       "      <td>0.003297</td>\n",
       "    </tr>\n",
       "    <tr>\n",
       "      <th>3</th>\n",
       "      <td>ANHX</td>\n",
       "      <td>0.000000e+00</td>\n",
       "      <td>0.000000e+00</td>\n",
       "      <td>0.004886</td>\n",
       "    </tr>\n",
       "    <tr>\n",
       "      <th>4</th>\n",
       "      <td>AR</td>\n",
       "      <td>0.000000e+00</td>\n",
       "      <td>0.000000e+00</td>\n",
       "      <td>0.004440</td>\n",
       "    </tr>\n",
       "    <tr>\n",
       "      <th>...</th>\n",
       "      <td>...</td>\n",
       "      <td>...</td>\n",
       "      <td>...</td>\n",
       "      <td>...</td>\n",
       "    </tr>\n",
       "    <tr>\n",
       "      <th>1060</th>\n",
       "      <td>ZSCAN4</td>\n",
       "      <td>4.150454e-42</td>\n",
       "      <td>4.420234e-39</td>\n",
       "      <td>0.002648</td>\n",
       "    </tr>\n",
       "    <tr>\n",
       "      <th>1061</th>\n",
       "      <td>ZSCAN5</td>\n",
       "      <td>0.000000e+00</td>\n",
       "      <td>0.000000e+00</td>\n",
       "      <td>0.005168</td>\n",
       "    </tr>\n",
       "    <tr>\n",
       "      <th>1062</th>\n",
       "      <td>ZSCAN5C</td>\n",
       "      <td>0.000000e+00</td>\n",
       "      <td>0.000000e+00</td>\n",
       "      <td>-0.002082</td>\n",
       "    </tr>\n",
       "    <tr>\n",
       "      <th>1063</th>\n",
       "      <td>ZSCAN9</td>\n",
       "      <td>1.697279e-171</td>\n",
       "      <td>1.807603e-168</td>\n",
       "      <td>0.010091</td>\n",
       "    </tr>\n",
       "    <tr>\n",
       "      <th>1064</th>\n",
       "      <td>ZZZ3</td>\n",
       "      <td>0.000000e+00</td>\n",
       "      <td>0.000000e+00</td>\n",
       "      <td>-0.003717</td>\n",
       "    </tr>\n",
       "  </tbody>\n",
       "</table>\n",
       "<p>1065 rows × 4 columns</p>\n",
       "</div>"
      ],
      "text/plain": [
       "           tf           pval           padj  mean_difference\n",
       "0        ALX1   0.000000e+00   0.000000e+00         0.006584\n",
       "1        ALX3   0.000000e+00   0.000000e+00         0.003114\n",
       "2        ALX4   0.000000e+00   0.000000e+00         0.003297\n",
       "3        ANHX   0.000000e+00   0.000000e+00         0.004886\n",
       "4          AR   0.000000e+00   0.000000e+00         0.004440\n",
       "...       ...            ...            ...              ...\n",
       "1060   ZSCAN4   4.150454e-42   4.420234e-39         0.002648\n",
       "1061   ZSCAN5   0.000000e+00   0.000000e+00         0.005168\n",
       "1062  ZSCAN5C   0.000000e+00   0.000000e+00        -0.002082\n",
       "1063   ZSCAN9  1.697279e-171  1.807603e-168         0.010091\n",
       "1064     ZZZ3   0.000000e+00   0.000000e+00        -0.003717\n",
       "\n",
       "[1065 rows x 4 columns]"
      ]
     },
     "execution_count": 15,
     "metadata": {},
     "output_type": "execute_result"
    }
   ],
   "source": [
    "results_df"
   ]
  }
 ],
 "metadata": {
  "kernelspec": {
   "display_name": "py3.8_tf2.6.0",
   "language": "python",
   "name": "py3.8_tf2.6.0"
  },
  "language_info": {
   "codemirror_mode": {
    "name": "ipython",
    "version": 3
   },
   "file_extension": ".py",
   "mimetype": "text/x-python",
   "name": "python",
   "nbconvert_exporter": "python",
   "pygments_lexer": "ipython3",
   "version": "3.8.15"
  }
 },
 "nbformat": 4,
 "nbformat_minor": 5
}
