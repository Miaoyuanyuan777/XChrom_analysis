{
 "cells": [
  {
   "cell_type": "markdown",
   "id": "abcf55cd-bd4d-4325-847a-313fef631d1b",
   "metadata": {},
   "source": [
    "## extract mild monocytes and severe monocytes from COVID-19 scRNA data"
   ]
  },
  {
   "cell_type": "code",
   "execution_count": 2,
   "id": "56734854-4f67-4a57-abb2-036c5c75dad0",
   "metadata": {
    "scrolled": true
   },
   "outputs": [
    {
     "name": "stderr",
     "output_type": "stream",
     "text": [
      "Attaching SeuratObject\n",
      "\n",
      "Seurat v4 was just loaded with SeuratObject v5; disabling v5 assays and\n",
      "validation routines, and ensuring assays work in strict v3/v4\n",
      "compatibility mode\n",
      "\n",
      "Registered S3 method overwritten by 'SeuratDisk':\n",
      "  method            from  \n",
      "  as.sparse.H5Group Seurat\n",
      "\n"
     ]
    }
   ],
   "source": [
    "library(Seurat)\n",
    "library(SeuratDisk)"
   ]
  },
  {
   "cell_type": "code",
   "execution_count": 3,
   "id": "6b8676c4-569e-452a-ac06-3d6473f92785",
   "metadata": {},
   "outputs": [
    {
     "name": "stderr",
     "output_type": "stream",
     "text": [
      "Validating object structure\n",
      "\n",
      "Updating object slots\n",
      "\n",
      "Ensuring keys are in the proper structure\n",
      "\n",
      "Updating matrix keys for DimReduc ‘pca’\n",
      "\n",
      "Updating matrix keys for DimReduc ‘harmony’\n",
      "\n",
      "Updating matrix keys for DimReduc ‘umap’\n",
      "\n",
      "Warning message:\n",
      "“Graph RNA_nn changing from Graph to Graph”\n",
      "Warning message:\n",
      "“Graph RNA_snn changing from Graph to Graph”\n",
      "Warning message:\n",
      "“DimReduc pca changing from DimReduc to DimReduc”\n",
      "Warning message:\n",
      "“DimReduc harmony changing from DimReduc to DimReduc”\n",
      "Warning message:\n",
      "“DimReduc umap changing from DimReduc to DimReduc”\n",
      "Ensuring keys are in the proper structure\n",
      "\n",
      "Ensuring feature names don't have underscores or pipes\n",
      "\n",
      "Updating slots in RNA\n",
      "\n",
      "Updating slots in RNA_nn\n",
      "\n",
      "Setting default assay of RNA_nn to RNA\n",
      "\n",
      "Updating slots in RNA_snn\n",
      "\n",
      "Setting default assay of RNA_snn to RNA\n",
      "\n",
      "Updating slots in pca\n",
      "\n",
      "Updating slots in harmony\n",
      "\n",
      "Updating slots in umap\n",
      "\n",
      "Setting umap DimReduc to global\n",
      "\n",
      "Setting assay used for NormalizeData.RNA to RNA\n",
      "\n",
      "Setting assay used for Seurat..ProjectDim.RNA.harmony to RNA\n",
      "\n",
      "Setting assay used for RunUMAP.RNA.harmony to RNA\n",
      "\n",
      "Setting assay used for FindNeighbors.RNA.harmony to RNA\n",
      "\n",
      "Setting assay used for FindVariableFeatures.RNA to RNA\n",
      "\n",
      "Setting assay used for ScaleData.RNA to RNA\n",
      "\n",
      "Setting assay used for RunPCA.RNA to RNA\n",
      "\n",
      "Setting assay used for RunUMAP.RNA.pca to RNA\n",
      "\n",
      "Setting assay used for FindNeighbors.RNA.pca to RNA\n",
      "\n",
      "No assay information could be found for FindClusters\n",
      "\n",
      "Warning message:\n",
      "“Adding a command log without an assay associated with it”\n",
      "Validating object structure for Assay ‘RNA’\n",
      "\n",
      "Validating object structure for Graph ‘RNA_nn’\n",
      "\n",
      "Validating object structure for Graph ‘RNA_snn’\n",
      "\n",
      "Validating object structure for DimReduc ‘pca’\n",
      "\n",
      "Validating object structure for DimReduc ‘harmony’\n",
      "\n",
      "Validating object structure for DimReduc ‘umap’\n",
      "\n",
      "Object representation is consistent with the most current Seurat version\n",
      "\n"
     ]
    },
    {
     "data": {
      "text/plain": [
       "\n",
       "   R1    R2    R3    R4    R5    R6    R7    R8 \n",
       " 8490 23137  9851  7173  4380  1649  1607   282 "
      ]
     },
     "metadata": {},
     "output_type": "display_data"
    }
   ],
   "source": [
    "path = '../../'\n",
    "rna <- readRDS(paste0(path,'/0_preprocess/COVID19_MHH50/scRNA/Monocytes_scRNAseq.rds'))\n",
    "rna <- UpdateSeuratObject(rna)\n",
    "table(rna@meta.data$new.id)"
   ]
  },
  {
   "cell_type": "code",
   "execution_count": 4,
   "id": "9ee9bdcb-ac19-4458-a66c-e2929412d3b2",
   "metadata": {},
   "outputs": [
    {
     "data": {
      "text/plain": [
       "\n",
       "   R1    R2    R3    R4    R5    R6    R7    R8 \n",
       " 4271 13099  9321  7100  1879  1562   938   279 "
      ]
     },
     "metadata": {},
     "output_type": "display_data"
    }
   ],
   "source": [
    "rna_ms <- rna[,rna@meta.data$Severity == \"mild\"|rna@meta.data$Severity == \"severe\"]\n",
    "rna_ms@assays$RNA@data <- rna_ms@assays$RNA@counts\n",
    "rna_ms@reductions$harmony <- NULL\n",
    "table(rna_ms@meta.data$new.id)"
   ]
  },
  {
   "cell_type": "code",
   "execution_count": 7,
   "id": "e94945f2-5700-4dfc-b18b-2c59a830d139",
   "metadata": {},
   "outputs": [
    {
     "name": "stderr",
     "output_type": "stream",
     "text": [
      "Validating h5Seurat file\n",
      "\n",
      "Adding scale.data from RNA as X\n",
      "\n",
      "Transfering meta.features to var\n",
      "\n",
      "Adding data from RNA as raw\n",
      "\n",
      "Transfering meta.features to raw/var\n",
      "\n",
      "Transfering meta.data to obs\n",
      "\n",
      "Adding dimensional reduction information for pca\n",
      "\n",
      "Adding feature loadings for pca\n",
      "\n",
      "Adding dimensional reduction information for umap\n",
      "\n"
     ]
    }
   ],
   "source": [
    "SaveH5Seurat(rna_ms, filename = \"./coviddata/mono_ms.h5seurat\")\n",
    "Convert(\"./coviddata/mono_ms.h5seurat\", dest = \"h5ad\")"
   ]
  },
  {
   "cell_type": "code",
   "execution_count": null,
   "id": "48014640-1ff5-4b5c-a163-dd4d599d4da8",
   "metadata": {},
   "outputs": [],
   "source": []
  }
 ],
 "metadata": {
  "kernelspec": {
   "display_name": "r4.2",
   "language": "R",
   "name": "r4.2"
  },
  "language_info": {
   "codemirror_mode": "r",
   "file_extension": ".r",
   "mimetype": "text/x-r-source",
   "name": "R",
   "pygments_lexer": "r",
   "version": "4.2.0"
  }
 },
 "nbformat": 4,
 "nbformat_minor": 5
}
