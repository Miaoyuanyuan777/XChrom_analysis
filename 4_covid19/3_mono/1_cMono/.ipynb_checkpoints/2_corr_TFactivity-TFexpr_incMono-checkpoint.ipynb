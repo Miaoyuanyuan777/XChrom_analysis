{
 "cells": [
  {
   "cell_type": "code",
   "execution_count": 1,
   "id": "60c4d8da-79ab-42db-b5a7-a6564276f612",
   "metadata": {},
   "outputs": [],
   "source": [
    "import anndata\n",
    "import numpy as np\n",
    "import math\n",
    "import scipy\n",
    "import scipy.sparse as sparse\n",
    "from scipy.sparse import csr_matrix\n",
    "import scanpy as sc\n",
    "import copy\n",
    "import pandas as pd\n",
    "from scipy.stats import pearsonr\n",
    "from scipy import stats\n",
    "from scipy.stats import mannwhitneyu\n",
    "from statsmodels.stats.multitest import multipletests\n",
    "import seaborn as sns\n",
    "import matplotlib.pyplot as plt"
   ]
  },
  {
   "cell_type": "code",
   "execution_count": 4,
   "id": "54dfd909-6762-477b-b8db-d3c64f845b7f",
   "metadata": {},
   "outputs": [
    {
     "name": "stdout",
     "output_type": "stream",
     "text": [
      "have 863 common TFs\n"
     ]
    }
   ],
   "source": [
    "path = '/picb/bigdata/project/miaoyuanyuan/train/XChrom_analysis/4_covid19/'\n",
    "rna0 = sc.read_h5ad(f'{path}/0_preprocess/data/mild_severe_all.h5ad')\n",
    "rna = anndata.AnnData(X=rna0.raw.X, obs=rna0.obs,var=rna0.raw.var)\n",
    "sc.pp.normalize_total(rna, target_sum=1e4)\n",
    "sc.pp.log1p(rna)\n",
    "obj = sc.read_h5ad(f'{path}/2_TFactivity/activity_out/covid19_tfactivity.h5ad')\n",
    "obj.var['tf_clean'] = obj.var.index.str.upper()\n",
    "rna.var['tf_clean'] = rna.var.index.str.upper()\n",
    "common_tfs = list(set(obj.var['tf_clean']) & set(rna.var['tf_clean']))\n",
    "print(f\"have {len(common_tfs)} common TFs\")"
   ]
  },
  {
   "cell_type": "code",
   "execution_count": 5,
   "id": "5e3ff631-f180-41e0-8b03-c9fcd9bd7278",
   "metadata": {},
   "outputs": [],
   "source": [
    "# Sort by name to ensure that the order of the two datasets is consistent\n",
    "common_tfs_sorted = sorted(common_tfs)\n",
    "obj_common_names = obj.var[obj.var['tf_clean'].isin(common_tfs_sorted)].index.tolist()\n",
    "obj_common_names_sorted = [name for name in common_tfs_sorted if name in obj.var['tf_clean'].values]\n",
    "obj_common_idx = obj.var.index.get_indexer(obj_common_names_sorted)\n",
    "if -1 in obj_common_idx:\n",
    "    missing_tfs = [name for i, name in enumerate(obj_common_names_sorted) if obj_common_idx[i] == -1]\n",
    "    raise ValueError(f\"The following TF was not found in obj: {missing_tfs}\")"
   ]
  },
  {
   "cell_type": "code",
   "execution_count": 6,
   "id": "c929b053-f2b7-4842-bcd9-130b7bc5a234",
   "metadata": {},
   "outputs": [],
   "source": [
    "rna_common_names = rna.var[rna.var['tf_clean'].isin(common_tfs_sorted)].index.tolist()\n",
    "rna_common_names_sorted = [name for name in common_tfs_sorted if name in rna.var['tf_clean'].values]\n",
    "rna_common_idx = rna.var.index.get_indexer(rna_common_names_sorted)\n",
    "if -1 in rna_common_idx:\n",
    "    missing_tfs = [name for i, name in enumerate(rna_common_names_sorted) if rna_common_idx[i] == -1]\n",
    "    raise ValueError(f\"The following TF was not found in rna1: {missing_tfs}\")"
   ]
  },
  {
   "cell_type": "code",
   "execution_count": 7,
   "id": "9400be2c-4977-447e-9f8a-10adb06591f6",
   "metadata": {},
   "outputs": [
    {
     "name": "stderr",
     "output_type": "stream",
     "text": [
      "/home/miaoyuanyuan/miniconda3/envs/py3.8_tf2.6.0/lib/python3.8/site-packages/scipy/stats/_stats_py.py:4068: PearsonRConstantInputWarning: An input array is constant; the correlation coefficient is not defined.\n",
      "  warnings.warn(PearsonRConstantInputWarning())\n"
     ]
    }
   ],
   "source": [
    "## Calculate the correlation between TF activity and expression values in cMono\n",
    "objm = obj[obj.obs['celltypeL0'].isin (['cMono','CD163.cMono'])]\n",
    "rnam = rna[rna.obs['celltypeL0'].isin (['cMono','CD163.cMono'])]\n",
    "\n",
    "obj_data = objm[:, obj_common_idx].X \n",
    "rna_data = rnam[:, rna_common_idx].X.toarray() \n",
    "\n",
    "correlations = []\n",
    "ps = []\n",
    "for i in range(len(common_tfs_sorted)):\n",
    "    corr, p = pearsonr(obj_data[:, i], rna_data[:, i])\n",
    "    correlations.append(corr)\n",
    "    ps.append(p)\n",
    "results = pd.DataFrame({\n",
    "    \"TF\": common_tfs_sorted,\n",
    "    \"Correlation\": correlations,\n",
    "    'p_val':ps\n",
    "})"
   ]
  },
  {
   "cell_type": "code",
   "execution_count": 3,
   "id": "60c77e02-4106-48e5-8ef8-3686c2f984cd",
   "metadata": {},
   "outputs": [
    {
     "name": "stdout",
     "output_type": "stream",
     "text": [
      "   Unnamed: 0      TF  Correlation         p_val      pval_adj\n",
      "0           0    ALX3    -0.003881  4.528810e-01  5.926679e-01\n",
      "1           1    ALX4     0.001937  7.078759e-01  8.158737e-01\n",
      "2           2      AR    -0.000359  9.447177e-01  9.658327e-01\n",
      "3           3   ARGFX    -0.003816  4.604488e-01  5.969313e-01\n",
      "4           4  ARID3A    -0.029144  1.721102e-08  9.227327e-08\n"
     ]
    }
   ],
   "source": [
    "pvals = results[\"p_val\"].replace(0.0, np.nextafter(0, 1)).copy()\n",
    "pvals_clean = pvals.dropna()\n",
    "_, pvals_adj, _, _ = multipletests(pvals_clean, method=\"fdr_bh\")\n",
    "results[\"pval_adj\"] = np.nan\n",
    "results.loc[pvals_clean.index, \"pval_adj\"] = pvals_adj\n",
    "print(results.head())"
   ]
  },
  {
   "cell_type": "code",
   "execution_count": 4,
   "id": "cc5d36e3-05df-4b25-81dc-2f580e585a5c",
   "metadata": {},
   "outputs": [],
   "source": [
    "results.to_csv('./pearsonr_TFactivity_TFexpr_incMono.csv')"
   ]
  },
  {
   "cell_type": "code",
   "execution_count": 5,
   "id": "d68b73d3-e3e1-4d81-aabb-6ef365e0a91b",
   "metadata": {},
   "outputs": [
    {
     "data": {
      "text/html": [
       "<div>\n",
       "<style scoped>\n",
       "    .dataframe tbody tr th:only-of-type {\n",
       "        vertical-align: middle;\n",
       "    }\n",
       "\n",
       "    .dataframe tbody tr th {\n",
       "        vertical-align: top;\n",
       "    }\n",
       "\n",
       "    .dataframe thead th {\n",
       "        text-align: right;\n",
       "    }\n",
       "</style>\n",
       "<table border=\"1\" class=\"dataframe\">\n",
       "  <thead>\n",
       "    <tr style=\"text-align: right;\">\n",
       "      <th></th>\n",
       "      <th>Unnamed: 0</th>\n",
       "      <th>TF</th>\n",
       "      <th>Correlation</th>\n",
       "      <th>p_val</th>\n",
       "      <th>pval_adj</th>\n",
       "    </tr>\n",
       "  </thead>\n",
       "  <tbody>\n",
       "    <tr>\n",
       "      <th>0</th>\n",
       "      <td>0</td>\n",
       "      <td>ALX3</td>\n",
       "      <td>-0.003881</td>\n",
       "      <td>4.528810e-01</td>\n",
       "      <td>5.926679e-01</td>\n",
       "    </tr>\n",
       "    <tr>\n",
       "      <th>1</th>\n",
       "      <td>1</td>\n",
       "      <td>ALX4</td>\n",
       "      <td>0.001937</td>\n",
       "      <td>7.078759e-01</td>\n",
       "      <td>8.158737e-01</td>\n",
       "    </tr>\n",
       "    <tr>\n",
       "      <th>2</th>\n",
       "      <td>2</td>\n",
       "      <td>AR</td>\n",
       "      <td>-0.000359</td>\n",
       "      <td>9.447177e-01</td>\n",
       "      <td>9.658327e-01</td>\n",
       "    </tr>\n",
       "    <tr>\n",
       "      <th>3</th>\n",
       "      <td>3</td>\n",
       "      <td>ARGFX</td>\n",
       "      <td>-0.003816</td>\n",
       "      <td>4.604488e-01</td>\n",
       "      <td>5.969313e-01</td>\n",
       "    </tr>\n",
       "    <tr>\n",
       "      <th>4</th>\n",
       "      <td>4</td>\n",
       "      <td>ARID3A</td>\n",
       "      <td>-0.029144</td>\n",
       "      <td>1.721102e-08</td>\n",
       "      <td>9.227327e-08</td>\n",
       "    </tr>\n",
       "    <tr>\n",
       "      <th>...</th>\n",
       "      <td>...</td>\n",
       "      <td>...</td>\n",
       "      <td>...</td>\n",
       "      <td>...</td>\n",
       "      <td>...</td>\n",
       "    </tr>\n",
       "    <tr>\n",
       "      <th>858</th>\n",
       "      <td>858</td>\n",
       "      <td>ZSCAN26</td>\n",
       "      <td>-0.015113</td>\n",
       "      <td>3.465724e-03</td>\n",
       "      <td>9.000456e-03</td>\n",
       "    </tr>\n",
       "    <tr>\n",
       "      <th>859</th>\n",
       "      <td>859</td>\n",
       "      <td>ZSCAN29</td>\n",
       "      <td>0.011197</td>\n",
       "      <td>3.033840e-02</td>\n",
       "      <td>6.255883e-02</td>\n",
       "    </tr>\n",
       "    <tr>\n",
       "      <th>860</th>\n",
       "      <td>860</td>\n",
       "      <td>ZSCAN30</td>\n",
       "      <td>-0.038133</td>\n",
       "      <td>1.606207e-13</td>\n",
       "      <td>1.308586e-12</td>\n",
       "    </tr>\n",
       "    <tr>\n",
       "      <th>861</th>\n",
       "      <td>861</td>\n",
       "      <td>ZSCAN31</td>\n",
       "      <td>-0.000771</td>\n",
       "      <td>8.814348e-01</td>\n",
       "      <td>9.288141e-01</td>\n",
       "    </tr>\n",
       "    <tr>\n",
       "      <th>862</th>\n",
       "      <td>862</td>\n",
       "      <td>ZSCAN9</td>\n",
       "      <td>-0.007113</td>\n",
       "      <td>1.688985e-01</td>\n",
       "      <td>2.730635e-01</td>\n",
       "    </tr>\n",
       "  </tbody>\n",
       "</table>\n",
       "<p>863 rows × 5 columns</p>\n",
       "</div>"
      ],
      "text/plain": [
       "     Unnamed: 0       TF  Correlation         p_val      pval_adj\n",
       "0             0     ALX3    -0.003881  4.528810e-01  5.926679e-01\n",
       "1             1     ALX4     0.001937  7.078759e-01  8.158737e-01\n",
       "2             2       AR    -0.000359  9.447177e-01  9.658327e-01\n",
       "3             3    ARGFX    -0.003816  4.604488e-01  5.969313e-01\n",
       "4             4   ARID3A    -0.029144  1.721102e-08  9.227327e-08\n",
       "..          ...      ...          ...           ...           ...\n",
       "858         858  ZSCAN26    -0.015113  3.465724e-03  9.000456e-03\n",
       "859         859  ZSCAN29     0.011197  3.033840e-02  6.255883e-02\n",
       "860         860  ZSCAN30    -0.038133  1.606207e-13  1.308586e-12\n",
       "861         861  ZSCAN31    -0.000771  8.814348e-01  9.288141e-01\n",
       "862         862   ZSCAN9    -0.007113  1.688985e-01  2.730635e-01\n",
       "\n",
       "[863 rows x 5 columns]"
      ]
     },
     "execution_count": 5,
     "metadata": {},
     "output_type": "execute_result"
    }
   ],
   "source": [
    "results"
   ]
  },
  {
   "cell_type": "code",
   "execution_count": null,
   "id": "e91f45ed-5bac-4483-877f-c3527255a5c8",
   "metadata": {},
   "outputs": [],
   "source": []
  }
 ],
 "metadata": {
  "kernelspec": {
   "display_name": "py3.8_tf2.6.0",
   "language": "python",
   "name": "py3.8_tf2.6.0"
  },
  "language_info": {
   "codemirror_mode": {
    "name": "ipython",
    "version": 3
   },
   "file_extension": ".py",
   "mimetype": "text/x-python",
   "name": "python",
   "nbconvert_exporter": "python",
   "pygments_lexer": "ipython3",
   "version": "3.8.15"
  }
 },
 "nbformat": 4,
 "nbformat_minor": 5
}
