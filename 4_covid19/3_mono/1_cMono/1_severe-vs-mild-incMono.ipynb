{
 "cells": [
  {
   "cell_type": "markdown",
   "id": "fd675613-f683-4370-9f37-f4b05a9b8870",
   "metadata": {},
   "source": [
    "## TF activity differential analysis between mild and severe cells in cMono cell type"
   ]
  },
  {
   "cell_type": "code",
   "execution_count": 1,
   "id": "04027535-c52b-4f9d-aaf1-3ff3e5b40b11",
   "metadata": {},
   "outputs": [],
   "source": [
    "import tensorflow as tf\n",
    "import anndata\n",
    "import h5py\n",
    "import numpy as np\n",
    "import math\n",
    "import scipy\n",
    "import scipy.sparse as sparse\n",
    "from scipy.sparse import csr_matrix\n",
    "import scanpy as sc\n",
    "import copy\n",
    "import pandas as pd\n",
    "from scipy.stats import mannwhitneyu\n",
    "from statsmodels.stats.multitest import multipletests\n",
    "import seaborn as sns\n",
    "import matplotlib.pyplot as plt"
   ]
  },
  {
   "cell_type": "code",
   "execution_count": 5,
   "id": "f3d9ca92-a7a4-4172-b2de-97a4ea3a04c5",
   "metadata": {},
   "outputs": [],
   "source": [
    "path = '../../'\n",
    "out_dir = \"./\""
   ]
  },
  {
   "cell_type": "code",
   "execution_count": 6,
   "id": "b4c1a8d8-50d9-4122-941d-bc480118988d",
   "metadata": {},
   "outputs": [],
   "source": [
    "raw = sc.read_h5ad(f'{path}/2_TFactivity/activity_out/covid19_tfactivity.h5ad')\n",
    "obj = raw.copy()\n",
    "obj.obs['celltypeL0'] = obj.obs['celltypeL0'].replace(\n",
    "    {'CD163.cMono': 'cMono'}\n",
    ")\n",
    "df = pd.DataFrame(raw.X, index=raw.obs_names, columns=raw.var_names)"
   ]
  },
  {
   "cell_type": "code",
   "execution_count": 7,
   "id": "e5e719f2-7c2d-40e5-aa92-fca81a859d20",
   "metadata": {},
   "outputs": [],
   "source": [
    "def calculate_pvalues(obj, celltype, tf):\n",
    "    subset = obj[obj.obs[\"celltypeL0\"] == celltype]\n",
    "    mild = subset[subset.obs[\"Severity\"] == \"mild\"].to_df()[tf]\n",
    "    severe = subset[subset.obs[\"Severity\"] == \"severe\"].to_df()[tf]\n",
    "    if len(mild) > 3 and len(severe) > 3:\n",
    "        stat, p = mannwhitneyu(mild, severe, alternative=\"two-sided\")\n",
    "        return p\n",
    "    else:\n",
    "        return np.nan"
   ]
  },
  {
   "cell_type": "code",
   "execution_count": 8,
   "id": "d3e06f23-6691-4545-86c2-c972e84a0e1c",
   "metadata": {},
   "outputs": [],
   "source": [
    "results = []\n",
    "celltypes = obj.obs[\"celltypeL0\"].unique()\n",
    "tfs = obj.var_names\n",
    "\n",
    "for celltype in celltypes:\n",
    "    for tf in tfs:\n",
    "        pval = calculate_pvalues(obj, celltype, tf)\n",
    "        results.append({\n",
    "            \"celltype\": celltype,\n",
    "            \"tf\": tf,\n",
    "            \"pval\": pval\n",
    "        })\n",
    "\n",
    "results_df = pd.DataFrame(results)\n",
    "\n",
    "results_df[\"pval_adj\"] = np.nan \n",
    "for celltype in celltypes:\n",
    "    mask = results_df[\"celltype\"] == celltype\n",
    "    pvals = results_df.loc[mask, \"pval\"].dropna()\n",
    "    \n",
    "    if len(pvals) > 0:\n",
    "        _, pvals_adj, _, _ = multipletests(pvals, method=\"fdr_bh\")\n",
    "        results_df.loc[mask, \"pval_adj\"] = pvals_adj"
   ]
  },
  {
   "cell_type": "code",
   "execution_count": 9,
   "id": "6649fa9f-26e6-4df7-bbbc-f606d69cbb8d",
   "metadata": {},
   "outputs": [],
   "source": [
    "## calculate difference size\n",
    "df_zscore = pd.DataFrame(\n",
    "    obj.X,\n",
    "    index=obj.obs_names,\n",
    "    columns=obj.var_names\n",
    ")\n",
    "df_zscore[\"celltypeL0\"] = obj.obs[\"celltypeL0\"]\n",
    "df_zscore[\"Severity\"] = obj.obs[\"Severity\"]\n",
    "grouped_mean = df_zscore.groupby([\"celltypeL0\", \"Severity\"]).mean()\n",
    "mild_mean = grouped_mean.xs(\"mild\", level=\"Severity\")\n",
    "severe_mean = grouped_mean.xs(\"severe\", level=\"Severity\")\n",
    "effect_sizes = severe_mean - mild_mean\n",
    "\n",
    "es_long = effect_sizes.stack().reset_index()\n",
    "es_long.columns = ['celltype', 'tf', 'mean_difference']\n",
    "\n",
    "results_df = results_df.merge(es_long, on=['celltype', 'tf'], how='left')"
   ]
  },
  {
   "cell_type": "code",
   "execution_count": 11,
   "id": "847c3c34-5610-4d9d-af1e-71673df58b48",
   "metadata": {},
   "outputs": [],
   "source": [
    "cMono_df = results_df[results_df['celltype']=='cMono']\n",
    "cMono_df.to_csv('./DAresults_mildVSsevere_incMono.csv', index=False)"
   ]
  },
  {
   "cell_type": "code",
   "execution_count": 13,
   "id": "34f13f0f-be20-409a-9164-ce9adc1bad62",
   "metadata": {},
   "outputs": [
    {
     "data": {
      "text/html": [
       "<div>\n",
       "<style scoped>\n",
       "    .dataframe tbody tr th:only-of-type {\n",
       "        vertical-align: middle;\n",
       "    }\n",
       "\n",
       "    .dataframe tbody tr th {\n",
       "        vertical-align: top;\n",
       "    }\n",
       "\n",
       "    .dataframe thead th {\n",
       "        text-align: right;\n",
       "    }\n",
       "</style>\n",
       "<table border=\"1\" class=\"dataframe\">\n",
       "  <thead>\n",
       "    <tr style=\"text-align: right;\">\n",
       "      <th></th>\n",
       "      <th>celltype</th>\n",
       "      <th>tf</th>\n",
       "      <th>pval</th>\n",
       "      <th>pval_adj</th>\n",
       "      <th>mean_difference</th>\n",
       "    </tr>\n",
       "  </thead>\n",
       "  <tbody>\n",
       "    <tr>\n",
       "      <th>0</th>\n",
       "      <td>cMono</td>\n",
       "      <td>ALX1</td>\n",
       "      <td>6.411295e-38</td>\n",
       "      <td>8.709221e-38</td>\n",
       "      <td>-0.000132</td>\n",
       "    </tr>\n",
       "    <tr>\n",
       "      <th>1</th>\n",
       "      <td>cMono</td>\n",
       "      <td>ALX3</td>\n",
       "      <td>3.080985e-01</td>\n",
       "      <td>3.148992e-01</td>\n",
       "      <td>0.000399</td>\n",
       "    </tr>\n",
       "    <tr>\n",
       "      <th>2</th>\n",
       "      <td>cMono</td>\n",
       "      <td>ALX4</td>\n",
       "      <td>1.653847e-01</td>\n",
       "      <td>1.708387e-01</td>\n",
       "      <td>0.000413</td>\n",
       "    </tr>\n",
       "    <tr>\n",
       "      <th>3</th>\n",
       "      <td>cMono</td>\n",
       "      <td>ANHX</td>\n",
       "      <td>5.501032e-76</td>\n",
       "      <td>9.929828e-76</td>\n",
       "      <td>-0.000435</td>\n",
       "    </tr>\n",
       "    <tr>\n",
       "      <th>4</th>\n",
       "      <td>cMono</td>\n",
       "      <td>AR</td>\n",
       "      <td>1.114455e-96</td>\n",
       "      <td>2.631696e-96</td>\n",
       "      <td>-0.001193</td>\n",
       "    </tr>\n",
       "    <tr>\n",
       "      <th>...</th>\n",
       "      <td>...</td>\n",
       "      <td>...</td>\n",
       "      <td>...</td>\n",
       "      <td>...</td>\n",
       "      <td>...</td>\n",
       "    </tr>\n",
       "    <tr>\n",
       "      <th>9580</th>\n",
       "      <td>mDC</td>\n",
       "      <td>ZSCAN4</td>\n",
       "      <td>5.633650e-01</td>\n",
       "      <td>7.139757e-01</td>\n",
       "      <td>0.000455</td>\n",
       "    </tr>\n",
       "    <tr>\n",
       "      <th>9581</th>\n",
       "      <td>mDC</td>\n",
       "      <td>ZSCAN5</td>\n",
       "      <td>4.490377e-01</td>\n",
       "      <td>6.575762e-01</td>\n",
       "      <td>0.000315</td>\n",
       "    </tr>\n",
       "    <tr>\n",
       "      <th>9582</th>\n",
       "      <td>mDC</td>\n",
       "      <td>ZSCAN5C</td>\n",
       "      <td>7.337668e-06</td>\n",
       "      <td>4.551659e-04</td>\n",
       "      <td>0.001042</td>\n",
       "    </tr>\n",
       "    <tr>\n",
       "      <th>9583</th>\n",
       "      <td>mDC</td>\n",
       "      <td>ZSCAN9</td>\n",
       "      <td>4.922153e-01</td>\n",
       "      <td>6.670609e-01</td>\n",
       "      <td>0.003969</td>\n",
       "    </tr>\n",
       "    <tr>\n",
       "      <th>9584</th>\n",
       "      <td>mDC</td>\n",
       "      <td>ZZZ3</td>\n",
       "      <td>6.885535e-04</td>\n",
       "      <td>1.333290e-02</td>\n",
       "      <td>0.001636</td>\n",
       "    </tr>\n",
       "  </tbody>\n",
       "</table>\n",
       "<p>9585 rows × 5 columns</p>\n",
       "</div>"
      ],
      "text/plain": [
       "     celltype       tf          pval      pval_adj  mean_difference\n",
       "0       cMono     ALX1  6.411295e-38  8.709221e-38        -0.000132\n",
       "1       cMono     ALX3  3.080985e-01  3.148992e-01         0.000399\n",
       "2       cMono     ALX4  1.653847e-01  1.708387e-01         0.000413\n",
       "3       cMono     ANHX  5.501032e-76  9.929828e-76        -0.000435\n",
       "4       cMono       AR  1.114455e-96  2.631696e-96        -0.001193\n",
       "...       ...      ...           ...           ...              ...\n",
       "9580      mDC   ZSCAN4  5.633650e-01  7.139757e-01         0.000455\n",
       "9581      mDC   ZSCAN5  4.490377e-01  6.575762e-01         0.000315\n",
       "9582      mDC  ZSCAN5C  7.337668e-06  4.551659e-04         0.001042\n",
       "9583      mDC   ZSCAN9  4.922153e-01  6.670609e-01         0.003969\n",
       "9584      mDC     ZZZ3  6.885535e-04  1.333290e-02         0.001636\n",
       "\n",
       "[9585 rows x 5 columns]"
      ]
     },
     "execution_count": 13,
     "metadata": {},
     "output_type": "execute_result"
    }
   ],
   "source": [
    "results_df"
   ]
  },
  {
   "cell_type": "markdown",
   "id": "8fe3f93d-4ed8-4bef-a2aa-4c0f227c492d",
   "metadata": {},
   "source": [
    "### Add the correlation data between TF activity and TF expression in classical Monocytes"
   ]
  },
  {
   "cell_type": "code",
   "execution_count": 15,
   "id": "7b7fec1b-75fe-49ec-afee-7efe68b5e074",
   "metadata": {},
   "outputs": [
    {
     "name": "stdout",
     "output_type": "stream",
     "text": [
      "(1065, 7)\n"
     ]
    }
   ],
   "source": [
    "mcoor = pd.read_csv(f'{path}/3_mono/1_cMono/pearsonr_TFactivity_TFexpr_incMono.csv')\n",
    "merged_df = pd.merge(\n",
    "    left=cMono_df,\n",
    "    right=mcoor[[\"TF\", \"Correlation\",'pval_adj']].rename(columns={\"TF\": \"tf\",'pval_adj':'corr_padj'}),\n",
    "    on=\"tf\",\n",
    "    how=\"left\"\n",
    ")\n",
    "print(merged_df.shape)\n",
    "merged_df[\"corr_padj\"] = merged_df[\"corr_padj\"].fillna(0).astype(float)  \n",
    "merged_df[\"Correlation\"] = merged_df[\"Correlation\"].fillna(0).astype(float) \n",
    "merged_df.to_csv(f'{out_dir}/DAresults_mildVSsevere_incMono_add-corr.csv')"
   ]
  },
  {
   "cell_type": "code",
   "execution_count": null,
   "id": "c0e777a1-0647-4a3b-9009-46bdbd5285bc",
   "metadata": {},
   "outputs": [],
   "source": []
  }
 ],
 "metadata": {
  "kernelspec": {
   "display_name": "py3.8_tf2.6.0",
   "language": "python",
   "name": "py3.8_tf2.6.0"
  },
  "language_info": {
   "codemirror_mode": {
    "name": "ipython",
    "version": 3
   },
   "file_extension": ".py",
   "mimetype": "text/x-python",
   "name": "python",
   "nbconvert_exporter": "python",
   "pygments_lexer": "ipython3",
   "version": "3.8.15"
  }
 },
 "nbformat": 4,
 "nbformat_minor": 5
}
