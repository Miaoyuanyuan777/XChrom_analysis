{
 "cells": [
  {
   "cell_type": "markdown",
   "id": "5d467dbc-a30a-4d2b-8685-f3091b4431d6",
   "metadata": {},
   "source": [
    "## extract monocytes from the PBMC10k dataset based on the annotation of cell types"
   ]
  },
  {
   "cell_type": "code",
   "execution_count": 1,
   "id": "4c5fc303-09bb-4fa1-92ee-308918de5d6f",
   "metadata": {},
   "outputs": [],
   "source": [
    "import scanpy as sc"
   ]
  },
  {
   "cell_type": "code",
   "execution_count": 2,
   "id": "f45c183f-1523-40ea-a2cf-b6d4a58b8f22",
   "metadata": {},
   "outputs": [],
   "source": [
    "path = '../../'\n",
    "anno_pbmc10k = sc.read_h5ad(f'{path}/0_preprocess/pbmc10k/pbmc10k_anno.h5ad')\n",
    "raw_pbmc10k = sc.read_h5ad(f'{path}/0_preprocess/pbmc10k/pbmc10k_rna.h5ad')"
   ]
  },
  {
   "cell_type": "code",
   "execution_count": 4,
   "id": "d44a147c-9eed-4e2f-8a4b-33de7bb57fbe",
   "metadata": {},
   "outputs": [
    {
     "data": {
      "text/plain": [
       "AnnData object with n_obs × n_vars = 11898 × 36601\n",
       "    obs: 'nCount_RNA', 'nFeature_RNA', 'orig.ident', 'nCount_ATAC', 'nFeature_ATAC', 'nucleosome_signal', 'nucleosome_percentile', 'TSS.enrichment', 'TSS.percentile', 'nCount_SCT', 'nFeature_SCT', 'predicted.celltype.l1.score', 'predicted.celltype.l1', 'predicted.celltype.l2.score', 'predicted.celltype.l2', 'id'\n",
       "    var: 'features'"
      ]
     },
     "execution_count": 4,
     "metadata": {},
     "output_type": "execute_result"
    }
   ],
   "source": [
    "anno_pbmc10k"
   ]
  },
  {
   "cell_type": "code",
   "execution_count": 5,
   "id": "6f3955b7-2fc2-492e-a736-0d8496a98d2d",
   "metadata": {},
   "outputs": [],
   "source": [
    "anno_pbmc10k.obs['celltypeL0'] = anno_pbmc10k.obs['predicted.celltype.l2'].replace(\n",
    "    {\"CD14 Mono\": \"cMono\", \"CD16 Mono\": \"ncMono\",\n",
    "    \"CD4 Naive\": \"CD4.T\", \"CD4 TCM\": \"CD4.T\", \"CD4 TEM\": \"CD4.T\", \"Treg\": \"CD4.T\",'CD4 CTL':'CD4.T',\n",
    "    \"CD8 Naive\": \"CD8.T\", \"CD8 TEM\": \"CD8.T\", \"CD8 TCM\": \"CD8.T\",\n",
    "    \"NK\": \"NK\", \"NK_CD56bright\": \"NK\", \"NK Proliferating\": \"NK\",\n",
    "    \"B naive\": \"B\", \"B intermediate\": \"B\", \"B memory\": \"B\",\n",
    "    \"cDC2\": \"mDC\", \"cDC1\": \"mDC\", \"ASDC\": \"mDC\",\"pDC\": \"pDC\",\n",
    "    \"MAIT\": \"other T\", \"gdT\": \"other T\", \"dnT\": \"other T\",\n",
    "    \"Eryth\": \"Eryth/Platelet\", \"Platelet\": \"Eryth/Platelet\",\n",
    "     \"CD4 Proliferating\":\"CD4.T\",\"CD8 Proliferating\":\"CD8.T\",\"ILC\":\"other\"\n",
    "    })"
   ]
  },
  {
   "cell_type": "code",
   "execution_count": 6,
   "id": "dbfc2707-dfb4-47cb-8c77-6acf0a264e6e",
   "metadata": {},
   "outputs": [
    {
     "data": {
      "text/plain": [
       "CD4.T             3574\n",
       "cMono             3316\n",
       "CD8.T             2241\n",
       "B                  962\n",
       "NK                 519\n",
       "ncMono             466\n",
       "other T            272\n",
       "Eryth/Platelet     232\n",
       "mDC                157\n",
       "pDC                113\n",
       "HSPC                26\n",
       "Plasmablast         19\n",
       "other                1\n",
       "Name: celltypeL0, dtype: int64"
      ]
     },
     "execution_count": 6,
     "metadata": {},
     "output_type": "execute_result"
    }
   ],
   "source": [
    "anno_pbmc10k.obs['celltypeL0'].value_counts()"
   ]
  },
  {
   "cell_type": "code",
   "execution_count": 7,
   "id": "e25f7efc-c6b6-4995-9009-15b03e5ce68f",
   "metadata": {},
   "outputs": [],
   "source": [
    "assert raw_pbmc10k.obs.index.equals(anno_pbmc10k.obs.index), \"Indexes differ!\"\n",
    "raw_pbmc10k.obs['celltypeL0'] = anno_pbmc10k.obs['celltypeL0'] "
   ]
  },
  {
   "cell_type": "code",
   "execution_count": 12,
   "id": "16d8fa34-365e-42eb-b843-e881226b2de0",
   "metadata": {},
   "outputs": [],
   "source": [
    "raw_pbmc10k.raw = None\n",
    "raw_mono = raw_pbmc10k[(raw_pbmc10k.obs['celltypeL0']=='cMono')|(raw_pbmc10k.obs['celltypeL0']=='ncMono')]\n",
    "raw_mono.obs.celltypeL0 = raw_mono.obs.celltypeL0.astype(str)\n",
    "raw_mono.write_h5ad(f'{path}/0_preprocess/pbmc10k/raw_rna_mono.h5ad')"
   ]
  },
  {
   "cell_type": "code",
   "execution_count": null,
   "id": "9221b902-dc05-4bcc-a255-78e9d9641550",
   "metadata": {},
   "outputs": [],
   "source": []
  }
 ],
 "metadata": {
  "kernelspec": {
   "display_name": "py3.8_tf2.6.0",
   "language": "python",
   "name": "py3.8_tf2.6.0"
  },
  "language_info": {
   "codemirror_mode": {
    "name": "ipython",
    "version": 3
   },
   "file_extension": ".py",
   "mimetype": "text/x-python",
   "name": "python",
   "nbconvert_exporter": "python",
   "pygments_lexer": "ipython3",
   "version": "3.8.15"
  }
 },
 "nbformat": 4,
 "nbformat_minor": 5
}
