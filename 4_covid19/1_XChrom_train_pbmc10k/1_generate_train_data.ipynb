{
 "cells": [
  {
   "cell_type": "code",
   "execution_count": 1,
   "id": "baa768a1-f3b2-4886-9772-d68e97114f48",
   "metadata": {},
   "outputs": [],
   "source": [
    "import xchrom as xc\n",
    "import scanpy as sc"
   ]
  },
  {
   "cell_type": "code",
   "execution_count": 2,
   "id": "b420ec3d-2bab-4498-bcbd-67015c5efcb7",
   "metadata": {},
   "outputs": [
    {
     "name": "stdout",
     "output_type": "stream",
     "text": [
      "train/test data is saved in:  train_data\n",
      "successful writing bed file.\n",
      "successful writing train/test split file.\n",
      "successful writing train/test anndata file.\n",
      "successful writing sparse m.\n",
      "Successfully saving all sequence h5 file...\n",
      "Successfully saving trainval sequence h5 file...\n",
      "Successfully saving test sequence h5 file...\n"
     ]
    }
   ],
   "source": [
    "## generate data for model training\n",
    "train_folder = './train_data/'\n",
    "input_fasta = '/picb/bigdata/project/miaoyuanyuan/hg38.fa'\n",
    "train_atac = sc.read_h5ad('../0_preprocess/pbmc10k/raw_data/pbmc10k_atac.h5ad')\n",
    "dict = xc.pp.process_train_test_single(\n",
    "    ad_atac=train_atac, ## can be a str, Path, or anndata.AnnData object\n",
    "    input_fasta=input_fasta,\n",
    "    output_path=train_folder\n",
    ")"
   ]
  },
  {
   "cell_type": "code",
   "execution_count": 5,
   "id": "d674be2a-5c95-44ad-8c61-45afd50898bc",
   "metadata": {},
   "outputs": [
    {
     "data": {
      "text/plain": [
       "AnnData object with n_obs × n_vars = 11898 × 101188\n",
       "    obs: 'n_genes', 'b_zscore'\n",
       "    var: 'gene_ids', 'feature_types', 'genome', 'chr', 'start', 'end', 'n_cells'"
      ]
     },
     "execution_count": 5,
     "metadata": {},
     "output_type": "execute_result"
    }
   ],
   "source": [
    "ad = sc.read_h5ad('./train_data/ad.h5ad')\n",
    "ad"
   ]
  }
 ],
 "metadata": {
  "kernelspec": {
   "display_name": "py3.8_tf2.6.0",
   "language": "python",
   "name": "py3.8_tf2.6.0"
  },
  "language_info": {
   "codemirror_mode": {
    "name": "ipython",
    "version": 3
   },
   "file_extension": ".py",
   "mimetype": "text/x-python",
   "name": "python",
   "nbconvert_exporter": "python",
   "pygments_lexer": "ipython3",
   "version": "3.8.15"
  }
 },
 "nbformat": 4,
 "nbformat_minor": 5
}
